{
 "cells": [
  {
   "cell_type": "markdown",
   "id": "8026e745-94b9-40de-ab74-5b8f2526da8a",
   "metadata": {},
   "source": [
    "<img src=\"http://imgur.com/1ZcRyrc.png\" style=\"float: left; margin: 20px; height: 55px\">\n",
    "\n",
    "# Project 3: NPL on Intermittent Fasting and Keto Diet\n",
    "\n",
    "---"
   ]
  },
  {
   "cell_type": "markdown",
   "id": "ee19428d-2f8e-4ff7-bba1-8ea048e4a21e",
   "metadata": {},
   "source": [
    "# Loading the data set & Data Cleaning"
   ]
  },
  {
   "cell_type": "code",
   "execution_count": 1,
   "id": "f685c0a3-ddc2-4784-9b61-93edc2d4f3bd",
   "metadata": {},
   "outputs": [],
   "source": [
    "# Import Libraries\n",
    "import pandas as pd\n",
    "import numpy as np\n",
    "import matplotlib.pyplot as plt\n",
    "import seaborn as sns\n",
    "from sklearn.feature_extraction.text import CountVectorizer\n",
    "from wordcloud import WordCloud, STOPWORDS"
   ]
  },
  {
   "cell_type": "code",
   "execution_count": 2,
   "id": "c7d18d87-ac1c-46f1-aa12-b3d38ab886c9",
   "metadata": {},
   "outputs": [],
   "source": [
    "df = pd.read_csv('./data/subreddit_data.csv')"
   ]
  },
  {
   "cell_type": "code",
   "execution_count": 3,
   "id": "859e05e8-9ce0-4940-9b59-a2f70cea07d1",
   "metadata": {},
   "outputs": [],
   "source": [
    "# Adding word count and status length for each subreddit data frame\n",
    "def word_counts(df):\n",
    "    df['post_word_count'] = [len(df['selftext'].iloc[i].split(' ')) for i, status in enumerate(df['selftext'])]\n",
    "    df['post_length'] = [len(df['selftext'].iloc[i]) for i, status in enumerate(df['selftext'])]\n",
    "    return df\n",
    "\n",
    "df = word_counts(df)"
   ]
  },
  {
   "cell_type": "code",
   "execution_count": 4,
   "id": "c3f243fc-e8bd-4cc7-8841-315b1ff387ea",
   "metadata": {},
   "outputs": [
    {
     "data": {
      "text/html": [
       "<div>\n",
       "<style scoped>\n",
       "    .dataframe tbody tr th:only-of-type {\n",
       "        vertical-align: middle;\n",
       "    }\n",
       "\n",
       "    .dataframe tbody tr th {\n",
       "        vertical-align: top;\n",
       "    }\n",
       "\n",
       "    .dataframe thead th {\n",
       "        text-align: right;\n",
       "    }\n",
       "</style>\n",
       "<table border=\"1\" class=\"dataframe\">\n",
       "  <thead>\n",
       "    <tr style=\"text-align: right;\">\n",
       "      <th></th>\n",
       "      <th>Unnamed: 0</th>\n",
       "      <th>title</th>\n",
       "      <th>selftext</th>\n",
       "      <th>subreddit</th>\n",
       "      <th>created_utc</th>\n",
       "      <th>post_word_count</th>\n",
       "      <th>post_length</th>\n",
       "    </tr>\n",
       "  </thead>\n",
       "  <tbody>\n",
       "    <tr>\n",
       "      <th>0</th>\n",
       "      <td>3</td>\n",
       "      <td>Working night shifts a few times a month</td>\n",
       "      <td>I'm a student, taking most shifts when I get a...</td>\n",
       "      <td>intermittentfasting</td>\n",
       "      <td>1620123403</td>\n",
       "      <td>62</td>\n",
       "      <td>341</td>\n",
       "    </tr>\n",
       "    <tr>\n",
       "      <th>1</th>\n",
       "      <td>5</td>\n",
       "      <td>Another plateau question</td>\n",
       "      <td>So I started IF low carb and low calorie intak...</td>\n",
       "      <td>intermittentfasting</td>\n",
       "      <td>1620122656</td>\n",
       "      <td>48</td>\n",
       "      <td>227</td>\n",
       "    </tr>\n",
       "    <tr>\n",
       "      <th>2</th>\n",
       "      <td>8</td>\n",
       "      <td>Struggling but grateful for this group</td>\n",
       "      <td>Hello follow IFers.  I've been slipping a bit ...</td>\n",
       "      <td>intermittentfasting</td>\n",
       "      <td>1620113067</td>\n",
       "      <td>90</td>\n",
       "      <td>503</td>\n",
       "    </tr>\n",
       "    <tr>\n",
       "      <th>3</th>\n",
       "      <td>11</td>\n",
       "      <td>Looking for methods that can prevent hunger pa...</td>\n",
       "      <td>I'm 38 y.o. male, standing at 170cm and weighi...</td>\n",
       "      <td>intermittentfasting</td>\n",
       "      <td>1620107193</td>\n",
       "      <td>160</td>\n",
       "      <td>808</td>\n",
       "    </tr>\n",
       "    <tr>\n",
       "      <th>4</th>\n",
       "      <td>12</td>\n",
       "      <td>I am 29 years old and I weigh 64 kg. My height...</td>\n",
       "      <td>I am currently doing OMAD and my meal comprise...</td>\n",
       "      <td>intermittentfasting</td>\n",
       "      <td>1620106357</td>\n",
       "      <td>50</td>\n",
       "      <td>254</td>\n",
       "    </tr>\n",
       "  </tbody>\n",
       "</table>\n",
       "</div>"
      ],
      "text/plain": [
       "   Unnamed: 0                                              title  \\\n",
       "0           3           Working night shifts a few times a month   \n",
       "1           5                           Another plateau question   \n",
       "2           8             Struggling but grateful for this group   \n",
       "3          11  Looking for methods that can prevent hunger pa...   \n",
       "4          12  I am 29 years old and I weigh 64 kg. My height...   \n",
       "\n",
       "                                            selftext            subreddit  \\\n",
       "0  I'm a student, taking most shifts when I get a...  intermittentfasting   \n",
       "1  So I started IF low carb and low calorie intak...  intermittentfasting   \n",
       "2  Hello follow IFers.  I've been slipping a bit ...  intermittentfasting   \n",
       "3  I'm 38 y.o. male, standing at 170cm and weighi...  intermittentfasting   \n",
       "4  I am currently doing OMAD and my meal comprise...  intermittentfasting   \n",
       "\n",
       "   created_utc  post_word_count  post_length  \n",
       "0   1620123403               62          341  \n",
       "1   1620122656               48          227  \n",
       "2   1620113067               90          503  \n",
       "3   1620107193              160          808  \n",
       "4   1620106357               50          254  "
      ]
     },
     "execution_count": 4,
     "metadata": {},
     "output_type": "execute_result"
    }
   ],
   "source": [
    "df.head()"
   ]
  },
  {
   "cell_type": "code",
   "execution_count": 5,
   "id": "3cae62a7-615c-41be-876c-39f7180d316a",
   "metadata": {},
   "outputs": [
    {
     "data": {
      "text/plain": [
       "Unnamed: 0         0\n",
       "title              0\n",
       "selftext           0\n",
       "subreddit          0\n",
       "created_utc        0\n",
       "post_word_count    0\n",
       "post_length        0\n",
       "dtype: int64"
      ]
     },
     "execution_count": 5,
     "metadata": {},
     "output_type": "execute_result"
    }
   ],
   "source": [
    "# Check for null values\n",
    "df.isnull().sum()"
   ]
  },
  {
   "cell_type": "code",
   "execution_count": 6,
   "id": "1e58fe7c-3d64-4a91-8777-ce8fe6a3ecc2",
   "metadata": {},
   "outputs": [
    {
     "data": {
      "text/plain": [
       "keto                   0.542738\n",
       "intermittentfasting    0.457262\n",
       "Name: subreddit, dtype: float64"
      ]
     },
     "execution_count": 6,
     "metadata": {},
     "output_type": "execute_result"
    }
   ],
   "source": [
    "df['subreddit'].value_counts(normalize = True)"
   ]
  },
  {
   "cell_type": "code",
   "execution_count": 7,
   "id": "66558932-b292-4c08-9d43-844d32645e9f",
   "metadata": {},
   "outputs": [],
   "source": [
    "df.drop(columns = 'Unnamed: 0',inplace = True)"
   ]
  },
  {
   "cell_type": "code",
   "execution_count": 8,
   "id": "49261734-e7c4-4a10-b2ed-e78cf2a5c108",
   "metadata": {},
   "outputs": [
    {
     "data": {
      "text/plain": [
       "(10342, 6)"
      ]
     },
     "execution_count": 8,
     "metadata": {},
     "output_type": "execute_result"
    }
   ],
   "source": [
    "df.shape"
   ]
  },
  {
   "cell_type": "code",
   "execution_count": 9,
   "id": "7e36ab6c-42bd-41a2-b7a7-6ce16e8ffe8f",
   "metadata": {},
   "outputs": [
    {
     "name": "stdout",
     "output_type": "stream",
     "text": [
      "<class 'pandas.core.frame.DataFrame'>\n",
      "RangeIndex: 10342 entries, 0 to 10341\n",
      "Data columns (total 6 columns):\n",
      " #   Column           Non-Null Count  Dtype \n",
      "---  ------           --------------  ----- \n",
      " 0   title            10342 non-null  object\n",
      " 1   selftext         10342 non-null  object\n",
      " 2   subreddit        10342 non-null  object\n",
      " 3   created_utc      10342 non-null  int64 \n",
      " 4   post_word_count  10342 non-null  int64 \n",
      " 5   post_length      10342 non-null  int64 \n",
      "dtypes: int64(3), object(3)\n",
      "memory usage: 484.9+ KB\n"
     ]
    }
   ],
   "source": [
    "df.info()"
   ]
  },
  {
   "cell_type": "code",
   "execution_count": 10,
   "id": "9125721e-8b02-468c-915a-a70ae133dd4b",
   "metadata": {},
   "outputs": [],
   "source": [
    "df['subreddit'] = df['subreddit'].map({'keto':1,'intermittentfasting':0})"
   ]
  },
  {
   "cell_type": "markdown",
   "id": "cf896b40-7ce0-4b62-9107-ee56aaa9c631",
   "metadata": {},
   "source": [
    "# Exploratory Data Analysis (EDA)"
   ]
  },
  {
   "cell_type": "code",
   "execution_count": 14,
   "id": "7dec97c6-e22e-441c-8fe1-b8c1043a1635",
   "metadata": {},
   "outputs": [
    {
     "data": {
      "text/html": [
       "<div>\n",
       "<style scoped>\n",
       "    .dataframe tbody tr th:only-of-type {\n",
       "        vertical-align: middle;\n",
       "    }\n",
       "\n",
       "    .dataframe tbody tr th {\n",
       "        vertical-align: top;\n",
       "    }\n",
       "\n",
       "    .dataframe thead th {\n",
       "        text-align: right;\n",
       "    }\n",
       "</style>\n",
       "<table border=\"1\" class=\"dataframe\">\n",
       "  <thead>\n",
       "    <tr style=\"text-align: right;\">\n",
       "      <th></th>\n",
       "      <th>title</th>\n",
       "      <th>selftext</th>\n",
       "      <th>subreddit</th>\n",
       "      <th>created_utc</th>\n",
       "      <th>post_word_count</th>\n",
       "      <th>post_length</th>\n",
       "    </tr>\n",
       "  </thead>\n",
       "  <tbody>\n",
       "    <tr>\n",
       "      <th>0</th>\n",
       "      <td>Working night shifts a few times a month</td>\n",
       "      <td>I'm a student, taking most shifts when I get a...</td>\n",
       "      <td>0</td>\n",
       "      <td>1620123403</td>\n",
       "      <td>62</td>\n",
       "      <td>341</td>\n",
       "    </tr>\n",
       "    <tr>\n",
       "      <th>1</th>\n",
       "      <td>Another plateau question</td>\n",
       "      <td>So I started IF low carb and low calorie intak...</td>\n",
       "      <td>0</td>\n",
       "      <td>1620122656</td>\n",
       "      <td>48</td>\n",
       "      <td>227</td>\n",
       "    </tr>\n",
       "    <tr>\n",
       "      <th>2</th>\n",
       "      <td>Struggling but grateful for this group</td>\n",
       "      <td>Hello follow IFers.  I've been slipping a bit ...</td>\n",
       "      <td>0</td>\n",
       "      <td>1620113067</td>\n",
       "      <td>90</td>\n",
       "      <td>503</td>\n",
       "    </tr>\n",
       "    <tr>\n",
       "      <th>3</th>\n",
       "      <td>Looking for methods that can prevent hunger pa...</td>\n",
       "      <td>I'm 38 y.o. male, standing at 170cm and weighi...</td>\n",
       "      <td>0</td>\n",
       "      <td>1620107193</td>\n",
       "      <td>160</td>\n",
       "      <td>808</td>\n",
       "    </tr>\n",
       "    <tr>\n",
       "      <th>4</th>\n",
       "      <td>I am 29 years old and I weigh 64 kg. My height...</td>\n",
       "      <td>I am currently doing OMAD and my meal comprise...</td>\n",
       "      <td>0</td>\n",
       "      <td>1620106357</td>\n",
       "      <td>50</td>\n",
       "      <td>254</td>\n",
       "    </tr>\n",
       "  </tbody>\n",
       "</table>\n",
       "</div>"
      ],
      "text/plain": [
       "                                               title  \\\n",
       "0           Working night shifts a few times a month   \n",
       "1                           Another plateau question   \n",
       "2             Struggling but grateful for this group   \n",
       "3  Looking for methods that can prevent hunger pa...   \n",
       "4  I am 29 years old and I weigh 64 kg. My height...   \n",
       "\n",
       "                                            selftext  subreddit  created_utc  \\\n",
       "0  I'm a student, taking most shifts when I get a...          0   1620123403   \n",
       "1  So I started IF low carb and low calorie intak...          0   1620122656   \n",
       "2  Hello follow IFers.  I've been slipping a bit ...          0   1620113067   \n",
       "3  I'm 38 y.o. male, standing at 170cm and weighi...          0   1620107193   \n",
       "4  I am currently doing OMAD and my meal comprise...          0   1620106357   \n",
       "\n",
       "   post_word_count  post_length  \n",
       "0               62          341  \n",
       "1               48          227  \n",
       "2               90          503  \n",
       "3              160          808  \n",
       "4               50          254  "
      ]
     },
     "execution_count": 14,
     "metadata": {},
     "output_type": "execute_result"
    }
   ],
   "source": [
    "# Create separate subreddit for intermittentfasting\n",
    "fasting = df[df['subreddit'] == 0]\n",
    "fasting.head()"
   ]
  },
  {
   "cell_type": "code",
   "execution_count": 15,
   "id": "ce7a1e84-0e09-4b5b-ace7-8b7136b0f179",
   "metadata": {},
   "outputs": [
    {
     "data": {
      "text/html": [
       "<div>\n",
       "<style scoped>\n",
       "    .dataframe tbody tr th:only-of-type {\n",
       "        vertical-align: middle;\n",
       "    }\n",
       "\n",
       "    .dataframe tbody tr th {\n",
       "        vertical-align: top;\n",
       "    }\n",
       "\n",
       "    .dataframe thead th {\n",
       "        text-align: right;\n",
       "    }\n",
       "</style>\n",
       "<table border=\"1\" class=\"dataframe\">\n",
       "  <thead>\n",
       "    <tr style=\"text-align: right;\">\n",
       "      <th></th>\n",
       "      <th>title</th>\n",
       "      <th>selftext</th>\n",
       "      <th>subreddit</th>\n",
       "      <th>created_utc</th>\n",
       "      <th>post_word_count</th>\n",
       "      <th>post_length</th>\n",
       "    </tr>\n",
       "  </thead>\n",
       "  <tbody>\n",
       "    <tr>\n",
       "      <th>4729</th>\n",
       "      <td>Question about maintenance/lean bulk</td>\n",
       "      <td>So, I am currently working with a coach during...</td>\n",
       "      <td>1</td>\n",
       "      <td>1636130086</td>\n",
       "      <td>153</td>\n",
       "      <td>771</td>\n",
       "    </tr>\n",
       "    <tr>\n",
       "      <th>4730</th>\n",
       "      <td>blood test with doctor advice</td>\n",
       "      <td>Hello everyone! I am with keto diet for around...</td>\n",
       "      <td>1</td>\n",
       "      <td>1636129666</td>\n",
       "      <td>121</td>\n",
       "      <td>647</td>\n",
       "    </tr>\n",
       "    <tr>\n",
       "      <th>4731</th>\n",
       "      <td>Intermittent Fasting and Blood Plasma Questions</td>\n",
       "      <td>I recently started donating blood plasma. The ...</td>\n",
       "      <td>1</td>\n",
       "      <td>1636129641</td>\n",
       "      <td>334</td>\n",
       "      <td>1688</td>\n",
       "    </tr>\n",
       "    <tr>\n",
       "      <th>4732</th>\n",
       "      <td>I'm still confused about a few things concerni...</td>\n",
       "      <td>The current keto mantra. Protein is a goal, ca...</td>\n",
       "      <td>1</td>\n",
       "      <td>1636126043</td>\n",
       "      <td>106</td>\n",
       "      <td>529</td>\n",
       "    </tr>\n",
       "    <tr>\n",
       "      <th>4733</th>\n",
       "      <td>Does keto work on low insulin diabetics?</td>\n",
       "      <td>I’m 22 with lean T2D(some call it 1.5) and dia...</td>\n",
       "      <td>1</td>\n",
       "      <td>1636124574</td>\n",
       "      <td>113</td>\n",
       "      <td>589</td>\n",
       "    </tr>\n",
       "  </tbody>\n",
       "</table>\n",
       "</div>"
      ],
      "text/plain": [
       "                                                  title  \\\n",
       "4729               Question about maintenance/lean bulk   \n",
       "4730                      blood test with doctor advice   \n",
       "4731    Intermittent Fasting and Blood Plasma Questions   \n",
       "4732  I'm still confused about a few things concerni...   \n",
       "4733           Does keto work on low insulin diabetics?   \n",
       "\n",
       "                                               selftext  subreddit  \\\n",
       "4729  So, I am currently working with a coach during...          1   \n",
       "4730  Hello everyone! I am with keto diet for around...          1   \n",
       "4731  I recently started donating blood plasma. The ...          1   \n",
       "4732  The current keto mantra. Protein is a goal, ca...          1   \n",
       "4733  I’m 22 with lean T2D(some call it 1.5) and dia...          1   \n",
       "\n",
       "      created_utc  post_word_count  post_length  \n",
       "4729   1636130086              153          771  \n",
       "4730   1636129666              121          647  \n",
       "4731   1636129641              334         1688  \n",
       "4732   1636126043              106          529  \n",
       "4733   1636124574              113          589  "
      ]
     },
     "execution_count": 15,
     "metadata": {},
     "output_type": "execute_result"
    }
   ],
   "source": [
    "# Create separate subreddit for keto\n",
    "keto = df[df['subreddit'] == 1]\n",
    "keto.head()"
   ]
  },
  {
   "cell_type": "code",
   "execution_count": 19,
   "id": "74fd46c9-489d-4340-9968-4ad9a3eca691",
   "metadata": {},
   "outputs": [],
   "source": [
    "# Function for plotting the distributions of word count and post lengths\n",
    "def plot_length_distributions(df):\n",
    "    plt.tight_layout()\n",
    "    plt.figure(figsize = (6,4));\n",
    "    df['post_word_count'].hist()\n",
    "    plt.axvline(df['post_word_count'].mean(), color = 'orange',  lw = 5)\n",
    "    plt.title('Distribution of Posts by Word Count',fontsize = 18)\n",
    "    plt.xlabel('Word Count',fontsize = 16);\n",
    "    plt.ylabel('Frequency',fontsize=16);\n",
    "\n",
    "    plt.figure(figsize = (6,4));\n",
    "    df['post_length'].hist()\n",
    "    plt.axvline(df['post_length'].mean(), color = 'orange',  lw = 5)\n",
    "    plt.title('Distribution of Posts by Character Length',fontsize = 18)\n",
    "    plt.xlabel('Character Length',fontsize = 16);\n",
    "    plt.ylabel('Frequency',fontsize=16);"
   ]
  },
  {
   "cell_type": "code",
   "execution_count": 20,
   "id": "5c7d9b9a-4492-4d80-804a-7c8ffa6abff4",
   "metadata": {},
   "outputs": [
    {
     "data": {
      "text/plain": [
       "<Figure size 432x288 with 0 Axes>"
      ]
     },
     "metadata": {},
     "output_type": "display_data"
    },
    {
     "data": {
      "image/png": "[encoded data removed]",
      "text/plain": [
       "<Figure size 432x288 with 1 Axes>"
      ]
     },
     "metadata": {
      "needs_background": "light"
     },
     "output_type": "display_data"
    },
    {
     "data": {
      "image/png": "[encoded data removed]",
      "text/plain": [
       "<Figure size 432x288 with 1 Axes>"
      ]
     },
     "metadata": {
      "needs_background": "light"
     },
     "output_type": "display_data"
    }
   ],
   "source": [
    "plot_length_distributions(fasting);"
   ]
  },
  {
   "cell_type": "code",
   "execution_count": 21,
   "id": "703cb3b1-ecd0-4e77-97b6-4b2a88d20661",
   "metadata": {},
   "outputs": [
    {
     "data": {
      "text/plain": [
       "<Figure size 432x288 with 0 Axes>"
      ]
     },
     "metadata": {},
     "output_type": "display_data"
    },
    {
     "data": {
      "image/png": "[encoded data removed]",
      "text/plain": [
       "<Figure size 432x288 with 1 Axes>"
      ]
     },
     "metadata": {
      "needs_background": "light"
     },
     "output_type": "display_data"
    },
    {
     "data": {
      "image/png": "[encoded data removed]",
      "text/plain": [
       "<Figure size 432x288 with 1 Axes>"
      ]
     },
     "metadata": {
      "needs_background": "light"
     },
     "output_type": "display_data"
    }
   ],
   "source": [
    "plot_length_distributions(keto);"
   ]
  },
  {
   "cell_type": "code",
   "execution_count": null,
   "id": "8a7c39c0-088a-46a2-8e29-2c164c577d9f",
   "metadata": {},
   "outputs": [],
   "source": []
  },
  {
   "cell_type": "code",
   "execution_count": null,
   "id": "c3c110a6-8011-4c3a-90a0-eae0338150c5",
   "metadata": {},
   "outputs": [],
   "source": []
  }
 ],
 "metadata": {
  "kernelspec": {
   "display_name": "Python 3 (ipykernel)",
   "language": "python",
   "name": "python3"
  },
  "language_info": {
   "codemirror_mode": {
    "name": "ipython",
    "version": 3
   },
   "file_extension": ".py",
   "mimetype": "text/x-python",
   "name": "python",
   "nbconvert_exporter": "python",
   "pygments_lexer": "ipython3",
   "version": "3.9.12"
  }
 },
 "nbformat": 4,
 "nbformat_minor": 5
}
