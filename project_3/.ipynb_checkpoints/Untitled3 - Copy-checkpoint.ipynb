{
 "cells": [
  {
   "cell_type": "code",
   "execution_count": 9,
   "id": "3fb0fcbb-d6c7-4341-992e-f1b66baf4057",
   "metadata": {},
   "outputs": [],
   "source": [
    "import pandas as pd\n",
    "import numpy as np\n",
    "import requests\n",
    "import time"
   ]
  },
  {
   "cell_type": "code",
   "execution_count": 15,
   "id": "0a7f8937-247c-45ae-ab90-526481ae2d39",
   "metadata": {},
   "outputs": [],
   "source": [
    "url = 'https://api.pushshift.io/reddit/search/submission'\n",
    "url_travel = 'https://api.pushshift.io/reddit/search/submission/?subreddit=travel/'"
   ]
  },
  {
   "cell_type": "code",
   "execution_count": 16,
   "id": "2860f47a-626d-46bb-a559-2e7a7b2de892",
   "metadata": {},
   "outputs": [
    {
     "name": "stdout",
     "output_type": "stream",
     "text": [
      "travel 0\n",
      "travel 1\n",
      "travel 2\n",
      "travel 3\n",
      "travel 4\n",
      "travel 5\n",
      "travel 6\n",
      "travel 7\n",
      "travel 8\n",
      "travel 9\n",
      "travel 10\n",
      "travel 11\n",
      "travel 12\n",
      "travel 13\n",
      "travel 14\n",
      "hotel 0\n",
      "hotel 1\n",
      "hotel 2\n",
      "hotel 3\n",
      "hotel 4\n",
      "hotel 5\n",
      "hotel 6\n",
      "hotel 7\n",
      "hotel 8\n",
      "hotel 9\n",
      "hotel 10\n",
      "hotel 11\n",
      "hotel 12\n",
      "hotel 13\n",
      "hotel 14\n"
     ]
    }
   ],
   "source": [
    "subreddits = ['travel','hotel']\n",
    "dfs = []\n",
    "for subreddit in subreddits:\n",
    "    for i in range(15):\n",
    "        #build your params\n",
    "        params = {\n",
    "        'subreddit' : subreddit,\n",
    "        'size':100\n",
    "        }\n",
    "        if i > 0:\n",
    "            params['before'] = posts['created_utc'].values[-1]\n",
    "        res = requests.get(url,params = params)\n",
    "        res.status_code\n",
    "        posts = pd.DataFrame(res.json()['data'])\n",
    "        posts['subreddit'] = subreddit\n",
    "        dfs.append(posts)\n",
    "        time.sleep(5)\n",
    "        print(subreddit,i)"
   ]
  },
  {
   "cell_type": "code",
   "execution_count": 17,
   "id": "6f71a7bf-078d-4789-b975-2116b6169044",
   "metadata": {},
   "outputs": [],
   "source": [
    "df_subreddits = pd.concat(dfs)"
   ]
  },
  {
   "cell_type": "code",
   "execution_count": 18,
   "id": "0cbf392a-3122-4935-8573-e31e8b8c904b",
   "metadata": {},
   "outputs": [],
   "source": [
    "df_posts = df_subreddits[['title','selftext','subreddit','created_utc']]"
   ]
  },
  {
   "cell_type": "code",
   "execution_count": 19,
   "id": "a2a44085-0c4b-46f3-baf0-5505bcf014e0",
   "metadata": {},
   "outputs": [
    {
     "data": {
      "text/plain": [
       "hotel     1500\n",
       "travel    1498\n",
       "Name: subreddit, dtype: int64"
      ]
     },
     "execution_count": 19,
     "metadata": {},
     "output_type": "execute_result"
    }
   ],
   "source": [
    "df_posts['subreddit'].value_counts()"
   ]
  },
  {
   "cell_type": "code",
   "execution_count": 21,
   "id": "c764aabb-3643-4c44-bdc8-cd2a97094d5f",
   "metadata": {},
   "outputs": [],
   "source": [
    "df_posts.to_csv('./data/subreddit_data_1500.csv')"
   ]
  },
  {
   "cell_type": "code",
   "execution_count": 22,
   "id": "1c58c58f-19b5-4206-9071-9f40a1e3c34d",
   "metadata": {},
   "outputs": [
    {
     "data": {
      "text/plain": [
       "                                                                                                                                                                                                                                                                                                                                                                                                                                                                                                                                                                                                                                                                                                                                                                                                                                                                                                                            1457\n",
       "[removed]                                                                                                                                                                                                                                                                                                                                                                                                                                                                                                                                                                                                                                                                                                                                                                                                                                                                                                                    477\n",
       "[deleted]                                                                                                                                                                                                                                                                                                                                                                                                                                                                                                                                                                                                                                                                                                                                                                                                                                                                                                                     19\n",
       "There are many options for motel accommodation Coffs Harbour. The ideal option willl be economic and attractive as well as comfortable for the whole family.\\n                                                                                                                                                                                                                                                                                                                                                                                                                                                                                                                                                                                                                                                                                                                                                                16\n",
       "The options for holiday apartments Yamba  are as large and varied as the many travellers attractions within the region\\n                                                                                                                                                                                                                                                                                                                                                                                                                                                                                                                                                                                                                                                                                                                                                                                                      14\n",
       "                                                                                                                                                                                                                                                                                                                                                                                                                                                                                                                                                                                                                                                                                                                                                                                                                                                                                                                            ... \n",
       "Hello,\\nI’m looking to go on vacation next year to somewhere tropical with the main goal of eating very good fruit. What tropical islands have the best and most abundant fresh fruit?                                                                                                                                                                                                                                                                                                                                                                                                                                                                                                                                                                                                                                                                                                                                         1\n",
       "Hi, not really sure where to ask this question but was hoping someone here might have knowledge about this. \\n\\nWas looking at limits of bringing alcohol to Spain. I saw an EU website that I think was saying you can bring 1 litre of spirits over 22% abv.\\n\\nDoes that mean there's no limit for 22% and under?\\n\\nThe alcohol I wanted to bring is exactly 22% and two litres of it. Does anyone know if that'll be okay?\\n\\nThanks for reading.                                                                                                                                                                                                                                                                                                                                                                                                                                                                         1\n",
       "Early 20's couple going on a trip to Kosovo in mid-september, and I'm looking for tips on what to do there. \\n\\nI got the tickets spontaneously and don't know much about the country. We traveled to Bulgaria last year and loved it, I figure we're in for something similar culturally speaking?\\n\\nOur plans are totally open, I suppose a few days in Pristina and the rest in the mountains, do suggest if you have ideas. \\n\\n* We decided on sticking with public transport, how difficult is getting around the country (for example, Pristina -&gt; Peja -&gt; Prizren etc.)?\\n* What kind of weather can I expect? Should I expect a lot of rain and overcast?\\n* What kind of \"action\" activities can I find in the mountains? Cycling and ziplining is always fun.\\n* Is weed easily available there, if I were to get say, a few grams?\\n* Restaurants or dishes that I have to try before leaving Kosovo?       1\n",
       "I have a mole that needs to be checked and google is absolutely failing me. Anyone know a good clinic or doctor portal?                                                                                                                                                                                                                                                                                                                                                                                                                                                                                                                                                                                                                                                                                                                                                                                                        1\n",
       "Experience the excitement of staying in London's newest world-class hotel. [The Cumberland Hotel](http://www.eurobookings.com/london-hotels-gb/the-cumberland-a-guoman-hotel.html) London was designed not just for retiring, but also for inspiring, with an atmosphere that is at once intimate and sophisticated.                                                                                                                                                                                                                                                                                                                                                                                                                                                                                                                                                                                                           1\n",
       "Name: selftext, Length: 801, dtype: int64"
      ]
     },
     "execution_count": 22,
     "metadata": {},
     "output_type": "execute_result"
    }
   ],
   "source": [
    "df_posts['selftext'].value_counts()"
   ]
  },
  {
   "cell_type": "code",
   "execution_count": 24,
   "id": "5b9f46ea-872c-4dd0-88f3-00ae743efa6f",
   "metadata": {},
   "outputs": [],
   "source": [
    "df = pd.read_csv('./data/subreddit_data_1500.csv')"
   ]
  },
  {
   "cell_type": "code",
   "execution_count": 25,
   "id": "4bb92988-b5ba-44c1-93f4-c63a8b3d59f8",
   "metadata": {},
   "outputs": [
    {
     "data": {
      "text/html": [
       "<div>\n",
       "<style scoped>\n",
       "    .dataframe tbody tr th:only-of-type {\n",
       "        vertical-align: middle;\n",
       "    }\n",
       "\n",
       "    .dataframe tbody tr th {\n",
       "        vertical-align: top;\n",
       "    }\n",
       "\n",
       "    .dataframe thead th {\n",
       "        text-align: right;\n",
       "    }\n",
       "</style>\n",
       "<table border=\"1\" class=\"dataframe\">\n",
       "  <thead>\n",
       "    <tr style=\"text-align: right;\">\n",
       "      <th></th>\n",
       "      <th>Unnamed: 0</th>\n",
       "      <th>title</th>\n",
       "      <th>selftext</th>\n",
       "      <th>subreddit</th>\n",
       "      <th>created_utc</th>\n",
       "    </tr>\n",
       "  </thead>\n",
       "  <tbody>\n",
       "    <tr>\n",
       "      <th>0</th>\n",
       "      <td>0</td>\n",
       "      <td>Dirty Perv Week @ Hedo only has 5 rooms left Nov 5 to 12. Get yours at iosconnections.com!</td>\n",
       "      <td>NaN</td>\n",
       "      <td>travel</td>\n",
       "      <td>1661950714</td>\n",
       "    </tr>\n",
       "    <tr>\n",
       "      <th>1</th>\n",
       "      <td>1</td>\n",
       "      <td>Travel Europe on a tight budget</td>\n",
       "      <td>Hey there! I am studying in Greece and I was interested in taking 3-4 weeks off to travel around multiple cities in Europe. My budget is very tight at about 450-500 euros for everything. I would love to hear any advises and things to consider to make this possible. I can cope with anything of course from sleeping everywhere to eating anything</td>\n",
       "      <td>travel</td>\n",
       "      <td>1661950362</td>\n",
       "    </tr>\n",
       "    <tr>\n",
       "      <th>2</th>\n",
       "      <td>2</td>\n",
       "      <td>Malta or Lipari?</td>\n",
       "      <td>Hi everyone! I will be in Sicily in September and would like to spend a week either in Malta or Lipari. I am looking to just relax, be in nature, and create art. No need for any major restaurant or bar scene. Please let me know what you think, and if you have any other lowkey spots in Southern Italy!</td>\n",
       "      <td>travel</td>\n",
       "      <td>1661949281</td>\n",
       "    </tr>\n",
       "    <tr>\n",
       "      <th>3</th>\n",
       "      <td>3</td>\n",
       "      <td>The Nile in Cairo August 2022</td>\n",
       "      <td>&amp;amp;#x200B;\\n\\nhttps://preview.redd.it/0zl51gj9m1l91.jpg?width=4160&amp;amp;format=pjpg&amp;amp;auto=webp&amp;amp;s=fcf30f5599cfb9b9a916d167d8645afab4e821c4\\n\\nhttps://preview.redd.it/56bohgj9m1l91.jpg?width=4160&amp;amp;format=pjpg&amp;amp;auto=webp&amp;amp;s=1ea194857f3025c922f623d88b6be98bbd342767\\n\\nhttps://preview.redd.it/z2hy1vj9m1l91.jpg?width=5760&amp;amp;format=pjpg&amp;amp;auto=webp&amp;amp;s=b10bf5bad42277d730da4dbf0...</td>\n",
       "      <td>travel</td>\n",
       "      <td>1661949104</td>\n",
       "    </tr>\n",
       "    <tr>\n",
       "      <th>4</th>\n",
       "      <td>4</td>\n",
       "      <td>India Uttarakhand Hill stations</td>\n",
       "      <td>NaN</td>\n",
       "      <td>travel</td>\n",
       "      <td>1661948766</td>\n",
       "    </tr>\n",
       "  </tbody>\n",
       "</table>\n",
       "</div>"
      ],
      "text/plain": [
       "   Unnamed: 0  \\\n",
       "0           0   \n",
       "1           1   \n",
       "2           2   \n",
       "3           3   \n",
       "4           4   \n",
       "\n",
       "                                                                                        title  \\\n",
       "0  Dirty Perv Week @ Hedo only has 5 rooms left Nov 5 to 12. Get yours at iosconnections.com!   \n",
       "1                                                             Travel Europe on a tight budget   \n",
       "2                                                                            Malta or Lipari?   \n",
       "3                                                               The Nile in Cairo August 2022   \n",
       "4                                                             India Uttarakhand Hill stations   \n",
       "\n",
       "                                                                                                                                                                                                                                                                                                                                                                                                          selftext  \\\n",
       "0                                                                                                                                                                                                                                                                                                                                                                                                              NaN   \n",
       "1                                                         Hey there! I am studying in Greece and I was interested in taking 3-4 weeks off to travel around multiple cities in Europe. My budget is very tight at about 450-500 euros for everything. I would love to hear any advises and things to consider to make this possible. I can cope with anything of course from sleeping everywhere to eating anything   \n",
       "2                                                                                                    Hi everyone! I will be in Sicily in September and would like to spend a week either in Malta or Lipari. I am looking to just relax, be in nature, and create art. No need for any major restaurant or bar scene. Please let me know what you think, and if you have any other lowkey spots in Southern Italy!   \n",
       "3  &amp;#x200B;\\n\\nhttps://preview.redd.it/0zl51gj9m1l91.jpg?width=4160&amp;format=pjpg&amp;auto=webp&amp;s=fcf30f5599cfb9b9a916d167d8645afab4e821c4\\n\\nhttps://preview.redd.it/56bohgj9m1l91.jpg?width=4160&amp;format=pjpg&amp;auto=webp&amp;s=1ea194857f3025c922f623d88b6be98bbd342767\\n\\nhttps://preview.redd.it/z2hy1vj9m1l91.jpg?width=5760&amp;format=pjpg&amp;auto=webp&amp;s=b10bf5bad42277d730da4dbf0...   \n",
       "4                                                                                                                                                                                                                                                                                                                                                                                                              NaN   \n",
       "\n",
       "  subreddit  created_utc  \n",
       "0    travel   1661950714  \n",
       "1    travel   1661950362  \n",
       "2    travel   1661949281  \n",
       "3    travel   1661949104  \n",
       "4    travel   1661948766  "
      ]
     },
     "execution_count": 25,
     "metadata": {},
     "output_type": "execute_result"
    }
   ],
   "source": [
    "df.head()"
   ]
  },
  {
   "cell_type": "code",
   "execution_count": 26,
   "id": "de716f2d-772b-46f0-8d46-de3c953021c8",
   "metadata": {},
   "outputs": [
    {
     "data": {
      "text/plain": [
       "(2998, 5)"
      ]
     },
     "execution_count": 26,
     "metadata": {},
     "output_type": "execute_result"
    }
   ],
   "source": [
    "df.shape"
   ]
  },
  {
   "cell_type": "code",
   "execution_count": 27,
   "id": "af01b922-2b3c-4640-847e-f92b05708b74",
   "metadata": {},
   "outputs": [
    {
     "data": {
      "text/plain": [
       "subreddit\n",
       "hotel     1500\n",
       "travel    1498\n",
       "Name: created_utc, dtype: int64"
      ]
     },
     "execution_count": 27,
     "metadata": {},
     "output_type": "execute_result"
    }
   ],
   "source": [
    "df.groupby('subreddit')['created_utc'].count()"
   ]
  },
  {
   "cell_type": "code",
   "execution_count": 29,
   "id": "33ff6d0b-b527-43f4-9b0a-c7bfa1e13d90",
   "metadata": {},
   "outputs": [
    {
     "data": {
      "text/html": [
       "<div>\n",
       "<style scoped>\n",
       "    .dataframe tbody tr th:only-of-type {\n",
       "        vertical-align: middle;\n",
       "    }\n",
       "\n",
       "    .dataframe tbody tr th {\n",
       "        vertical-align: top;\n",
       "    }\n",
       "\n",
       "    .dataframe thead th {\n",
       "        text-align: right;\n",
       "    }\n",
       "</style>\n",
       "<table border=\"1\" class=\"dataframe\">\n",
       "  <thead>\n",
       "    <tr style=\"text-align: right;\">\n",
       "      <th></th>\n",
       "      <th>Unnamed: 0</th>\n",
       "      <th>title</th>\n",
       "      <th>selftext</th>\n",
       "      <th>subreddit</th>\n",
       "      <th>created_utc</th>\n",
       "    </tr>\n",
       "  </thead>\n",
       "  <tbody>\n",
       "    <tr>\n",
       "      <th>0</th>\n",
       "      <td>0</td>\n",
       "      <td>Dirty Perv Week @ Hedo only has 5 rooms left Nov 5 to 12. Get yours at iosconnections.com!</td>\n",
       "      <td>NaN</td>\n",
       "      <td>travel</td>\n",
       "      <td>1661950714</td>\n",
       "    </tr>\n",
       "    <tr>\n",
       "      <th>1</th>\n",
       "      <td>1</td>\n",
       "      <td>Travel Europe on a tight budget</td>\n",
       "      <td>Hey there! I am studying in Greece and I was interested in taking 3-4 weeks off to travel around multiple cities in Europe. My budget is very tight at about 450-500 euros for everything. I would love to hear any advises and things to consider to make this possible. I can cope with anything of course from sleeping everywhere to eating anything</td>\n",
       "      <td>travel</td>\n",
       "      <td>1661950362</td>\n",
       "    </tr>\n",
       "    <tr>\n",
       "      <th>2</th>\n",
       "      <td>2</td>\n",
       "      <td>Malta or Lipari?</td>\n",
       "      <td>Hi everyone! I will be in Sicily in September and would like to spend a week either in Malta or Lipari. I am looking to just relax, be in nature, and create art. No need for any major restaurant or bar scene. Please let me know what you think, and if you have any other lowkey spots in Southern Italy!</td>\n",
       "      <td>travel</td>\n",
       "      <td>1661949281</td>\n",
       "    </tr>\n",
       "    <tr>\n",
       "      <th>3</th>\n",
       "      <td>3</td>\n",
       "      <td>The Nile in Cairo August 2022</td>\n",
       "      <td>&amp;amp;#x200B;\\n\\nhttps://preview.redd.it/0zl51gj9m1l91.jpg?width=4160&amp;amp;format=pjpg&amp;amp;auto=webp&amp;amp;s=fcf30f5599cfb9b9a916d167d8645afab4e821c4\\n\\nhttps://preview.redd.it/56bohgj9m1l91.jpg?width=4160&amp;amp;format=pjpg&amp;amp;auto=webp&amp;amp;s=1ea194857f3025c922f623d88b6be98bbd342767\\n\\nhttps://preview.redd.it/z2hy1vj9m1l91.jpg?width=5760&amp;amp;format=pjpg&amp;amp;auto=webp&amp;amp;s=b10bf5bad42277d730da4dbf0...</td>\n",
       "      <td>travel</td>\n",
       "      <td>1661949104</td>\n",
       "    </tr>\n",
       "    <tr>\n",
       "      <th>4</th>\n",
       "      <td>4</td>\n",
       "      <td>India Uttarakhand Hill stations</td>\n",
       "      <td>NaN</td>\n",
       "      <td>travel</td>\n",
       "      <td>1661948766</td>\n",
       "    </tr>\n",
       "  </tbody>\n",
       "</table>\n",
       "</div>"
      ],
      "text/plain": [
       "   Unnamed: 0  \\\n",
       "0           0   \n",
       "1           1   \n",
       "2           2   \n",
       "3           3   \n",
       "4           4   \n",
       "\n",
       "                                                                                        title  \\\n",
       "0  Dirty Perv Week @ Hedo only has 5 rooms left Nov 5 to 12. Get yours at iosconnections.com!   \n",
       "1                                                             Travel Europe on a tight budget   \n",
       "2                                                                            Malta or Lipari?   \n",
       "3                                                               The Nile in Cairo August 2022   \n",
       "4                                                             India Uttarakhand Hill stations   \n",
       "\n",
       "                                                                                                                                                                                                                                                                                                                                                                                                          selftext  \\\n",
       "0                                                                                                                                                                                                                                                                                                                                                                                                              NaN   \n",
       "1                                                         Hey there! I am studying in Greece and I was interested in taking 3-4 weeks off to travel around multiple cities in Europe. My budget is very tight at about 450-500 euros for everything. I would love to hear any advises and things to consider to make this possible. I can cope with anything of course from sleeping everywhere to eating anything   \n",
       "2                                                                                                    Hi everyone! I will be in Sicily in September and would like to spend a week either in Malta or Lipari. I am looking to just relax, be in nature, and create art. No need for any major restaurant or bar scene. Please let me know what you think, and if you have any other lowkey spots in Southern Italy!   \n",
       "3  &amp;#x200B;\\n\\nhttps://preview.redd.it/0zl51gj9m1l91.jpg?width=4160&amp;format=pjpg&amp;auto=webp&amp;s=fcf30f5599cfb9b9a916d167d8645afab4e821c4\\n\\nhttps://preview.redd.it/56bohgj9m1l91.jpg?width=4160&amp;format=pjpg&amp;auto=webp&amp;s=1ea194857f3025c922f623d88b6be98bbd342767\\n\\nhttps://preview.redd.it/z2hy1vj9m1l91.jpg?width=5760&amp;format=pjpg&amp;auto=webp&amp;s=b10bf5bad42277d730da4dbf0...   \n",
       "4                                                                                                                                                                                                                                                                                                                                                                                                              NaN   \n",
       "\n",
       "  subreddit  created_utc  \n",
       "0    travel   1661950714  \n",
       "1    travel   1661950362  \n",
       "2    travel   1661949281  \n",
       "3    travel   1661949104  \n",
       "4    travel   1661948766  "
      ]
     },
     "execution_count": 29,
     "metadata": {},
     "output_type": "execute_result"
    }
   ],
   "source": [
    "# Create separate subreddit for travel\n",
    "df_travel = df[df['subreddit'] == 'travel']\n",
    "df_travel.head()"
   ]
  },
  {
   "cell_type": "code",
   "execution_count": 32,
   "id": "d6e19265-b3f1-4184-84a0-db471d683fd4",
   "metadata": {},
   "outputs": [
    {
     "data": {
      "text/plain": [
       "Unnamed: 0       0\n",
       "title            0\n",
       "selftext       488\n",
       "subreddit        0\n",
       "created_utc      0\n",
       "dtype: int64"
      ]
     },
     "execution_count": 32,
     "metadata": {},
     "output_type": "execute_result"
    }
   ],
   "source": [
    "df_travel.isnull().sum()"
   ]
  },
  {
   "cell_type": "code",
   "execution_count": 30,
   "id": "9d21693f-9323-4029-ab37-2e8ed6daade4",
   "metadata": {},
   "outputs": [
    {
     "data": {
      "text/html": [
       "<div>\n",
       "<style scoped>\n",
       "    .dataframe tbody tr th:only-of-type {\n",
       "        vertical-align: middle;\n",
       "    }\n",
       "\n",
       "    .dataframe tbody tr th {\n",
       "        vertical-align: top;\n",
       "    }\n",
       "\n",
       "    .dataframe thead th {\n",
       "        text-align: right;\n",
       "    }\n",
       "</style>\n",
       "<table border=\"1\" class=\"dataframe\">\n",
       "  <thead>\n",
       "    <tr style=\"text-align: right;\">\n",
       "      <th></th>\n",
       "      <th>Unnamed: 0</th>\n",
       "      <th>title</th>\n",
       "      <th>selftext</th>\n",
       "      <th>subreddit</th>\n",
       "      <th>created_utc</th>\n",
       "    </tr>\n",
       "  </thead>\n",
       "  <tbody>\n",
       "    <tr>\n",
       "      <th>1498</th>\n",
       "      <td>0</td>\n",
       "      <td>Why Some Airports Are Getting Posh Hotels</td>\n",
       "      <td>NaN</td>\n",
       "      <td>hotel</td>\n",
       "      <td>1447362206</td>\n",
       "    </tr>\n",
       "    <tr>\n",
       "      <th>1499</th>\n",
       "      <td>1</td>\n",
       "      <td>The Royal History of London's Top Luxury Hotel</td>\n",
       "      <td>NaN</td>\n",
       "      <td>hotel</td>\n",
       "      <td>1447304649</td>\n",
       "    </tr>\n",
       "    <tr>\n",
       "      <th>1500</th>\n",
       "      <td>2</td>\n",
       "      <td>This hotel room is the 35,000th suite built by a chain</td>\n",
       "      <td>NaN</td>\n",
       "      <td>hotel</td>\n",
       "      <td>1426217860</td>\n",
       "    </tr>\n",
       "    <tr>\n",
       "      <th>1501</th>\n",
       "      <td>3</td>\n",
       "      <td>25 Things Your Hotel Staff Won't Tell You But You Should Know</td>\n",
       "      <td>NaN</td>\n",
       "      <td>hotel</td>\n",
       "      <td>1426035213</td>\n",
       "    </tr>\n",
       "    <tr>\n",
       "      <th>1502</th>\n",
       "      <td>4</td>\n",
       "      <td>World's coolest hotel rooms: Whether they're located in caves or decked out in all-over orange, these ten picks are some of the coolest hotel rooms in the world.</td>\n",
       "      <td>NaN</td>\n",
       "      <td>hotel</td>\n",
       "      <td>1425947601</td>\n",
       "    </tr>\n",
       "  </tbody>\n",
       "</table>\n",
       "</div>"
      ],
      "text/plain": [
       "      Unnamed: 0  \\\n",
       "1498           0   \n",
       "1499           1   \n",
       "1500           2   \n",
       "1501           3   \n",
       "1502           4   \n",
       "\n",
       "                                                                                                                                                                  title  \\\n",
       "1498                                                                                                                          Why Some Airports Are Getting Posh Hotels   \n",
       "1499                                                                                                                     The Royal History of London's Top Luxury Hotel   \n",
       "1500                                                                                                             This hotel room is the 35,000th suite built by a chain   \n",
       "1501                                                                                                      25 Things Your Hotel Staff Won't Tell You But You Should Know   \n",
       "1502  World's coolest hotel rooms: Whether they're located in caves or decked out in all-over orange, these ten picks are some of the coolest hotel rooms in the world.   \n",
       "\n",
       "     selftext subreddit  created_utc  \n",
       "1498      NaN     hotel   1447362206  \n",
       "1499      NaN     hotel   1447304649  \n",
       "1500      NaN     hotel   1426217860  \n",
       "1501      NaN     hotel   1426035213  \n",
       "1502      NaN     hotel   1425947601  "
      ]
     },
     "execution_count": 30,
     "metadata": {},
     "output_type": "execute_result"
    }
   ],
   "source": [
    "## Create separate subreddit for hotel\n",
    "df_hotel = df[df['subreddit'] == 'hotel']\n",
    "df_hotel.head()"
   ]
  },
  {
   "cell_type": "code",
   "execution_count": 33,
   "id": "b720771a-6ef8-4e4d-9f55-e6c9f6d05465",
   "metadata": {},
   "outputs": [
    {
     "data": {
      "text/plain": [
       "Unnamed: 0       0\n",
       "title            0\n",
       "selftext       969\n",
       "subreddit        0\n",
       "created_utc      0\n",
       "dtype: int64"
      ]
     },
     "execution_count": 33,
     "metadata": {},
     "output_type": "execute_result"
    }
   ],
   "source": [
    "df_hotel.isnull().sum()"
   ]
  },
  {
   "cell_type": "code",
   "execution_count": null,
   "id": "3834f462-1bbb-4422-a193-2819e06b0568",
   "metadata": {},
   "outputs": [],
   "source": []
  },
  {
   "cell_type": "code",
   "execution_count": null,
   "id": "6e7ba866-1897-440e-bf5d-88dd330055a5",
   "metadata": {},
   "outputs": [],
   "source": []
  },
  {
   "cell_type": "code",
   "execution_count": null,
   "id": "1f428143-68bd-4105-aaaf-ae7a5cd9cff1",
   "metadata": {},
   "outputs": [],
   "source": []
  },
  {
   "cell_type": "code",
   "execution_count": null,
   "id": "864d7647-ad56-4252-9fb8-8fc7cf565e3c",
   "metadata": {},
   "outputs": [],
   "source": []
  },
  {
   "cell_type": "code",
   "execution_count": null,
   "id": "e6da079e-d0bf-4b37-96d0-30254c504ce6",
   "metadata": {},
   "outputs": [],
   "source": []
  },
  {
   "cell_type": "code",
   "execution_count": null,
   "id": "18d5f30b-62ec-40ec-bdd2-5ef768784046",
   "metadata": {},
   "outputs": [],
   "source": []
  }
 ],
 "metadata": {
  "kernelspec": {
   "display_name": "Python 3 (ipykernel)",
   "language": "python",
   "name": "python3"
  },
  "language_info": {
   "codemirror_mode": {
    "name": "ipython",
    "version": 3
   },
   "file_extension": ".py",
   "mimetype": "text/x-python",
   "name": "python",
   "nbconvert_exporter": "python",
   "pygments_lexer": "ipython3",
   "version": "3.9.12"
  }
 },
 "nbformat": 4,
 "nbformat_minor": 5
}
