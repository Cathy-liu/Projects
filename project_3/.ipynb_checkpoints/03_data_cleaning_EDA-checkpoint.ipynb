{
 "cells": [
  {
   "cell_type": "markdown",
   "id": "4fd86e8f-1a1e-4abf-a4bc-9b5da7f98326",
   "metadata": {},
   "source": [
    "## 03 Data Cleaning & EDA "
   ]
  },
  {
   "cell_type": "code",
   "execution_count": 9,
   "id": "01c46ccf-5a4b-44b9-a017-40688c553ca6",
   "metadata": {},
   "outputs": [],
   "source": [
    "from tabulate import tabulate\n",
    "import numpy as np\n",
    "import pandas as pd\n",
    "import matplotlib.pyplot as plt\n",
    "import seaborn as sns\n",
    "import re\n",
    "from nltk.tokenize import sent_tokenize, word_tokenize, RegexpTokenizer # RegexpTokenizer uses regex for tokenization\n",
    "from nltk.stem import WordNetLemmatizer\n",
    "from nltk.stem.porter import PorterStemmer \n",
    "from nltk.corpus import stopwords\n",
    "from sklearn.feature_extraction.text import CountVectorizer\n",
    "\n",
    "pd.options.display.max_colwidth = 400"
   ]
  },
  {
   "cell_type": "markdown",
   "id": "b71b652c-0f0e-4acc-b726-b94981d71769",
   "metadata": {},
   "source": [
    "### Data cleaning "
   ]
  },
  {
   "cell_type": "code",
   "execution_count": 2,
   "id": "71b0c885-49e8-4095-aa93-b303722f34a0",
   "metadata": {},
   "outputs": [],
   "source": [
    "%store -r df"
   ]
  },
  {
   "cell_type": "code",
   "execution_count": 3,
   "id": "8abb3cbc-3b97-4b53-9d0c-da8e0abe1973",
   "metadata": {},
   "outputs": [
    {
     "name": "stdout",
     "output_type": "stream",
     "text": [
      "<class 'pandas.core.frame.DataFrame'>\n",
      "Int64Index: 27691 entries, 0 to 5084\n",
      "Data columns (total 2 columns):\n",
      " #   Column  Non-Null Count  Dtype \n",
      "---  ------  --------------  ----- \n",
      " 0   label   27691 non-null  object\n",
      " 1   text    27691 non-null  object\n",
      "dtypes: object(2)\n",
      "memory usage: 649.0+ KB\n"
     ]
    }
   ],
   "source": [
    "df.info()"
   ]
  },
  {
   "cell_type": "code",
   "execution_count": 4,
   "id": "9fcb910a-cd23-427e-8b0b-330c75c22bf1",
   "metadata": {},
   "outputs": [
    {
     "data": {
      "text/html": [
       "<div>\n",
       "<style scoped>\n",
       "    .dataframe tbody tr th:only-of-type {\n",
       "        vertical-align: middle;\n",
       "    }\n",
       "\n",
       "    .dataframe tbody tr th {\n",
       "        vertical-align: top;\n",
       "    }\n",
       "\n",
       "    .dataframe thead th {\n",
       "        text-align: right;\n",
       "    }\n",
       "</style>\n",
       "<table border=\"1\" class=\"dataframe\">\n",
       "  <thead>\n",
       "    <tr style=\"text-align: right;\">\n",
       "      <th></th>\n",
       "      <th>label</th>\n",
       "      <th>text</th>\n",
       "    </tr>\n",
       "  </thead>\n",
       "  <tbody>\n",
       "    <tr>\n",
       "      <th>5083</th>\n",
       "      <td>stock</td>\n",
       "      <td>Rate Hikes - How it affects - AnalysisLets do a simple analysis here. \\n\\nTake the popular stock AAPL - PE is \\~28 at current price $163. Investors were willing to pay up to $182 for 1 share of this company at low interest rates environment. PE at 182 would have been \\~32. In other words earnings per 1$ of investment here would yield 1/32 = 3.125%. Now lets assume interest rates goes up one pe...</td>\n",
       "    </tr>\n",
       "    <tr>\n",
       "      <th>5084</th>\n",
       "      <td>stock</td>\n",
       "      <td>Too much or too little stocks how to know your limit[removed]</td>\n",
       "    </tr>\n",
       "  </tbody>\n",
       "</table>\n",
       "</div>"
      ],
      "text/plain": [
       "      label  \\\n",
       "5083  stock   \n",
       "5084  stock   \n",
       "\n",
       "                                                                                                                                                                                                                                                                                                                                                                                                                 text  \n",
       "5083  Rate Hikes - How it affects - AnalysisLets do a simple analysis here. \\n\\nTake the popular stock AAPL - PE is \\~28 at current price $163. Investors were willing to pay up to $182 for 1 share of this company at low interest rates environment. PE at 182 would have been \\~32. In other words earnings per 1$ of investment here would yield 1/32 = 3.125%. Now lets assume interest rates goes up one pe...  \n",
       "5084                                                                                                                                                                                                                                                                                                                                                    Too much or too little stocks how to know your limit[removed]  "
      ]
     },
     "execution_count": 4,
     "metadata": {},
     "output_type": "execute_result"
    }
   ],
   "source": [
    "df.tail(2) # shows the index hasn't been reset after concatenated."
   ]
  },
  {
   "cell_type": "code",
   "execution_count": 5,
   "id": "600ad0d1-7601-45fc-a787-dde19bd500ad",
   "metadata": {},
   "outputs": [
    {
     "data": {
      "text/plain": [
       "RangeIndex(start=0, stop=27691, step=1)"
      ]
     },
     "execution_count": 5,
     "metadata": {},
     "output_type": "execute_result"
    }
   ],
   "source": [
    "#reset the index \n",
    "df.reset_index(drop=True,inplace=True)\n",
    "df.index"
   ]
  },
  {
   "cell_type": "code",
   "execution_count": 6,
   "id": "fbd4cef1-23cc-4582-8963-45bc30148d19",
   "metadata": {},
   "outputs": [
    {
     "data": {
      "text/plain": [
       "label    0\n",
       "text     0\n",
       "dtype: int64"
      ]
     },
     "execution_count": 6,
     "metadata": {},
     "output_type": "execute_result"
    }
   ],
   "source": [
    "# We have dropped the rows with empty textual content in Data Collection part. This is to ensure there is no nan values\n",
    "df.isna().sum()"
   ]
  },
  {
   "cell_type": "markdown",
   "id": "255c4170-3e4b-4c7e-9a9a-37fe3480d58e",
   "metadata": {},
   "source": [
    "#### Remove special characters and replace newlines with space using Regex"
   ]
  },
  {
   "cell_type": "code",
   "execution_count": 7,
   "id": "d237d0c0-088d-407d-b5cc-c73d2a54da65",
   "metadata": {},
   "outputs": [],
   "source": [
    "# remove all special characters other space between words\n",
    "df['text']=[re.sub(r'[^a-zA-Z\\d\\s:]', '', df.iloc[i]['text']).strip() for i in range(df.shape[0])]"
   ]
  },
  {
   "cell_type": "code",
   "execution_count": 8,
   "id": "22c551cf-6ca1-45ba-9238-865980dee5f9",
   "metadata": {},
   "outputs": [],
   "source": [
    "# replace the newline character '\\n\\n' to space \n",
    "df['text']=[re.sub(r\"\\n\\n\", \" \", df.iloc[i]['text']).strip() for i in range(df.shape[0])]"
   ]
  },
  {
   "cell_type": "code",
   "execution_count": 9,
   "id": "b073f531-bc2f-426f-8c98-ef490233cb05",
   "metadata": {},
   "outputs": [
    {
     "data": {
      "text/plain": [
       "0    Should I borrow to investShould I  borrow money from credit  card and invest in TQQQ  15k\n",
       "1                                                             Youll never take my stuck Kennie\n",
       "2                                                                         GME is headed to 84k\n",
       "3                                                                        the boys are back LFG\n",
       "4                                                               I might port into VIX tomorrow\n",
       "Name: text, dtype: object"
      ]
     },
     "execution_count": 9,
     "metadata": {},
     "output_type": "execute_result"
    }
   ],
   "source": [
    "df['text'][:5]"
   ]
  },
  {
   "cell_type": "markdown",
   "id": "4a0af73b-198d-48f9-ad64-dff11ea1403a",
   "metadata": {},
   "source": [
    "Remove the posts that have been removed (reasons usually being considered low Karma by the subreddit group)\n",
    "##### Remove the posts that have been removed (considered low Karma by the subreddit group)"
   ]
  },
  {
   "cell_type": "markdown",
   "id": "efd57b9c-9a2d-4279-9e80-1afc8df2c41e",
   "metadata": {},
   "source": [
    "As there are quite a number of 'removed' posts that ended up crawled by the API, they should be removed from the dataset as they were from reddit_ids that had so 'low Karma' that got banned for interaction with the community and hence presumably will not contribute much to the semantic building of the two subreddit classes."
   ]
  },
  {
   "cell_type": "code",
   "execution_count": 10,
   "id": "d0b90ebb-ab83-49cd-8515-eddeafcd1d88",
   "metadata": {},
   "outputs": [
    {
     "data": {
      "text/plain": [
       "label    6997\n",
       "text     6997\n",
       "dtype: int64"
      ]
     },
     "execution_count": 10,
     "metadata": {},
     "output_type": "execute_result"
    }
   ],
   "source": [
    "df[df['text'].str.contains('removed', flags=re.IGNORECASE, regex=True)].count() # In total 6997 posts that actually had been removed."
   ]
  },
  {
   "cell_type": "code",
   "execution_count": 11,
   "id": "81f87a25-1c4b-4499-98cc-c7230a89d3dc",
   "metadata": {},
   "outputs": [
    {
     "data": {
      "text/plain": [
       "(20694, 2)"
      ]
     },
     "execution_count": 11,
     "metadata": {},
     "output_type": "execute_result"
    }
   ],
   "source": [
    "# Remove those rows from removed posts\n",
    "df=df[~(df['text'].str.contains('removed', flags=re.IGNORECASE, regex=True))]\n",
    "df.shape"
   ]
  },
  {
   "cell_type": "markdown",
   "id": "cbba9276-333c-4cb6-85a6-fa3c82640132",
   "metadata": {},
   "source": [
    "There are 20694 rows left after removing the rows from removed posts."
   ]
  },
  {
   "cell_type": "code",
   "execution_count": 26,
   "id": "98738596-e931-41a7-8a15-668b7b2ccf03",
   "metadata": {},
   "outputs": [
    {
     "name": "stderr",
     "output_type": "stream",
     "text": [
      "C:\\Users\\Cathy\\AppData\\Local\\Temp\\ipykernel_19376\\782213724.py:2: SettingWithCopyWarning: \n",
      "A value is trying to be set on a copy of a slice from a DataFrame.\n",
      "Try using .loc[row_indexer,col_indexer] = value instead\n",
      "\n",
      "See the caveats in the documentation: https://pandas.pydata.org/pandas-docs/stable/user_guide/indexing.html#returning-a-view-versus-a-copy\n",
      "  df['word_count']=[len(df.iloc[i]['text'].split()) for i in range(df.shape[0])]\n"
     ]
    },
    {
     "data": {
      "text/html": [
       "<div>\n",
       "<style scoped>\n",
       "    .dataframe tbody tr th:only-of-type {\n",
       "        vertical-align: middle;\n",
       "    }\n",
       "\n",
       "    .dataframe tbody tr th {\n",
       "        vertical-align: top;\n",
       "    }\n",
       "\n",
       "    .dataframe thead th {\n",
       "        text-align: right;\n",
       "    }\n",
       "</style>\n",
       "<table border=\"1\" class=\"dataframe\">\n",
       "  <thead>\n",
       "    <tr style=\"text-align: right;\">\n",
       "      <th></th>\n",
       "      <th>label</th>\n",
       "      <th>text</th>\n",
       "      <th>word_count</th>\n",
       "    </tr>\n",
       "  </thead>\n",
       "  <tbody>\n",
       "    <tr>\n",
       "      <th>0</th>\n",
       "      <td>wallstreetbet</td>\n",
       "      <td>Should I borrow to investShould I  borrow money from credit  card and invest in TQQQ  15k</td>\n",
       "      <td>16</td>\n",
       "    </tr>\n",
       "    <tr>\n",
       "      <th>1</th>\n",
       "      <td>wallstreetbet</td>\n",
       "      <td>Youll never take my stuck Kennie</td>\n",
       "      <td>6</td>\n",
       "    </tr>\n",
       "    <tr>\n",
       "      <th>2</th>\n",
       "      <td>wallstreetbet</td>\n",
       "      <td>GME is headed to 84k</td>\n",
       "      <td>5</td>\n",
       "    </tr>\n",
       "    <tr>\n",
       "      <th>3</th>\n",
       "      <td>wallstreetbet</td>\n",
       "      <td>the boys are back LFG</td>\n",
       "      <td>5</td>\n",
       "    </tr>\n",
       "    <tr>\n",
       "      <th>4</th>\n",
       "      <td>wallstreetbet</td>\n",
       "      <td>I might port into VIX tomorrow</td>\n",
       "      <td>6</td>\n",
       "    </tr>\n",
       "  </tbody>\n",
       "</table>\n",
       "</div>"
      ],
      "text/plain": [
       "           label  \\\n",
       "0  wallstreetbet   \n",
       "1  wallstreetbet   \n",
       "2  wallstreetbet   \n",
       "3  wallstreetbet   \n",
       "4  wallstreetbet   \n",
       "\n",
       "                                                                                        text  \\\n",
       "0  Should I borrow to investShould I  borrow money from credit  card and invest in TQQQ  15k   \n",
       "1                                                           Youll never take my stuck Kennie   \n",
       "2                                                                       GME is headed to 84k   \n",
       "3                                                                      the boys are back LFG   \n",
       "4                                                             I might port into VIX tomorrow   \n",
       "\n",
       "   word_count  \n",
       "0          16  \n",
       "1           6  \n",
       "2           5  \n",
       "3           5  \n",
       "4           6  "
      ]
     },
     "execution_count": 26,
     "metadata": {},
     "output_type": "execute_result"
    }
   ],
   "source": [
    "# add column of word count for each post\n",
    "df['word_count']=[len(df.iloc[i]['text'].split()) for i in range(df.shape[0])]\n",
    "df.head()"
   ]
  },
  {
   "cell_type": "markdown",
   "id": "9282c2b0-258f-4a2e-8bcc-14dcf76acc8c",
   "metadata": {},
   "source": [
    "##### Remove the url links while keeping the text contents for these posts."
   ]
  },
  {
   "cell_type": "code",
   "execution_count": 27,
   "id": "fa89848e-8e08-40fb-850b-7511618382ac",
   "metadata": {},
   "outputs": [
    {
     "data": {
      "text/plain": [
       "1869"
      ]
     },
     "execution_count": 27,
     "metadata": {},
     "output_type": "execute_result"
    }
   ],
   "source": [
    "#check if there are urls in the remaining corpus\n",
    "df[df['text'].str.contains('http', flags=re.IGNORECASE, regex=True)]['text'].count()"
   ]
  },
  {
   "cell_type": "code",
   "execution_count": 28,
   "id": "633c7a01-6cef-4036-9d16-aff03c2b74e4",
   "metadata": {},
   "outputs": [],
   "source": [
    "df.reset_index(drop=True, inplace=True)"
   ]
  },
  {
   "cell_type": "code",
   "execution_count": 29,
   "id": "7c41f116-5e22-45f1-955b-664afef6ec38",
   "metadata": {},
   "outputs": [
    {
     "name": "stderr",
     "output_type": "stream",
     "text": [
      "C:\\Users\\Cathy\\AppData\\Local\\Temp\\ipykernel_19376\\2510925638.py:4: SettingWithCopyWarning: \n",
      "A value is trying to be set on a copy of a slice from a DataFrame\n",
      "\n",
      "See the caveats in the documentation: https://pandas.pydata.org/pandas-docs/stable/user_guide/indexing.html#returning-a-view-versus-a-copy\n",
      "  df['text'][i]=re.sub(r'http\\S+', '', text, flags=re.MULTILINE)\n"
     ]
    }
   ],
   "source": [
    "for i in range(df.shape[0]):\n",
    "    text=df['text'][i]\n",
    "    if 'http' in text:\n",
    "        df['text'][i]=re.sub(r'http\\S+', '', text, flags=re.MULTILINE)\n",
    "    else:\n",
    "        pass"
   ]
  },
  {
   "cell_type": "code",
   "execution_count": 84,
   "id": "5146f52a-7808-45f8-beb2-1bd65fee4f86",
   "metadata": {},
   "outputs": [
    {
     "data": {
      "text/plain": [
       "0"
      ]
     },
     "execution_count": 84,
     "metadata": {},
     "output_type": "execute_result"
    }
   ],
   "source": [
    "# check again if there are urls left\n",
    "df[df['text'].str.contains('http', flags=re.IGNORECASE, regex=True)]['text'].count()"
   ]
  },
  {
   "cell_type": "code",
   "execution_count": 86,
   "id": "b521d2a8-ebc9-440c-9e1a-f5e2dbd4593b",
   "metadata": {},
   "outputs": [
    {
     "name": "stdout",
     "output_type": "stream",
     "text": [
      "104\n"
     ]
    }
   ],
   "source": [
    "# check if there are empty text cells after removing url links, remove those rows.\n",
    "print(df[df['word_count']==0].shape[0])\n",
    "df=df[df['word_count']!=0]\n",
    "#removed 104 rows without words after removing url links "
   ]
  },
  {
   "cell_type": "markdown",
   "id": "60e0c1e4-76d9-4cde-8438-6d34790f7705",
   "metadata": {
    "tags": []
   },
   "source": [
    "### Summary statistics"
   ]
  },
  {
   "cell_type": "code",
   "execution_count": 88,
   "id": "be3ea921-49b4-42c2-bbff-40d38012684c",
   "metadata": {},
   "outputs": [
    {
     "data": {
      "text/plain": [
       "wallstreetbet    0.898538\n",
       "stock            0.101462\n",
       "Name: label, dtype: float64"
      ]
     },
     "execution_count": 88,
     "metadata": {},
     "output_type": "execute_result"
    }
   ],
   "source": [
    "df['label'].value_counts(normalize=True) "
   ]
  },
  {
   "cell_type": "markdown",
   "id": "854e8666-c023-4258-a5f6-f5d20de57b91",
   "metadata": {},
   "source": [
    "This gives the baseline for the classfication problem: an accuracy of 90% if we predict everything to belong to the majority class 'wallstreetbets'."
   ]
  },
  {
   "cell_type": "markdown",
   "id": "02a930d6-9c56-44ce-bc37-ab4c572019cf",
   "metadata": {},
   "source": [
    "### EDA on post length "
   ]
  },
  {
   "cell_type": "code",
   "execution_count": 89,
   "id": "e38a87f6-b304-4bf0-b143-3da1f84746a1",
   "metadata": {},
   "outputs": [
    {
     "name": "stdout",
     "output_type": "stream",
     "text": [
      "\n",
      "Summary on number of words of each post (title+comments):\n",
      "\n",
      "| Words in a post   |   Stock |   Wallstreetbet |\n",
      "|-------------------+---------+-----------------|\n",
      "| Max               |    5756 |            3362 |\n",
      "| Mean              |     178 |              45 |\n",
      "| Median            |     101 |              10 |\n",
      "| Variance          |   94050 |           22285 |\n"
     ]
    }
   ],
   "source": [
    "print(f'\\nSummary on number of words of each post (title+comments):\\n')\n",
    "print(tabulate([['Max', df.groupby('label')['word_count'].max()[0],df.groupby('label')['word_count'].max()[1]], ['Mean', np.round(df.groupby('label')['word_count'].mean()[0]),np.round(df.groupby('label')['word_count'].mean()[1])], ['Median', df.groupby('label')['word_count'].median()[0],df.groupby('label')['word_count'].median()[1]],[\n",
    "'Variance',np.round(df.groupby('label')['word_count'].var()[0]),np.round(df.groupby('label')['word_count'].var()[1])]],headers=['Words in a post','Stock','Wallstreetbet'], tablefmt='orgtbl'))"
   ]
  },
  {
   "cell_type": "code",
   "execution_count": 90,
   "id": "e56daeca-c123-4d44-813f-821d268b1304",
   "metadata": {},
   "outputs": [
    {
     "data": {
      "text/plain": [
       "<AxesSubplot:title={'center':'word_count'}, xlabel='label'>"
      ]
     },
     "execution_count": 90,
     "metadata": {},
     "output_type": "execute_result"
    },
    {
     "data": {
      "image/png": "[encoded data removed]",
      "text/plain": [
       "<Figure size 600x400 with 1 Axes>"
      ]
     },
     "metadata": {},
     "output_type": "display_data"
    }
   ],
   "source": [
    "# plot distribution of number of words in one post\n",
    "df.boxplot(column='word_count',by='label',widths = 0.6,figsize=(6,4))"
   ]
  },
  {
   "cell_type": "markdown",
   "id": "d37758a7-833b-458d-98e2-47eac2756cb0",
   "metadata": {},
   "source": [
    "* There is a long tail above the 25-75% box in both labeled groups, it says that the distributions are condensed around the median values which are relatively small, but there are a big proportion of data above this range dispersed to the higher end of word counts.\n",
    "* It can be seen from the boxplots there are a few outliers at the extreme high end in the Stocks posts."
   ]
  },
  {
   "cell_type": "code",
   "execution_count": 94,
   "id": "751fe937-4dde-4320-a803-be8e537a258f",
   "metadata": {},
   "outputs": [
    {
     "data": {
      "text/html": [
       "<div>\n",
       "<style scoped>\n",
       "    .dataframe tbody tr th:only-of-type {\n",
       "        vertical-align: middle;\n",
       "    }\n",
       "\n",
       "    .dataframe tbody tr th {\n",
       "        vertical-align: top;\n",
       "    }\n",
       "\n",
       "    .dataframe thead th {\n",
       "        text-align: right;\n",
       "    }\n",
       "</style>\n",
       "<table border=\"1\" class=\"dataframe\">\n",
       "  <thead>\n",
       "    <tr style=\"text-align: right;\">\n",
       "      <th></th>\n",
       "      <th>label</th>\n",
       "      <th>text</th>\n",
       "      <th>word_count</th>\n",
       "    </tr>\n",
       "  </thead>\n",
       "  <tbody>\n",
       "    <tr>\n",
       "      <th>19274</th>\n",
       "      <td>stock</td>\n",
       "      <td>Wall Street Week Ahead for the trading week beginning January 10th 2022Good Saturday afternoon to all of you here on rstocks I hope everyone on this sub made out pretty nicely in the market this past week and are ready for the new trading week ahead : Here is everything you need to know to get you ready for the trading week beginning January 10th 2022  Inflation rising rates and the Federal Re...</td>\n",
       "      <td>5756</td>\n",
       "    </tr>\n",
       "    <tr>\n",
       "      <th>20263</th>\n",
       "      <td>stock</td>\n",
       "      <td>Wall Street Week Ahead for the trading week beginning January 24th 2022Good Saturday afternoon to all of you here on rstocks I hope everyone on this sub made out pretty nicely in the market this past week and are ready for the new trading week ahead : Here is everything you need to know to get you ready for the trading week beginning January 24th 2022  Markets are expected to remain on edge as...</td>\n",
       "      <td>5252</td>\n",
       "    </tr>\n",
       "    <tr>\n",
       "      <th>19045</th>\n",
       "      <td>stock</td>\n",
       "      <td>Wall Street Week Ahead for the trading week beginning January 3rd 2022 Happy New Year 2022Good Saturday afternoon to all of you here on rstocks Happy New Year 2022 I hope everyone on this sub made out pretty nicely in the market this past week and year and are ready for the new trading weekyear ahead : Here is everything you need to know to get you ready for the trading week beginning January ...</td>\n",
       "      <td>4897</td>\n",
       "    </tr>\n",
       "    <tr>\n",
       "      <th>19775</th>\n",
       "      <td>stock</td>\n",
       "      <td>Wall Street Week Ahead for the trading week beginning January 31st 2022Good Saturday morning to all of you here on rstocks I hope everyone on this sub made out pretty nicely in the market this past week and are ready for the new trading week ahead : Here is everything you need to know to get you ready for the trading week beginning January 31st 2022  Big swings in the market are more normal th...</td>\n",
       "      <td>3614</td>\n",
       "    </tr>\n",
       "    <tr>\n",
       "      <th>1147</th>\n",
       "      <td>wallstreetbet</td>\n",
       "      <td>Automotive Roundup 2021 Part 2: 4 new SPACS for 2021 ARVLReposting due to over officious bot  4 New deSPACs for 2021 ARVL Theres no investment advice here If thats what youre looking for then off you fuck Spotted an error Good for you Dont like something Unless its celery that you dont like then I dont care If it is celery you dont like then you can be my friend Theres a fuck ton of personal o...</td>\n",
       "      <td>3362</td>\n",
       "    </tr>\n",
       "  </tbody>\n",
       "</table>\n",
       "</div>"
      ],
      "text/plain": [
       "               label  \\\n",
       "19274          stock   \n",
       "20263          stock   \n",
       "19045          stock   \n",
       "19775          stock   \n",
       "1147   wallstreetbet   \n",
       "\n",
       "                                                                                                                                                                                                                                                                                                                                                                                                                  text  \\\n",
       "19274  Wall Street Week Ahead for the trading week beginning January 10th 2022Good Saturday afternoon to all of you here on rstocks I hope everyone on this sub made out pretty nicely in the market this past week and are ready for the new trading week ahead : Here is everything you need to know to get you ready for the trading week beginning January 10th 2022  Inflation rising rates and the Federal Re...   \n",
       "20263  Wall Street Week Ahead for the trading week beginning January 24th 2022Good Saturday afternoon to all of you here on rstocks I hope everyone on this sub made out pretty nicely in the market this past week and are ready for the new trading week ahead : Here is everything you need to know to get you ready for the trading week beginning January 24th 2022  Markets are expected to remain on edge as...   \n",
       "19045  Wall Street Week Ahead for the trading week beginning January 3rd 2022 Happy New Year 2022Good Saturday afternoon to all of you here on rstocks Happy New Year 2022 I hope everyone on this sub made out pretty nicely in the market this past week and year and are ready for the new trading weekyear ahead : Here is everything you need to know to get you ready for the trading week beginning January ...   \n",
       "19775  Wall Street Week Ahead for the trading week beginning January 31st 2022Good Saturday morning to all of you here on rstocks I hope everyone on this sub made out pretty nicely in the market this past week and are ready for the new trading week ahead : Here is everything you need to know to get you ready for the trading week beginning January 31st 2022  Big swings in the market are more normal th...   \n",
       "1147   Automotive Roundup 2021 Part 2: 4 new SPACS for 2021 ARVLReposting due to over officious bot  4 New deSPACs for 2021 ARVL Theres no investment advice here If thats what youre looking for then off you fuck Spotted an error Good for you Dont like something Unless its celery that you dont like then I dont care If it is celery you dont like then you can be my friend Theres a fuck ton of personal o...   \n",
       "\n",
       "       word_count  \n",
       "19274        5756  \n",
       "20263        5252  \n",
       "19045        4897  \n",
       "19775        3614  \n",
       "1147         3362  "
      ]
     },
     "execution_count": 94,
     "metadata": {},
     "output_type": "execute_result"
    }
   ],
   "source": [
    "# inspect the top few lengthy posts to see if they are legit.\n",
    "df.sort_values(by=['word_count'],ascending=False).head() #the outliers are dupulicates we need to remove"
   ]
  },
  {
   "cell_type": "code",
   "execution_count": 107,
   "id": "f5da07f6-121d-49b9-b9d8-58decf397028",
   "metadata": {},
   "outputs": [
    {
     "name": "stderr",
     "output_type": "stream",
     "text": [
      "C:\\Users\\Cathy\\AppData\\Local\\Temp\\ipykernel_19376\\3665365921.py:2: SettingWithCopyWarning: \n",
      "A value is trying to be set on a copy of a slice from a DataFrame\n",
      "\n",
      "See the caveats in the documentation: https://pandas.pydata.org/pandas-docs/stable/user_guide/indexing.html#returning-a-view-versus-a-copy\n",
      "  df.drop([19274,20263,19045],inplace=True)\n"
     ]
    }
   ],
   "source": [
    "# remove the duplicated outliers by dropping first 3 posts\n",
    "df.drop([19274,20263,19045],inplace=True)"
   ]
  },
  {
   "cell_type": "code",
   "execution_count": 113,
   "id": "38bbf7a3-385e-4743-aad3-3971e23be0c6",
   "metadata": {},
   "outputs": [],
   "source": [
    "#df.sort_values(by=['word_count'],ascending=False).head(10)"
   ]
  },
  {
   "cell_type": "markdown",
   "id": "d4cea99f-e2ae-4ba8-932b-f2bc388e4426",
   "metadata": {},
   "source": [
    "Upon inspection, the remaining outliers of really lengthy posts are legit posts, hence they will be kept in the text corpus. "
   ]
  },
  {
   "cell_type": "markdown",
   "id": "69c698b6-9429-4129-9188-27b16ca67e82",
   "metadata": {},
   "source": [
    "##### Plots for data within 1.5 standard deviations from the mean value \n",
    "To view better the distribution of word counts, we will to reset the range of word counts to only cover the range where the data is concentrated enough. Though the word counts do not exactly follow normal distribution, we will borrow the idea from normal distribution that 3 standard deviations away from the mean value will actually cover 99% of the entire data points, and here we also include only data within 1 standard deviations from the mean which should give us a better view of how above 95% of the data are distributed."
   ]
  },
  {
   "cell_type": "code",
   "execution_count": 118,
   "id": "95adbd0c-0f3b-402a-98e1-58991de5f661",
   "metadata": {},
   "outputs": [],
   "source": [
    "upper_limit_1=df.groupby('label')['word_count'].mean()[0]+1*df.groupby('label')['word_count'].std()[0]\n",
    "upper_limit_2=df.groupby('label')['word_count'].mean()[1]+1*df.groupby('label')['word_count'].std()[1]\n",
    "mask_1=(df['word_count']<=upper_limit_1) & (df['label']=='stock')\n",
    "mask_2=(df['word_count']<=upper_limit_2) & (df['label']=='wallstreetbet')"
   ]
  },
  {
   "cell_type": "code",
   "execution_count": 119,
   "id": "ddd70258-f890-4ed6-8c6a-f68efdb6c3fe",
   "metadata": {},
   "outputs": [
    {
     "name": "stdout",
     "output_type": "stream",
     "text": [
      "The distribution plots below will contain 95.0% of all he data points.\n"
     ]
    }
   ],
   "source": [
    "df_dist=df[(mask_1 | mask_2)]\n",
    "print(f'The distribution plots below will contain {np.round(100*df_dist.shape[0]/df.shape[0])}% of all he data points.')"
   ]
  },
  {
   "cell_type": "code",
   "execution_count": 120,
   "id": "9b665edc-c864-4813-905b-1764f1e989cd",
   "metadata": {},
   "outputs": [
    {
     "data": {
      "text/plain": [
       "<seaborn.axisgrid.FacetGrid at 0x16e33ef8c70>"
      ]
     },
     "execution_count": 120,
     "metadata": {},
     "output_type": "execute_result"
    },
    {
     "data": {
      "image/png": "[encoded data removed]",
      "text/plain": [
       "<Figure size 641.25x500 with 1 Axes>"
      ]
     },
     "metadata": {},
     "output_type": "display_data"
    }
   ],
   "source": [
    "sns.displot(df_dist, x='word_count', hue='label').set(title='Distribution of word counts in each post')"
   ]
  },
  {
   "cell_type": "code",
   "execution_count": 122,
   "id": "66cc134a-d932-4c1e-9983-eeb929fb7935",
   "metadata": {},
   "outputs": [
    {
     "data": {
      "text/plain": [
       "Text(0.5, 1.0, 'on more than 95% of the corpus')"
      ]
     },
     "execution_count": 122,
     "metadata": {},
     "output_type": "execute_result"
    },
    {
     "data": {
      "image/png": "[encoded data removed]",
      "text/plain": [
       "<Figure size 600x400 with 1 Axes>"
      ]
     },
     "metadata": {},
     "output_type": "display_data"
    }
   ],
   "source": [
    "df_dist.boxplot(column='word_count',by='label',widths = 0.6,figsize=(6,4)).set_title('on more than 95% of the corpus')"
   ]
  },
  {
   "cell_type": "markdown",
   "id": "61d6a32e-beb1-4182-9bf0-41732649b72d",
   "metadata": {},
   "source": [
    "The boxplot above includes data points within 1 standard deviations from the mean which will give a better view of how more than 95% of the data are distributed."
   ]
  },
  {
   "cell_type": "code",
   "execution_count": 126,
   "id": "6452af93-2a19-4982-bbb1-d64c9960094d",
   "metadata": {},
   "outputs": [
    {
     "data": {
      "text/html": [
       "<div>\n",
       "<style scoped>\n",
       "    .dataframe tbody tr th:only-of-type {\n",
       "        vertical-align: middle;\n",
       "    }\n",
       "\n",
       "    .dataframe tbody tr th {\n",
       "        vertical-align: top;\n",
       "    }\n",
       "\n",
       "    .dataframe thead th {\n",
       "        text-align: right;\n",
       "    }\n",
       "</style>\n",
       "<table border=\"1\" class=\"dataframe\">\n",
       "  <thead>\n",
       "    <tr style=\"text-align: right;\">\n",
       "      <th></th>\n",
       "      <th>label</th>\n",
       "      <th>text</th>\n",
       "      <th>word_count</th>\n",
       "    </tr>\n",
       "  </thead>\n",
       "  <tbody>\n",
       "    <tr>\n",
       "      <th>5017</th>\n",
       "      <td>wallstreetbet</td>\n",
       "      <td>meirl</td>\n",
       "      <td>1</td>\n",
       "    </tr>\n",
       "    <tr>\n",
       "      <th>5815</th>\n",
       "      <td>wallstreetbet</td>\n",
       "      <td>Nice</td>\n",
       "      <td>1</td>\n",
       "    </tr>\n",
       "    <tr>\n",
       "      <th>15853</th>\n",
       "      <td>wallstreetbet</td>\n",
       "      <td>fr</td>\n",
       "      <td>1</td>\n",
       "    </tr>\n",
       "    <tr>\n",
       "      <th>9411</th>\n",
       "      <td>wallstreetbet</td>\n",
       "      <td>Packers</td>\n",
       "      <td>1</td>\n",
       "    </tr>\n",
       "    <tr>\n",
       "      <th>17603</th>\n",
       "      <td>wallstreetbet</td>\n",
       "      <td>Lollololol</td>\n",
       "      <td>1</td>\n",
       "    </tr>\n",
       "  </tbody>\n",
       "</table>\n",
       "</div>"
      ],
      "text/plain": [
       "               label        text  word_count\n",
       "5017   wallstreetbet       meirl           1\n",
       "5815   wallstreetbet        Nice           1\n",
       "15853  wallstreetbet          fr           1\n",
       "9411   wallstreetbet     Packers           1\n",
       "17603  wallstreetbet  Lollololol           1"
      ]
     },
     "execution_count": 126,
     "metadata": {},
     "output_type": "execute_result"
    }
   ],
   "source": [
    "# check the shortest posts to see if they are legit\n",
    "df.sort_values(by=['word_count'],ascending=False).tail()"
   ]
  },
  {
   "cell_type": "markdown",
   "id": "2209b149-70a4-4e9e-9e99-615b11955e7a",
   "metadata": {},
   "source": [
    "The shortest posts are also legit posts and we don't need to remove anything no the short end."
   ]
  },
  {
   "cell_type": "code",
   "execution_count": 127,
   "id": "318a9a89-ee5f-4e95-88ee-1294f4d1b3a1",
   "metadata": {},
   "outputs": [
    {
     "name": "stdout",
     "output_type": "stream",
     "text": [
      "Stored 'df2' (DataFrame)\n"
     ]
    }
   ],
   "source": [
    "# as the dataframe will be stored globally, to not confuse with the unprocess df from jupyter_notebook_02, it will be stored as df2.\n",
    "df2=df\n",
    "%store df2\n",
    "df2.to_csv('./data/cleaned_textual_data.csv')"
   ]
  },
  {
   "cell_type": "markdown",
   "id": "12cf9d28-b2d0-4dac-8834-d65fbfc7f219",
   "metadata": {},
   "source": [
    "### EDA on top occurance words\n"
   ]
  },
  {
   "cell_type": "markdown",
   "id": "c5379945-cc23-40e3-a77f-150389675391",
   "metadata": {},
   "source": [
    "instantiate a countVectorizer\n",
    "* fit it on the text column\n",
    "* store the transformed data\n",
    "* densify the transformed data by toarray() and todense()\n",
    "* use get_feature_names() on a fitted countvectorizer object to get the words from the dataset, --> set as columns argument to create a new dataframe"
   ]
  },
  {
   "cell_type": "markdown",
   "id": "78eba29d-bd84-4125-b149-cf1f193eb570",
   "metadata": {},
   "source": [
    "* Lemmatize \n",
    "\n",
    "Before input to CountVectorizer, define a lemmatizer function to reduce the total set of vocabulary. Care is taken to give minimal character count to stop lemmatizing."
   ]
  },
  {
   "cell_type": "code",
   "execution_count": 6,
   "id": "b7e253b3-91d4-409c-a3fe-ddcf4a657196",
   "metadata": {},
   "outputs": [],
   "source": [
    "# define a lemmatizer function \n",
    "class LemmaTokenizer:\n",
    "    def __init__(self):\n",
    "        self.wnl = WordNetLemmatizer()\n",
    "    def __call__(self, doc):\n",
    "        regex_num_ponctuation = '(\\d+)|([^\\w\\s])'\n",
    "        regex_little_words = r'(\\b\\w{2,3}\\b)'\n",
    "        return [self.wnl.lemmatize(t) for t in word_tokenize(doc)\n",
    "                if not re.search(regex_num_ponctuation, t) and not re.search(regex_little_words, t)]"
   ]
  },
  {
   "cell_type": "markdown",
   "id": "8870c810-dea0-45e9-90f2-898c938461ef",
   "metadata": {},
   "source": [
    "* Modify the stop_words list\n",
    "\n",
    "From text runs, there are a few more common words that should be added to the stop_word list."
   ]
  },
  {
   "cell_type": "code",
   "execution_count": 10,
   "id": "77c3743e-592a-407a-b390-07f4984c51a0",
   "metadata": {},
   "outputs": [],
   "source": [
    "list=stopwords.words('english')\n",
    "add_list=['like','just','dont','would','im','also','know','think']\n",
    "for i in range(len(add_list)):\n",
    "    list.append(add_list[i])\n",
    "customized_stop_words=list   "
   ]
  },
  {
   "cell_type": "code",
   "execution_count": 9,
   "id": "10fb2df0-ac0c-4bd4-a7aa-c52d2345ca9f",
   "metadata": {},
   "outputs": [
    {
     "name": "stdout",
     "output_type": "stream",
     "text": [
      "Stored 'customized_stop_words' (list)\n"
     ]
    }
   ],
   "source": [
    "%store customized_stop_words"
   ]
  },
  {
   "cell_type": "markdown",
   "id": "677e6359-5486-4379-806a-34bd8b2da2a7",
   "metadata": {},
   "source": [
    "* Use CountVectorizer to vectorize the text corpus"
   ]
  },
  {
   "cell_type": "code",
   "execution_count": 10,
   "id": "c778eec2-20d1-4f4e-bc52-a5743e1ea9e4",
   "metadata": {},
   "outputs": [
    {
     "name": "stderr",
     "output_type": "stream",
     "text": [
      "C:\\Users\\Cathy\\anaconda3\\lib\\site-packages\\sklearn\\feature_extraction\\text.py:524: UserWarning: The parameter 'token_pattern' will not be used since 'tokenizer' is not None'\n",
      "  warnings.warn(\n",
      "C:\\Users\\Cathy\\anaconda3\\lib\\site-packages\\sklearn\\feature_extraction\\text.py:404: UserWarning: Your stop_words may be inconsistent with your preprocessing. Tokenizing the stop words generated tokens ['could', 'doe', 'might', 'must', 'need'] not in stop_words.\n",
      "  warnings.warn(\n"
     ]
    },
    {
     "data": {
      "text/html": [
       "<style>#sk-container-id-1 {color: black;background-color: white;}#sk-container-id-1 pre{padding: 0;}#sk-container-id-1 div.sk-toggleable {background-color: white;}#sk-container-id-1 label.sk-toggleable__label {cursor: pointer;display: block;width: 100%;margin-bottom: 0;padding: 0.3em;box-sizing: border-box;text-align: center;}#sk-container-id-1 label.sk-toggleable__label-arrow:before {content: \"▸\";float: left;margin-right: 0.25em;color: #696969;}#sk-container-id-1 label.sk-toggleable__label-arrow:hover:before {color: black;}#sk-container-id-1 div.sk-estimator:hover label.sk-toggleable__label-arrow:before {color: black;}#sk-container-id-1 div.sk-toggleable__content {max-height: 0;max-width: 0;overflow: hidden;text-align: left;background-color: #f0f8ff;}#sk-container-id-1 div.sk-toggleable__content pre {margin: 0.2em;color: black;border-radius: 0.25em;background-color: #f0f8ff;}#sk-container-id-1 input.sk-toggleable__control:checked~div.sk-toggleable__content {max-height: 200px;max-width: 100%;overflow: auto;}#sk-container-id-1 input.sk-toggleable__control:checked~label.sk-toggleable__label-arrow:before {content: \"▾\";}#sk-container-id-1 div.sk-estimator input.sk-toggleable__control:checked~label.sk-toggleable__label {background-color: #d4ebff;}#sk-container-id-1 div.sk-label input.sk-toggleable__control:checked~label.sk-toggleable__label {background-color: #d4ebff;}#sk-container-id-1 input.sk-hidden--visually {border: 0;clip: rect(1px 1px 1px 1px);clip: rect(1px, 1px, 1px, 1px);height: 1px;margin: -1px;overflow: hidden;padding: 0;position: absolute;width: 1px;}#sk-container-id-1 div.sk-estimator {font-family: monospace;background-color: #f0f8ff;border: 1px dotted black;border-radius: 0.25em;box-sizing: border-box;margin-bottom: 0.5em;}#sk-container-id-1 div.sk-estimator:hover {background-color: #d4ebff;}#sk-container-id-1 div.sk-parallel-item::after {content: \"\";width: 100%;border-bottom: 1px solid gray;flex-grow: 1;}#sk-container-id-1 div.sk-label:hover label.sk-toggleable__label {background-color: #d4ebff;}#sk-container-id-1 div.sk-serial::before {content: \"\";position: absolute;border-left: 1px solid gray;box-sizing: border-box;top: 0;bottom: 0;left: 50%;z-index: 0;}#sk-container-id-1 div.sk-serial {display: flex;flex-direction: column;align-items: center;background-color: white;padding-right: 0.2em;padding-left: 0.2em;position: relative;}#sk-container-id-1 div.sk-item {position: relative;z-index: 1;}#sk-container-id-1 div.sk-parallel {display: flex;align-items: stretch;justify-content: center;background-color: white;position: relative;}#sk-container-id-1 div.sk-item::before, #sk-container-id-1 div.sk-parallel-item::before {content: \"\";position: absolute;border-left: 1px solid gray;box-sizing: border-box;top: 0;bottom: 0;left: 50%;z-index: -1;}#sk-container-id-1 div.sk-parallel-item {display: flex;flex-direction: column;z-index: 1;position: relative;background-color: white;}#sk-container-id-1 div.sk-parallel-item:first-child::after {align-self: flex-end;width: 50%;}#sk-container-id-1 div.sk-parallel-item:last-child::after {align-self: flex-start;width: 50%;}#sk-container-id-1 div.sk-parallel-item:only-child::after {width: 0;}#sk-container-id-1 div.sk-dashed-wrapped {border: 1px dashed gray;margin: 0 0.4em 0.5em 0.4em;box-sizing: border-box;padding-bottom: 0.4em;background-color: white;}#sk-container-id-1 div.sk-label label {font-family: monospace;font-weight: bold;display: inline-block;line-height: 1.2em;}#sk-container-id-1 div.sk-label-container {text-align: center;}#sk-container-id-1 div.sk-container {/* jupyter's `normalize.less` sets `[hidden] { display: none; }` but bootstrap.min.css set `[hidden] { display: none !important; }` so we also need the `!important` here to be able to override the default hidden behavior on the sphinx rendered scikit-learn.org. See: https://github.com/scikit-learn/scikit-learn/issues/21755 */display: inline-block !important;position: relative;}#sk-container-id-1 div.sk-text-repr-fallback {display: none;}</style><div id=\"sk-container-id-1\" class=\"sk-top-container\"><div class=\"sk-text-repr-fallback\"><pre>CountVectorizer(min_df=5,\n",
       "                stop_words=[&#x27;i&#x27;, &#x27;me&#x27;, &#x27;my&#x27;, &#x27;myself&#x27;, &#x27;we&#x27;, &#x27;our&#x27;, &#x27;ours&#x27;,\n",
       "                            &#x27;ourselves&#x27;, &#x27;you&#x27;, &quot;you&#x27;re&quot;, &quot;you&#x27;ve&quot;, &quot;you&#x27;ll&quot;,\n",
       "                            &quot;you&#x27;d&quot;, &#x27;your&#x27;, &#x27;yours&#x27;, &#x27;yourself&#x27;, &#x27;yourselves&#x27;,\n",
       "                            &#x27;he&#x27;, &#x27;him&#x27;, &#x27;his&#x27;, &#x27;himself&#x27;, &#x27;she&#x27;, &quot;she&#x27;s&quot;,\n",
       "                            &#x27;her&#x27;, &#x27;hers&#x27;, &#x27;herself&#x27;, &#x27;it&#x27;, &quot;it&#x27;s&quot;, &#x27;its&#x27;,\n",
       "                            &#x27;itself&#x27;, ...],\n",
       "                tokenizer=&lt;__main__.LemmaTokenizer object at 0x0000027328D07280&gt;)</pre><b>In a Jupyter environment, please rerun this cell to show the HTML representation or trust the notebook. <br />On GitHub, the HTML representation is unable to render, please try loading this page with nbviewer.org.</b></div><div class=\"sk-container\" hidden><div class=\"sk-item\"><div class=\"sk-estimator sk-toggleable\"><input class=\"sk-toggleable__control sk-hidden--visually\" id=\"sk-estimator-id-1\" type=\"checkbox\" checked><label for=\"sk-estimator-id-1\" class=\"sk-toggleable__label sk-toggleable__label-arrow\">CountVectorizer</label><div class=\"sk-toggleable__content\"><pre>CountVectorizer(min_df=5,\n",
       "                stop_words=[&#x27;i&#x27;, &#x27;me&#x27;, &#x27;my&#x27;, &#x27;myself&#x27;, &#x27;we&#x27;, &#x27;our&#x27;, &#x27;ours&#x27;,\n",
       "                            &#x27;ourselves&#x27;, &#x27;you&#x27;, &quot;you&#x27;re&quot;, &quot;you&#x27;ve&quot;, &quot;you&#x27;ll&quot;,\n",
       "                            &quot;you&#x27;d&quot;, &#x27;your&#x27;, &#x27;yours&#x27;, &#x27;yourself&#x27;, &#x27;yourselves&#x27;,\n",
       "                            &#x27;he&#x27;, &#x27;him&#x27;, &#x27;his&#x27;, &#x27;himself&#x27;, &#x27;she&#x27;, &quot;she&#x27;s&quot;,\n",
       "                            &#x27;her&#x27;, &#x27;hers&#x27;, &#x27;herself&#x27;, &#x27;it&#x27;, &quot;it&#x27;s&quot;, &#x27;its&#x27;,\n",
       "                            &#x27;itself&#x27;, ...],\n",
       "                tokenizer=&lt;__main__.LemmaTokenizer object at 0x0000027328D07280&gt;)</pre></div></div></div></div></div>"
      ],
      "text/plain": [
       "CountVectorizer(min_df=5,\n",
       "                stop_words=['i', 'me', 'my', 'myself', 'we', 'our', 'ours',\n",
       "                            'ourselves', 'you', \"you're\", \"you've\", \"you'll\",\n",
       "                            \"you'd\", 'your', 'yours', 'yourself', 'yourselves',\n",
       "                            'he', 'him', 'his', 'himself', 'she', \"she's\",\n",
       "                            'her', 'hers', 'herself', 'it', \"it's\", 'its',\n",
       "                            'itself', ...],\n",
       "                tokenizer=<__main__.LemmaTokenizer object at 0x0000027328D07280>)"
      ]
     },
     "execution_count": 10,
     "metadata": {},
     "output_type": "execute_result"
    }
   ],
   "source": [
    "cv=CountVectorizer(tokenizer=LemmaTokenizer(),stop_words=customized_stop_words,min_df=5)\n",
    "cv.fit(df['text'])"
   ]
  },
  {
   "cell_type": "code",
   "execution_count": 11,
   "id": "a279c6c7-c88a-4ab8-8eb7-bad2cd756628",
   "metadata": {},
   "outputs": [
    {
     "name": "stderr",
     "output_type": "stream",
     "text": [
      "C:\\Users\\Cathy\\anaconda3\\lib\\site-packages\\sklearn\\utils\\deprecation.py:87: FutureWarning: Function get_feature_names is deprecated; get_feature_names is deprecated in 1.0 and will be removed in 1.2. Please use get_feature_names_out instead.\n",
      "  warnings.warn(msg, category=FutureWarning)\n"
     ]
    }
   ],
   "source": [
    "text_cv=cv.transform(df['text'])\n",
    "text_df=pd.DataFrame(text_cv.todense(),columns=cv.get_feature_names())"
   ]
  },
  {
   "cell_type": "code",
   "execution_count": 12,
   "id": "9f6b069f-6221-4eb4-af5c-363c5e892031",
   "metadata": {},
   "outputs": [
    {
     "data": {
      "text/plain": [
       "stock      8089\n",
       "market     5608\n",
       "year       4745\n",
       "company    4227\n",
       "share      3280\n",
       "time       3184\n",
       "price      3076\n",
       "money      2465\n",
       "short      2118\n",
       "going      2111\n",
       "dtype: int64"
      ]
     },
     "execution_count": 12,
     "metadata": {},
     "output_type": "execute_result"
    }
   ],
   "source": [
    "# most common words in the entire dataset\n",
    "text_df.sum().sort_values(ascending=False).head(10)"
   ]
  },
  {
   "cell_type": "markdown",
   "id": "9d191eb9-b97d-4e92-9bf4-26eef3e0ecf9",
   "metadata": {},
   "source": [
    "The results look legit for subreddits like stocks and wallstreetbet. But as the most common words obtained above are from both subreddit groups, we need to further seperate the two label groups to re-generate the results."
   ]
  },
  {
   "cell_type": "code",
   "execution_count": 13,
   "id": "cad54e89-2c1f-45fb-ab7a-e83f4af47c2a",
   "metadata": {},
   "outputs": [
    {
     "name": "stderr",
     "output_type": "stream",
     "text": [
      "C:\\Users\\Cathy\\anaconda3\\lib\\site-packages\\sklearn\\utils\\deprecation.py:87: FutureWarning: Function get_feature_names is deprecated; get_feature_names is deprecated in 1.0 and will be removed in 1.2. Please use get_feature_names_out instead.\n",
      "  warnings.warn(msg, category=FutureWarning)\n"
     ]
    },
    {
     "data": {
      "text/plain": [
       "stock       3365\n",
       "market      1971\n",
       "year        1683\n",
       "company     1632\n",
       "share       1050\n",
       "time         971\n",
       "price        960\n",
       "rate         787\n",
       "growth       724\n",
       "good         631\n",
       "money        627\n",
       "earnings     589\n",
       "people       581\n",
       "going        540\n",
       "week         522\n",
       "dtype: int64"
      ]
     },
     "execution_count": 13,
     "metadata": {},
     "output_type": "execute_result"
    }
   ],
   "source": [
    "text_cv_stock=cv.transform(df[df['label']=='stock']['text'])\n",
    "text_df_stock=pd.DataFrame(text_cv_stock.todense(),columns=cv.get_feature_names())\n",
    "text_df_stock.sum().sort_values(ascending=False).head(15)"
   ]
  },
  {
   "cell_type": "code",
   "execution_count": 14,
   "id": "1c20cff8-08e4-4a96-ba13-47977b5ea259",
   "metadata": {},
   "outputs": [
    {
     "data": {
      "image/png": "[encoded data removed]",
      "text/plain": [
       "<Figure size 640x480 with 1 Axes>"
      ]
     },
     "metadata": {},
     "output_type": "display_data"
    }
   ],
   "source": [
    "text_df_stock.sum().sort_values(ascending=False).head(15).plot(kind='barh',title='Top words from Stock subreddit').invert_yaxis()"
   ]
  },
  {
   "cell_type": "code",
   "execution_count": 15,
   "id": "3ec53c07-921a-4fe7-9c4b-8ab3e9961d6d",
   "metadata": {},
   "outputs": [
    {
     "name": "stderr",
     "output_type": "stream",
     "text": [
      "C:\\Users\\Cathy\\anaconda3\\lib\\site-packages\\sklearn\\utils\\deprecation.py:87: FutureWarning: Function get_feature_names is deprecated; get_feature_names is deprecated in 1.0 and will be removed in 1.2. Please use get_feature_names_out instead.\n",
      "  warnings.warn(msg, category=FutureWarning)\n"
     ]
    },
    {
     "data": {
      "text/plain": [
       "stock      4724\n",
       "market     3637\n",
       "year       3062\n",
       "company    2595\n",
       "share      2230\n",
       "time       2213\n",
       "price      2116\n",
       "short      1862\n",
       "money      1838\n",
       "going      1571\n",
       "call       1443\n",
       "make       1429\n",
       "option     1353\n",
       "last       1298\n",
       "good       1245\n",
       "dtype: int64"
      ]
     },
     "execution_count": 15,
     "metadata": {},
     "output_type": "execute_result"
    }
   ],
   "source": [
    "text_cv_wallstreetbet=cv.transform(df[df['label']=='wallstreetbet']['text'])\n",
    "text_df_wallstreetbet=pd.DataFrame(text_cv_wallstreetbet.todense(),columns=cv.get_feature_names())\n",
    "text_df_wallstreetbet.sum().sort_values(ascending=False).head(15)"
   ]
  },
  {
   "cell_type": "code",
   "execution_count": 16,
   "id": "eb42cb29-0498-44a7-8e4e-bc5b28cf8351",
   "metadata": {},
   "outputs": [
    {
     "data": {
      "image/png": "[encoded data removed]",
      "text/plain": [
       "<Figure size 640x480 with 1 Axes>"
      ]
     },
     "metadata": {},
     "output_type": "display_data"
    }
   ],
   "source": [
    "text_df_wallstreetbet.sum().sort_values(ascending=False).head(15).plot(kind='barh',title='Top words from Wallstreetbet subreddit').invert_yaxis()"
   ]
  },
  {
   "cell_type": "markdown",
   "id": "e590daf5-0259-4c9f-a155-8ead5a8e50db",
   "metadata": {},
   "source": [
    "* Next, top frequency Bigrams are explored."
   ]
  },
  {
   "cell_type": "code",
   "execution_count": 13,
   "id": "5af562c8-4b02-411d-a9fe-de796971d575",
   "metadata": {},
   "outputs": [
    {
     "name": "stderr",
     "output_type": "stream",
     "text": [
      "C:\\Users\\Cathy\\anaconda3\\lib\\site-packages\\sklearn\\feature_extraction\\text.py:524: UserWarning: The parameter 'token_pattern' will not be used since 'tokenizer' is not None'\n",
      "  warnings.warn(\n",
      "C:\\Users\\Cathy\\anaconda3\\lib\\site-packages\\sklearn\\feature_extraction\\text.py:404: UserWarning: Your stop_words may be inconsistent with your preprocessing. Tokenizing the stop words generated tokens ['could', 'doe', 'might', 'must', 'need'] not in stop_words.\n",
      "  warnings.warn(\n"
     ]
    },
    {
     "data": {
      "text/html": [
       "<style>#sk-container-id-1 {color: black;background-color: white;}#sk-container-id-1 pre{padding: 0;}#sk-container-id-1 div.sk-toggleable {background-color: white;}#sk-container-id-1 label.sk-toggleable__label {cursor: pointer;display: block;width: 100%;margin-bottom: 0;padding: 0.3em;box-sizing: border-box;text-align: center;}#sk-container-id-1 label.sk-toggleable__label-arrow:before {content: \"▸\";float: left;margin-right: 0.25em;color: #696969;}#sk-container-id-1 label.sk-toggleable__label-arrow:hover:before {color: black;}#sk-container-id-1 div.sk-estimator:hover label.sk-toggleable__label-arrow:before {color: black;}#sk-container-id-1 div.sk-toggleable__content {max-height: 0;max-width: 0;overflow: hidden;text-align: left;background-color: #f0f8ff;}#sk-container-id-1 div.sk-toggleable__content pre {margin: 0.2em;color: black;border-radius: 0.25em;background-color: #f0f8ff;}#sk-container-id-1 input.sk-toggleable__control:checked~div.sk-toggleable__content {max-height: 200px;max-width: 100%;overflow: auto;}#sk-container-id-1 input.sk-toggleable__control:checked~label.sk-toggleable__label-arrow:before {content: \"▾\";}#sk-container-id-1 div.sk-estimator input.sk-toggleable__control:checked~label.sk-toggleable__label {background-color: #d4ebff;}#sk-container-id-1 div.sk-label input.sk-toggleable__control:checked~label.sk-toggleable__label {background-color: #d4ebff;}#sk-container-id-1 input.sk-hidden--visually {border: 0;clip: rect(1px 1px 1px 1px);clip: rect(1px, 1px, 1px, 1px);height: 1px;margin: -1px;overflow: hidden;padding: 0;position: absolute;width: 1px;}#sk-container-id-1 div.sk-estimator {font-family: monospace;background-color: #f0f8ff;border: 1px dotted black;border-radius: 0.25em;box-sizing: border-box;margin-bottom: 0.5em;}#sk-container-id-1 div.sk-estimator:hover {background-color: #d4ebff;}#sk-container-id-1 div.sk-parallel-item::after {content: \"\";width: 100%;border-bottom: 1px solid gray;flex-grow: 1;}#sk-container-id-1 div.sk-label:hover label.sk-toggleable__label {background-color: #d4ebff;}#sk-container-id-1 div.sk-serial::before {content: \"\";position: absolute;border-left: 1px solid gray;box-sizing: border-box;top: 0;bottom: 0;left: 50%;z-index: 0;}#sk-container-id-1 div.sk-serial {display: flex;flex-direction: column;align-items: center;background-color: white;padding-right: 0.2em;padding-left: 0.2em;position: relative;}#sk-container-id-1 div.sk-item {position: relative;z-index: 1;}#sk-container-id-1 div.sk-parallel {display: flex;align-items: stretch;justify-content: center;background-color: white;position: relative;}#sk-container-id-1 div.sk-item::before, #sk-container-id-1 div.sk-parallel-item::before {content: \"\";position: absolute;border-left: 1px solid gray;box-sizing: border-box;top: 0;bottom: 0;left: 50%;z-index: -1;}#sk-container-id-1 div.sk-parallel-item {display: flex;flex-direction: column;z-index: 1;position: relative;background-color: white;}#sk-container-id-1 div.sk-parallel-item:first-child::after {align-self: flex-end;width: 50%;}#sk-container-id-1 div.sk-parallel-item:last-child::after {align-self: flex-start;width: 50%;}#sk-container-id-1 div.sk-parallel-item:only-child::after {width: 0;}#sk-container-id-1 div.sk-dashed-wrapped {border: 1px dashed gray;margin: 0 0.4em 0.5em 0.4em;box-sizing: border-box;padding-bottom: 0.4em;background-color: white;}#sk-container-id-1 div.sk-label label {font-family: monospace;font-weight: bold;display: inline-block;line-height: 1.2em;}#sk-container-id-1 div.sk-label-container {text-align: center;}#sk-container-id-1 div.sk-container {/* jupyter's `normalize.less` sets `[hidden] { display: none; }` but bootstrap.min.css set `[hidden] { display: none !important; }` so we also need the `!important` here to be able to override the default hidden behavior on the sphinx rendered scikit-learn.org. See: https://github.com/scikit-learn/scikit-learn/issues/21755 */display: inline-block !important;position: relative;}#sk-container-id-1 div.sk-text-repr-fallback {display: none;}</style><div id=\"sk-container-id-1\" class=\"sk-top-container\"><div class=\"sk-text-repr-fallback\"><pre>CountVectorizer(ngram_range=(2, 2),\n",
       "                stop_words=[&#x27;i&#x27;, &#x27;me&#x27;, &#x27;my&#x27;, &#x27;myself&#x27;, &#x27;we&#x27;, &#x27;our&#x27;, &#x27;ours&#x27;,\n",
       "                            &#x27;ourselves&#x27;, &#x27;you&#x27;, &quot;you&#x27;re&quot;, &quot;you&#x27;ve&quot;, &quot;you&#x27;ll&quot;,\n",
       "                            &quot;you&#x27;d&quot;, &#x27;your&#x27;, &#x27;yours&#x27;, &#x27;yourself&#x27;, &#x27;yourselves&#x27;,\n",
       "                            &#x27;he&#x27;, &#x27;him&#x27;, &#x27;his&#x27;, &#x27;himself&#x27;, &#x27;she&#x27;, &quot;she&#x27;s&quot;,\n",
       "                            &#x27;her&#x27;, &#x27;hers&#x27;, &#x27;herself&#x27;, &#x27;it&#x27;, &quot;it&#x27;s&quot;, &#x27;its&#x27;,\n",
       "                            &#x27;itself&#x27;, ...],\n",
       "                tokenizer=&lt;__main__.LemmaTokenizer object at 0x0000024963192220&gt;)</pre><b>In a Jupyter environment, please rerun this cell to show the HTML representation or trust the notebook. <br />On GitHub, the HTML representation is unable to render, please try loading this page with nbviewer.org.</b></div><div class=\"sk-container\" hidden><div class=\"sk-item\"><div class=\"sk-estimator sk-toggleable\"><input class=\"sk-toggleable__control sk-hidden--visually\" id=\"sk-estimator-id-1\" type=\"checkbox\" checked><label for=\"sk-estimator-id-1\" class=\"sk-toggleable__label sk-toggleable__label-arrow\">CountVectorizer</label><div class=\"sk-toggleable__content\"><pre>CountVectorizer(ngram_range=(2, 2),\n",
       "                stop_words=[&#x27;i&#x27;, &#x27;me&#x27;, &#x27;my&#x27;, &#x27;myself&#x27;, &#x27;we&#x27;, &#x27;our&#x27;, &#x27;ours&#x27;,\n",
       "                            &#x27;ourselves&#x27;, &#x27;you&#x27;, &quot;you&#x27;re&quot;, &quot;you&#x27;ve&quot;, &quot;you&#x27;ll&quot;,\n",
       "                            &quot;you&#x27;d&quot;, &#x27;your&#x27;, &#x27;yours&#x27;, &#x27;yourself&#x27;, &#x27;yourselves&#x27;,\n",
       "                            &#x27;he&#x27;, &#x27;him&#x27;, &#x27;his&#x27;, &#x27;himself&#x27;, &#x27;she&#x27;, &quot;she&#x27;s&quot;,\n",
       "                            &#x27;her&#x27;, &#x27;hers&#x27;, &#x27;herself&#x27;, &#x27;it&#x27;, &quot;it&#x27;s&quot;, &#x27;its&#x27;,\n",
       "                            &#x27;itself&#x27;, ...],\n",
       "                tokenizer=&lt;__main__.LemmaTokenizer object at 0x0000024963192220&gt;)</pre></div></div></div></div></div>"
      ],
      "text/plain": [
       "CountVectorizer(ngram_range=(2, 2),\n",
       "                stop_words=['i', 'me', 'my', 'myself', 'we', 'our', 'ours',\n",
       "                            'ourselves', 'you', \"you're\", \"you've\", \"you'll\",\n",
       "                            \"you'd\", 'your', 'yours', 'yourself', 'yourselves',\n",
       "                            'he', 'him', 'his', 'himself', 'she', \"she's\",\n",
       "                            'her', 'hers', 'herself', 'it', \"it's\", 'its',\n",
       "                            'itself', ...],\n",
       "                tokenizer=<__main__.LemmaTokenizer object at 0x0000024963192220>)"
      ]
     },
     "execution_count": 13,
     "metadata": {},
     "output_type": "execute_result"
    }
   ],
   "source": [
    "cv_bigrams = CountVectorizer(tokenizer=LemmaTokenizer(),ngram_range=(2, 2), stop_words=customized_stop_words)\n",
    "cv_bigrams.fit(df['text'])"
   ]
  },
  {
   "cell_type": "code",
   "execution_count": 34,
   "id": "27ab1038-5a20-4248-864b-9caa968fc375",
   "metadata": {},
   "outputs": [],
   "source": [
    "bigrams_cv_stock = cv_bigrams.transform((df[df['label']=='stock'])['text'])"
   ]
  },
  {
   "cell_type": "code",
   "execution_count": 36,
   "id": "5a5e9221-8829-48dc-bdfc-0f26620965a6",
   "metadata": {},
   "outputs": [
    {
     "name": "stderr",
     "output_type": "stream",
     "text": [
      "C:\\Users\\Cathy\\anaconda3\\lib\\site-packages\\sklearn\\utils\\deprecation.py:87: FutureWarning: Function get_feature_names is deprecated; get_feature_names is deprecated in 1.0 and will be removed in 1.2. Please use get_feature_names_out instead.\n",
      "  warnings.warn(msg, category=FutureWarning)\n"
     ]
    }
   ],
   "source": [
    "bigrams_df_stock=pd.DataFrame(bigrams_cv_stock.todense(),columns=cv_bigrams.get_feature_names())"
   ]
  },
  {
   "cell_type": "code",
   "execution_count": 37,
   "id": "c6891b6e-87aa-47ab-863f-481c71594710",
   "metadata": {},
   "outputs": [
    {
     "data": {
      "text/plain": [
       "interest rate      261\n",
       "stock market       228\n",
       "last year          196\n",
       "long term          187\n",
       "next year          132\n",
       "rate hike          130\n",
       "growth stock       120\n",
       "click chart        120\n",
       "stock price        116\n",
       "federal reserve    102\n",
       "meme stock          98\n",
       "stock quote         95\n",
       "stock symbol        95\n",
       "chart click         95\n",
       "live stock          95\n",
       "dtype: int64"
      ]
     },
     "execution_count": 37,
     "metadata": {},
     "output_type": "execute_result"
    }
   ],
   "source": [
    "bigrams_df_stock.sum().sort_values(ascending=False).head(15)"
   ]
  },
  {
   "cell_type": "code",
   "execution_count": 38,
   "id": "9faf1fe4-b8c3-4258-a473-00643cb6cfd2",
   "metadata": {},
   "outputs": [
    {
     "data": {
      "image/png": "[encoded data removed]",
      "text/plain": [
       "<Figure size 640x480 with 1 Axes>"
      ]
     },
     "metadata": {},
     "output_type": "display_data"
    }
   ],
   "source": [
    "bigrams_df_stock.sum().sort_values(ascending=False).head(15).plot(kind='barh',title='Top 15 bigrams in Stock subreddit').invert_yaxis()"
   ]
  },
  {
   "cell_type": "code",
   "execution_count": 118,
   "id": "df258514-4b06-4448-99ed-5db2c3aa3098",
   "metadata": {},
   "outputs": [],
   "source": [
    "bigrams_cv_wallstreetbet = cv_bigrams.transform((df[df['label']=='wallstreetbet'])['text'])"
   ]
  },
  {
   "cell_type": "code",
   "execution_count": 14,
   "id": "83d5049c-6252-4728-a2e3-959f98b98473",
   "metadata": {},
   "outputs": [
    {
     "name": "stderr",
     "output_type": "stream",
     "text": [
      "C:\\Users\\Cathy\\anaconda3\\lib\\site-packages\\sklearn\\utils\\deprecation.py:87: FutureWarning: Function get_feature_names is deprecated; get_feature_names is deprecated in 1.0 and will be removed in 1.2. Please use get_feature_names_out instead.\n",
      "  warnings.warn(msg, category=FutureWarning)\n"
     ]
    }
   ],
   "source": [
    "bigrams_df_wallstreetbet=pd.DataFrame(bigrams_cv_wallstreetbet.todense(),columns=cv_bigrams.get_feature_names())"
   ]
  },
  {
   "cell_type": "code",
   "execution_count": 33,
   "id": "323c0454-1a97-4f89-95a2-79b8351071e0",
   "metadata": {},
   "outputs": [
    {
     "data": {
      "text/plain": [
       "stock market      836\n",
       "interest rate     430\n",
       "last year         398\n",
       "price target      311\n",
       "stock price       312\n",
       "short interest    313\n",
       "last week         281\n",
       "hedge fund        271\n",
       "market crash      261\n",
       "wall street       262\n",
       "loss porn         263\n",
       "wife boyfriend    253\n",
       "fourth quarter    243\n",
       "united state      233\n",
       "next week         234\n",
       "dtype: int64"
      ]
     },
     "execution_count": 33,
     "metadata": {},
     "output_type": "execute_result"
    }
   ],
   "source": [
    "bigrams_df_wallstreetbet.sum().sort_values(ascending=False).head(15)"
   ]
  },
  {
   "cell_type": "code",
   "execution_count": 34,
   "id": "63eb08b0-f745-49f6-9a46-be73af97321b",
   "metadata": {},
   "outputs": [
    {
     "data": {
      "image/png": "[encoded data removed]",
      "text/plain": [
       "<Figure size 640x480 with 1 Axes>"
      ]
     },
     "metadata": {},
     "output_type": "display_data"
    }
   ],
   "source": [
    "bigrams_df_wallstreetbet.sum().sort_values(ascending=False).head(15).plot(kind='barh',title='Top 15 bigrams in Wallstreetbet subreddit').invert_yaxis()"
   ]
  },
  {
   "cell_type": "markdown",
   "id": "b221903f-d7cb-4c44-8252-fef7c7867bf7",
   "metadata": {},
   "source": [
    "From the top occurance words, the collection of top occuring words in unigrams for each group overlap quite a lot, there are two major difference observable at this stage: \n",
    "* The ranking of each specific word differs in unigrams;\n",
    "* The bigrams show quite different combinations of words picked up by the countvectorizer. \n",
    "* There are more technical terms coming up in r/Stocks, such as 'rate hike', 'chart' that suggest there are more technical analysis in the r/stocks.\n",
    "\n",
    "These differences suggest there is enough difference between the two groups to be learnt by the classification model in later steps, and the problem is decipherable through NLP."
   ]
  },
  {
   "cell_type": "code",
   "execution_count": null,
   "id": "bb6d921e-e4ff-476e-89ff-5b17c72c24e6",
   "metadata": {},
   "outputs": [],
   "source": []
  }
 ],
 "metadata": {
  "kernelspec": {
   "display_name": "Python 3 (ipykernel)",
   "language": "python",
   "name": "python3"
  },
  "language_info": {
   "codemirror_mode": {
    "name": "ipython",
    "version": 3
   },
   "file_extension": ".py",
   "mimetype": "text/x-python",
   "name": "python",
   "nbconvert_exporter": "python",
   "pygments_lexer": "ipython3",
   "version": "3.9.13"
  }
 },
 "nbformat": 4,
 "nbformat_minor": 5
}
