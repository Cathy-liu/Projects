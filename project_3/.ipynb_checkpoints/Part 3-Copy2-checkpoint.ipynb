{
 "cells": [
  {
   "cell_type": "markdown",
   "id": "701f380a-3508-40c7-97d8-60c3d54b4f05",
   "metadata": {},
   "source": [
    "<img src=\"http://imgur.com/1ZcRyrc.png\" style=\"float: left; margin: 20px; height: 55px\">\n",
    "\n",
    "# Project 3: NPL on Intermittent Fasting and Keto Diet\n",
    "\n",
    "---"
   ]
  },
  {
   "cell_type": "markdown",
   "id": "fe0478b0-a8f6-4052-bb72-28d2f96e6e52",
   "metadata": {},
   "source": [
    "# Part 3: Modelling"
   ]
  },
  {
   "cell_type": "code",
   "execution_count": 1,
   "id": "830babb7-b153-4e01-aa3e-b3028668070a",
   "metadata": {},
   "outputs": [],
   "source": [
    "# Import libaries\n",
    "import matplotlib.pyplot as plt\n",
    "import pandas as pd\n",
    "import seaborn as sns\n",
    "import numpy as np\n",
    "\n",
    "from sklearn.feature_extraction.text import CountVectorizer, TfidfVectorizer\n",
    "from nltk.stem import WordNetLemmatizer\n",
    "from nltk.stem.porter import PorterStemmer\n",
    "from nltk.corpus import stopwords\n",
    "from sklearn.pipeline import Pipeline\n",
    "from sklearn.ensemble import GradientBoostingClassifier, AdaBoostClassifier, VotingClassifier\n",
    "from sklearn.model_selection import train_test_split, GridSearchCV\n",
    "from sklearn.ensemble import RandomForestClassifier, ExtraTreesClassifier\n",
    "from sklearn.preprocessing import StandardScaler\n",
    "from sklearn.neighbors import KNeighborsClassifier\n",
    "from sklearn.naive_bayes import MultinomialNB\n",
    "from sklearn.linear_model import LogisticRegression\n",
    "from sklearn.metrics import confusion_matrix, plot_confusion_matrix, classification_report, ConfusionMatrixDisplay, f1_score\n",
    "\n",
    "import warnings\n",
    "warnings.simplefilter(\"ignore\")"
   ]
  },
  {
   "cell_type": "code",
   "execution_count": 2,
   "id": "0923955d-6fb3-405e-821a-4ced2def7ac8",
   "metadata": {},
   "outputs": [],
   "source": [
    "# We are dealing with large data sets, so setting max number of column and row displays to be unlimited\n",
    "pd.set_option('display.max_columns', None)\n",
    "pd.set_option('display.max_rows', None)"
   ]
  },
  {
   "cell_type": "code",
   "execution_count": 3,
   "id": "868b23e8-5d25-43d2-a7f0-fd29849bf3f4",
   "metadata": {},
   "outputs": [],
   "source": [
    "# Reading in the cleaned data\n",
    "df = pd.read_csv('data/subreddit_cleaned.csv')"
   ]
  },
  {
   "cell_type": "code",
   "execution_count": 4,
   "id": "56ad77fe-b8e8-48fc-9101-5e8f119e35cb",
   "metadata": {},
   "outputs": [
    {
     "data": {
      "text/html": [
       "<div>\n",
       "<style scoped>\n",
       "    .dataframe tbody tr th:only-of-type {\n",
       "        vertical-align: middle;\n",
       "    }\n",
       "\n",
       "    .dataframe tbody tr th {\n",
       "        vertical-align: top;\n",
       "    }\n",
       "\n",
       "    .dataframe thead th {\n",
       "        text-align: right;\n",
       "    }\n",
       "</style>\n",
       "<table border=\"1\" class=\"dataframe\">\n",
       "  <thead>\n",
       "    <tr style=\"text-align: right;\">\n",
       "      <th></th>\n",
       "      <th>title</th>\n",
       "      <th>selftext</th>\n",
       "      <th>subreddit</th>\n",
       "      <th>created_utc</th>\n",
       "      <th>post_word_count</th>\n",
       "      <th>post_length</th>\n",
       "      <th>clean_text</th>\n",
       "    </tr>\n",
       "  </thead>\n",
       "  <tbody>\n",
       "    <tr>\n",
       "      <th>0</th>\n",
       "      <td>Plateau sruggles</td>\n",
       "      <td>I (27F) have been intermittent fasting for abo...</td>\n",
       "      <td>0</td>\n",
       "      <td>1625589667</td>\n",
       "      <td>123</td>\n",
       "      <td>660</td>\n",
       "      <td>27f intermittent fasting 2 months starting wei...</td>\n",
       "    </tr>\n",
       "    <tr>\n",
       "      <th>1</th>\n",
       "      <td>Can I still do IF/OMAD now that I started exer...</td>\n",
       "      <td>I started lifting 4x/week (about 40 minutes), ...</td>\n",
       "      <td>0</td>\n",
       "      <td>1625586042</td>\n",
       "      <td>127</td>\n",
       "      <td>679</td>\n",
       "      <td>started lifting 4xweek 40 minutes well taking ...</td>\n",
       "    </tr>\n",
       "    <tr>\n",
       "      <th>2</th>\n",
       "      <td>A new mindset</td>\n",
       "      <td>Hello everyone,\\n\\n  I am a mostly lurker here...</td>\n",
       "      <td>0</td>\n",
       "      <td>1625584307</td>\n",
       "      <td>182</td>\n",
       "      <td>929</td>\n",
       "      <td>hello everyone mostly lurker reddit first id l...</td>\n",
       "    </tr>\n",
       "    <tr>\n",
       "      <th>3</th>\n",
       "      <td>Weekend habits are making it difficult to loos...</td>\n",
       "      <td>Hi everyone,\\n\\nI have been doing IF (16:8) fo...</td>\n",
       "      <td>0</td>\n",
       "      <td>1625582039</td>\n",
       "      <td>110</td>\n",
       "      <td>569</td>\n",
       "      <td>hi everyone 168 almost 3 years remained consis...</td>\n",
       "    </tr>\n",
       "    <tr>\n",
       "      <th>4</th>\n",
       "      <td>Are these times acceptable for IF?</td>\n",
       "      <td>So, due to loss of employment, family has take...</td>\n",
       "      <td>0</td>\n",
       "      <td>1625582007</td>\n",
       "      <td>167</td>\n",
       "      <td>806</td>\n",
       "      <td>due loss employment family taken bother trying...</td>\n",
       "    </tr>\n",
       "  </tbody>\n",
       "</table>\n",
       "</div>"
      ],
      "text/plain": [
       "                                               title  \\\n",
       "0                                   Plateau sruggles   \n",
       "1  Can I still do IF/OMAD now that I started exer...   \n",
       "2                                      A new mindset   \n",
       "3  Weekend habits are making it difficult to loos...   \n",
       "4                 Are these times acceptable for IF?   \n",
       "\n",
       "                                            selftext  subreddit  created_utc  \\\n",
       "0  I (27F) have been intermittent fasting for abo...          0   1625589667   \n",
       "1  I started lifting 4x/week (about 40 minutes), ...          0   1625586042   \n",
       "2  Hello everyone,\\n\\n  I am a mostly lurker here...          0   1625584307   \n",
       "3  Hi everyone,\\n\\nI have been doing IF (16:8) fo...          0   1625582039   \n",
       "4  So, due to loss of employment, family has take...          0   1625582007   \n",
       "\n",
       "   post_word_count  post_length  \\\n",
       "0              123          660   \n",
       "1              127          679   \n",
       "2              182          929   \n",
       "3              110          569   \n",
       "4              167          806   \n",
       "\n",
       "                                          clean_text  \n",
       "0  27f intermittent fasting 2 months starting wei...  \n",
       "1  started lifting 4xweek 40 minutes well taking ...  \n",
       "2  hello everyone mostly lurker reddit first id l...  \n",
       "3  hi everyone 168 almost 3 years remained consis...  \n",
       "4  due loss employment family taken bother trying...  "
      ]
     },
     "execution_count": 4,
     "metadata": {},
     "output_type": "execute_result"
    }
   ],
   "source": [
    "df.head()"
   ]
  },
  {
   "cell_type": "code",
   "execution_count": 5,
   "id": "c367d16a-7fc2-4111-9147-6d9149c3f088",
   "metadata": {},
   "outputs": [],
   "source": [
    "# Function for lemmatizing\n",
    "def lemmatize_text(text):\n",
    "\n",
    "    # split into words\n",
    "    split_text = text.split()\n",
    "\n",
    "    # instantiate lemmatizer\n",
    "    lemmatizer = WordNetLemmatizer()\n",
    "\n",
    "    # lemmatize and rejoin\n",
    "    return ' '.join([lemmatizer.lemmatize(word) for word in split_text])"
   ]
  },
  {
   "cell_type": "code",
   "execution_count": 6,
   "id": "df6f997a-3819-4ee2-b30f-1ecb5c5adec4",
   "metadata": {},
   "outputs": [],
   "source": [
    "def stem_text(text):\n",
    "\n",
    "    # split into words\n",
    "    split_text = text.split()\n",
    "    \n",
    "    # instantiate stemmer\n",
    "    stemmer = PorterStemmer()\n",
    "\n",
    "    # stem and rejoin\n",
    "    return ' '.join([stemmer.stem(word) for word in split_text])"
   ]
  },
  {
   "cell_type": "markdown",
   "id": "d34ee527-347a-477f-bab4-4ab61b007dd3",
   "metadata": {},
   "source": [
    "## Baseline Model"
   ]
  },
  {
   "cell_type": "code",
   "execution_count": 7,
   "id": "44701b85-2ad8-490d-b6ec-6c0c5cec9bc1",
   "metadata": {},
   "outputs": [
    {
     "data": {
      "text/plain": [
       "1    0.544412\n",
       "0    0.455588\n",
       "Name: subreddit, dtype: float64"
      ]
     },
     "execution_count": 7,
     "metadata": {},
     "output_type": "execute_result"
    }
   ],
   "source": [
    "df['subreddit'].value_counts(normalize = True)"
   ]
  },
  {
   "cell_type": "markdown",
   "id": "42b5f0bf-d13e-405c-a2a7-7a55f610d6fd",
   "metadata": {},
   "source": [
    "Given that we have quite balanced data between both classes, our baseline model accuracy is the probability from our target subreddit -- Keto diet. Our baseline accuracy is 54.4%. Hopefully we can models that score better than this score."
   ]
  },
  {
   "cell_type": "markdown",
   "id": "6a919348-feab-4825-b485-274c95c132fd",
   "metadata": {},
   "source": [
    "## Modelling"
   ]
  },
  {
   "cell_type": "code",
   "execution_count": 8,
   "id": "e6938e14-200e-421b-ac20-ce1a6e2ceb4e",
   "metadata": {},
   "outputs": [],
   "source": [
    "X = df['clean_text']\n",
    "y = df['subreddit']\n",
    "\n",
    "X_train, X_test, y_train, y_test = train_test_split(X, y, random_state = 42, stratify = y)"
   ]
  },
  {
   "cell_type": "code",
   "execution_count": 9,
   "id": "406bc50b-ee2f-462c-af68-991f060987a3",
   "metadata": {},
   "outputs": [
    {
     "name": "stdout",
     "output_type": "stream",
     "text": [
      "(7717,)\n",
      "(2573,)\n"
     ]
    }
   ],
   "source": [
    "print(y_train.shape)\n",
    "print(y_test.shape)"
   ]
  },
  {
   "cell_type": "code",
   "execution_count": 10,
   "id": "5cd5a7a0-5c7f-43a4-b47e-9548a60d5ec9",
   "metadata": {},
   "outputs": [],
   "source": [
    "# Search over the following values of hyperparameters:\n",
    "pipe_params_cvec = {\n",
    "    'cvec__preprocessor' : [None, lemmatize_text, stem_text],\n",
    "    'cvec__max_features': [None, 5_000], # start with CountVectorizer() class' object cvec__CountVectorizer()'s hyperparameter\n",
    "    'cvec__max_df': [.9, .95],\n",
    "    'cvec__ngram_range': [(1,1), (1,2)] # test unigram only (1,1) and unigram+bigram (1,2)\n",
    "} # standard param dict definition for GridSearch CV"
   ]
  },
  {
   "cell_type": "code",
   "execution_count": 11,
   "id": "533de4ab-f12a-469d-afb1-fd8433f07f5b",
   "metadata": {},
   "outputs": [],
   "source": [
    "# Search over the following values of hyperparameters:\n",
    "pipe_params_tvec = {\n",
    "    'tvec__preprocessor' : [None, lemmatize_text, stem_text],\n",
    "    'tvec__max_features': [None, 5_000],\n",
    "    'tvec__max_df': [0.5, 0.9],\n",
    "    'tvec__ngram_range':[(1,1), (1,2)]\n",
    "}"
   ]
  },
  {
   "cell_type": "markdown",
   "id": "7c4027c2-e3b5-40d1-97b1-095bfd32580e",
   "metadata": {},
   "source": [
    "### Multinomial Naive Bayer with Count Vectorizer"
   ]
  },
  {
   "cell_type": "code",
   "execution_count": 12,
   "id": "6ea965f1-e037-43d0-a827-d21325049146",
   "metadata": {},
   "outputs": [],
   "source": [
    "# Let's instantiate a pipeline class with the following 2 as its list items:\n",
    "# 1. CountVectorizer (transformer)\n",
    "# 2. Multinomial Naive Bayes (estimator)\n",
    "\n",
    "pipe_cvec_nb = Pipeline([\n",
    "    ('cvec', CountVectorizer()), # tuple for transformer object, class\n",
    "    ('nb', MultinomialNB()) # tuple for estimator object, class\n",
    "])"
   ]
  },
  {
   "cell_type": "code",
   "execution_count": 13,
   "id": "c32d89e5-c803-4386-b53a-a82a9099a10f",
   "metadata": {},
   "outputs": [],
   "source": [
    "# Instantiate GridSearchCV.\n",
    "\n",
    "gs_cvec_nb = GridSearchCV(pipe_cvec_nb, # the object that we are optimizing\n",
    "                  param_grid=pipe_params_cvec, # what parameters values are we searching?\n",
    "                  cv=5) # 5-fold cross-validation."
   ]
  },
  {
   "cell_type": "code",
   "execution_count": 14,
   "id": "61a28cb3-1038-4329-8980-ec9cfe93c809",
   "metadata": {},
   "outputs": [
    {
     "data": {
      "text/plain": [
       "GridSearchCV(cv=5,\n",
       "             estimator=Pipeline(steps=[('cvec', CountVectorizer()),\n",
       "                                       ('nb', MultinomialNB())]),\n",
       "             param_grid={'cvec__max_df': [0.9, 0.95],\n",
       "                         'cvec__max_features': [None, 5000],\n",
       "                         'cvec__ngram_range': [(1, 1), (1, 2)],\n",
       "                         'cvec__preprocessor': [None,\n",
       "                                                <function lemmatize_text at 0x000001A2D7FE54C0>,\n",
       "                                                <function stem_text at 0x000001A2D7FE5A60>]})"
      ]
     },
     "execution_count": 14,
     "metadata": {},
     "output_type": "execute_result"
    }
   ],
   "source": [
    "gs_cvec_nb.fit(X_train, y_train)"
   ]
  },
  {
   "cell_type": "code",
   "execution_count": 15,
   "id": "341fcfa4-fdae-4a97-86c6-b7e3cc514d4e",
   "metadata": {},
   "outputs": [
    {
     "name": "stdout",
     "output_type": "stream",
     "text": [
      "0.8937402409007419\n"
     ]
    }
   ],
   "source": [
    "print(gs_cvec_nb.best_score_)"
   ]
  },
  {
   "cell_type": "code",
   "execution_count": 16,
   "id": "d3b23a51-e56c-44a3-bd09-372909c53d16",
   "metadata": {},
   "outputs": [
    {
     "data": {
      "text/plain": [
       "{'cvec__max_df': 0.9,\n",
       " 'cvec__max_features': 5000,\n",
       " 'cvec__ngram_range': (1, 2),\n",
       " 'cvec__preprocessor': <function __main__.lemmatize_text(text)>}"
      ]
     },
     "execution_count": 16,
     "metadata": {},
     "output_type": "execute_result"
    }
   ],
   "source": [
    "# best paramter\n",
    "gs_cvec_nb.best_params_ "
   ]
  },
  {
   "cell_type": "code",
   "execution_count": 17,
   "id": "7dc37b98-1297-46c5-b374-6d2d4d5acba8",
   "metadata": {},
   "outputs": [
    {
     "data": {
      "text/plain": [
       "0.9139562005960865"
      ]
     },
     "execution_count": 17,
     "metadata": {},
     "output_type": "execute_result"
    }
   ],
   "source": [
    "# Score model on training set.\n",
    "gs_cvec_nb.score(X_train, y_train)"
   ]
  },
  {
   "cell_type": "code",
   "execution_count": 18,
   "id": "039fb649-568d-4cf4-8939-14595d98aeae",
   "metadata": {},
   "outputs": [
    {
     "data": {
      "text/plain": [
       "0.8834045860862806"
      ]
     },
     "execution_count": 18,
     "metadata": {},
     "output_type": "execute_result"
    }
   ],
   "source": [
    "# Score model on testing set.\n",
    "gs_cvec_nb.score(X_test, y_test)"
   ]
  },
  {
   "cell_type": "code",
   "execution_count": 19,
   "id": "839d0905-03b7-4f6f-920e-3c5568e9336e",
   "metadata": {},
   "outputs": [
    {
     "name": "stdout",
     "output_type": "stream",
     "text": [
      "Specificity: 0.8737201365187713\n",
      "Sensitivity: 0.8915060670949322\n",
      "Precision: 0.8940586972083036\n",
      "F1 SCore: 0.8927805575411009\n"
     ]
    }
   ],
   "source": [
    "# Get predictions\n",
    "y_pred = gs_cvec_nb.predict(X_test)\n",
    "\n",
    "# Save confusion matrix values\n",
    "tn, fp, fn, tp = confusion_matrix(y_test, y_pred).ravel()\n",
    "\n",
    "# Calculate the specificity\n",
    "\n",
    "spec = tn / (tn + fp)\n",
    "sen = tp / (tp + fn)\n",
    "pre = tp / (tp + fp)\n",
    "f1 = f1_score(y_test, y_pred)\n",
    "\n",
    "print('Specificity:', spec)\n",
    "print('Sensitivity:', sen)\n",
    "print('Precision:', pre)\n",
    "print('F1 SCore:', f1)"
   ]
  },
  {
   "cell_type": "code",
   "execution_count": 20,
   "id": "06c421e1-033d-4a93-aec1-ada5eb553a4f",
   "metadata": {},
   "outputs": [
    {
     "data": {
      "image/png": "[encoded data removed]",
      "text/plain": [
       "<Figure size 432x288 with 2 Axes>"
      ]
     },
     "metadata": {
      "needs_background": "light"
     },
     "output_type": "display_data"
    }
   ],
   "source": [
    "# plot confusion matrix\n",
    "cm = confusion_matrix(y_test, y_pred)\n",
    "disp = ConfusionMatrixDisplay(confusion_matrix=cm, display_labels=['fasting', 'keto'])\n",
    "disp.plot();"
   ]
  },
  {
   "cell_type": "markdown",
   "id": "0f50d84b-077d-49ae-8a3f-4ee7b2a0e489",
   "metadata": {},
   "source": [
    "### Multinomial Naive Bayer with TF-IDF Vectorizer"
   ]
  },
  {
   "cell_type": "code",
   "execution_count": 21,
   "id": "58f0ecc8-1039-4b12-b271-fb1de89e61a3",
   "metadata": {},
   "outputs": [],
   "source": [
    "pipe_tvec_nb = Pipeline([\n",
    "    ('tvec', TfidfVectorizer()), # tuple for transformer object, class\n",
    "    ('nb', MultinomialNB()) # tuple for estimator object, class\n",
    "])"
   ]
  },
  {
   "cell_type": "code",
   "execution_count": 22,
   "id": "a69a83ac-fd6b-455b-ae9b-1d06e90370b5",
   "metadata": {},
   "outputs": [],
   "source": [
    "# Instantiate GridSearchCV.\n",
    "\n",
    "gs_tvec_nb = GridSearchCV(pipe_tvec_nb, # the object that we are optimizing\n",
    "                  param_grid=pipe_params_tvec, # what parameters values are we searching?\n",
    "                  cv=5) # 5-fold cross-validation."
   ]
  },
  {
   "cell_type": "code",
   "execution_count": 23,
   "id": "0f317d89-9619-4530-a8b6-f1744e025347",
   "metadata": {},
   "outputs": [
    {
     "data": {
      "text/plain": [
       "GridSearchCV(cv=5,\n",
       "             estimator=Pipeline(steps=[('tvec', TfidfVectorizer()),\n",
       "                                       ('nb', MultinomialNB())]),\n",
       "             param_grid={'tvec__max_df': [0.5, 0.9],\n",
       "                         'tvec__max_features': [None, 5000],\n",
       "                         'tvec__ngram_range': [(1, 1), (1, 2)],\n",
       "                         'tvec__preprocessor': [None,\n",
       "                                                <function lemmatize_text at 0x000001A2D7FE54C0>,\n",
       "                                                <function stem_text at 0x000001A2D7FE5A60>]})"
      ]
     },
     "execution_count": 23,
     "metadata": {},
     "output_type": "execute_result"
    }
   ],
   "source": [
    "gs_tvec_nb.fit(X_train, y_train)"
   ]
  },
  {
   "cell_type": "code",
   "execution_count": 24,
   "id": "4c4d75a2-6cd9-4621-b7cd-685ed0af1cf5",
   "metadata": {},
   "outputs": [
    {
     "name": "stdout",
     "output_type": "stream",
     "text": [
      "0.878060789324343\n"
     ]
    }
   ],
   "source": [
    "print(gs_tvec_nb.best_score_)"
   ]
  },
  {
   "cell_type": "code",
   "execution_count": 25,
   "id": "da34eed1-23c7-49fc-9738-510524f36504",
   "metadata": {},
   "outputs": [
    {
     "data": {
      "text/plain": [
       "{'tvec__max_df': 0.5,\n",
       " 'tvec__max_features': 5000,\n",
       " 'tvec__ngram_range': (1, 2),\n",
       " 'tvec__preprocessor': <function __main__.lemmatize_text(text)>}"
      ]
     },
     "execution_count": 25,
     "metadata": {},
     "output_type": "execute_result"
    }
   ],
   "source": [
    "gs_tvec_nb.best_params_ "
   ]
  },
  {
   "cell_type": "code",
   "execution_count": 26,
   "id": "a1fc23ea-0bb6-4f8e-8a36-39927688f11d",
   "metadata": {},
   "outputs": [
    {
     "data": {
      "text/plain": [
       "0.9100686795386809"
      ]
     },
     "execution_count": 26,
     "metadata": {},
     "output_type": "execute_result"
    }
   ],
   "source": [
    "gs_tvec_nb.score(X_train, y_train)"
   ]
  },
  {
   "cell_type": "code",
   "execution_count": 27,
   "id": "580ce3ff-402a-41fb-9518-55a02c4d103e",
   "metadata": {},
   "outputs": [
    {
     "data": {
      "text/plain": [
       "0.8698017877963466"
      ]
     },
     "execution_count": 27,
     "metadata": {},
     "output_type": "execute_result"
    }
   ],
   "source": [
    "gs_tvec_nb.score(X_test, y_test)"
   ]
  },
  {
   "cell_type": "code",
   "execution_count": 28,
   "id": "01447d07-3399-4579-a823-0bba65d1e9b6",
   "metadata": {},
   "outputs": [
    {
     "name": "stdout",
     "output_type": "stream",
     "text": [
      "Specificity: 0.8336177474402731\n",
      "Sensitivity: 0.9000713775874375\n",
      "Precision: 0.8660714285714286\n",
      "F1 SCore: 0.8827441372068603\n"
     ]
    }
   ],
   "source": [
    "# Get predictions\n",
    "y_pred = gs_tvec_nb.predict(X_test)\n",
    "\n",
    "# Save confusion matrix values\n",
    "tn, fp, fn, tp = confusion_matrix(y_test, y_pred).ravel()\n",
    "\n",
    "# Calculate the specificity\n",
    "\n",
    "spec = tn / (tn + fp)\n",
    "sen = tp / (tp + fn)\n",
    "pre = tp / (tp + fp)\n",
    "f1 = f1_score(y_test, y_pred)\n",
    "\n",
    "print('Specificity:', spec)\n",
    "print('Sensitivity:', sen)\n",
    "print('Precision:', pre)\n",
    "print('F1 SCore:', f1)"
   ]
  },
  {
   "cell_type": "code",
   "execution_count": 29,
   "id": "bd13bf7f-7e4c-4989-ac66-1440d9325437",
   "metadata": {},
   "outputs": [
    {
     "data": {
      "image/png": "[encoded data removed]",
      "text/plain": [
       "<Figure size 432x288 with 2 Axes>"
      ]
     },
     "metadata": {
      "needs_background": "light"
     },
     "output_type": "display_data"
    }
   ],
   "source": [
    "# plot confusion matrix\n",
    "cm = confusion_matrix(y_test, y_pred)\n",
    "disp = ConfusionMatrixDisplay(confusion_matrix=cm, display_labels=['fasting', 'keto'])\n",
    "disp.plot();"
   ]
  },
  {
   "cell_type": "markdown",
   "id": "f36972e4-a3fa-476d-a0ed-834e5fdf45e8",
   "metadata": {},
   "source": [
    "### Logistic Regression with Count Vectorizer"
   ]
  },
  {
   "cell_type": "code",
   "execution_count": 30,
   "id": "61c29d5d-547e-4aff-9a07-3e78bec77479",
   "metadata": {},
   "outputs": [],
   "source": [
    "pipe_cvec_lr = Pipeline([\n",
    "    ('cvec', CountVectorizer()), \n",
    "    ('lr', LogisticRegression()) \n",
    "])"
   ]
  },
  {
   "cell_type": "code",
   "execution_count": 31,
   "id": "8660f266-4c69-4414-8609-0bbb8f93adee",
   "metadata": {},
   "outputs": [],
   "source": [
    "gs_cvec_lr = GridSearchCV(pipe_cvec_lr,\n",
    "                  param_grid=pipe_params_cvec,\n",
    "                  cv=5) "
   ]
  },
  {
   "cell_type": "code",
   "execution_count": 32,
   "id": "d75631f1-fe06-4db2-bd48-27d2f6be0022",
   "metadata": {},
   "outputs": [
    {
     "data": {
      "text/plain": [
       "GridSearchCV(cv=5,\n",
       "             estimator=Pipeline(steps=[('cvec', CountVectorizer()),\n",
       "                                       ('lr', LogisticRegression())]),\n",
       "             param_grid={'cvec__max_df': [0.9, 0.95],\n",
       "                         'cvec__max_features': [None, 5000],\n",
       "                         'cvec__ngram_range': [(1, 1), (1, 2)],\n",
       "                         'cvec__preprocessor': [None,\n",
       "                                                <function lemmatize_text at 0x000001A2D7FE54C0>,\n",
       "                                                <function stem_text at 0x000001A2D7FE5A60>]})"
      ]
     },
     "execution_count": 32,
     "metadata": {},
     "output_type": "execute_result"
    }
   ],
   "source": [
    "gs_cvec_lr.fit(X_train, y_train)"
   ]
  },
  {
   "cell_type": "code",
   "execution_count": 33,
   "id": "06b4ed5e-e3ca-4783-9e0d-779d81a9b26d",
   "metadata": {},
   "outputs": [
    {
     "name": "stdout",
     "output_type": "stream",
     "text": [
      "0.904624595784405\n"
     ]
    }
   ],
   "source": [
    "print(gs_cvec_lr.best_score_)"
   ]
  },
  {
   "cell_type": "code",
   "execution_count": 34,
   "id": "18d3e7d9-c442-420d-ab83-171db8c37443",
   "metadata": {},
   "outputs": [
    {
     "data": {
      "text/plain": [
       "{'cvec__max_df': 0.9,\n",
       " 'cvec__max_features': None,\n",
       " 'cvec__ngram_range': (1, 2),\n",
       " 'cvec__preprocessor': <function __main__.lemmatize_text(text)>}"
      ]
     },
     "execution_count": 34,
     "metadata": {},
     "output_type": "execute_result"
    }
   ],
   "source": [
    "gs_cvec_lr.best_params_ "
   ]
  },
  {
   "cell_type": "code",
   "execution_count": 35,
   "id": "449dfd14-a4d1-4575-a85d-2df1d5b3a84c",
   "metadata": {},
   "outputs": [
    {
     "data": {
      "text/plain": [
       "0.9998704159647531"
      ]
     },
     "execution_count": 35,
     "metadata": {},
     "output_type": "execute_result"
    }
   ],
   "source": [
    "gs_cvec_lr.score(X_train, y_train)"
   ]
  },
  {
   "cell_type": "code",
   "execution_count": 36,
   "id": "48c44b98-51ca-4807-adb7-f50e853f7ff3",
   "metadata": {},
   "outputs": [
    {
     "data": {
      "text/plain": [
       "0.8997279440342013"
      ]
     },
     "execution_count": 36,
     "metadata": {},
     "output_type": "execute_result"
    }
   ],
   "source": [
    "gs_cvec_lr.score(X_test, y_test)"
   ]
  },
  {
   "cell_type": "code",
   "execution_count": 37,
   "id": "e0fc1e38-1e34-48d8-b282-ae9e2d1cb6af",
   "metadata": {},
   "outputs": [
    {
     "name": "stdout",
     "output_type": "stream",
     "text": [
      "Specificity: 0.9138225255972696\n",
      "Sensitivity: 0.887937187723055\n",
      "Precision: 0.924907063197026\n",
      "F1 SCore: 0.9060451565914057\n"
     ]
    }
   ],
   "source": [
    "# Get predictions\n",
    "y_pred = gs_cvec_lr.predict(X_test)\n",
    "\n",
    "# Save confusion matrix values\n",
    "tn, fp, fn, tp = confusion_matrix(y_test, y_pred).ravel()\n",
    "\n",
    "# Calculate the specificity\n",
    "\n",
    "spec = tn / (tn + fp)\n",
    "sen = tp / (tp + fn)\n",
    "pre = tp / (tp + fp)\n",
    "f1 = f1_score(y_test, y_pred)\n",
    "\n",
    "print('Specificity:', spec)\n",
    "print('Sensitivity:', sen)\n",
    "print('Precision:', pre)\n",
    "print('F1 SCore:', f1)"
   ]
  },
  {
   "cell_type": "code",
   "execution_count": 38,
   "id": "1ef5cac7-fa6f-4664-be4c-4fa820865331",
   "metadata": {},
   "outputs": [
    {
     "data": {
      "image/png": "[encoded data removed]",
      "text/plain": [
       "<Figure size 432x288 with 2 Axes>"
      ]
     },
     "metadata": {
      "needs_background": "light"
     },
     "output_type": "display_data"
    }
   ],
   "source": [
    "# plot confusion matrix\n",
    "cm = confusion_matrix(y_test, y_pred)\n",
    "disp = ConfusionMatrixDisplay(confusion_matrix=cm, display_labels=['fasting', 'keto'])\n",
    "disp.plot();"
   ]
  },
  {
   "cell_type": "markdown",
   "id": "3145a0eb-127f-4a2c-ae35-51d4cdf219fa",
   "metadata": {},
   "source": [
    "### Logistic Regression with TF-IDF Vectorizer"
   ]
  },
  {
   "cell_type": "code",
   "execution_count": 39,
   "id": "cf769d97-ee49-44fd-9533-71b2917c5f3f",
   "metadata": {},
   "outputs": [],
   "source": [
    "pipe_tvec_lr = Pipeline([\n",
    "    ('tvec', TfidfVectorizer()), # tuple for transformer object, class\n",
    "    ('lr', LogisticRegression()) # tuple for estimator object, class\n",
    "])"
   ]
  },
  {
   "cell_type": "code",
   "execution_count": 42,
   "id": "0635347e-7cd2-4484-b219-d9ccd48180ca",
   "metadata": {},
   "outputs": [],
   "source": [
    "gs_tvec_lr = GridSearchCV(pipe_tvec_lr,\n",
    "                  param_grid=pipe_params_tvec,\n",
    "                  cv=5) "
   ]
  },
  {
   "cell_type": "code",
   "execution_count": 43,
   "id": "45a4550f-5022-4465-9f58-53f075408398",
   "metadata": {},
   "outputs": [
    {
     "data": {
      "text/plain": [
       "GridSearchCV(cv=5,\n",
       "             estimator=Pipeline(steps=[('tvec', TfidfVectorizer()),\n",
       "                                       ('lr', LogisticRegression())]),\n",
       "             param_grid={'tvec__max_df': [0.5, 0.9],\n",
       "                         'tvec__max_features': [None, 5000],\n",
       "                         'tvec__ngram_range': [(1, 1), (1, 2)],\n",
       "                         'tvec__preprocessor': [None,\n",
       "                                                <function lemmatize_text at 0x000001A2D7FE54C0>,\n",
       "                                                <function stem_text at 0x000001A2D7FE5A60>]})"
      ]
     },
     "execution_count": 43,
     "metadata": {},
     "output_type": "execute_result"
    }
   ],
   "source": [
    "gs_tvec_lr.fit(X_train, y_train)"
   ]
  },
  {
   "cell_type": "code",
   "execution_count": 44,
   "id": "772ac7f1-edd2-4bca-a4e9-0dae35be7664",
   "metadata": {},
   "outputs": [
    {
     "name": "stdout",
     "output_type": "stream",
     "text": [
      "0.9087694216568893\n"
     ]
    }
   ],
   "source": [
    "print(gs_tvec_lr.best_score_)"
   ]
  },
  {
   "cell_type": "code",
   "execution_count": 45,
   "id": "7411da27-b95a-4e4d-b345-5707f5137de6",
   "metadata": {},
   "outputs": [
    {
     "data": {
      "text/plain": [
       "{'tvec__max_df': 0.5,\n",
       " 'tvec__max_features': 5000,\n",
       " 'tvec__ngram_range': (1, 2),\n",
       " 'tvec__preprocessor': <function __main__.stem_text(text)>}"
      ]
     },
     "execution_count": 45,
     "metadata": {},
     "output_type": "execute_result"
    }
   ],
   "source": [
    "gs_tvec_lr.best_params_ "
   ]
  },
  {
   "cell_type": "code",
   "execution_count": 46,
   "id": "180c6aa6-880c-450b-8e2b-0305e2b1a0c9",
   "metadata": {},
   "outputs": [
    {
     "data": {
      "text/plain": [
       "0.9494622262537256"
      ]
     },
     "execution_count": 46,
     "metadata": {},
     "output_type": "execute_result"
    }
   ],
   "source": [
    "gs_tvec_lr.score(X_train, y_train)"
   ]
  },
  {
   "cell_type": "code",
   "execution_count": 47,
   "id": "f543ab9f-ccd3-430b-8169-4da841293c6a",
   "metadata": {},
   "outputs": [
    {
     "data": {
      "text/plain": [
       "0.9020598523124758"
      ]
     },
     "execution_count": 47,
     "metadata": {},
     "output_type": "execute_result"
    }
   ],
   "source": [
    "gs_tvec_lr.score(X_test, y_test)"
   ]
  },
  {
   "cell_type": "code",
   "execution_count": 48,
   "id": "4708f1c3-84fb-4535-be88-e56eccf6413e",
   "metadata": {},
   "outputs": [
    {
     "name": "stdout",
     "output_type": "stream",
     "text": [
      "Specificity: 0.8907849829351536\n",
      "Sensitivity: 0.9114917915774446\n",
      "Precision: 0.908896797153025\n",
      "F1 SCore: 0.910192444761226\n"
     ]
    }
   ],
   "source": [
    "# Get predictions\n",
    "y_pred = gs_tvec_lr.predict(X_test)\n",
    "\n",
    "# Save confusion matrix values\n",
    "tn, fp, fn, tp = confusion_matrix(y_test, y_pred).ravel()\n",
    "\n",
    "# Calculate the specificity\n",
    "\n",
    "spec = tn / (tn + fp)\n",
    "sen = tp / (tp + fn)\n",
    "pre = tp / (tp + fp)\n",
    "f1 = f1_score(y_test, y_pred)\n",
    "\n",
    "print('Specificity:', spec)\n",
    "print('Sensitivity:', sen)\n",
    "print('Precision:', pre)\n",
    "print('F1 SCore:', f1)"
   ]
  },
  {
   "cell_type": "code",
   "execution_count": 49,
   "id": "8ac18140-5ddd-4cab-9e2a-7d919ba52e70",
   "metadata": {},
   "outputs": [
    {
     "data": {
      "image/png": "[encoded data removed]",
      "text/plain": [
       "<Figure size 432x288 with 2 Axes>"
      ]
     },
     "metadata": {
      "needs_background": "light"
     },
     "output_type": "display_data"
    }
   ],
   "source": [
    "# plot confusion matrix\n",
    "cm = confusion_matrix(y_test, y_pred)\n",
    "disp = ConfusionMatrixDisplay(confusion_matrix=cm, display_labels=['fasting', 'keto'])\n",
    "disp.plot();"
   ]
  },
  {
   "cell_type": "markdown",
   "id": "2bcce763-9d4b-4835-8892-93bf8bfd747c",
   "metadata": {},
   "source": [
    "### KNN with Count Vectorizer"
   ]
  },
  {
   "cell_type": "code",
   "execution_count": 50,
   "id": "14ca5f28-97ab-462c-924e-5805b0dab7ca",
   "metadata": {},
   "outputs": [],
   "source": [
    "pipe_cvec_knn = Pipeline([\n",
    "    ('cvec', CountVectorizer()), # tuple for transformer object, class\n",
    "    ('knn', KNeighborsClassifier()) # tuple for estimator object, class\n",
    "])"
   ]
  },
  {
   "cell_type": "code",
   "execution_count": 51,
   "id": "4d7b58df-4169-4293-af55-b458ede7bcf6",
   "metadata": {},
   "outputs": [],
   "source": [
    "gs_cvec_knn = GridSearchCV(pipe_cvec_knn,\n",
    "                  param_grid=pipe_params_cvec,\n",
    "                  cv=5) "
   ]
  },
  {
   "cell_type": "code",
   "execution_count": 53,
   "id": "a02c3c94-cd27-4c4b-9066-c6df54b21260",
   "metadata": {},
   "outputs": [
    {
     "data": {
      "text/plain": [
       "GridSearchCV(cv=5,\n",
       "             estimator=Pipeline(steps=[('cvec', CountVectorizer()),\n",
       "                                       ('knn', KNeighborsClassifier())]),\n",
       "             param_grid={'cvec__max_df': [0.9, 0.95],\n",
       "                         'cvec__max_features': [None, 5000],\n",
       "                         'cvec__ngram_range': [(1, 1), (1, 2)],\n",
       "                         'cvec__preprocessor': [None,\n",
       "                                                <function lemmatize_text at 0x000001A2D7FE54C0>,\n",
       "                                                <function stem_text at 0x000001A2D7FE5A60>]})"
      ]
     },
     "execution_count": 53,
     "metadata": {},
     "output_type": "execute_result"
    }
   ],
   "source": [
    "gs_cvec_knn.fit(X_train, y_train)"
   ]
  },
  {
   "cell_type": "code",
   "execution_count": 54,
   "id": "4ac9ca05-8695-4455-b31d-551234f623ec",
   "metadata": {},
   "outputs": [
    {
     "name": "stdout",
     "output_type": "stream",
     "text": [
      "0.620579736668021\n"
     ]
    }
   ],
   "source": [
    "print(gs_cvec_knn.best_score_)"
   ]
  },
  {
   "cell_type": "code",
   "execution_count": 55,
   "id": "905b4b8c-a666-4759-8e08-3af8cd325529",
   "metadata": {},
   "outputs": [
    {
     "data": {
      "text/plain": [
       "{'cvec__max_df': 0.9,\n",
       " 'cvec__max_features': 5000,\n",
       " 'cvec__ngram_range': (1, 1),\n",
       " 'cvec__preprocessor': <function __main__.stem_text(text)>}"
      ]
     },
     "execution_count": 55,
     "metadata": {},
     "output_type": "execute_result"
    }
   ],
   "source": [
    "gs_cvec_knn.best_params_ "
   ]
  },
  {
   "cell_type": "code",
   "execution_count": 56,
   "id": "53ae3e7e-bb2d-46b9-b6f6-5dc2fda1fb27",
   "metadata": {},
   "outputs": [
    {
     "data": {
      "text/plain": [
       "0.66969029415576"
      ]
     },
     "execution_count": 56,
     "metadata": {},
     "output_type": "execute_result"
    }
   ],
   "source": [
    "gs_cvec_knn.score(X_train, y_train)"
   ]
  },
  {
   "cell_type": "code",
   "execution_count": 57,
   "id": "34926704-cb83-45d9-8464-ae8a34f94507",
   "metadata": {},
   "outputs": [
    {
     "data": {
      "text/plain": [
       "0.6144578313253012"
      ]
     },
     "execution_count": 57,
     "metadata": {},
     "output_type": "execute_result"
    }
   ],
   "source": [
    "gs_cvec_knn.score(X_test, y_test)"
   ]
  },
  {
   "cell_type": "code",
   "execution_count": 58,
   "id": "54d8674f-5780-4987-b20e-af738dacdfd2",
   "metadata": {},
   "outputs": [
    {
     "name": "stdout",
     "output_type": "stream",
     "text": [
      "Specificity: 0.9812286689419796\n",
      "Sensitivity: 0.3076374018558173\n",
      "Precision: 0.9514348785871964\n",
      "F1 SCore: 0.464940668824164\n"
     ]
    }
   ],
   "source": [
    "# Get predictions\n",
    "y_pred = gs_cvec_knn.predict(X_test)\n",
    "\n",
    "# Save confusion matrix values\n",
    "tn, fp, fn, tp = confusion_matrix(y_test, y_pred).ravel()\n",
    "\n",
    "# Calculate the specificity\n",
    "\n",
    "spec = tn / (tn + fp)\n",
    "sen = tp / (tp + fn)\n",
    "pre = tp / (tp + fp)\n",
    "f1 = f1_score(y_test, y_pred)\n",
    "\n",
    "print('Specificity:', spec)\n",
    "print('Sensitivity:', sen)\n",
    "print('Precision:', pre)\n",
    "print('F1 SCore:', f1)"
   ]
  },
  {
   "cell_type": "code",
   "execution_count": 59,
   "id": "cfd8e382-48c4-4223-ba02-fcd62527afcd",
   "metadata": {},
   "outputs": [
    {
     "data": {
      "image/png": "[encoded data removed]",
      "text/plain": [
       "<Figure size 432x288 with 2 Axes>"
      ]
     },
     "metadata": {
      "needs_background": "light"
     },
     "output_type": "display_data"
    }
   ],
   "source": [
    "# plot confusion matrix\n",
    "cm = confusion_matrix(y_test, y_pred)\n",
    "disp = ConfusionMatrixDisplay(confusion_matrix=cm, display_labels=['fasting', 'keto'])\n",
    "disp.plot();"
   ]
  },
  {
   "cell_type": "markdown",
   "id": "50529752-43d4-4059-98df-e5a8a4f0f3f7",
   "metadata": {},
   "source": [
    "### KNN with TF-IDF Vectorizer"
   ]
  },
  {
   "cell_type": "code",
   "execution_count": 60,
   "id": "9d42dfde-4534-4685-9c1b-447d6bc0abe3",
   "metadata": {},
   "outputs": [],
   "source": [
    "pipe_tvec_knn = Pipeline([\n",
    "    ('tvec', TfidfVectorizer()), # tuple for transformer object, class\n",
    "    ('knn', KNeighborsClassifier()) # tuple for estimator object, class\n",
    "])"
   ]
  },
  {
   "cell_type": "code",
   "execution_count": 61,
   "id": "24d85b3f-6cd7-4583-a798-5ac9e8571014",
   "metadata": {},
   "outputs": [],
   "source": [
    "gs_tvec_knn = GridSearchCV(pipe_tvec_knn,\n",
    "                  param_grid=pipe_params_tvec,\n",
    "                  cv=5) "
   ]
  },
  {
   "cell_type": "code",
   "execution_count": 62,
   "id": "b7fa4259-983c-4458-a118-13349c684c8c",
   "metadata": {},
   "outputs": [
    {
     "data": {
      "text/plain": [
       "GridSearchCV(cv=5,\n",
       "             estimator=Pipeline(steps=[('tvec', TfidfVectorizer()),\n",
       "                                       ('knn', KNeighborsClassifier())]),\n",
       "             param_grid={'tvec__max_df': [0.5, 0.9],\n",
       "                         'tvec__max_features': [None, 5000],\n",
       "                         'tvec__ngram_range': [(1, 1), (1, 2)],\n",
       "                         'tvec__preprocessor': [None,\n",
       "                                                <function lemmatize_text at 0x000001A2D7FE54C0>,\n",
       "                                                <function stem_text at 0x000001A2D7FE5A60>]})"
      ]
     },
     "execution_count": 62,
     "metadata": {},
     "output_type": "execute_result"
    }
   ],
   "source": [
    "gs_tvec_knn.fit(X_train, y_train)"
   ]
  },
  {
   "cell_type": "code",
   "execution_count": 63,
   "id": "4c164131-d0b2-42da-aedd-0629d9707eea",
   "metadata": {},
   "outputs": [
    {
     "name": "stdout",
     "output_type": "stream",
     "text": [
      "0.8048454662372944\n"
     ]
    }
   ],
   "source": [
    "print(gs_tvec_knn.best_score_)"
   ]
  },
  {
   "cell_type": "code",
   "execution_count": 64,
   "id": "2d5d0318-acfd-4e37-9d42-effc336db20c",
   "metadata": {},
   "outputs": [
    {
     "data": {
      "text/plain": [
       "{'tvec__max_df': 0.5,\n",
       " 'tvec__max_features': None,\n",
       " 'tvec__ngram_range': (1, 1),\n",
       " 'tvec__preprocessor': <function __main__.stem_text(text)>}"
      ]
     },
     "execution_count": 64,
     "metadata": {},
     "output_type": "execute_result"
    }
   ],
   "source": [
    "gs_tvec_knn.best_params_ "
   ]
  },
  {
   "cell_type": "code",
   "execution_count": 65,
   "id": "9048b5e2-811e-4614-849d-f106de825ed1",
   "metadata": {},
   "outputs": [
    {
     "data": {
      "text/plain": [
       "0.8779318387974602"
      ]
     },
     "execution_count": 65,
     "metadata": {},
     "output_type": "execute_result"
    }
   ],
   "source": [
    "gs_tvec_knn.score(X_train, y_train)"
   ]
  },
  {
   "cell_type": "code",
   "execution_count": 66,
   "id": "6c876787-8ceb-4f80-baa3-ae4576326453",
   "metadata": {},
   "outputs": [
    {
     "data": {
      "text/plain": [
       "0.7808006218422076"
      ]
     },
     "execution_count": 66,
     "metadata": {},
     "output_type": "execute_result"
    }
   ],
   "source": [
    "gs_tvec_knn.score(X_test, y_test)"
   ]
  },
  {
   "cell_type": "code",
   "execution_count": 67,
   "id": "c29def41-85b2-4a67-9654-9816450683ec",
   "metadata": {},
   "outputs": [
    {
     "name": "stdout",
     "output_type": "stream",
     "text": [
      "Specificity: 0.7551194539249146\n",
      "Sensitivity: 0.8022840827980015\n",
      "Precision: 0.7965981573352232\n",
      "F1 SCore: 0.7994310099573259\n"
     ]
    }
   ],
   "source": [
    "# Get predictions\n",
    "y_pred = gs_tvec_knn.predict(X_test)\n",
    "\n",
    "# Save confusion matrix values\n",
    "tn, fp, fn, tp = confusion_matrix(y_test, y_pred).ravel()\n",
    "\n",
    "# Calculate the specificity\n",
    "\n",
    "spec = tn / (tn + fp)\n",
    "sen = tp / (tp + fn)\n",
    "pre = tp / (tp + fp)\n",
    "f1 = f1_score(y_test, y_pred)\n",
    "\n",
    "print('Specificity:', spec)\n",
    "print('Sensitivity:', sen)\n",
    "print('Precision:', pre)\n",
    "print('F1 SCore:', f1)"
   ]
  },
  {
   "cell_type": "code",
   "execution_count": 68,
   "id": "e90b96de-6729-4ff2-8cec-27910fc59a74",
   "metadata": {},
   "outputs": [
    {
     "data": {
      "image/png": "[encoded data removed]",
      "text/plain": [
       "<Figure size 432x288 with 2 Axes>"
      ]
     },
     "metadata": {
      "needs_background": "light"
     },
     "output_type": "display_data"
    }
   ],
   "source": [
    "# plot confusion matrix\n",
    "cm = confusion_matrix(y_test, y_pred)\n",
    "disp = ConfusionMatrixDisplay(confusion_matrix=cm, display_labels=['fasting', 'keto'])\n",
    "disp.plot();"
   ]
  },
  {
   "cell_type": "markdown",
   "id": "c31bf606-e3d1-458f-9090-881d1bb922b7",
   "metadata": {},
   "source": [
    "### RandomForestClassifier with Count Vectorizer"
   ]
  },
  {
   "cell_type": "code",
   "execution_count": 69,
   "id": "e1ccd4af-faf5-4b60-988a-2872700b7227",
   "metadata": {},
   "outputs": [],
   "source": [
    "pipe_cvec_rf = Pipeline([\n",
    "    ('cvec', CountVectorizer()), # tuple for transformer object, class\n",
    "    ('rf', RandomForestClassifier()) # tuple for estimator object, class\n",
    "])"
   ]
  },
  {
   "cell_type": "code",
   "execution_count": 70,
   "id": "3fe1b68f-a391-41ea-8abc-f5e3710f4c14",
   "metadata": {},
   "outputs": [],
   "source": [
    "gs_cvec_rf = GridSearchCV(pipe_cvec_rf,\n",
    "                  param_grid=pipe_params_cvec,\n",
    "                  cv=5) "
   ]
  },
  {
   "cell_type": "code",
   "execution_count": 71,
   "id": "29021323-6a4d-4b31-b8cf-251c815f94e1",
   "metadata": {},
   "outputs": [
    {
     "data": {
      "text/plain": [
       "GridSearchCV(cv=5,\n",
       "             estimator=Pipeline(steps=[('cvec', CountVectorizer()),\n",
       "                                       ('rf', RandomForestClassifier())]),\n",
       "             param_grid={'cvec__max_df': [0.9, 0.95],\n",
       "                         'cvec__max_features': [None, 5000],\n",
       "                         'cvec__ngram_range': [(1, 1), (1, 2)],\n",
       "                         'cvec__preprocessor': [None,\n",
       "                                                <function lemmatize_text at 0x000001A2D7FE54C0>,\n",
       "                                                <function stem_text at 0x000001A2D7FE5A60>]})"
      ]
     },
     "execution_count": 71,
     "metadata": {},
     "output_type": "execute_result"
    }
   ],
   "source": [
    "gs_cvec_rf.fit(X_train, y_train)"
   ]
  },
  {
   "cell_type": "code",
   "execution_count": 72,
   "id": "46e5830f-b333-4bf6-9be9-ddea796883ba",
   "metadata": {},
   "outputs": [
    {
     "name": "stdout",
     "output_type": "stream",
     "text": [
      "0.9121401515787493\n"
     ]
    }
   ],
   "source": [
    "print(gs_cvec_rf.best_score_)"
   ]
  },
  {
   "cell_type": "code",
   "execution_count": 73,
   "id": "8df335fc-cb2a-4dca-8a5c-6c4bc9cbbfac",
   "metadata": {},
   "outputs": [
    {
     "data": {
      "text/plain": [
       "{'cvec__max_df': 0.9,\n",
       " 'cvec__max_features': 5000,\n",
       " 'cvec__ngram_range': (1, 2),\n",
       " 'cvec__preprocessor': <function __main__.lemmatize_text(text)>}"
      ]
     },
     "execution_count": 73,
     "metadata": {},
     "output_type": "execute_result"
    }
   ],
   "source": [
    "gs_cvec_rf.best_params_ "
   ]
  },
  {
   "cell_type": "code",
   "execution_count": 74,
   "id": "7bb68384-8d46-4db0-90a7-c010cb02883b",
   "metadata": {},
   "outputs": [
    {
     "data": {
      "text/plain": [
       "0.9998704159647531"
      ]
     },
     "execution_count": 74,
     "metadata": {},
     "output_type": "execute_result"
    }
   ],
   "source": [
    "gs_cvec_rf.score(X_train, y_train)"
   ]
  },
  {
   "cell_type": "code",
   "execution_count": 75,
   "id": "12d61ac1-473d-4305-a000-32906a5d55af",
   "metadata": {},
   "outputs": [
    {
     "data": {
      "text/plain": [
       "0.9078896230081617"
      ]
     },
     "execution_count": 75,
     "metadata": {},
     "output_type": "execute_result"
    }
   ],
   "source": [
    "gs_cvec_rf.score(X_test, y_test)"
   ]
  },
  {
   "cell_type": "code",
   "execution_count": 76,
   "id": "d116a1f3-7b46-4814-8314-0b2a45ddf19e",
   "metadata": {},
   "outputs": [
    {
     "name": "stdout",
     "output_type": "stream",
     "text": [
      "Specificity: 0.9104095563139932\n",
      "Sensitivity: 0.9057815845824411\n",
      "Precision: 0.9235807860262009\n",
      "F1 SCore: 0.9145945945945946\n"
     ]
    }
   ],
   "source": [
    "# Get predictions\n",
    "y_pred = gs_cvec_rf.predict(X_test)\n",
    "\n",
    "# Save confusion matrix values\n",
    "tn, fp, fn, tp = confusion_matrix(y_test, y_pred).ravel()\n",
    "\n",
    "# Calculate the specificity\n",
    "\n",
    "spec = tn / (tn + fp)\n",
    "sen = tp / (tp + fn)\n",
    "pre = tp / (tp + fp)\n",
    "f1 = f1_score(y_test, y_pred)\n",
    "\n",
    "print('Specificity:', spec)\n",
    "print('Sensitivity:', sen)\n",
    "print('Precision:', pre)\n",
    "print('F1 SCore:', f1)"
   ]
  },
  {
   "cell_type": "code",
   "execution_count": 77,
   "id": "3f9532b2-4bf8-4ecc-befd-2d916b9f8754",
   "metadata": {},
   "outputs": [
    {
     "data": {
      "image/png": "[encoded data removed]",
      "text/plain": [
       "<Figure size 432x288 with 2 Axes>"
      ]
     },
     "metadata": {
      "needs_background": "light"
     },
     "output_type": "display_data"
    }
   ],
   "source": [
    "# plot confusion matrix\n",
    "cm = confusion_matrix(y_test, y_pred)\n",
    "disp = ConfusionMatrixDisplay(confusion_matrix=cm, display_labels=['fasting', 'keto'])\n",
    "disp.plot();"
   ]
  },
  {
   "cell_type": "markdown",
   "id": "926f53e9-7d0e-472f-be09-2c6b7e794aa3",
   "metadata": {},
   "source": [
    "### RandomForestClassifier with TF-IDF Vectorizer"
   ]
  },
  {
   "cell_type": "code",
   "execution_count": 78,
   "id": "3c2ed562-280c-4229-9aa7-fa8a19b262b9",
   "metadata": {},
   "outputs": [],
   "source": [
    "pipe_tvec_rf = Pipeline([\n",
    "    ('tvec', TfidfVectorizer()), # tuple for transformer object, class\n",
    "    ('rf', RandomForestClassifier()) # tuple for estimator object, class\n",
    "])"
   ]
  },
  {
   "cell_type": "code",
   "execution_count": 79,
   "id": "1f7717d6-474a-48a6-8885-376cf5e07eb8",
   "metadata": {},
   "outputs": [],
   "source": [
    "gs_tvec_rf = GridSearchCV(pipe_tvec_rf,\n",
    "                  param_grid=pipe_params_tvec,\n",
    "                  cv=5) "
   ]
  },
  {
   "cell_type": "code",
   "execution_count": 80,
   "id": "851f73cf-a08d-49fd-b5ec-0621509518e5",
   "metadata": {},
   "outputs": [
    {
     "data": {
      "text/plain": [
       "GridSearchCV(cv=5,\n",
       "             estimator=Pipeline(steps=[('tvec', TfidfVectorizer()),\n",
       "                                       ('rf', RandomForestClassifier())]),\n",
       "             param_grid={'tvec__max_df': [0.5, 0.9],\n",
       "                         'tvec__max_features': [None, 5000],\n",
       "                         'tvec__ngram_range': [(1, 1), (1, 2)],\n",
       "                         'tvec__preprocessor': [None,\n",
       "                                                <function lemmatize_text at 0x000001A2D7FE54C0>,\n",
       "                                                <function stem_text at 0x000001A2D7FE5A60>]})"
      ]
     },
     "execution_count": 80,
     "metadata": {},
     "output_type": "execute_result"
    }
   ],
   "source": [
    "gs_tvec_rf.fit(X_train, y_train)"
   ]
  },
  {
   "cell_type": "code",
   "execution_count": 81,
   "id": "d223c463-1e0c-4ce0-83f1-2258e796c980",
   "metadata": {},
   "outputs": [
    {
     "name": "stdout",
     "output_type": "stream",
     "text": [
      "0.9143436512547053\n"
     ]
    }
   ],
   "source": [
    "print(gs_tvec_rf.best_score_)"
   ]
  },
  {
   "cell_type": "code",
   "execution_count": 82,
   "id": "2f534db0-da65-462b-bafe-1d6ccf96578b",
   "metadata": {},
   "outputs": [
    {
     "data": {
      "text/plain": [
       "{'tvec__max_df': 0.5,\n",
       " 'tvec__max_features': 5000,\n",
       " 'tvec__ngram_range': (1, 1),\n",
       " 'tvec__preprocessor': <function __main__.stem_text(text)>}"
      ]
     },
     "execution_count": 82,
     "metadata": {},
     "output_type": "execute_result"
    }
   ],
   "source": [
    "gs_tvec_rf.best_params_ "
   ]
  },
  {
   "cell_type": "code",
   "execution_count": 83,
   "id": "6d22121a-ba10-4a6c-a83b-1743eadef608",
   "metadata": {},
   "outputs": [
    {
     "data": {
      "text/plain": [
       "0.9998704159647531"
      ]
     },
     "execution_count": 83,
     "metadata": {},
     "output_type": "execute_result"
    }
   ],
   "source": [
    "gs_tvec_rf.score(X_train, y_train)"
   ]
  },
  {
   "cell_type": "code",
   "execution_count": 84,
   "id": "83f2f071-77ec-4f37-8e8f-04dcf9fbc72c",
   "metadata": {},
   "outputs": [
    {
     "data": {
      "text/plain": [
       "0.9078896230081617"
      ]
     },
     "execution_count": 84,
     "metadata": {},
     "output_type": "execute_result"
    }
   ],
   "source": [
    "gs_tvec_rf.score(X_test, y_test)"
   ]
  },
  {
   "cell_type": "code",
   "execution_count": 85,
   "id": "2fa53b95-2808-4322-ab09-676d9e966d0a",
   "metadata": {},
   "outputs": [
    {
     "name": "stdout",
     "output_type": "stream",
     "text": [
      "Specificity: 0.8976109215017065\n",
      "Sensitivity: 0.9164882226980728\n",
      "Precision: 0.9145299145299145\n",
      "F1 SCore: 0.9155080213903742\n"
     ]
    }
   ],
   "source": [
    "# Get predictions\n",
    "y_pred = gs_tvec_rf.predict(X_test)\n",
    "\n",
    "# Save confusion matrix values\n",
    "tn, fp, fn, tp = confusion_matrix(y_test, y_pred).ravel()\n",
    "\n",
    "# Calculate the specificity\n",
    "\n",
    "spec = tn / (tn + fp)\n",
    "sen = tp / (tp + fn)\n",
    "pre = tp / (tp + fp)\n",
    "f1 = f1_score(y_test, y_pred)\n",
    "\n",
    "print('Specificity:', spec)\n",
    "print('Sensitivity:', sen)\n",
    "print('Precision:', pre)\n",
    "print('F1 SCore:', f1)"
   ]
  },
  {
   "cell_type": "code",
   "execution_count": 86,
   "id": "d078c7dd-b4b4-47a0-b746-36da20eed28d",
   "metadata": {},
   "outputs": [
    {
     "data": {
      "image/png": "[encoded data removed]",
      "text/plain": [
       "<Figure size 432x288 with 2 Axes>"
      ]
     },
     "metadata": {
      "needs_background": "light"
     },
     "output_type": "display_data"
    }
   ],
   "source": [
    "# plot confusion matrix\n",
    "cm = confusion_matrix(y_test, y_pred)\n",
    "disp = ConfusionMatrixDisplay(confusion_matrix=cm, display_labels=['fasting', 'keto'])\n",
    "disp.plot();"
   ]
  },
  {
   "cell_type": "code",
   "execution_count": null,
   "id": "ccfd6ff0-36fd-4fb0-b4da-29424606e7c9",
   "metadata": {},
   "outputs": [],
   "source": []
  },
  {
   "cell_type": "code",
   "execution_count": null,
   "id": "368ec29b-b89e-4e3d-a8ba-6b25d638f2be",
   "metadata": {},
   "outputs": [],
   "source": []
  },
  {
   "cell_type": "markdown",
   "id": "3a88be8a-d2e4-404a-b612-5350386f82fb",
   "metadata": {},
   "source": [
    "# Conclusion\n",
    "My impression after reading fews posts that contain words of 'keto' and 'interminttent fast' is that many posters are there (on reddit) to seek for advices or suggestions to help on their process on interminttent fasting of keto. Few people share their sucess and health improvement during the process while some other people actually face health issue during the process of weight loss."
   ]
  }
 ],
 "metadata": {
  "kernelspec": {
   "display_name": "Python 3 (ipykernel)",
   "language": "python",
   "name": "python3"
  },
  "language_info": {
   "codemirror_mode": {
    "name": "ipython",
    "version": 3
   },
   "file_extension": ".py",
   "mimetype": "text/x-python",
   "name": "python",
   "nbconvert_exporter": "python",
   "pygments_lexer": "ipython3",
   "version": "3.9.12"
  }
 },
 "nbformat": 4,
 "nbformat_minor": 5
}
