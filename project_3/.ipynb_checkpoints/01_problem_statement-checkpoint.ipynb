{
 "cells": [
  {
   "cell_type": "markdown",
   "id": "f065a495-cbe6-40a0-a7be-5fc850946d79",
   "metadata": {},
   "source": [
    "## 01 Problem Statement\n"
   ]
  },
  {
   "cell_type": "markdown",
   "id": "96f27f5d-60a7-4640-a3dc-434c60178f5e",
   "metadata": {},
   "source": [
    "This project looks at posts from two subreddits that are purposely chosen to be closely related - r/Wallstreetbets and r/Stock - and targets at leveraging natural language processing and creating a classification model to accurately re-classify the posts to their respective subreddit. The ultimate goal is to automate advertising. "
   ]
  },
  {
   "cell_type": "code",
   "execution_count": 1,
   "id": "ede40274-2ebb-4bb8-9d30-554bca2ffa98",
   "metadata": {},
   "outputs": [],
   "source": []
  },
  {
   "cell_type": "code",
   "execution_count": 2,
   "id": "44c55490-16fb-4b86-9e02-344c45f7efa3",
   "metadata": {},
   "outputs": [],
   "source": []
  },
  {
   "cell_type": "code",
   "execution_count": null,
   "id": "cad4199f-04fe-44ef-97ec-68ec13099460",
   "metadata": {},
   "outputs": [],
   "source": []
  }
 ],
 "metadata": {
  "kernelspec": {
   "display_name": "Python 3 (ipykernel)",
   "language": "python",
   "name": "python3"
  },
  "language_info": {
   "codemirror_mode": {
    "name": "ipython",
    "version": 3
   },
   "file_extension": ".py",
   "mimetype": "text/x-python",
   "name": "python",
   "nbconvert_exporter": "python",
   "pygments_lexer": "ipython3",
   "version": "3.9.13"
  }
 },
 "nbformat": 4,
 "nbformat_minor": 5
}
