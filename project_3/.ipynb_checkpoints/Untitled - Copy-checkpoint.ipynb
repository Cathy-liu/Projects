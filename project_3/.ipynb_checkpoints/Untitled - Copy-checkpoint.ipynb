{
 "cells": [
  {
   "cell_type": "code",
   "execution_count": 1,
   "id": "95a3e3de-649d-4ce1-94e7-cb9df4de5e34",
   "metadata": {},
   "outputs": [],
   "source": [
    "import requests"
   ]
  },
  {
   "cell_type": "code",
   "execution_count": 2,
   "id": "b26cac48-c235-4554-974c-ec6a6148c78f",
   "metadata": {},
   "outputs": [],
   "source": [
    "url = 'https://api.pushshift.io/reddit/search/submission'\n",
    "url_comments = 'https://api.pushshift.io/reddit/search/comment'"
   ]
  },
  {
   "cell_type": "code",
   "execution_count": 3,
   "id": "bb7dfb66-647b-42fc-b5b0-e1b0e6a6de90",
   "metadata": {},
   "outputs": [],
   "source": [
    "params = {\n",
    "    'subreddit' : 'hotel',\n",
    "    'size' : 250,\n",
    "    'before' : 1356041913\n",
    "}"
   ]
  },
  {
   "cell_type": "code",
   "execution_count": 4,
   "id": "167bbc89-b491-445b-9138-192ccb1c04aa",
   "metadata": {},
   "outputs": [],
   "source": [
    "res = requests.get(url, params)"
   ]
  },
  {
   "cell_type": "code",
   "execution_count": 5,
   "id": "53f768f6-2288-4ed9-b9d2-c9f9c1b06b39",
   "metadata": {},
   "outputs": [
    {
     "data": {
      "text/plain": [
       "200"
      ]
     },
     "execution_count": 5,
     "metadata": {},
     "output_type": "execute_result"
    }
   ],
   "source": [
    "res.status_code"
   ]
  },
  {
   "cell_type": "code",
   "execution_count": 6,
   "id": "32aba13f-03ec-46e1-b66f-ad86ab5bf5af",
   "metadata": {},
   "outputs": [],
   "source": [
    "data = res.json()"
   ]
  },
  {
   "cell_type": "code",
   "execution_count": 7,
   "id": "2a8971c2-23f8-4f52-af64-820b7addf5f8",
   "metadata": {},
   "outputs": [],
   "source": [
    "posts = data['data']"
   ]
  },
  {
   "cell_type": "code",
   "execution_count": 8,
   "id": "765cb270-52f6-4eee-b760-674b49e54ecc",
   "metadata": {},
   "outputs": [
    {
     "data": {
      "text/plain": [
       "{'author': 'gedarnet',\n",
       " 'author_created_utc': 1293734365,\n",
       " 'author_flair_css_class': None,\n",
       " 'author_flair_text': None,\n",
       " 'author_fullname': 't2_4o4z2',\n",
       " 'created_utc': 1356027858,\n",
       " 'domain': 'photo.elsoar.com',\n",
       " 'full_link': 'https://www.reddit.com/r/hotel/comments/156fze/peninsula_house_hotel/',\n",
       " 'gilded': 0,\n",
       " 'id': '156fze',\n",
       " 'is_self': False,\n",
       " 'media_embed': {},\n",
       " 'mod_reports': [],\n",
       " 'num_comments': 0,\n",
       " 'over_18': True,\n",
       " 'permalink': '/r/hotel/comments/156fze/peninsula_house_hotel/',\n",
       " 'retrieved_on': 1413274033,\n",
       " 'score': 1,\n",
       " 'secure_media_embed': {},\n",
       " 'selftext': '',\n",
       " 'stickied': False,\n",
       " 'subreddit': 'hotel',\n",
       " 'subreddit_id': 't5_2qkfv',\n",
       " 'thumbnail': 'nsfw',\n",
       " 'title': 'Peninsula House Hotel',\n",
       " 'url': 'http://photo.elsoar.com/peninsula-house-hotel.html',\n",
       " 'user_reports': []}"
      ]
     },
     "execution_count": 8,
     "metadata": {},
     "output_type": "execute_result"
    }
   ],
   "source": [
    "posts[0]"
   ]
  },
  {
   "cell_type": "code",
   "execution_count": 9,
   "id": "90b5c564-9db6-4edd-b00a-9bf79f3fa0cd",
   "metadata": {},
   "outputs": [
    {
     "data": {
      "text/plain": [
       "250"
      ]
     },
     "execution_count": 9,
     "metadata": {},
     "output_type": "execute_result"
    }
   ],
   "source": [
    "len(posts)"
   ]
  },
  {
   "cell_type": "code",
   "execution_count": 10,
   "id": "d2c8c053-e972-46f8-b310-deeb4321f45b",
   "metadata": {},
   "outputs": [],
   "source": [
    "import pandas as pd"
   ]
  },
  {
   "cell_type": "code",
   "execution_count": 11,
   "id": "114362cf-aeb3-4feb-ade8-a355183f8d46",
   "metadata": {},
   "outputs": [],
   "source": [
    "df = pd.DataFrame(posts)"
   ]
  },
  {
   "cell_type": "code",
   "execution_count": 12,
   "id": "a0c63429-821f-49f8-bd36-d732597fb4d4",
   "metadata": {},
   "outputs": [
    {
     "data": {
      "text/html": [
       "<div>\n",
       "<style scoped>\n",
       "    .dataframe tbody tr th:only-of-type {\n",
       "        vertical-align: middle;\n",
       "    }\n",
       "\n",
       "    .dataframe tbody tr th {\n",
       "        vertical-align: top;\n",
       "    }\n",
       "\n",
       "    .dataframe thead th {\n",
       "        text-align: right;\n",
       "    }\n",
       "</style>\n",
       "<table border=\"1\" class=\"dataframe\">\n",
       "  <thead>\n",
       "    <tr style=\"text-align: right;\">\n",
       "      <th></th>\n",
       "      <th>author</th>\n",
       "      <th>author_created_utc</th>\n",
       "      <th>author_flair_css_class</th>\n",
       "      <th>author_flair_text</th>\n",
       "      <th>author_fullname</th>\n",
       "      <th>created_utc</th>\n",
       "      <th>domain</th>\n",
       "      <th>full_link</th>\n",
       "      <th>gilded</th>\n",
       "      <th>id</th>\n",
       "      <th>...</th>\n",
       "      <th>secure_media_embed</th>\n",
       "      <th>selftext</th>\n",
       "      <th>stickied</th>\n",
       "      <th>subreddit</th>\n",
       "      <th>subreddit_id</th>\n",
       "      <th>thumbnail</th>\n",
       "      <th>title</th>\n",
       "      <th>url</th>\n",
       "      <th>user_reports</th>\n",
       "      <th>media</th>\n",
       "    </tr>\n",
       "  </thead>\n",
       "  <tbody>\n",
       "    <tr>\n",
       "      <th>0</th>\n",
       "      <td>gedarnet</td>\n",
       "      <td>1.293734e+09</td>\n",
       "      <td>None</td>\n",
       "      <td>None</td>\n",
       "      <td>t2_4o4z2</td>\n",
       "      <td>1356027858</td>\n",
       "      <td>photo.elsoar.com</td>\n",
       "      <td>https://www.reddit.com/r/hotel/comments/156fze...</td>\n",
       "      <td>0</td>\n",
       "      <td>156fze</td>\n",
       "      <td>...</td>\n",
       "      <td>{}</td>\n",
       "      <td></td>\n",
       "      <td>False</td>\n",
       "      <td>hotel</td>\n",
       "      <td>t5_2qkfv</td>\n",
       "      <td>nsfw</td>\n",
       "      <td>Peninsula House Hotel</td>\n",
       "      <td>http://photo.elsoar.com/peninsula-house-hotel....</td>\n",
       "      <td>[]</td>\n",
       "      <td>NaN</td>\n",
       "    </tr>\n",
       "    <tr>\n",
       "      <th>1</th>\n",
       "      <td>andycoper</td>\n",
       "      <td>1.347607e+09</td>\n",
       "      <td>None</td>\n",
       "      <td>None</td>\n",
       "      <td>t2_907ek</td>\n",
       "      <td>1356009623</td>\n",
       "      <td>video.staged.com</td>\n",
       "      <td>https://www.reddit.com/r/hotel/comments/155zda...</td>\n",
       "      <td>0</td>\n",
       "      <td>155zda</td>\n",
       "      <td>...</td>\n",
       "      <td>{}</td>\n",
       "      <td></td>\n",
       "      <td>False</td>\n",
       "      <td>hotel</td>\n",
       "      <td>t5_2qkfv</td>\n",
       "      <td>nsfw</td>\n",
       "      <td>Best Hotel in San Francisco</td>\n",
       "      <td>http://video.staged.com/andycoper/best_hotel_i...</td>\n",
       "      <td>[]</td>\n",
       "      <td>NaN</td>\n",
       "    </tr>\n",
       "    <tr>\n",
       "      <th>2</th>\n",
       "      <td>geneautry2012</td>\n",
       "      <td>1.356009e+09</td>\n",
       "      <td>None</td>\n",
       "      <td>None</td>\n",
       "      <td>t2_9ya8l</td>\n",
       "      <td>1356009147</td>\n",
       "      <td>bookinghotelrooms.blogspot.com</td>\n",
       "      <td>https://www.reddit.com/r/hotel/comments/155z3h...</td>\n",
       "      <td>0</td>\n",
       "      <td>155z3h</td>\n",
       "      <td>...</td>\n",
       "      <td>{}</td>\n",
       "      <td></td>\n",
       "      <td>False</td>\n",
       "      <td>hotel</td>\n",
       "      <td>t5_2qkfv</td>\n",
       "      <td>nsfw</td>\n",
       "      <td>Book a hotel room | book in hotels | Booking a...</td>\n",
       "      <td>http://www.bookinghotelrooms.blogspot.com/</td>\n",
       "      <td>[]</td>\n",
       "      <td>NaN</td>\n",
       "    </tr>\n",
       "    <tr>\n",
       "      <th>3</th>\n",
       "      <td>rosealbert</td>\n",
       "      <td>1.352190e+09</td>\n",
       "      <td>None</td>\n",
       "      <td>None</td>\n",
       "      <td>t2_9ipt6</td>\n",
       "      <td>1355983686</td>\n",
       "      <td>goarticles.com</td>\n",
       "      <td>https://www.reddit.com/r/hotel/comments/155kwd...</td>\n",
       "      <td>0</td>\n",
       "      <td>155kwd</td>\n",
       "      <td>...</td>\n",
       "      <td>{}</td>\n",
       "      <td></td>\n",
       "      <td>False</td>\n",
       "      <td>hotel</td>\n",
       "      <td>t5_2qkfv</td>\n",
       "      <td>nsfw</td>\n",
       "      <td>Palm Cove Hotels - Packed With the Essential A...</td>\n",
       "      <td>http://goarticles.com/article/Palm-Cove-Hotels...</td>\n",
       "      <td>[]</td>\n",
       "      <td>NaN</td>\n",
       "    </tr>\n",
       "    <tr>\n",
       "      <th>4</th>\n",
       "      <td>integrityhotel</td>\n",
       "      <td>1.354513e+09</td>\n",
       "      <td>None</td>\n",
       "      <td>None</td>\n",
       "      <td>t2_9s225</td>\n",
       "      <td>1355983655</td>\n",
       "      <td>integrity-hotel-partners.com</td>\n",
       "      <td>https://www.reddit.com/r/hotel/comments/155kvp...</td>\n",
       "      <td>0</td>\n",
       "      <td>155kvp</td>\n",
       "      <td>...</td>\n",
       "      <td>{}</td>\n",
       "      <td></td>\n",
       "      <td>False</td>\n",
       "      <td>hotel</td>\n",
       "      <td>t5_2qkfv</td>\n",
       "      <td>nsfw</td>\n",
       "      <td>Top 10 Hotel Management Companies</td>\n",
       "      <td>http://integrity-hotel-partners.com/basic-hote...</td>\n",
       "      <td>[]</td>\n",
       "      <td>NaN</td>\n",
       "    </tr>\n",
       "  </tbody>\n",
       "</table>\n",
       "<p>5 rows × 28 columns</p>\n",
       "</div>"
      ],
      "text/plain": [
       "           author  author_created_utc author_flair_css_class  \\\n",
       "0        gedarnet        1.293734e+09                   None   \n",
       "1       andycoper        1.347607e+09                   None   \n",
       "2   geneautry2012        1.356009e+09                   None   \n",
       "3      rosealbert        1.352190e+09                   None   \n",
       "4  integrityhotel        1.354513e+09                   None   \n",
       "\n",
       "  author_flair_text author_fullname  created_utc  \\\n",
       "0              None        t2_4o4z2   1356027858   \n",
       "1              None        t2_907ek   1356009623   \n",
       "2              None        t2_9ya8l   1356009147   \n",
       "3              None        t2_9ipt6   1355983686   \n",
       "4              None        t2_9s225   1355983655   \n",
       "\n",
       "                           domain  \\\n",
       "0                photo.elsoar.com   \n",
       "1                video.staged.com   \n",
       "2  bookinghotelrooms.blogspot.com   \n",
       "3                  goarticles.com   \n",
       "4    integrity-hotel-partners.com   \n",
       "\n",
       "                                           full_link  gilded      id  ...  \\\n",
       "0  https://www.reddit.com/r/hotel/comments/156fze...       0  156fze  ...   \n",
       "1  https://www.reddit.com/r/hotel/comments/155zda...       0  155zda  ...   \n",
       "2  https://www.reddit.com/r/hotel/comments/155z3h...       0  155z3h  ...   \n",
       "3  https://www.reddit.com/r/hotel/comments/155kwd...       0  155kwd  ...   \n",
       "4  https://www.reddit.com/r/hotel/comments/155kvp...       0  155kvp  ...   \n",
       "\n",
       "   secure_media_embed selftext stickied  subreddit  subreddit_id thumbnail  \\\n",
       "0                  {}             False      hotel      t5_2qkfv      nsfw   \n",
       "1                  {}             False      hotel      t5_2qkfv      nsfw   \n",
       "2                  {}             False      hotel      t5_2qkfv      nsfw   \n",
       "3                  {}             False      hotel      t5_2qkfv      nsfw   \n",
       "4                  {}             False      hotel      t5_2qkfv      nsfw   \n",
       "\n",
       "                                               title  \\\n",
       "0                              Peninsula House Hotel   \n",
       "1                        Best Hotel in San Francisco   \n",
       "2  Book a hotel room | book in hotels | Booking a...   \n",
       "3  Palm Cove Hotels - Packed With the Essential A...   \n",
       "4                  Top 10 Hotel Management Companies   \n",
       "\n",
       "                                                 url user_reports media  \n",
       "0  http://photo.elsoar.com/peninsula-house-hotel....           []   NaN  \n",
       "1  http://video.staged.com/andycoper/best_hotel_i...           []   NaN  \n",
       "2         http://www.bookinghotelrooms.blogspot.com/           []   NaN  \n",
       "3  http://goarticles.com/article/Palm-Cove-Hotels...           []   NaN  \n",
       "4  http://integrity-hotel-partners.com/basic-hote...           []   NaN  \n",
       "\n",
       "[5 rows x 28 columns]"
      ]
     },
     "execution_count": 12,
     "metadata": {},
     "output_type": "execute_result"
    }
   ],
   "source": [
    "df.head()"
   ]
  },
  {
   "cell_type": "code",
   "execution_count": 13,
   "id": "843101f7-07a5-4eef-b7c4-9835b8d0f0d9",
   "metadata": {},
   "outputs": [],
   "source": [
    "params_2 = {\n",
    "    'subreddit' : 'hotel',\n",
    "    'size' : 250,\n",
    "    'after' : 1356041913\n",
    "}"
   ]
  },
  {
   "cell_type": "code",
   "execution_count": 14,
   "id": "b752c309-6755-4da4-9513-a480ea30ce1b",
   "metadata": {},
   "outputs": [],
   "source": [
    "res_2 = requests.get(url, params_2)"
   ]
  },
  {
   "cell_type": "code",
   "execution_count": 15,
   "id": "a0d3dbf8-b89e-4bbb-b9a2-09ff8201e14d",
   "metadata": {},
   "outputs": [],
   "source": [
    "data_2 = res_2.json()"
   ]
  },
  {
   "cell_type": "code",
   "execution_count": 16,
   "id": "dd7eeead-bc54-493c-92bc-adbffc8e25a5",
   "metadata": {},
   "outputs": [],
   "source": [
    "posts_2 = data_2['data']"
   ]
  },
  {
   "cell_type": "code",
   "execution_count": 17,
   "id": "8d1a82e5-0e6b-4247-bc85-32240c0073fc",
   "metadata": {},
   "outputs": [
    {
     "data": {
      "text/plain": [
       "{'author': 'leeora',\n",
       " 'author_created_utc': 1350306128,\n",
       " 'author_flair_css_class': None,\n",
       " 'author_flair_text': None,\n",
       " 'author_fullname': 't2_9b3v3',\n",
       " 'created_utc': 1356072327,\n",
       " 'domain': 'self.hotel',\n",
       " 'full_link': 'https://www.reddit.com/r/hotel/comments/157ry1/buck_meadows_lodge/',\n",
       " 'gilded': 0,\n",
       " 'id': '157ry1',\n",
       " 'is_self': True,\n",
       " 'media_embed': {},\n",
       " 'mod_reports': [],\n",
       " 'num_comments': 0,\n",
       " 'over_18': True,\n",
       " 'permalink': '/r/hotel/comments/157ry1/buck_meadows_lodge/',\n",
       " 'retrieved_on': 1413272104,\n",
       " 'score': 1,\n",
       " 'secure_media_embed': {},\n",
       " 'selftext': \" Buck Meadows Lodge, the closest motel to Yosemite on Highway 120.\\n              All of hotel rooms are air-conditioned and offer good quality beds, color TV with HBO, alarm clocks, full baths, hairdryers and free wireless internet making for perfect budget accommodations while traveling to Yosemite.  Guests of the Buck Meadows Lodge have access to the Yosemite Westgate Lodge's heated pool, spa, playground, and laundry facilities.\",\n",
       " 'stickied': False,\n",
       " 'subreddit': 'hotel',\n",
       " 'subreddit_id': 't5_2qkfv',\n",
       " 'thumbnail': 'nsfw',\n",
       " 'title': 'Buck Meadows Lodge',\n",
       " 'url': 'http://www.reddit.com/r/hotel/comments/157ry1/buck_meadows_lodge/',\n",
       " 'user_reports': []}"
      ]
     },
     "execution_count": 17,
     "metadata": {},
     "output_type": "execute_result"
    }
   ],
   "source": [
    "posts_2[0]"
   ]
  },
  {
   "cell_type": "code",
   "execution_count": null,
   "id": "12bf022b-d213-485d-baa3-6beda99604a8",
   "metadata": {},
   "outputs": [],
   "source": []
  }
 ],
 "metadata": {
  "kernelspec": {
   "display_name": "Python 3 (ipykernel)",
   "language": "python",
   "name": "python3"
  },
  "language_info": {
   "codemirror_mode": {
    "name": "ipython",
    "version": 3
   },
   "file_extension": ".py",
   "mimetype": "text/x-python",
   "name": "python",
   "nbconvert_exporter": "python",
   "pygments_lexer": "ipython3",
   "version": "3.9.12"
  }
 },
 "nbformat": 4,
 "nbformat_minor": 5
}
