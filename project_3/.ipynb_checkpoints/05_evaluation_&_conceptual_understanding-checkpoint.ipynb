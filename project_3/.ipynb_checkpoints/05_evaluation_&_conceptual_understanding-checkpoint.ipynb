{
 "cells": [
  {
   "cell_type": "markdown",
   "id": "c106f1dc-5dcd-456e-b55e-6c5334223788",
   "metadata": {},
   "source": [
    "## 05 Evaluation & Conceptual Understanding"
   ]
  },
  {
   "cell_type": "markdown",
   "id": "6f8e064a-fc7c-44a4-96a4-6df6352986a4",
   "metadata": {},
   "source": [
    "* In this notebook, first we will give an overview of the performance of all the models, and proceed to interpret the production model selected.\n",
    "* Next we are going to trace along the production model and interprete its output, by extracting the top occurance features and interpreting the output results of the classficiation model (words with highest occurance for both classes, and the relative ratio of probability of occurance between the two classes)."
   ]
  },
  {
   "cell_type": "code",
   "execution_count": 1,
   "id": "599adf84-6135-4d28-b825-08f5884037c0",
   "metadata": {},
   "outputs": [],
   "source": [
    "from nltk.tokenize import sent_tokenize, word_tokenize, RegexpTokenizer \n",
    "from nltk.stem import WordNetLemmatizer\n",
    "from nltk.stem.porter import PorterStemmer \n",
    "from nltk.corpus import stopwords \n",
    "import re\n",
    "import pandas as pd\n",
    "import matplotlib.pyplot as plt\n",
    "import seaborn as sns\n",
    "import numpy as np\n",
    "import math\n",
    "from sklearn.feature_extraction.text import CountVectorizer, TfidfVectorizer\n",
    "from sklearn.naive_bayes import MultinomialNB \n",
    "from sklearn.ensemble import RandomForestClassifier \n",
    "from sklearn.svm import SVC,LinearSVC\n",
    "from sklearn.metrics import f1_score,confusion_matrix, ConfusionMatrixDisplay,plot_roc_curve \n",
    "from sklearn.model_selection import train_test_split, cross_val_score,GridSearchCV,StratifiedKFold\n",
    "from sklearn.pipeline import Pipeline\n",
    "from sklearn.tree import DecisionTreeClassifier\n",
    "from sklearn.ensemble import GradientBoostingClassifier, AdaBoostClassifier, VotingClassifier"
   ]
  },
  {
   "cell_type": "code",
   "execution_count": 47,
   "id": "3834ca9d-c11e-4aa3-9238-6b26e772e0f6",
   "metadata": {},
   "outputs": [],
   "source": [
    "# summary of metrics "
   ]
  },
  {
   "cell_type": "markdown",
   "id": "1df34ecc-bcf7-41e5-84d2-42e4ef05ba37",
   "metadata": {},
   "source": [
    "|   |               Model                    | Training F1 | Testing F1 | Training Accuracy | Testing Accuracy |   Specificity|  NPV    |  AUC  |\n",
    "|:-:|:--------------------------------------:|:-----------:|:----------:|:-----------------:|:----------------:|:------------:|:-------:|:-----:|\n",
    "| 0 | Baseline (null model)                  |     0.947   |    0.947   |       0.899       |      0.899       |      0       |   -     | 0.50  |\n",
    "| 1 | TF-IDF + Multinomial NB                |     0.952   |    0.950   |       0.910       |      0.905       |      0.089   | 0.809   | 0.85  |\n",
    "| 2 | TF-IDF + Random Forest                 |     0.999   |    0.954   |       0.999       |      0.914       |      0.226   | 0.746   | 0.92  |\n",
    "| 3 | TF-IDF + LinearSVC                     |     0.998   |    0.928   |       0.999       |      0.961       |      0.485   | 0.713   | 0.93  |\n",
    "| 4 | TF-IDF + VotingClassifier              |     0.983   |    0.953   |       0.970       |      0.915       |      0.400   | 0.627   |  -    |\n",
    "| 5 | TF-IDF + Multinomial NB (oversampling) |     1.000   |    0.958   |       1.000       |      0.921       |      0.217   | 1.000   | 0.99  |\n",
    "| 6 | TF-IDF + Random Forest (oversampling)  |     1.000   |    0.959   |       1.000       |      0.921       |      0.243   | 1.000   | 0.99  |"
   ]
  },
  {
   "cell_type": "markdown",
   "id": "befdc164-5184-489e-8904-be8cf8164231",
   "metadata": {},
   "source": [
    "* Baseline model (predicting all results as the majority class) will give a 89.8% accuracy, but the specificity metric is 0 as the model does not correctly predict any data as the r/stocks class. \n",
    "\n",
    "* Based on the F1 scores, all models are overfit for up to 4-7%. \n",
    "\n",
    "* As we have explained in Part 04, the most two important metrics are Negative Predictive Value (NPV) and Specificity. These two collectively represent the model's ability of correctly identifying class r/stocks posts. And NPV is prioritized if we need to trade off between the two. F1 score on the testing dataset is also a metric we looked at. \n",
    "\n",
    "* As shown in the table above, performance of model 0-4 are characteristic of an imbalanced dataset. Due to the high imbalance (0.9/0.1 ratio), even the null baseline model of predicting everything as the majority class has high F1 score and accuracy as the majority class correct predition rate has overwhelmed the false prediction rates on the minority class. This effect has dominated the metrics of accuracy and F1 score, hence for accuracy and F1 score, Model 1-4 do not give much room of improvement from the baseline score. However, the metric Specificity and NPV have increased substantially. \n",
    "\n",
    "* Model 2-4 have all incorpurated class_weight='balanced' in their argument inputs to give more penalty to the false preditions on the minority class. Among Model 1-4 on the original imbalanced dataset, Model 3 LinearSVR model outperforms the other three in having the highest Specificity and NPV scores. In Model 5-6, once the training dataset has been treated using oversampling method to achieve a balanced input, the performance of the Multinomial NB and Random Forest have greatly improved, especially for their NPV scores.\n",
    "\n",
    "* As NPV is prioritized over Specificity in our casestudy, the Specificity and NPV scores of Model 5 and 6 are preferable than Model 3. For the benefit of interpretability, we will choose the Model 5 (multinomial NB with oversampling treatment) as the production model. "
   ]
  },
  {
   "cell_type": "markdown",
   "id": "09660438-7330-4dbb-86bc-5b96c0c9246b",
   "metadata": {},
   "source": [
    "#### Reproduce the production model and interprete the intermediate output"
   ]
  },
  {
   "cell_type": "code",
   "execution_count": 4,
   "id": "b1c45d68-21f5-4131-8329-d77140dcd164",
   "metadata": {},
   "outputs": [],
   "source": [
    "%store -r gs_tvec_oversample\n",
    "%store -r X2_train\n",
    "%store -r y2_train\n",
    "%store -r customized_stop_words"
   ]
  },
  {
   "cell_type": "code",
   "execution_count": 9,
   "id": "3a7efb8a-f8de-4ee3-985b-c89479ac01a6",
   "metadata": {},
   "outputs": [],
   "source": [
    "class LemmaTokenizer:\n",
    "    def __init__(self):\n",
    "        self.wnl = WordNetLemmatizer()\n",
    "    def __call__(self, doc):\n",
    "        regex_num_ponctuation = '(\\d+)|([^\\w\\s])'\n",
    "        regex_little_words = r'(\\b\\w{2,3}\\b)'\n",
    "        return [self.wnl.lemmatize(t) for t in word_tokenize(doc)\n",
    "                if not re.search(regex_num_ponctuation, t) and not re.search(regex_little_words, t)]"
   ]
  },
  {
   "cell_type": "code",
   "execution_count": 11,
   "id": "9158671b-cb0e-4d72-b5d9-12c993576ce0",
   "metadata": {},
   "outputs": [],
   "source": [
    "# specify for Tf-idf vectorizer to use lemmatized vocabulary for counting.  \n",
    "# the optimal set of parametersfrom gridsearch in Part_04 are directly specified in the model arguments below.\n",
    "tvec = TfidfVectorizer(tokenizer=LemmaTokenizer(),stop_words=customized_stop_words,max_features= 2000,\n",
    " ngram_range=(1, 1))"
   ]
  },
  {
   "cell_type": "code",
   "execution_count": 16,
   "id": "629c12b3-66d5-4cfb-9fbf-da3f45488cde",
   "metadata": {},
   "outputs": [],
   "source": [
    "X2_train_df = pd.DataFrame(tvec.fit_transform(X2_train).toarray(), \n",
    "                          columns=tvec.get_feature_names_out())"
   ]
  },
  {
   "cell_type": "code",
   "execution_count": 17,
   "id": "37e02055-5ed5-4683-b151-c459aa6d3f59",
   "metadata": {},
   "outputs": [
    {
     "data": {
      "image/png": "[encoded data removed]",
      "text/plain": [
       "<Figure size 640x480 with 1 Axes>"
      ]
     },
     "metadata": {},
     "output_type": "display_data"
    }
   ],
   "source": [
    "X2_train_df.sum().sort_values(ascending=False).head(15).plot(kind='barh').invert_yaxis();"
   ]
  },
  {
   "cell_type": "code",
   "execution_count": 21,
   "id": "59b5cffb-3e5c-413b-a52f-03c79ecc1b90",
   "metadata": {},
   "outputs": [
    {
     "data": {
      "text/html": [
       "<style>#sk-container-id-1 {color: black;background-color: white;}#sk-container-id-1 pre{padding: 0;}#sk-container-id-1 div.sk-toggleable {background-color: white;}#sk-container-id-1 label.sk-toggleable__label {cursor: pointer;display: block;width: 100%;margin-bottom: 0;padding: 0.3em;box-sizing: border-box;text-align: center;}#sk-container-id-1 label.sk-toggleable__label-arrow:before {content: \"▸\";float: left;margin-right: 0.25em;color: #696969;}#sk-container-id-1 label.sk-toggleable__label-arrow:hover:before {color: black;}#sk-container-id-1 div.sk-estimator:hover label.sk-toggleable__label-arrow:before {color: black;}#sk-container-id-1 div.sk-toggleable__content {max-height: 0;max-width: 0;overflow: hidden;text-align: left;background-color: #f0f8ff;}#sk-container-id-1 div.sk-toggleable__content pre {margin: 0.2em;color: black;border-radius: 0.25em;background-color: #f0f8ff;}#sk-container-id-1 input.sk-toggleable__control:checked~div.sk-toggleable__content {max-height: 200px;max-width: 100%;overflow: auto;}#sk-container-id-1 input.sk-toggleable__control:checked~label.sk-toggleable__label-arrow:before {content: \"▾\";}#sk-container-id-1 div.sk-estimator input.sk-toggleable__control:checked~label.sk-toggleable__label {background-color: #d4ebff;}#sk-container-id-1 div.sk-label input.sk-toggleable__control:checked~label.sk-toggleable__label {background-color: #d4ebff;}#sk-container-id-1 input.sk-hidden--visually {border: 0;clip: rect(1px 1px 1px 1px);clip: rect(1px, 1px, 1px, 1px);height: 1px;margin: -1px;overflow: hidden;padding: 0;position: absolute;width: 1px;}#sk-container-id-1 div.sk-estimator {font-family: monospace;background-color: #f0f8ff;border: 1px dotted black;border-radius: 0.25em;box-sizing: border-box;margin-bottom: 0.5em;}#sk-container-id-1 div.sk-estimator:hover {background-color: #d4ebff;}#sk-container-id-1 div.sk-parallel-item::after {content: \"\";width: 100%;border-bottom: 1px solid gray;flex-grow: 1;}#sk-container-id-1 div.sk-label:hover label.sk-toggleable__label {background-color: #d4ebff;}#sk-container-id-1 div.sk-serial::before {content: \"\";position: absolute;border-left: 1px solid gray;box-sizing: border-box;top: 0;bottom: 0;left: 50%;z-index: 0;}#sk-container-id-1 div.sk-serial {display: flex;flex-direction: column;align-items: center;background-color: white;padding-right: 0.2em;padding-left: 0.2em;position: relative;}#sk-container-id-1 div.sk-item {position: relative;z-index: 1;}#sk-container-id-1 div.sk-parallel {display: flex;align-items: stretch;justify-content: center;background-color: white;position: relative;}#sk-container-id-1 div.sk-item::before, #sk-container-id-1 div.sk-parallel-item::before {content: \"\";position: absolute;border-left: 1px solid gray;box-sizing: border-box;top: 0;bottom: 0;left: 50%;z-index: -1;}#sk-container-id-1 div.sk-parallel-item {display: flex;flex-direction: column;z-index: 1;position: relative;background-color: white;}#sk-container-id-1 div.sk-parallel-item:first-child::after {align-self: flex-end;width: 50%;}#sk-container-id-1 div.sk-parallel-item:last-child::after {align-self: flex-start;width: 50%;}#sk-container-id-1 div.sk-parallel-item:only-child::after {width: 0;}#sk-container-id-1 div.sk-dashed-wrapped {border: 1px dashed gray;margin: 0 0.4em 0.5em 0.4em;box-sizing: border-box;padding-bottom: 0.4em;background-color: white;}#sk-container-id-1 div.sk-label label {font-family: monospace;font-weight: bold;display: inline-block;line-height: 1.2em;}#sk-container-id-1 div.sk-label-container {text-align: center;}#sk-container-id-1 div.sk-container {/* jupyter's `normalize.less` sets `[hidden] { display: none; }` but bootstrap.min.css set `[hidden] { display: none !important; }` so we also need the `!important` here to be able to override the default hidden behavior on the sphinx rendered scikit-learn.org. See: https://github.com/scikit-learn/scikit-learn/issues/21755 */display: inline-block !important;position: relative;}#sk-container-id-1 div.sk-text-repr-fallback {display: none;}</style><div id=\"sk-container-id-1\" class=\"sk-top-container\"><div class=\"sk-text-repr-fallback\"><pre>MultinomialNB()</pre><b>In a Jupyter environment, please rerun this cell to show the HTML representation or trust the notebook. <br />On GitHub, the HTML representation is unable to render, please try loading this page with nbviewer.org.</b></div><div class=\"sk-container\" hidden><div class=\"sk-item\"><div class=\"sk-estimator sk-toggleable\"><input class=\"sk-toggleable__control sk-hidden--visually\" id=\"sk-estimator-id-1\" type=\"checkbox\" checked><label for=\"sk-estimator-id-1\" class=\"sk-toggleable__label sk-toggleable__label-arrow\">MultinomialNB</label><div class=\"sk-toggleable__content\"><pre>MultinomialNB()</pre></div></div></div></div></div>"
      ],
      "text/plain": [
       "MultinomialNB()"
      ]
     },
     "execution_count": 21,
     "metadata": {},
     "output_type": "execute_result"
    }
   ],
   "source": [
    "nb= MultinomialNB()\n",
    "nb.fit(X2_train_df,y2_train)"
   ]
  },
  {
   "cell_type": "markdown",
   "id": "c26d55ea-aaf2-4473-843e-30354556129b",
   "metadata": {},
   "source": [
    "Now we are going to extract the features with the highest probability of occurance for both classes. "
   ]
  },
  {
   "cell_type": "code",
   "execution_count": 23,
   "id": "84288474-e558-4dfc-9ec5-d903f26a33e0",
   "metadata": {},
   "outputs": [
    {
     "name": "stdout",
     "output_type": "stream",
     "text": [
      "r/Stock top words: ['stock' 'market' 'share' 'free' 'price' 'analysis' 'trading' 'fund'\n",
      " 'moon' 'today' 'best' 'make' 'next' 'good' 'short']\n",
      "r/Wallstreetbet top words: ['stock' 'short' 'yolo' 'market' 'money' 'moon' 'share' 'going' 'week'\n",
      " 'time' 'call' 'year' 'make' 'company' 'good']\n"
     ]
    }
   ],
   "source": [
    "neg_class_prob_sorted=nb.feature_log_prob_[0,:].argsort()[::-1]\n",
    "pos_class_prob_sorted=nb.feature_log_prob_[1,:].argsort()[::-1]\n",
    "print('r/Stock top words:',np.take(tvec.get_feature_names(), neg_class_prob_sorted[:15]))\n",
    "print('r/Wallstreetbet top words:',np.take(tvec.get_feature_names(), pos_class_prob_sorted[:15]))"
   ]
  },
  {
   "cell_type": "markdown",
   "id": "5cea58cc-be38-4fe2-9dd3-06a1a9fa67cc",
   "metadata": {},
   "source": [
    "* It can be seen that quite a few of the top occurance words are shared by both groups, like 'stock', 'market' and so on. But there do exist words that occurs highest only in one particular class, for example, 'trading', 'fund', 'analysis' only top in the stock class, while 'yolo' only top in wallstreetbet class."
   ]
  },
  {
   "cell_type": "markdown",
   "id": "367d150d-1469-4917-a539-d9b5a91128c2",
   "metadata": {},
   "source": [
    "We now put the logrithmic probability of occurance of each of the top 2000 words in both classes into a dataframe. To gain an idea of how the likelihood of occurance compares between the two classes for each word, we will add another column 'ratio_0_to_1' which is the ratio between the probability of occurance for two classes in the dataframe.\n",
    "* Those words with ratio value higher than 1 have a higher probability of occurance in class 0 (stock) relative to that of class 1 (wallstreetbet), and existence of such words in a document will contribute to its being predicted as class 0 (stock). \n",
    "* Likewise, existence of those words with a ratio smaller than 1 in a particular document will contribute to the document being predicted to class 1 (wallstreetbet)."
   ]
  },
  {
   "cell_type": "code",
   "execution_count": 34,
   "id": "15ff7cf0-fdda-412c-9db0-20593874d9c7",
   "metadata": {},
   "outputs": [],
   "source": [
    "output=pd.DataFrame()\n",
    "output['feature_name']=tvec.get_feature_names_out()\n",
    "output['class_0_log_prob']=nb.feature_log_prob_[0]\n",
    "output['class_1_log_prob']=nb.feature_log_prob_[1]\n",
    "output['ratio_0_to_1']=[(math.exp(output['class_0_log_prob'][i]-output['class_1_log_prob'][i])) for i in range(output.shape[0])]"
   ]
  },
  {
   "cell_type": "code",
   "execution_count": 44,
   "id": "66e75362-fd2f-468f-9271-0e570323c6b2",
   "metadata": {},
   "outputs": [
    {
     "data": {
      "text/html": [
       "<div>\n",
       "<style scoped>\n",
       "    .dataframe tbody tr th:only-of-type {\n",
       "        vertical-align: middle;\n",
       "    }\n",
       "\n",
       "    .dataframe tbody tr th {\n",
       "        vertical-align: top;\n",
       "    }\n",
       "\n",
       "    .dataframe thead th {\n",
       "        text-align: right;\n",
       "    }\n",
       "</style>\n",
       "<table border=\"1\" class=\"dataframe\">\n",
       "  <thead>\n",
       "    <tr style=\"text-align: right;\">\n",
       "      <th></th>\n",
       "      <th>feature_name</th>\n",
       "      <th>class_0_log_prob</th>\n",
       "      <th>class_1_log_prob</th>\n",
       "      <th>ratio_0_to_1</th>\n",
       "    </tr>\n",
       "  </thead>\n",
       "  <tbody>\n",
       "    <tr>\n",
       "      <th>1693</th>\n",
       "      <td>stock</td>\n",
       "      <td>-3.381424</td>\n",
       "      <td>-4.948459</td>\n",
       "      <td>4.792418</td>\n",
       "    </tr>\n",
       "    <tr>\n",
       "      <th>1071</th>\n",
       "      <td>market</td>\n",
       "      <td>-4.596532</td>\n",
       "      <td>-5.203417</td>\n",
       "      <td>1.834707</td>\n",
       "    </tr>\n",
       "    <tr>\n",
       "      <th>1578</th>\n",
       "      <td>share</td>\n",
       "      <td>-4.911565</td>\n",
       "      <td>-5.322494</td>\n",
       "      <td>1.508218</td>\n",
       "    </tr>\n",
       "    <tr>\n",
       "      <th>729</th>\n",
       "      <td>free</td>\n",
       "      <td>-5.028326</td>\n",
       "      <td>-6.601336</td>\n",
       "      <td>4.821142</td>\n",
       "    </tr>\n",
       "    <tr>\n",
       "      <th>1339</th>\n",
       "      <td>price</td>\n",
       "      <td>-5.090156</td>\n",
       "      <td>-5.590073</td>\n",
       "      <td>1.648584</td>\n",
       "    </tr>\n",
       "    <tr>\n",
       "      <th>70</th>\n",
       "      <td>analysis</td>\n",
       "      <td>-5.161950</td>\n",
       "      <td>-7.338273</td>\n",
       "      <td>8.813838</td>\n",
       "    </tr>\n",
       "    <tr>\n",
       "      <th>1819</th>\n",
       "      <td>trading</td>\n",
       "      <td>-5.224264</td>\n",
       "      <td>-5.992720</td>\n",
       "      <td>2.156436</td>\n",
       "    </tr>\n",
       "    <tr>\n",
       "      <th>740</th>\n",
       "      <td>fund</td>\n",
       "      <td>-5.376387</td>\n",
       "      <td>-6.423939</td>\n",
       "      <td>2.850664</td>\n",
       "    </tr>\n",
       "    <tr>\n",
       "      <th>1131</th>\n",
       "      <td>moon</td>\n",
       "      <td>-5.401462</td>\n",
       "      <td>-5.268446</td>\n",
       "      <td>0.875451</td>\n",
       "    </tr>\n",
       "    <tr>\n",
       "      <th>1804</th>\n",
       "      <td>today</td>\n",
       "      <td>-5.420398</td>\n",
       "      <td>-5.605614</td>\n",
       "      <td>1.203479</td>\n",
       "    </tr>\n",
       "  </tbody>\n",
       "</table>\n",
       "</div>"
      ],
      "text/plain": [
       "     feature_name  class_0_log_prob  class_1_log_prob  ratio_0_to_1\n",
       "1693        stock         -3.381424         -4.948459      4.792418\n",
       "1071       market         -4.596532         -5.203417      1.834707\n",
       "1578        share         -4.911565         -5.322494      1.508218\n",
       "729          free         -5.028326         -6.601336      4.821142\n",
       "1339        price         -5.090156         -5.590073      1.648584\n",
       "70       analysis         -5.161950         -7.338273      8.813838\n",
       "1819      trading         -5.224264         -5.992720      2.156436\n",
       "740          fund         -5.376387         -6.423939      2.850664\n",
       "1131         moon         -5.401462         -5.268446      0.875451\n",
       "1804        today         -5.420398         -5.605614      1.203479"
      ]
     },
     "execution_count": 44,
     "metadata": {},
     "output_type": "execute_result"
    }
   ],
   "source": [
    "output.sort_values(by='class_0_log_prob',ascending=False).head(10)"
   ]
  },
  {
   "cell_type": "code",
   "execution_count": 43,
   "id": "07a3600b-6ffa-46d3-8532-60a10979eea9",
   "metadata": {},
   "outputs": [
    {
     "data": {
      "text/html": [
       "<div>\n",
       "<style scoped>\n",
       "    .dataframe tbody tr th:only-of-type {\n",
       "        vertical-align: middle;\n",
       "    }\n",
       "\n",
       "    .dataframe tbody tr th {\n",
       "        vertical-align: top;\n",
       "    }\n",
       "\n",
       "    .dataframe thead th {\n",
       "        text-align: right;\n",
       "    }\n",
       "</style>\n",
       "<table border=\"1\" class=\"dataframe\">\n",
       "  <thead>\n",
       "    <tr style=\"text-align: right;\">\n",
       "      <th></th>\n",
       "      <th>feature_name</th>\n",
       "      <th>class_0_log_prob</th>\n",
       "      <th>class_1_log_prob</th>\n",
       "      <th>ratio_0_to_1</th>\n",
       "    </tr>\n",
       "  </thead>\n",
       "  <tbody>\n",
       "    <tr>\n",
       "      <th>1693</th>\n",
       "      <td>stock</td>\n",
       "      <td>-3.381424</td>\n",
       "      <td>-4.948459</td>\n",
       "      <td>4.792418</td>\n",
       "    </tr>\n",
       "    <tr>\n",
       "      <th>1591</th>\n",
       "      <td>short</td>\n",
       "      <td>-5.500877</td>\n",
       "      <td>-5.136656</td>\n",
       "      <td>0.694738</td>\n",
       "    </tr>\n",
       "    <tr>\n",
       "      <th>1988</th>\n",
       "      <td>yolo</td>\n",
       "      <td>-6.928502</td>\n",
       "      <td>-5.197909</td>\n",
       "      <td>0.177179</td>\n",
       "    </tr>\n",
       "    <tr>\n",
       "      <th>1071</th>\n",
       "      <td>market</td>\n",
       "      <td>-4.596532</td>\n",
       "      <td>-5.203417</td>\n",
       "      <td>1.834707</td>\n",
       "    </tr>\n",
       "    <tr>\n",
       "      <th>1126</th>\n",
       "      <td>money</td>\n",
       "      <td>-5.584302</td>\n",
       "      <td>-5.258927</td>\n",
       "      <td>0.722257</td>\n",
       "    </tr>\n",
       "    <tr>\n",
       "      <th>1131</th>\n",
       "      <td>moon</td>\n",
       "      <td>-5.401462</td>\n",
       "      <td>-5.268446</td>\n",
       "      <td>0.875451</td>\n",
       "    </tr>\n",
       "    <tr>\n",
       "      <th>1578</th>\n",
       "      <td>share</td>\n",
       "      <td>-4.911565</td>\n",
       "      <td>-5.322494</td>\n",
       "      <td>1.508218</td>\n",
       "    </tr>\n",
       "    <tr>\n",
       "      <th>771</th>\n",
       "      <td>going</td>\n",
       "      <td>-6.098365</td>\n",
       "      <td>-5.363239</td>\n",
       "      <td>0.479445</td>\n",
       "    </tr>\n",
       "    <tr>\n",
       "      <th>1932</th>\n",
       "      <td>week</td>\n",
       "      <td>-6.318719</td>\n",
       "      <td>-5.377924</td>\n",
       "      <td>0.390317</td>\n",
       "    </tr>\n",
       "    <tr>\n",
       "      <th>1798</th>\n",
       "      <td>time</td>\n",
       "      <td>-5.682948</td>\n",
       "      <td>-5.396005</td>\n",
       "      <td>0.750555</td>\n",
       "    </tr>\n",
       "  </tbody>\n",
       "</table>\n",
       "</div>"
      ],
      "text/plain": [
       "     feature_name  class_0_log_prob  class_1_log_prob  ratio_0_to_1\n",
       "1693        stock         -3.381424         -4.948459      4.792418\n",
       "1591        short         -5.500877         -5.136656      0.694738\n",
       "1988         yolo         -6.928502         -5.197909      0.177179\n",
       "1071       market         -4.596532         -5.203417      1.834707\n",
       "1126        money         -5.584302         -5.258927      0.722257\n",
       "1131         moon         -5.401462         -5.268446      0.875451\n",
       "1578        share         -4.911565         -5.322494      1.508218\n",
       "771         going         -6.098365         -5.363239      0.479445\n",
       "1932         week         -6.318719         -5.377924      0.390317\n",
       "1798         time         -5.682948         -5.396005      0.750555"
      ]
     },
     "execution_count": 43,
     "metadata": {},
     "output_type": "execute_result"
    }
   ],
   "source": [
    "output.sort_values(by='class_1_log_prob',ascending=False).head(10)"
   ]
  },
  {
   "cell_type": "code",
   "execution_count": 62,
   "id": "3aa0cf4c-5799-44df-b21f-6dd2d316e5fe",
   "metadata": {},
   "outputs": [
    {
     "data": {
      "text/plain": [
       "(23, 4)"
      ]
     },
     "execution_count": 62,
     "metadata": {},
     "output_type": "execute_result"
    }
   ],
   "source": [
    "visual=pd.concat([output.sort_values(by='class_0_log_prob',ascending=False).head(15),output.sort_values(by='class_1_log_prob',ascending=False).head(15)])\n",
    "visual.drop_duplicates(inplace=True)\n",
    "visual.shape"
   ]
  },
  {
   "cell_type": "markdown",
   "id": "22891b21-99d3-44b3-b153-3e3986174736",
   "metadata": {},
   "source": [
    "From the number of dropped duplicates, we know that there are 7 words that are among the top 15 features for both classes. \n",
    "\n",
    "Next we will create a new dataframe to represent the true probablity of occurance for the top words."
   ]
  },
  {
   "cell_type": "code",
   "execution_count": 79,
   "id": "63ec7447-b311-4ba8-8c32-0157f0b4f51c",
   "metadata": {},
   "outputs": [],
   "source": [
    "visual_to_scale['class_0_prob']= [math.exp(visual['class_0_log_prob'][i]) for i in range(visual.shape[0])]\n",
    "visual_to_scale['class_1_prob']= [math.exp(visual['class_1_log_prob'][i]) for i in range(visual.shape[0])]\n",
    "visual_to_scale.drop(columns=['class_0_log_prob','class_1_log_prob'],inplace=True)"
   ]
  },
  {
   "cell_type": "code",
   "execution_count": 169,
   "id": "4cc27015-fa2a-467a-afd9-4788ebcb512a",
   "metadata": {},
   "outputs": [
    {
     "data": {
      "text/html": [
       "<div>\n",
       "<style scoped>\n",
       "    .dataframe tbody tr th:only-of-type {\n",
       "        vertical-align: middle;\n",
       "    }\n",
       "\n",
       "    .dataframe tbody tr th {\n",
       "        vertical-align: top;\n",
       "    }\n",
       "\n",
       "    .dataframe thead th {\n",
       "        text-align: right;\n",
       "    }\n",
       "</style>\n",
       "<table border=\"1\" class=\"dataframe\">\n",
       "  <thead>\n",
       "    <tr style=\"text-align: right;\">\n",
       "      <th></th>\n",
       "      <th>feature_name</th>\n",
       "      <th>ratio_0_to_1</th>\n",
       "      <th>class_0_prob</th>\n",
       "      <th>class_1_prob</th>\n",
       "    </tr>\n",
       "  </thead>\n",
       "  <tbody>\n",
       "    <tr>\n",
       "      <th>0</th>\n",
       "      <td>analysis</td>\n",
       "      <td>8.813838</td>\n",
       "      <td>0.005731</td>\n",
       "      <td>0.000650</td>\n",
       "    </tr>\n",
       "    <tr>\n",
       "      <th>1</th>\n",
       "      <td>free</td>\n",
       "      <td>4.821142</td>\n",
       "      <td>0.006550</td>\n",
       "      <td>0.001359</td>\n",
       "    </tr>\n",
       "    <tr>\n",
       "      <th>2</th>\n",
       "      <td>stock</td>\n",
       "      <td>4.792418</td>\n",
       "      <td>0.033999</td>\n",
       "      <td>0.007094</td>\n",
       "    </tr>\n",
       "    <tr>\n",
       "      <th>3</th>\n",
       "      <td>fund</td>\n",
       "      <td>2.850664</td>\n",
       "      <td>0.004625</td>\n",
       "      <td>0.001622</td>\n",
       "    </tr>\n",
       "    <tr>\n",
       "      <th>4</th>\n",
       "      <td>trading</td>\n",
       "      <td>2.156436</td>\n",
       "      <td>0.005384</td>\n",
       "      <td>0.002497</td>\n",
       "    </tr>\n",
       "    <tr>\n",
       "      <th>5</th>\n",
       "      <td>best</td>\n",
       "      <td>2.001284</td>\n",
       "      <td>0.004336</td>\n",
       "      <td>0.002167</td>\n",
       "    </tr>\n",
       "    <tr>\n",
       "      <th>6</th>\n",
       "      <td>market</td>\n",
       "      <td>1.834707</td>\n",
       "      <td>0.010087</td>\n",
       "      <td>0.005498</td>\n",
       "    </tr>\n",
       "    <tr>\n",
       "      <th>7</th>\n",
       "      <td>price</td>\n",
       "      <td>1.648584</td>\n",
       "      <td>0.006157</td>\n",
       "      <td>0.003735</td>\n",
       "    </tr>\n",
       "    <tr>\n",
       "      <th>8</th>\n",
       "      <td>share</td>\n",
       "      <td>1.508218</td>\n",
       "      <td>0.007361</td>\n",
       "      <td>0.004881</td>\n",
       "    </tr>\n",
       "    <tr>\n",
       "      <th>9</th>\n",
       "      <td>next</td>\n",
       "      <td>1.443003</td>\n",
       "      <td>0.004280</td>\n",
       "      <td>0.002966</td>\n",
       "    </tr>\n",
       "    <tr>\n",
       "      <th>10</th>\n",
       "      <td>today</td>\n",
       "      <td>1.203479</td>\n",
       "      <td>0.004425</td>\n",
       "      <td>0.003677</td>\n",
       "    </tr>\n",
       "    <tr>\n",
       "      <th>11</th>\n",
       "      <td>good</td>\n",
       "      <td>1.094301</td>\n",
       "      <td>0.004204</td>\n",
       "      <td>0.003842</td>\n",
       "    </tr>\n",
       "    <tr>\n",
       "      <th>12</th>\n",
       "      <td>make</td>\n",
       "      <td>1.016546</td>\n",
       "      <td>0.004318</td>\n",
       "      <td>0.004248</td>\n",
       "    </tr>\n",
       "    <tr>\n",
       "      <th>13</th>\n",
       "      <td>moon</td>\n",
       "      <td>0.875451</td>\n",
       "      <td>0.004510</td>\n",
       "      <td>0.005152</td>\n",
       "    </tr>\n",
       "    <tr>\n",
       "      <th>14</th>\n",
       "      <td>company</td>\n",
       "      <td>0.797988</td>\n",
       "      <td>0.003239</td>\n",
       "      <td>0.004059</td>\n",
       "    </tr>\n",
       "    <tr>\n",
       "      <th>15</th>\n",
       "      <td>time</td>\n",
       "      <td>0.750555</td>\n",
       "      <td>0.003404</td>\n",
       "      <td>0.004535</td>\n",
       "    </tr>\n",
       "    <tr>\n",
       "      <th>16</th>\n",
       "      <td>money</td>\n",
       "      <td>0.722257</td>\n",
       "      <td>0.003756</td>\n",
       "      <td>0.005201</td>\n",
       "    </tr>\n",
       "    <tr>\n",
       "      <th>17</th>\n",
       "      <td>short</td>\n",
       "      <td>0.694738</td>\n",
       "      <td>0.004083</td>\n",
       "      <td>0.005877</td>\n",
       "    </tr>\n",
       "    <tr>\n",
       "      <th>18</th>\n",
       "      <td>year</td>\n",
       "      <td>0.641210</td>\n",
       "      <td>0.002724</td>\n",
       "      <td>0.004248</td>\n",
       "    </tr>\n",
       "    <tr>\n",
       "      <th>19</th>\n",
       "      <td>call</td>\n",
       "      <td>0.551101</td>\n",
       "      <td>0.002489</td>\n",
       "      <td>0.004517</td>\n",
       "    </tr>\n",
       "    <tr>\n",
       "      <th>20</th>\n",
       "      <td>going</td>\n",
       "      <td>0.479445</td>\n",
       "      <td>0.002247</td>\n",
       "      <td>0.004686</td>\n",
       "    </tr>\n",
       "    <tr>\n",
       "      <th>21</th>\n",
       "      <td>week</td>\n",
       "      <td>0.390317</td>\n",
       "      <td>0.001802</td>\n",
       "      <td>0.004617</td>\n",
       "    </tr>\n",
       "    <tr>\n",
       "      <th>22</th>\n",
       "      <td>yolo</td>\n",
       "      <td>0.177179</td>\n",
       "      <td>0.000979</td>\n",
       "      <td>0.005528</td>\n",
       "    </tr>\n",
       "  </tbody>\n",
       "</table>\n",
       "</div>"
      ],
      "text/plain": [
       "   feature_name  ratio_0_to_1  class_0_prob  class_1_prob\n",
       "0      analysis      8.813838      0.005731      0.000650\n",
       "1          free      4.821142      0.006550      0.001359\n",
       "2         stock      4.792418      0.033999      0.007094\n",
       "3          fund      2.850664      0.004625      0.001622\n",
       "4       trading      2.156436      0.005384      0.002497\n",
       "5          best      2.001284      0.004336      0.002167\n",
       "6        market      1.834707      0.010087      0.005498\n",
       "7         price      1.648584      0.006157      0.003735\n",
       "8         share      1.508218      0.007361      0.004881\n",
       "9          next      1.443003      0.004280      0.002966\n",
       "10        today      1.203479      0.004425      0.003677\n",
       "11         good      1.094301      0.004204      0.003842\n",
       "12         make      1.016546      0.004318      0.004248\n",
       "13         moon      0.875451      0.004510      0.005152\n",
       "14      company      0.797988      0.003239      0.004059\n",
       "15         time      0.750555      0.003404      0.004535\n",
       "16        money      0.722257      0.003756      0.005201\n",
       "17        short      0.694738      0.004083      0.005877\n",
       "18         year      0.641210      0.002724      0.004248\n",
       "19         call      0.551101      0.002489      0.004517\n",
       "20        going      0.479445      0.002247      0.004686\n",
       "21         week      0.390317      0.001802      0.004617\n",
       "22         yolo      0.177179      0.000979      0.005528"
      ]
     },
     "execution_count": 169,
     "metadata": {},
     "output_type": "execute_result"
    }
   ],
   "source": [
    "visual_to_scale.sort_values(by='ratio_0_to_1',ascending=False,inplace=True)\n",
    "visual_to_scale.reset_index(drop=True,inplace=True)\n",
    "visual_to_scale"
   ]
  },
  {
   "cell_type": "code",
   "execution_count": 172,
   "id": "90754778-7f98-440b-befd-c912999d0eaa",
   "metadata": {},
   "outputs": [
    {
     "data": {
      "image/png": "[encoded data removed]",
      "text/plain": [
       "<Figure size 1800x900 with 3 Axes>"
      ]
     },
     "metadata": {},
     "output_type": "display_data"
    }
   ],
   "source": [
    "fig,ax=plt.subplots(figsize=(18,9))\n",
    "ax.plot(visual_to_scale.sort_values(by='ratio_0_to_1',ascending=False)['feature_name'],visual_to_scale['ratio_0_to_1'],color='navy')\n",
    "ax.axhline(y=1,linestyle = 'dashed',color='crimson')\n",
    "ax.set_ylim([0,9])\n",
    "ax.set_ylabel('Contribution Ratio: class 0 to class 1')\n",
    "\n",
    "ax2=ax.twinx()\n",
    "ax2.bar(visual_to_scale.sort_values(by='ratio_0_to_1',ascending=False)['feature_name'],visual_to_scale['class_0_prob'],color='blue',alpha=0.5)\n",
    "ax2.set_ylim([0,0.035])\n",
    "ax2.legend('0',loc='upper right', bbox_to_anchor=(1, 1))\n",
    "\n",
    "ax3=ax.twinx()\n",
    "ax3.bar(visual_to_scale.sort_values(by='ratio_0_to_1',ascending=False)['feature_name'],visual_to_scale['class_1_prob'],color='yellow',alpha=0.5)\n",
    "ax3.set_ylim([0,0.035])\n",
    "ax3.legend('1',loc='upper right', bbox_to_anchor=(1, 0.955))\n",
    "ax3.set_ylabel('Contributed probability')\n",
    "\n",
    "plt.show()"
   ]
  },
  {
   "cell_type": "markdown",
   "id": "5412d4d5-93ef-48ce-a929-7c1782f7e15a",
   "metadata": {},
   "source": [
    "#### Interpretations:\n",
    "\n",
    "1. On the X-axis are the top 15 features from both r/stocks and r/wallstreetbets. As there are 7 overlaping features, in total there are 23 features in the plot. \n",
    "\n",
    "2. The blue bars represents each word's probability of occurance in a Class 0 (r/stocks) post; whereas the yellow bars represents each word's probability of occurance in a Class 1 (r/wallstreetbets) post. The y values of the bar plots are on the right side. Based on the Naive Bayes assumption, we can effectively interprete the blue bars as the probabilitistic contribution of the presence of a particular word in a text document to the probabilitity of that document belonging to Class 0 (stock); and likewise, the yellow bars represent the probabilitstic contribution of the presence of a particular word in a text document to the probability of that document belonging to Class 1 (wallstreetbet).\n",
    "\n",
    "3. The blue line represents the ratio between the two probabilities of occurance in Class 0 (r/stocks) post versus in Class 1 (r/wallstreetbets) post for a particular word.  The y values of the line plot is on the left side. The blue line gives a good indication of a word's relative contribution to classifying documents with the word to r/stocks versus to r/wallstreetbets. \n",
    "\n",
    "4. The words on the X-axis are sorted in decending order in the ratio of the two probabilities as defined in (3). Hence the more towards the left, presence of the words are more biased to contributing to classifying documents with them as r/stocks, whereas the more towards the right, presence of these words are more biased to contributing to classifying documents with them as r/wallstreetbets.\n",
    "\n",
    "5. The dashed horizontal red line denotes y=1, and its intersection with the blue line defined in (3) have seperated the words on the X-axis to two groups: presence of those of the left side have a higher contribution to classifying to r/stocks rather than r/wallstreetbets subreddit; presence of those words to the right hand side have a higher contribution classifying into r/wallstreetbets. \n",
    "\n",
    "6. If we want to identify the top words that distinguish a document as a 'r/stocks' post, then we should take from the left hand side, the most prominent five being 'analysis', 'free', 'stock', 'fund' and 'trading'. \n",
    "\n",
    "7. Likewise, if we want to identify the top words that distinguish a document as a 'r/wallstreetbets' post, we should take from the right hand side, the most prominent five being 'yolo', 'week', 'going', 'call' and 'year'. \n",
    "\n",
    "8. It can be seen from the bar charts that there are some common top occurance words that have similar probablistic contribution to both classes, such as 'good', 'make' and 'moon'. If there is future analysis on top of this work, these words can be added to the stop_word list, as they do not help much to distinguish between the two classes."
   ]
  },
  {
   "cell_type": "code",
   "execution_count": null,
   "id": "825c1f5a-5da8-49e0-8eee-994536cac564",
   "metadata": {},
   "outputs": [],
   "source": []
  }
 ],
 "metadata": {
  "kernelspec": {
   "display_name": "Python 3 (ipykernel)",
   "language": "python",
   "name": "python3"
  },
  "language_info": {
   "codemirror_mode": {
    "name": "ipython",
    "version": 3
   },
   "file_extension": ".py",
   "mimetype": "text/x-python",
   "name": "python",
   "nbconvert_exporter": "python",
   "pygments_lexer": "ipython3",
   "version": "3.9.13"
  }
 },
 "nbformat": 4,
 "nbformat_minor": 5
}
