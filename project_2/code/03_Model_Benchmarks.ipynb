{
 "cells": [
  {
   "cell_type": "markdown",
   "metadata": {},
   "source": [
    "<img src=\"http://imgur.com/1ZcRyrc.png\" style=\"float: left; margin: 20px; height: 55px\">\n",
    "\n",
    "# Project 2\n",
    "## Part 3: Model Benchmarks"
   ]
  },
  {
   "cell_type": "code",
   "execution_count": 1,
   "metadata": {},
   "outputs": [],
   "source": [
    "import pandas as pd\n",
    "import numpy as np\n",
    "import math\n",
    "from tabulate import tabulate\n",
    "import seaborn as sns\n",
    "import matplotlib.pyplot as plt\n",
    "from sklearn.linear_model import LinearRegression, Lasso, LassoCV, RidgeCV,LogisticRegression\n",
    "from sklearn.preprocessing import StandardScaler\n",
    "from sklearn.model_selection import train_test_split, cross_val_score\n",
    "from sklearn.metrics import r2_score\n",
    "from sklearn.impute import SimpleImputer\n",
    "from sklearn.feature_selection import SelectFromModel"
   ]
  },
  {
   "cell_type": "code",
   "execution_count": 2,
   "metadata": {},
   "outputs": [],
   "source": [
    "%store -r X_scaled\n",
    "%store -r y_train\n",
    "%store -r X_test\n",
    "%store -r y_test"
   ]
  },
  {
   "cell_type": "markdown",
   "metadata": {},
   "source": [
    "### Baseline Model"
   ]
  },
  {
   "cell_type": "markdown",
   "metadata": {},
   "source": [
    "Taking the mean value from the training dataset as the predicted values. "
   ]
  },
  {
   "cell_type": "code",
   "execution_count": 3,
   "metadata": {},
   "outputs": [],
   "source": [
    "y_predict=y_train.mean()"
   ]
  },
  {
   "cell_type": "code",
   "execution_count": 4,
   "metadata": {},
   "outputs": [],
   "source": [
    "Null_MSE=np.mean((y_test-y_predict)**2)"
   ]
  },
  {
   "cell_type": "code",
   "execution_count": 5,
   "metadata": {},
   "outputs": [],
   "source": [
    "# Root Mean Square Errors for the testing dataset\n",
    "RMSE=math.sqrt(Null_MSE)\n",
    "R_2=0"
   ]
  },
  {
   "cell_type": "code",
   "execution_count": 6,
   "metadata": {},
   "outputs": [
    {
     "name": "stdout",
     "output_type": "stream",
     "text": [
      "\n",
      "The metrics for the Baseline Null Model are:\n",
      "\n",
      "| Metric     |   Value |\n",
      "|------------+---------|\n",
      "| RMSE       | 87288.1 |\n",
      "| R^2 (test) |     0   |\n"
     ]
    }
   ],
   "source": [
    "print(f'\\nThe metrics for the Baseline Null Model are:\\n')\n",
    "print(tabulate([['RMSE', RMSE], ['R^2 (test)', round(R_2,3)]], headers=['Metric', 'Value'], tablefmt='orgtbl'))"
   ]
  },
  {
   "cell_type": "markdown",
   "metadata": {
    "tags": []
   },
   "source": [
    "### OLS Model"
   ]
  },
  {
   "cell_type": "code",
   "execution_count": 7,
   "metadata": {},
   "outputs": [],
   "source": [
    "lr=LinearRegression()"
   ]
  },
  {
   "cell_type": "code",
   "execution_count": 8,
   "metadata": {},
   "outputs": [],
   "source": [
    "ols=lr.fit(X_scaled,y_train)"
   ]
  },
  {
   "cell_type": "code",
   "execution_count": 9,
   "metadata": {},
   "outputs": [
    {
     "data": {
      "text/plain": [
       "0.9492799834139457"
      ]
     },
     "execution_count": 9,
     "metadata": {},
     "output_type": "execute_result"
    }
   ],
   "source": [
    "ols.score(X_scaled,y_train)"
   ]
  },
  {
   "cell_type": "code",
   "execution_count": 10,
   "metadata": {},
   "outputs": [
    {
     "data": {
      "text/plain": [
       "-66.80513366416575"
      ]
     },
     "execution_count": 10,
     "metadata": {},
     "output_type": "execute_result"
    }
   ],
   "source": [
    "ols.score(X_test,y_test)"
   ]
  },
  {
   "cell_type": "code",
   "execution_count": 11,
   "metadata": {},
   "outputs": [],
   "source": [
    "y_predict=ols.predict(X_test)"
   ]
  },
  {
   "cell_type": "code",
   "execution_count": 12,
   "metadata": {},
   "outputs": [],
   "source": [
    "RMSE=math.sqrt(np.mean((y_test-y_predict)**2))\n",
    "R_2=1-RMSE**2/Null_MSE"
   ]
  },
  {
   "cell_type": "code",
   "execution_count": 13,
   "metadata": {},
   "outputs": [
    {
     "name": "stdout",
     "output_type": "stream",
     "text": [
      "\n",
      "The metrics for the Linear Regression Model are:\n",
      "\n",
      "| Metric        |      Value |\n",
      "|---------------+------------|\n",
      "| RMSE          | 717971     |\n",
      "| R^2 (test)    |    -66.656 |\n",
      "| Score (train) |      0.949 |\n"
     ]
    }
   ],
   "source": [
    "print(f'\\nThe metrics for the Linear Regression Model are:\\n')\n",
    "print(tabulate([['RMSE', RMSE], ['R^2 (test)', round(R_2,3)], ['Score (train)',round(ols.score(X_scaled,y_train),3)]], headers=['Metric', 'Value'], tablefmt='orgtbl'))"
   ]
  },
  {
   "cell_type": "markdown",
   "metadata": {},
   "source": [
    "This says that the OLS model here is a severely overfit model, and it does not explain any of the variations in y by X for the testing dataset. Hence it will not replace the null model as the baseline model."
   ]
  },
  {
   "cell_type": "markdown",
   "metadata": {},
   "source": [
    "### RidgeCV Model"
   ]
  },
  {
   "cell_type": "markdown",
   "metadata": {},
   "source": [
    "The follow range for alphas as input parameter is chosen based on parametric experiments, in a way such that convergence is guranteed for the Ridge model and also covers the range where the optimal alpha value lies."
   ]
  },
  {
   "cell_type": "code",
   "execution_count": 14,
   "metadata": {},
   "outputs": [],
   "source": [
    "r_alphas = np.logspace(1, 4, 1000)"
   ]
  },
  {
   "cell_type": "code",
   "execution_count": 15,
   "metadata": {},
   "outputs": [],
   "source": [
    "# Cross-validate over our list of ridge alphas.\n",
    "# alphas: pass an Array of alpha values to try. It is still the Regularization strength\n",
    "ridge_cv = RidgeCV(alphas=r_alphas, scoring='r2', cv=3)"
   ]
  },
  {
   "cell_type": "code",
   "execution_count": 16,
   "metadata": {},
   "outputs": [
    {
     "data": {
      "text/html": [
       "<style>#sk-container-id-1 {color: black;background-color: white;}#sk-container-id-1 pre{padding: 0;}#sk-container-id-1 div.sk-toggleable {background-color: white;}#sk-container-id-1 label.sk-toggleable__label {cursor: pointer;display: block;width: 100%;margin-bottom: 0;padding: 0.3em;box-sizing: border-box;text-align: center;}#sk-container-id-1 label.sk-toggleable__label-arrow:before {content: \"▸\";float: left;margin-right: 0.25em;color: #696969;}#sk-container-id-1 label.sk-toggleable__label-arrow:hover:before {color: black;}#sk-container-id-1 div.sk-estimator:hover label.sk-toggleable__label-arrow:before {color: black;}#sk-container-id-1 div.sk-toggleable__content {max-height: 0;max-width: 0;overflow: hidden;text-align: left;background-color: #f0f8ff;}#sk-container-id-1 div.sk-toggleable__content pre {margin: 0.2em;color: black;border-radius: 0.25em;background-color: #f0f8ff;}#sk-container-id-1 input.sk-toggleable__control:checked~div.sk-toggleable__content {max-height: 200px;max-width: 100%;overflow: auto;}#sk-container-id-1 input.sk-toggleable__control:checked~label.sk-toggleable__label-arrow:before {content: \"▾\";}#sk-container-id-1 div.sk-estimator input.sk-toggleable__control:checked~label.sk-toggleable__label {background-color: #d4ebff;}#sk-container-id-1 div.sk-label input.sk-toggleable__control:checked~label.sk-toggleable__label {background-color: #d4ebff;}#sk-container-id-1 input.sk-hidden--visually {border: 0;clip: rect(1px 1px 1px 1px);clip: rect(1px, 1px, 1px, 1px);height: 1px;margin: -1px;overflow: hidden;padding: 0;position: absolute;width: 1px;}#sk-container-id-1 div.sk-estimator {font-family: monospace;background-color: #f0f8ff;border: 1px dotted black;border-radius: 0.25em;box-sizing: border-box;margin-bottom: 0.5em;}#sk-container-id-1 div.sk-estimator:hover {background-color: #d4ebff;}#sk-container-id-1 div.sk-parallel-item::after {content: \"\";width: 100%;border-bottom: 1px solid gray;flex-grow: 1;}#sk-container-id-1 div.sk-label:hover label.sk-toggleable__label {background-color: #d4ebff;}#sk-container-id-1 div.sk-serial::before {content: \"\";position: absolute;border-left: 1px solid gray;box-sizing: border-box;top: 0;bottom: 0;left: 50%;z-index: 0;}#sk-container-id-1 div.sk-serial {display: flex;flex-direction: column;align-items: center;background-color: white;padding-right: 0.2em;padding-left: 0.2em;position: relative;}#sk-container-id-1 div.sk-item {position: relative;z-index: 1;}#sk-container-id-1 div.sk-parallel {display: flex;align-items: stretch;justify-content: center;background-color: white;position: relative;}#sk-container-id-1 div.sk-item::before, #sk-container-id-1 div.sk-parallel-item::before {content: \"\";position: absolute;border-left: 1px solid gray;box-sizing: border-box;top: 0;bottom: 0;left: 50%;z-index: -1;}#sk-container-id-1 div.sk-parallel-item {display: flex;flex-direction: column;z-index: 1;position: relative;background-color: white;}#sk-container-id-1 div.sk-parallel-item:first-child::after {align-self: flex-end;width: 50%;}#sk-container-id-1 div.sk-parallel-item:last-child::after {align-self: flex-start;width: 50%;}#sk-container-id-1 div.sk-parallel-item:only-child::after {width: 0;}#sk-container-id-1 div.sk-dashed-wrapped {border: 1px dashed gray;margin: 0 0.4em 0.5em 0.4em;box-sizing: border-box;padding-bottom: 0.4em;background-color: white;}#sk-container-id-1 div.sk-label label {font-family: monospace;font-weight: bold;display: inline-block;line-height: 1.2em;}#sk-container-id-1 div.sk-label-container {text-align: center;}#sk-container-id-1 div.sk-container {/* jupyter's `normalize.less` sets `[hidden] { display: none; }` but bootstrap.min.css set `[hidden] { display: none !important; }` so we also need the `!important` here to be able to override the default hidden behavior on the sphinx rendered scikit-learn.org. See: https://github.com/scikit-learn/scikit-learn/issues/21755 */display: inline-block !important;position: relative;}#sk-container-id-1 div.sk-text-repr-fallback {display: none;}</style><div id=\"sk-container-id-1\" class=\"sk-top-container\"><div class=\"sk-text-repr-fallback\"><pre>RidgeCV(alphas=array([   10.        ,    10.06938631,    10.13925408,    10.20960662,\n",
       "          10.28044732,    10.35177956,    10.42360674,    10.49593231,\n",
       "          10.56875971,    10.64209244,    10.715934  ,    10.79028792,\n",
       "          10.86515775,    10.94054707,    11.0164595 ,    11.09289865,\n",
       "          11.16986818,    11.24737178,    11.32541315,    11.40399602,\n",
       "          11.48312415,    11.56280131,    11.64303133,    11.72381803,\n",
       "          11.80516529,    11.88707698,    11.96955702,    12.05260937,\n",
       "          12....\n",
       "        8296.95852083,  8354.52805838,  8412.49704974,  8470.86826656,\n",
       "        8529.64449974,  8588.82855955,  8648.42327573,  8708.43149769,\n",
       "        8768.85609459,  8829.69995549,  8890.96598953,  8952.657126  ,\n",
       "        9014.77631452,  9077.32652521,  9140.31074876,  9203.73199662,\n",
       "        9267.59330115,  9331.89771573,  9396.64831495,  9461.84819472,\n",
       "        9527.50047243,  9593.60828709,  9660.17479952,  9727.20319245,\n",
       "        9794.6966707 ,  9862.65846131,  9931.09181375, 10000.        ]),\n",
       "        cv=3, scoring=&#x27;r2&#x27;)</pre><b>In a Jupyter environment, please rerun this cell to show the HTML representation or trust the notebook. <br />On GitHub, the HTML representation is unable to render, please try loading this page with nbviewer.org.</b></div><div class=\"sk-container\" hidden><div class=\"sk-item\"><div class=\"sk-estimator sk-toggleable\"><input class=\"sk-toggleable__control sk-hidden--visually\" id=\"sk-estimator-id-1\" type=\"checkbox\" checked><label for=\"sk-estimator-id-1\" class=\"sk-toggleable__label sk-toggleable__label-arrow\">RidgeCV</label><div class=\"sk-toggleable__content\"><pre>RidgeCV(alphas=array([   10.        ,    10.06938631,    10.13925408,    10.20960662,\n",
       "          10.28044732,    10.35177956,    10.42360674,    10.49593231,\n",
       "          10.56875971,    10.64209244,    10.715934  ,    10.79028792,\n",
       "          10.86515775,    10.94054707,    11.0164595 ,    11.09289865,\n",
       "          11.16986818,    11.24737178,    11.32541315,    11.40399602,\n",
       "          11.48312415,    11.56280131,    11.64303133,    11.72381803,\n",
       "          11.80516529,    11.88707698,    11.96955702,    12.05260937,\n",
       "          12....\n",
       "        8296.95852083,  8354.52805838,  8412.49704974,  8470.86826656,\n",
       "        8529.64449974,  8588.82855955,  8648.42327573,  8708.43149769,\n",
       "        8768.85609459,  8829.69995549,  8890.96598953,  8952.657126  ,\n",
       "        9014.77631452,  9077.32652521,  9140.31074876,  9203.73199662,\n",
       "        9267.59330115,  9331.89771573,  9396.64831495,  9461.84819472,\n",
       "        9527.50047243,  9593.60828709,  9660.17479952,  9727.20319245,\n",
       "        9794.6966707 ,  9862.65846131,  9931.09181375, 10000.        ]),\n",
       "        cv=3, scoring=&#x27;r2&#x27;)</pre></div></div></div></div></div>"
      ],
      "text/plain": [
       "RidgeCV(alphas=array([   10.        ,    10.06938631,    10.13925408,    10.20960662,\n",
       "          10.28044732,    10.35177956,    10.42360674,    10.49593231,\n",
       "          10.56875971,    10.64209244,    10.715934  ,    10.79028792,\n",
       "          10.86515775,    10.94054707,    11.0164595 ,    11.09289865,\n",
       "          11.16986818,    11.24737178,    11.32541315,    11.40399602,\n",
       "          11.48312415,    11.56280131,    11.64303133,    11.72381803,\n",
       "          11.80516529,    11.88707698,    11.96955702,    12.05260937,\n",
       "          12....\n",
       "        8296.95852083,  8354.52805838,  8412.49704974,  8470.86826656,\n",
       "        8529.64449974,  8588.82855955,  8648.42327573,  8708.43149769,\n",
       "        8768.85609459,  8829.69995549,  8890.96598953,  8952.657126  ,\n",
       "        9014.77631452,  9077.32652521,  9140.31074876,  9203.73199662,\n",
       "        9267.59330115,  9331.89771573,  9396.64831495,  9461.84819472,\n",
       "        9527.50047243,  9593.60828709,  9660.17479952,  9727.20319245,\n",
       "        9794.6966707 ,  9862.65846131,  9931.09181375, 10000.        ]),\n",
       "        cv=3, scoring='r2')"
      ]
     },
     "execution_count": 16,
     "metadata": {},
     "output_type": "execute_result"
    }
   ],
   "source": [
    "ridge_cv.fit(X_scaled,y_train)"
   ]
  },
  {
   "cell_type": "code",
   "execution_count": 17,
   "metadata": {},
   "outputs": [
    {
     "data": {
      "text/plain": [
       "0.9152627156130047"
      ]
     },
     "execution_count": 17,
     "metadata": {},
     "output_type": "execute_result"
    }
   ],
   "source": [
    "ridge_cv.score(X_scaled,y_train)"
   ]
  },
  {
   "cell_type": "code",
   "execution_count": 18,
   "metadata": {},
   "outputs": [
    {
     "data": {
      "text/plain": [
       "0.7740652557376815"
      ]
     },
     "execution_count": 18,
     "metadata": {},
     "output_type": "execute_result"
    }
   ],
   "source": [
    "ridge_cv.score(X_test,y_test)"
   ]
  },
  {
   "cell_type": "code",
   "execution_count": 19,
   "metadata": {},
   "outputs": [
    {
     "data": {
      "text/plain": [
       "335.3710152002929"
      ]
     },
     "execution_count": 19,
     "metadata": {},
     "output_type": "execute_result"
    }
   ],
   "source": [
    "ridge_cv.alpha_"
   ]
  },
  {
   "cell_type": "code",
   "execution_count": 20,
   "metadata": {},
   "outputs": [],
   "source": [
    "y_predict=ridge_cv.predict(X_test)"
   ]
  },
  {
   "cell_type": "code",
   "execution_count": 21,
   "metadata": {},
   "outputs": [],
   "source": [
    "RMSE=math.sqrt(np.mean((y_test-y_predict)**2))\n",
    "R_2=1-RMSE**2/Null_MSE\n",
    "metrics={'RMSE':round(RMSE),'R2':round(R_2,3)}"
   ]
  },
  {
   "cell_type": "code",
   "execution_count": 22,
   "metadata": {},
   "outputs": [
    {
     "name": "stdout",
     "output_type": "stream",
     "text": [
      "\n",
      "The metrics for the RidgeCV Model are:\n",
      "\n",
      "| Metric        |     Value |\n",
      "|---------------+-----------|\n",
      "| RMSE          | 41444.5   |\n",
      "| R^2 (test)    |     0.775 |\n",
      "| Score (train) |     0.915 |\n"
     ]
    }
   ],
   "source": [
    "print(f'\\nThe metrics for the RidgeCV Model are:\\n')\n",
    "print(tabulate([['RMSE', RMSE], ['R^2 (test)', round(R_2,3)], ['Score (train)',round(ridge_cv.score(X_scaled,y_train),3)]], headers=['Metric', 'Value'], tablefmt='orgtbl'))"
   ]
  },
  {
   "cell_type": "markdown",
   "metadata": {},
   "source": [
    "Though the R^2 on the training dataset is quite ok, the 0.77 value on the test dataset suggests that this model is quite a overfit model, and may not generalize well to new data. "
   ]
  },
  {
   "cell_type": "markdown",
   "metadata": {},
   "source": [
    "### LassoCV Model"
   ]
  },
  {
   "cell_type": "markdown",
   "metadata": {},
   "source": [
    "From parametric experiments, alpha=10^2.1 is the smallest alpha value that gurantees convergence. Hence the range of list of alphas input here is chosen such that it covers the optimal alpha value and approximates it more and mroe through iterations. "
   ]
  },
  {
   "cell_type": "code",
   "execution_count": 23,
   "metadata": {},
   "outputs": [],
   "source": [
    "l_alphas = np.logspace(2.1, 3, 1000)"
   ]
  },
  {
   "cell_type": "code",
   "execution_count": 24,
   "metadata": {},
   "outputs": [],
   "source": [
    "lasso_cv = LassoCV(alphas=l_alphas, cv=3,max_iter=50000)"
   ]
  },
  {
   "cell_type": "code",
   "execution_count": 25,
   "metadata": {},
   "outputs": [],
   "source": [
    "reg=lasso_cv.fit(X_scaled,y_train)"
   ]
  },
  {
   "cell_type": "code",
   "execution_count": 26,
   "metadata": {},
   "outputs": [
    {
     "data": {
      "text/plain": [
       "0.9045225189055355"
      ]
     },
     "execution_count": 26,
     "metadata": {},
     "output_type": "execute_result"
    }
   ],
   "source": [
    "reg.score(X_scaled,y_train)"
   ]
  },
  {
   "cell_type": "code",
   "execution_count": 27,
   "metadata": {},
   "outputs": [
    {
     "data": {
      "text/plain": [
       "0.8835005799832365"
      ]
     },
     "execution_count": 27,
     "metadata": {},
     "output_type": "execute_result"
    }
   ],
   "source": [
    "reg.score(X_test,y_test)"
   ]
  },
  {
   "cell_type": "code",
   "execution_count": 28,
   "metadata": {},
   "outputs": [
    {
     "data": {
      "text/plain": [
       "920.3731996618221"
      ]
     },
     "execution_count": 28,
     "metadata": {},
     "output_type": "execute_result"
    }
   ],
   "source": [
    "reg.alpha_"
   ]
  },
  {
   "cell_type": "code",
   "execution_count": 29,
   "metadata": {},
   "outputs": [],
   "source": [
    "y_predict=reg.predict(X_test)"
   ]
  },
  {
   "cell_type": "code",
   "execution_count": 30,
   "metadata": {},
   "outputs": [],
   "source": [
    "RMSE=math.sqrt(np.mean((y_test-y_predict)**2))\n",
    "R_2=1-RMSE**2/Null_MSE\n",
    "metrics={'RMSE':round(RMSE),'R2':round(R_2,3)}"
   ]
  },
  {
   "cell_type": "code",
   "execution_count": 31,
   "metadata": {},
   "outputs": [
    {
     "name": "stdout",
     "output_type": "stream",
     "text": [
      "\n",
      "The metrics for the LassoCV Model are:\n",
      "\n",
      "| Metric        |     Value |\n",
      "|---------------+-----------|\n",
      "| RMSE          | 29760.3   |\n",
      "| R^2 (test)    |     0.884 |\n",
      "| Score (train) |     0.905 |\n"
     ]
    }
   ],
   "source": [
    "print(f'\\nThe metrics for the LassoCV Model are:\\n')\n",
    "print(tabulate([['RMSE', RMSE], ['R^2 (test)', round(R_2,3)], ['Score (train)',round(reg.score(X_scaled,y_train),3)]], headers=['Metric', 'Value'], tablefmt='orgtbl'))"
   ]
  },
  {
   "cell_type": "code",
   "execution_count": 32,
   "metadata": {},
   "outputs": [
    {
     "name": "stdout",
     "output_type": "stream",
     "text": [
      "Stored 'reg' (LassoCV)\n"
     ]
    }
   ],
   "source": [
    "%store reg"
   ]
  },
  {
   "cell_type": "markdown",
   "metadata": {},
   "source": [
    "The closeness between the R^2 on training dataset 0.905 and 0.884 on test dataset suggests that this model is well balanced and generalizes well to new data."
   ]
  }
 ],
 "metadata": {
  "kernelspec": {
   "display_name": "Python 3 (ipykernel)",
   "language": "python",
   "name": "python3"
  },
  "language_info": {
   "codemirror_mode": {
    "name": "ipython",
    "version": 3
   },
   "file_extension": ".py",
   "mimetype": "text/x-python",
   "name": "python",
   "nbconvert_exporter": "python",
   "pygments_lexer": "ipython3",
   "version": "3.9.13"
  }
 },
 "nbformat": 4,
 "nbformat_minor": 4
}
