{
 "cells": [
  {
   "cell_type": "markdown",
   "metadata": {},
   "source": [
    "<img src=\"http://imgur.com/1ZcRyrc.png\" style=\"float: left; margin: 20px; height: 55px\">\n",
    "\n",
    "# Project 2\n",
    "## Part 4: Model tuning\n"
   ]
  },
  {
   "cell_type": "code",
   "execution_count": 2,
   "metadata": {},
   "outputs": [],
   "source": [
    "# imports\n",
    "import pandas as pd\n",
    "import numpy as np\n",
    "import seaborn as sns\n",
    "import matplotlib.pyplot as plt\n",
    "from sklearn.linear_model import LinearRegression, Lasso, LassoCV, RidgeCV,LogisticRegression\n",
    "from sklearn.preprocessing import StandardScaler\n",
    "from sklearn.model_selection import train_test_split, cross_val_score,GridSearchCV\n",
    "from sklearn.metrics import r2_score\n",
    "from sklearn.impute import SimpleImputer\n",
    "from sklearn.feature_selection import SelectFromModel\n",
    "from IPython.display import Image"
   ]
  },
  {
   "cell_type": "markdown",
   "metadata": {},
   "source": [
    "### Hyperparameter tuning for Lasso Regression Model"
   ]
  },
  {
   "cell_type": "code",
   "execution_count": 23,
   "metadata": {},
   "outputs": [],
   "source": [
    "%store -r X_scaled\n",
    "%store -r y_train\n",
    "%store -r X_test\n",
    "%store -r y_test"
   ]
  },
  {
   "cell_type": "markdown",
   "metadata": {},
   "source": [
    "#### Iteration 1"
   ]
  },
  {
   "cell_type": "code",
   "execution_count": 16,
   "metadata": {},
   "outputs": [],
   "source": [
    "# Now we will experiment with range of alphas we input into the Lasso model. \n",
    "# The initial range is in logspace to ensure as large as possible range. \n",
    "# Later iterations will zoom in to linspace around the optimal value of alpha in previous iterations to obtain a closer value to optimal value of alpha.\n",
    "\n",
    "lasso_params = {\n",
    "    'alpha':list(np.logspace(0,10,100)),\n",
    "    'max_iter':[50000]   \n",
    "}"
   ]
  },
  {
   "cell_type": "code",
   "execution_count": 17,
   "metadata": {},
   "outputs": [],
   "source": [
    "lasso_gridsearch = GridSearchCV(Lasso(), lasso_params,cv=3,verbose=1)"
   ]
  },
  {
   "cell_type": "code",
   "execution_count": 18,
   "metadata": {},
   "outputs": [
    {
     "name": "stdout",
     "output_type": "stream",
     "text": [
      "Fitting 3 folds for each of 100 candidates, totalling 300 fits\n"
     ]
    },
    {
     "data": {
      "text/plain": [
       "GridSearchCV(cv=3, estimator=Lasso(),\n",
       "             param_grid={'alpha': [1.0, 1.2618568830660204, 1.5922827933410924,\n",
       "                                   2.0092330025650473, 2.535364493970112,\n",
       "                                   3.1992671377973836, 4.0370172585965545,\n",
       "                                   5.094138014816379, 6.42807311728432,\n",
       "                                   8.11130830789687, 10.235310218990262,\n",
       "                                   12.91549665014884, 16.297508346206442,\n",
       "                                   20.565123083486515, 25.95024211399736,\n",
       "                                   32.74549162877728, 41.32012400115337,\n",
       "                                   52.14008287999685, 65.79332246575679,\n",
       "                                   83.02175681319744, 104.76157527896652,\n",
       "                                   132.19411484660287, 166.81005372000593,\n",
       "                                   210.49041445120199, 265.6087782946687,\n",
       "                                   335.1602650938841, 422.9242874389499,\n",
       "                                   533.6699231206308, 673.4150657750821,\n",
       "                                   849.7534359086438, ...],\n",
       "                         'max_iter': [50000]},\n",
       "             verbose=1)"
      ]
     },
     "execution_count": 18,
     "metadata": {},
     "output_type": "execute_result"
    }
   ],
   "source": [
    "lasso_gridsearch.fit(X_scaled,y_train)"
   ]
  },
  {
   "cell_type": "code",
   "execution_count": 20,
   "metadata": {},
   "outputs": [
    {
     "data": {
      "text/plain": [
       "0.8429377462835544"
      ]
     },
     "execution_count": 20,
     "metadata": {},
     "output_type": "execute_result"
    }
   ],
   "source": [
    "lasso_gridsearch.best_score_"
   ]
  },
  {
   "cell_type": "code",
   "execution_count": 21,
   "metadata": {},
   "outputs": [
    {
     "data": {
      "text/plain": [
       "0.906607998552871"
      ]
     },
     "execution_count": 21,
     "metadata": {},
     "output_type": "execute_result"
    }
   ],
   "source": [
    "lasso_gridsearch.score(X_scaled,y_train)"
   ]
  },
  {
   "cell_type": "code",
   "execution_count": 24,
   "metadata": {},
   "outputs": [
    {
     "data": {
      "text/plain": [
       "0.882160201476166"
      ]
     },
     "execution_count": 24,
     "metadata": {},
     "output_type": "execute_result"
    }
   ],
   "source": [
    "lasso_gridsearch.score(X_test,y_test)"
   ]
  },
  {
   "cell_type": "code",
   "execution_count": 22,
   "metadata": {},
   "outputs": [
    {
     "data": {
      "text/plain": [
       "{'alpha': 849.7534359086438, 'max_iter': 50000}"
      ]
     },
     "execution_count": 22,
     "metadata": {},
     "output_type": "execute_result"
    }
   ],
   "source": [
    "lasso_gridsearch.best_params_"
   ]
  },
  {
   "cell_type": "markdown",
   "metadata": {},
   "source": [
    "#### Iteration 2"
   ]
  },
  {
   "cell_type": "code",
   "execution_count": 25,
   "metadata": {},
   "outputs": [],
   "source": [
    "lasso_params = {\n",
    "    'alpha':list(np.logspace(2,3,100)),\n",
    "    'max_iter':[50000]   \n",
    "}"
   ]
  },
  {
   "cell_type": "code",
   "execution_count": 26,
   "metadata": {},
   "outputs": [],
   "source": [
    "lasso_gridsearch = GridSearchCV(Lasso(), lasso_params,cv=3,verbose=1)"
   ]
  },
  {
   "cell_type": "code",
   "execution_count": 27,
   "metadata": {},
   "outputs": [
    {
     "name": "stdout",
     "output_type": "stream",
     "text": [
      "Fitting 3 folds for each of 100 candidates, totalling 300 fits\n"
     ]
    },
    {
     "data": {
      "text/plain": [
       "GridSearchCV(cv=3, estimator=Lasso(),\n",
       "             param_grid={'alpha': [100.0, 102.35310218990259,\n",
       "                                   104.76157527896652, 107.22672220103232,\n",
       "                                   109.74987654930557, 112.33240329780277,\n",
       "                                   114.97569953977356, 117.68119524349991,\n",
       "                                   120.45035402587824, 123.28467394420659,\n",
       "                                   126.1856883066021, 129.1549665014884,\n",
       "                                   132.19411484660287, 135.30477745798075,\n",
       "                                   138.48863713938732, 141.74741629268047,\n",
       "                                   145.082877849594, 148.4968262254465,\n",
       "                                   151.99110829529332, 155.56761439304722,\n",
       "                                   159.22827933410923, 162.97508346206433,\n",
       "                                   166.81005372000593, 170.73526474706904,\n",
       "                                   174.7528400007683, 178.8649529057435,\n",
       "                                   183.07382802953677, 187.3817422860385,\n",
       "                                   191.79102616724887, 196.30406500402705, ...],\n",
       "                         'max_iter': [50000]},\n",
       "             verbose=1)"
      ]
     },
     "execution_count": 27,
     "metadata": {},
     "output_type": "execute_result"
    }
   ],
   "source": [
    "lasso_gridsearch.fit(X_scaled,y_train)"
   ]
  },
  {
   "cell_type": "code",
   "execution_count": 28,
   "metadata": {},
   "outputs": [
    {
     "data": {
      "text/plain": [
       "0.8435531004073238"
      ]
     },
     "execution_count": 28,
     "metadata": {},
     "output_type": "execute_result"
    }
   ],
   "source": [
    "lasso_gridsearch.best_score_"
   ]
  },
  {
   "cell_type": "code",
   "execution_count": 29,
   "metadata": {},
   "outputs": [
    {
     "data": {
      "text/plain": [
       "0.904789890330967"
      ]
     },
     "execution_count": 29,
     "metadata": {},
     "output_type": "execute_result"
    }
   ],
   "source": [
    "lasso_gridsearch.score(X_scaled,y_train)"
   ]
  },
  {
   "cell_type": "code",
   "execution_count": 30,
   "metadata": {},
   "outputs": [
    {
     "data": {
      "text/plain": [
       "0.8833601728530867"
      ]
     },
     "execution_count": 30,
     "metadata": {},
     "output_type": "execute_result"
    }
   ],
   "source": [
    "lasso_gridsearch.score(X_test,y_test)"
   ]
  },
  {
   "cell_type": "code",
   "execution_count": 31,
   "metadata": {},
   "outputs": [
    {
     "data": {
      "text/plain": [
       "{'alpha': 911.1627561154896, 'max_iter': 50000}"
      ]
     },
     "execution_count": 31,
     "metadata": {},
     "output_type": "execute_result"
    }
   ],
   "source": [
    "lasso_gridsearch.best_params_"
   ]
  },
  {
   "cell_type": "markdown",
   "metadata": {},
   "source": [
    "#### Iteration 3"
   ]
  },
  {
   "cell_type": "code",
   "execution_count": 32,
   "metadata": {},
   "outputs": [],
   "source": [
    "lasso_params = {\n",
    "    'alpha':list(np.logspace(2.8,3,100)),\n",
    "    'max_iter':[50000]   \n",
    "}"
   ]
  },
  {
   "cell_type": "code",
   "execution_count": 33,
   "metadata": {},
   "outputs": [],
   "source": [
    "lasso_gridsearch = GridSearchCV(Lasso(), lasso_params,cv=3,verbose=1)"
   ]
  },
  {
   "cell_type": "code",
   "execution_count": 34,
   "metadata": {},
   "outputs": [
    {
     "name": "stdout",
     "output_type": "stream",
     "text": [
      "Fitting 3 folds for each of 100 candidates, totalling 300 fits\n"
     ]
    },
    {
     "data": {
      "text/plain": [
       "GridSearchCV(cv=3, estimator=Lasso(),\n",
       "             param_grid={'alpha': [630.957344480193, 633.8991975780407,\n",
       "                                   636.8547671334675, 639.8241170997701,\n",
       "                                   642.807311728432, 645.8044155705076,\n",
       "                                   648.8154934780251, 651.8406106053841,\n",
       "                                   654.8798324107703, 657.9332246575676,\n",
       "                                   661.0008534157854, 664.0827850634838,\n",
       "                                   667.1790862882143, 670.2898240884584,\n",
       "                                   673.4150657750821, 676.554878972787,\n",
       "                                   679.7093316215794, 682.8784919782344,\n",
       "                                   686.0624286177789, 689.2612104349695,\n",
       "                                   692.4749066457891, 695.703586788939,\n",
       "                                   698.9473207273479, 702.2061786496827,\n",
       "                                   705.4802310718638, 708.7695488385971,\n",
       "                                   712.0742031249002, 715.3942654376493,\n",
       "                                   718.7298076171196, 722.0809018385464, ...],\n",
       "                         'max_iter': [50000]},\n",
       "             verbose=1)"
      ]
     },
     "execution_count": 34,
     "metadata": {},
     "output_type": "execute_result"
    }
   ],
   "source": [
    "lasso_gridsearch.fit(X_scaled,y_train)"
   ]
  },
  {
   "cell_type": "code",
   "execution_count": 35,
   "metadata": {},
   "outputs": [
    {
     "data": {
      "text/plain": [
       "0.8435985795785924"
      ]
     },
     "execution_count": 35,
     "metadata": {},
     "output_type": "execute_result"
    }
   ],
   "source": [
    "lasso_gridsearch.best_score_"
   ]
  },
  {
   "cell_type": "code",
   "execution_count": 36,
   "metadata": {},
   "outputs": [
    {
     "data": {
      "text/plain": [
       "0.9045427580024477"
      ]
     },
     "execution_count": 36,
     "metadata": {},
     "output_type": "execute_result"
    }
   ],
   "source": [
    "lasso_gridsearch.score(X_scaled,y_train)"
   ]
  },
  {
   "cell_type": "code",
   "execution_count": 37,
   "metadata": {},
   "outputs": [
    {
     "data": {
      "text/plain": [
       "0.883490388476907"
      ]
     },
     "execution_count": 37,
     "metadata": {},
     "output_type": "execute_result"
    }
   ],
   "source": [
    "lasso_gridsearch.score(X_test,y_test)"
   ]
  },
  {
   "cell_type": "code",
   "execution_count": 38,
   "metadata": {},
   "outputs": [
    {
     "data": {
      "text/plain": [
       "{'alpha': 919.6791985117054, 'max_iter': 50000}"
      ]
     },
     "execution_count": 38,
     "metadata": {},
     "output_type": "execute_result"
    }
   ],
   "source": [
    "lasso_gridsearch.best_params_"
   ]
  },
  {
   "cell_type": "markdown",
   "metadata": {},
   "source": [
    "#### Iteration 4"
   ]
  },
  {
   "cell_type": "code",
   "execution_count": 39,
   "metadata": {},
   "outputs": [],
   "source": [
    "lasso_params = {\n",
    "    'alpha':list(np.linspace(915,925,100)),\n",
    "    'max_iter':[50000]   \n",
    "}"
   ]
  },
  {
   "cell_type": "code",
   "execution_count": 40,
   "metadata": {},
   "outputs": [],
   "source": [
    "lasso_gridsearch = GridSearchCV(Lasso(), lasso_params,cv=3,verbose=1)"
   ]
  },
  {
   "cell_type": "code",
   "execution_count": 41,
   "metadata": {},
   "outputs": [
    {
     "name": "stdout",
     "output_type": "stream",
     "text": [
      "Fitting 3 folds for each of 100 candidates, totalling 300 fits\n"
     ]
    },
    {
     "data": {
      "text/plain": [
       "GridSearchCV(cv=3, estimator=Lasso(),\n",
       "             param_grid={'alpha': [915.0, 915.10101010101, 915.2020202020202,\n",
       "                                   915.3030303030303, 915.4040404040404,\n",
       "                                   915.5050505050505, 915.6060606060606,\n",
       "                                   915.7070707070707, 915.8080808080808,\n",
       "                                   915.9090909090909, 916.010101010101,\n",
       "                                   916.1111111111111, 916.2121212121212,\n",
       "                                   916.3131313131313, 916.4141414141415,\n",
       "                                   916.5151515151515, 916.6161616161617,\n",
       "                                   916.7171717171717, 916.8181818181819,\n",
       "                                   916.9191919191919, 917.020202020202,\n",
       "                                   917.1212121212121, 917.2222222222222,\n",
       "                                   917.3232323232323, 917.4242424242424,\n",
       "                                   917.5252525252525, 917.6262626262626,\n",
       "                                   917.7272727272727, 917.8282828282828,\n",
       "                                   917.929292929293, ...],\n",
       "                         'max_iter': [50000]},\n",
       "             verbose=1)"
      ]
     },
     "execution_count": 41,
     "metadata": {},
     "output_type": "execute_result"
    }
   ],
   "source": [
    "lasso_gridsearch.fit(X_scaled,y_train)"
   ]
  },
  {
   "cell_type": "code",
   "execution_count": 42,
   "metadata": {},
   "outputs": [
    {
     "data": {
      "text/plain": [
       "0.8435987663261715"
      ]
     },
     "execution_count": 42,
     "metadata": {},
     "output_type": "execute_result"
    }
   ],
   "source": [
    "lasso_gridsearch.best_score_"
   ]
  },
  {
   "cell_type": "code",
   "execution_count": 43,
   "metadata": {},
   "outputs": [
    {
     "data": {
      "text/plain": [
       "0.9045201456415962"
      ]
     },
     "execution_count": 43,
     "metadata": {},
     "output_type": "execute_result"
    }
   ],
   "source": [
    "lasso_gridsearch.score(X_scaled,y_train)"
   ]
  },
  {
   "cell_type": "code",
   "execution_count": 44,
   "metadata": {},
   "outputs": [
    {
     "data": {
      "text/plain": [
       "0.8835017703623235"
      ]
     },
     "execution_count": 44,
     "metadata": {},
     "output_type": "execute_result"
    }
   ],
   "source": [
    "lasso_gridsearch.score(X_test,y_test)"
   ]
  },
  {
   "cell_type": "code",
   "execution_count": 45,
   "metadata": {},
   "outputs": [
    {
     "data": {
      "text/plain": [
       "{'alpha': 920.4545454545455, 'max_iter': 50000}"
      ]
     },
     "execution_count": 45,
     "metadata": {},
     "output_type": "execute_result"
    }
   ],
   "source": [
    "lasso_gridsearch.best_params_"
   ]
  },
  {
   "cell_type": "markdown",
   "metadata": {},
   "source": [
    "We have zoomed in to obtained a more exact approximate of the optimal value of alpha; and the closeness between the R^2 on training and test datasets also confirmed that the model performs well and generalizes well too. "
   ]
  },
  {
   "cell_type": "code",
   "execution_count": 3,
   "metadata": {},
   "outputs": [
    {
     "data": {
      "text/html": [
       "<img src=\"../pictures/Alpha tuning.PNG\" width=\"460\" height=\"460\"/>"
      ],
      "text/plain": [
       "<IPython.core.display.Image object>"
      ]
     },
     "execution_count": 3,
     "metadata": {},
     "output_type": "execute_result"
    }
   ],
   "source": [
    "# The summary on results from gridsearch on alphas is in the table below.\n",
    "Image(url=\"../pictures/Alpha tuning.PNG\", width=460, height=460)"
   ]
  }
 ],
 "metadata": {
  "kernelspec": {
   "display_name": "Python 3 (ipykernel)",
   "language": "python",
   "name": "python3"
  },
  "language_info": {
   "codemirror_mode": {
    "name": "ipython",
    "version": 3
   },
   "file_extension": ".py",
   "mimetype": "text/x-python",
   "name": "python",
   "nbconvert_exporter": "python",
   "pygments_lexer": "ipython3",
   "version": "3.9.12"
  }
 },
 "nbformat": 4,
 "nbformat_minor": 4
}
