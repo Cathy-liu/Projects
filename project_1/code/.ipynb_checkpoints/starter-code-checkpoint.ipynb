{
 "cells": [
  {
   "cell_type": "markdown",
   "metadata": {},
   "source": [
    "<img src=\"http://imgur.com/1ZcRyrc.png\" style=\"float: left; margin: 20px; height: 55px\">\n",
    "\n",
    "# Project 1: Standardized Test Analysis"
   ]
  },
  {
   "cell_type": "markdown",
   "metadata": {},
   "source": [
    "--- \n",
    "# Part 1\n",
    "\n",
    "Part 1 requires knowledge of basic Python.\n",
    "\n",
    "---"
   ]
  },
  {
   "cell_type": "markdown",
   "metadata": {},
   "source": [
    "## Problem Statement"
   ]
  },
  {
   "cell_type": "markdown",
   "metadata": {},
   "source": [
    "#### Given the datasets on pass rate for the ACT and SAT tests of all the schools in California, I wish to find out the correlation between the pass rates of the two exams on three levels:\n",
    "* SAT pass rates between Grade 11 test takers and Grade 12 test takers from the same school;\n",
    "* the correlation between the pass rates of the two exams at a school level;\n",
    "* the correlation between the pass rates of the two exams at a county level."
   ]
  },
  {
   "cell_type": "markdown",
   "metadata": {},
   "source": [
    "### Contents:\n",
    "- [Background](#Background)\n",
    "- [Data Import & Cleaning](#Data-Import-and-Cleaning)\n",
    "- [Exploratory Data Analysis](#Exploratory-Data-Analysis)\n",
    "- [Data Visualization](#Visualize-the-Data)\n",
    "- [Conclusions and Recommendations](#Conclusions-and-Recommendations)"
   ]
  },
  {
   "cell_type": "markdown",
   "metadata": {},
   "source": [
    "## Background"
   ]
  },
  {
   "cell_type": "markdown",
   "metadata": {},
   "source": [
    "The SAT and ACT are standardized tests that many colleges and universities in the United States require for their admissions process. This score is used along with other materials such as grade point average (GPA) and essay responses to determine whether or not a potential student will be accepted to the university.\n",
    "\n",
    "The SAT has two sections of the test: Evidence-Based Reading and Writing and Math ([*source*](https://www.princetonreview.com/college/sat-sections)). The ACT has 4 sections: English, Mathematics, Reading, and Science, with an additional optional writing section ([*source*](https://www.act.org/content/act/en/products-and-services/the-act/scores/understanding-your-scores.html)). They have different score ranges, which you can read more about on their websites or additional outside sources (a quick Google search will help you understand the scores for each test):\n",
    "* [SAT](https://collegereadiness.collegeboard.org/sat)\n",
    "* [ACT](https://www.act.org/content/act/en.html)\n",
    "\n",
    "Standardized tests have long been a controversial topic for students, administrators, and legislators. Since the 1940's, an increasing number of colleges have been using scores from sudents' performances on tests like the SAT and the ACT as a measure for college readiness and aptitude ([*source*](https://www.minotdailynews.com/news/local-news/2017/04/a-brief-history-of-the-sat-and-act/)). Supporters of these tests argue that these scores can be used as an objective measure to determine college admittance. Opponents of these tests claim that these tests are not accurate measures of students potential or ability and serve as an inequitable barrier to entry. Lately, more and more schools are opting to drop the SAT/ACT requirement for their Fall 2021 applications ([*read more about this here*](https://www.cnn.com/2020/04/14/us/coronavirus-colleges-sat-act-test-trnd/index.html))."
   ]
  },
  {
   "cell_type": "markdown",
   "metadata": {},
   "source": [
    "**To-Do:** *Fill out this cell (or edit the above cell) with any other background or information that is necessary for your problem statement.*"
   ]
  },
  {
   "cell_type": "markdown",
   "metadata": {},
   "source": [
    "### Choose your Data\n",
    "\n",
    "There are 10 datasets included in the [`data`](./data/) folder for this project. You are required to pick **at least two** of these to complete your analysis. Feel free to use more than two if you would like, or add other relevant datasets you find online.\n",
    "\n",
    "* [`act_2017.csv`](./data/act_2017.csv): 2017 ACT Scores by State\n",
    "* [`act_2018.csv`](./data/act_2018.csv): 2018 ACT Scores by State\n",
    "* [`act_2019.csv`](./data/act_2019.csv): 2019 ACT Scores by State\n",
    "* [`act_2019_ca.csv`](./data/act_2019_ca.csv): 2019 ACT Scores in California by School\n",
    "* [`sat_2017.csv`](./data/sat_2017.csv): 2017 SAT Scores by State\n",
    "* [`sat_2018.csv`](./data/sat_2018.csv): 2018 SAT Scores by State\n",
    "* [`sat_2019.csv`](./data/sat_2019.csv): 2019 SAT Scores by State\n",
    "* [`sat_2019_by_intended_college_major.csv`](./data/sat_2019_by_intended_college_major.csv): 2019 SAT Scores by Intended College Major\n",
    "* [`sat_2019_ca.csv`](./data/sat_2019_ca.csv): 2019 SAT Scores in California by School\n",
    "* [`sat_act_by_college.csv`](./data/sat_act_by_college.csv): Ranges of Accepted ACT & SAT Student Scores by Colleges"
   ]
  },
  {
   "cell_type": "markdown",
   "metadata": {},
   "source": [
    "#### Datasets used in this project: \n",
    "* act_2019_ca.csv: 2019 ACT Scores in California by School\n",
    "This dataset includes the number of students enrolled in Grade 11, ACT participation rate, the total number of students with a total ACT score of 21 or higher, and the related passing rate for this score. All the data are for the Academic Year 2018-2019. \n",
    "\n",
    "* sat_2019_ca.csv: 2019 SAT Scores in California by School\n",
    "This dataset includes the number of students enrolled in Grade 11 and 12 respectively, SAT participation rate for both grades, the number of students passing a benchmark score for each component tests for each grade, and the number of students passing the benchmark scores for all the component tests for each grade. All the data are for the Academic Year 2018-2019. "
   ]
  },
  {
   "cell_type": "markdown",
   "metadata": {},
   "source": [
    "### Outside Research"
   ]
  },
  {
   "cell_type": "markdown",
   "metadata": {},
   "source": [
    "1. The meaning of each column in act_2019_ca.csv: \n",
    "http://wgetsnaps.github.io/cde.ca.gov--ds-sp-ai/ds/sp/ai/reclayoutact.asp.html \n",
    "\n",
    "2. The administration levels in California. Basically there are four levels from a high to low hierarchy - state, county, district, and school level in the SAT and ACT records system.  \n",
    "https://www.cde.ca.gov/re/pr/satdata.asp\n"
   ]
  },
  {
   "cell_type": "markdown",
   "metadata": {
    "tags": []
   },
   "source": [
    "### Coding Challenges\n",
    "\n",
    "1. Manually calculate mean:\n",
    "\n",
    "    Write a function that takes in values and returns the mean of the values. Create a list of numbers that you test on your function to check to make sure your function works!\n",
    "    \n",
    "    *Note*: Do not use any mean methods built-in to any Python libraries to do this! This should be done without importing any additional libraries."
   ]
  },
  {
   "cell_type": "code",
   "execution_count": 1,
   "metadata": {},
   "outputs": [],
   "source": [
    "import pandas as pd\n",
    "import numpy as np\n",
    "import matplotlib.pyplot as plt\n",
    "import seaborn as sns"
   ]
  },
  {
   "cell_type": "code",
   "execution_count": 2,
   "metadata": {},
   "outputs": [
    {
     "data": {
      "text/plain": [
       "array([ 8, 66,  3, 57, 72, 22, 79, 53, 68, 23, 62, 80, 17, 49, 28, 66, 73,\n",
       "       71, 98, 71, 72, 11, 32, 55, 70, 82, 99, 31, 61, 59])"
      ]
     },
     "execution_count": 2,
     "metadata": {},
     "output_type": "execute_result"
    }
   ],
   "source": [
    "list=np.random.randint(100, size=(30))\n",
    "list"
   ]
  },
  {
   "cell_type": "code",
   "execution_count": 3,
   "metadata": {},
   "outputs": [],
   "source": [
    "def cal_mean(list):\n",
    "    mean=list.sum()/len(list)\n",
    "    return mean"
   ]
  },
  {
   "cell_type": "code",
   "execution_count": 4,
   "metadata": {},
   "outputs": [
    {
     "data": {
      "text/plain": [
       "54.6"
      ]
     },
     "execution_count": 4,
     "metadata": {},
     "output_type": "execute_result"
    }
   ],
   "source": [
    "cal_mean(list)"
   ]
  },
  {
   "cell_type": "markdown",
   "metadata": {},
   "source": [
    "2. Manually calculate standard deviation:\n",
    "\n",
    "    The formula for standard deviation is below:\n",
    "\n",
    "    $$\\sigma = \\sqrt{\\frac{1}{n}\\sum_{i=1}^n(x_i - \\mu)^2}$$\n",
    "\n",
    "    Where $x_i$ represents each value in the dataset, $\\mu$ represents the mean of all values in the dataset and $n$ represents the number of values in the dataset.\n",
    "\n",
    "    Write a function that takes in values and returns the standard deviation of the values using the formula above. Hint: use the function you wrote above to calculate the mean! Use the list of numbers you created above to test on your function.\n",
    "    \n",
    "    *Note*: Do not use any standard deviation methods built-in to any Python libraries to do this! This should be done without importing any additional libraries."
   ]
  },
  {
   "cell_type": "code",
   "execution_count": 5,
   "metadata": {},
   "outputs": [],
   "source": [
    "def std_dev(list):\n",
    "    mean=list.sum()/len(list)\n",
    "    total=0\n",
    "    for i in list:\n",
    "        total+=(i-mean)**2\n",
    "    return np.sqrt(total/len(list))"
   ]
  },
  {
   "cell_type": "code",
   "execution_count": 6,
   "metadata": {},
   "outputs": [
    {
     "data": {
      "text/plain": [
       "25.913445673369385"
      ]
     },
     "execution_count": 6,
     "metadata": {},
     "output_type": "execute_result"
    }
   ],
   "source": [
    "std_dev(list)"
   ]
  },
  {
   "cell_type": "markdown",
   "metadata": {},
   "source": [
    "3. Data cleaning function:\n",
    "    \n",
    "    Write a function that takes in a string that is a number and a percent symbol (ex. '50%', '30.5%', etc.) and converts this to a float that is the decimal approximation of the percent. For example, inputting '50%' in your function should return 0.5, '30.5%' should return 0.305, etc. Make sure to test your function to make sure it works!\n",
    "\n",
    "You will use these functions later on in the project!"
   ]
  },
  {
   "cell_type": "code",
   "execution_count": 7,
   "metadata": {},
   "outputs": [],
   "source": [
    "str='50%'"
   ]
  },
  {
   "cell_type": "code",
   "execution_count": 8,
   "metadata": {},
   "outputs": [],
   "source": [
    "def convert_string(str):\n",
    "    num=str[:-1]\n",
    "    try:\n",
    "        return float(num)/100\n",
    "    except ValueError:\n",
    "        return 'Error'"
   ]
  },
  {
   "cell_type": "code",
   "execution_count": 9,
   "metadata": {},
   "outputs": [
    {
     "data": {
      "text/plain": [
       "0.5"
      ]
     },
     "execution_count": 9,
     "metadata": {},
     "output_type": "execute_result"
    }
   ],
   "source": [
    "convert_string(str)"
   ]
  },
  {
   "cell_type": "markdown",
   "metadata": {},
   "source": [
    "--- \n",
    "# Part 2\n",
    "\n",
    "Part 2 requires knowledge of Pandas, EDA, data cleaning, and data visualization.\n",
    "\n",
    "---"
   ]
  },
  {
   "cell_type": "markdown",
   "metadata": {},
   "source": [
    "*All libraries used should be added here*"
   ]
  },
  {
   "cell_type": "code",
   "execution_count": 10,
   "metadata": {},
   "outputs": [],
   "source": [
    "from scipy import stats\n",
    "import seaborn as sns"
   ]
  },
  {
   "cell_type": "markdown",
   "metadata": {},
   "source": [
    "## Data Import and Cleaning"
   ]
  },
  {
   "cell_type": "markdown",
   "metadata": {},
   "source": [
    "### Data Import & Cleaning\n",
    "\n",
    "Import the datasets that you selected for this project and go through the following steps at a minimum. You are welcome to do further cleaning as you feel necessary:\n",
    "1. Display the data: print the first 5 rows of each dataframe to your Jupyter notebook.\n",
    "2. Check for missing values.\n",
    "3. Check for any obvious issues with the observations (keep in mind the minimum & maximum possible values for each test/subtest).\n",
    "4. Fix any errors you identified in steps 2-3.\n",
    "5. Display the data types of each feature.\n",
    "6. Fix any incorrect data types found in step 5.\n",
    "    - Fix any individual values preventing other columns from being the appropriate type.\n",
    "    - If your dataset has a column of percents (ex. '50%', '30.5%', etc.), use the function you wrote in Part 1 (coding challenges, number 3) to convert this to floats! *Hint*: use `.map()` or `.apply()`.\n",
    "7. Rename Columns.\n",
    "    - Column names should be all lowercase.\n",
    "    - Column names should not contain spaces (underscores will suffice--this allows for using the `df.column_name` method to access columns in addition to `df['column_name']`).\n",
    "    - Column names should be unique and informative.\n",
    "8. Drop unnecessary rows (if needed).\n",
    "9. Merge dataframes that can be merged.\n",
    "10. Perform any additional cleaning that you feel is necessary.\n",
    "11. Save your cleaned and merged dataframes as csv files."
   ]
  },
  {
   "cell_type": "code",
   "execution_count": 11,
   "metadata": {},
   "outputs": [],
   "source": [
    "act_19_ca=pd.read_csv('../data/act_2019_ca.csv')"
   ]
  },
  {
   "cell_type": "code",
   "execution_count": 12,
   "metadata": {},
   "outputs": [],
   "source": [
    "sat_19_ca=pd.read_csv('../data/sat_2019_ca.csv')"
   ]
  },
  {
   "cell_type": "markdown",
   "metadata": {},
   "source": [
    "1. Display the data: print the first 5 rows of each dataframe to your Jupyter notebook."
   ]
  },
  {
   "cell_type": "code",
   "execution_count": 13,
   "metadata": {},
   "outputs": [
    {
     "data": {
      "text/plain": [
       "0"
      ]
     },
     "execution_count": 13,
     "metadata": {},
     "output_type": "execute_result"
    }
   ],
   "source": [
    "sat_19_ca['CDS'].duplicated().sum()"
   ]
  },
  {
   "cell_type": "code",
   "execution_count": 14,
   "metadata": {},
   "outputs": [],
   "source": [
    "#Check the number of entries with CDS starting with a '0', which are unintentionally removed when taking as float numbers. This will be fixed in later steps.\n",
    "#act_19_ca[act_19_ca['CDS']<1e+13]"
   ]
  },
  {
   "cell_type": "code",
   "execution_count": 15,
   "metadata": {},
   "outputs": [
    {
     "data": {
      "text/html": [
       "<div>\n",
       "<style scoped>\n",
       "    .dataframe tbody tr th:only-of-type {\n",
       "        vertical-align: middle;\n",
       "    }\n",
       "\n",
       "    .dataframe tbody tr th {\n",
       "        vertical-align: top;\n",
       "    }\n",
       "\n",
       "    .dataframe thead th {\n",
       "        text-align: right;\n",
       "    }\n",
       "</style>\n",
       "<table border=\"1\" class=\"dataframe\">\n",
       "  <thead>\n",
       "    <tr style=\"text-align: right;\">\n",
       "      <th></th>\n",
       "      <th>CDS</th>\n",
       "      <th>CCode</th>\n",
       "      <th>CDCode</th>\n",
       "      <th>SCode</th>\n",
       "      <th>RType</th>\n",
       "      <th>SName</th>\n",
       "      <th>DName</th>\n",
       "      <th>CName</th>\n",
       "      <th>Enroll12</th>\n",
       "      <th>NumTSTTakr12</th>\n",
       "      <th>...</th>\n",
       "      <th>NumERWBenchmark11</th>\n",
       "      <th>PctERWBenchmark11</th>\n",
       "      <th>NumMathBenchmark11</th>\n",
       "      <th>PctMathBenchmark11</th>\n",
       "      <th>TotNumBothBenchmark12</th>\n",
       "      <th>PctBothBenchmark12</th>\n",
       "      <th>TotNumBothBenchmark11</th>\n",
       "      <th>PctBothBenchmark11</th>\n",
       "      <th>Year</th>\n",
       "      <th>Unnamed: 25</th>\n",
       "    </tr>\n",
       "  </thead>\n",
       "  <tbody>\n",
       "    <tr>\n",
       "      <th>0</th>\n",
       "      <td>6.615981e+12</td>\n",
       "      <td>6.0</td>\n",
       "      <td>661598.0</td>\n",
       "      <td>630046.0</td>\n",
       "      <td>S</td>\n",
       "      <td>Colusa Alternative Home</td>\n",
       "      <td>Colusa Unified</td>\n",
       "      <td>Colusa</td>\n",
       "      <td>18.0</td>\n",
       "      <td>0.0</td>\n",
       "      <td>...</td>\n",
       "      <td>NaN</td>\n",
       "      <td>NaN</td>\n",
       "      <td>NaN</td>\n",
       "      <td>NaN</td>\n",
       "      <td>NaN</td>\n",
       "      <td>NaN</td>\n",
       "      <td>NaN</td>\n",
       "      <td>NaN</td>\n",
       "      <td>2018-19</td>\n",
       "      <td>NaN</td>\n",
       "    </tr>\n",
       "    <tr>\n",
       "      <th>1</th>\n",
       "      <td>6.616061e+12</td>\n",
       "      <td>6.0</td>\n",
       "      <td>661606.0</td>\n",
       "      <td>634758.0</td>\n",
       "      <td>S</td>\n",
       "      <td>Maxwell Sr High</td>\n",
       "      <td>Maxwell Unified</td>\n",
       "      <td>Colusa</td>\n",
       "      <td>29.0</td>\n",
       "      <td>10.0</td>\n",
       "      <td>...</td>\n",
       "      <td>*</td>\n",
       "      <td>*</td>\n",
       "      <td>*</td>\n",
       "      <td>*</td>\n",
       "      <td>*</td>\n",
       "      <td>*</td>\n",
       "      <td>*</td>\n",
       "      <td>*</td>\n",
       "      <td>2018-19</td>\n",
       "      <td>NaN</td>\n",
       "    </tr>\n",
       "    <tr>\n",
       "      <th>2</th>\n",
       "      <td>1.964733e+13</td>\n",
       "      <td>19.0</td>\n",
       "      <td>1964733.0</td>\n",
       "      <td>1930924.0</td>\n",
       "      <td>S</td>\n",
       "      <td>Belmont Senior High</td>\n",
       "      <td>Los Angeles Unified</td>\n",
       "      <td>Los Angeles</td>\n",
       "      <td>206.0</td>\n",
       "      <td>102.0</td>\n",
       "      <td>...</td>\n",
       "      <td>42</td>\n",
       "      <td>24.14</td>\n",
       "      <td>12</td>\n",
       "      <td>6.90</td>\n",
       "      <td>14</td>\n",
       "      <td>13.73</td>\n",
       "      <td>11</td>\n",
       "      <td>6.32</td>\n",
       "      <td>2018-19</td>\n",
       "      <td>NaN</td>\n",
       "    </tr>\n",
       "    <tr>\n",
       "      <th>3</th>\n",
       "      <td>1.964733e+13</td>\n",
       "      <td>19.0</td>\n",
       "      <td>1964733.0</td>\n",
       "      <td>1931476.0</td>\n",
       "      <td>S</td>\n",
       "      <td>Canoga Park Senior High</td>\n",
       "      <td>Los Angeles Unified</td>\n",
       "      <td>Los Angeles</td>\n",
       "      <td>227.0</td>\n",
       "      <td>113.0</td>\n",
       "      <td>...</td>\n",
       "      <td>97</td>\n",
       "      <td>35.27</td>\n",
       "      <td>37</td>\n",
       "      <td>13.45</td>\n",
       "      <td>18</td>\n",
       "      <td>15.93</td>\n",
       "      <td>35</td>\n",
       "      <td>12.73</td>\n",
       "      <td>2018-19</td>\n",
       "      <td>NaN</td>\n",
       "    </tr>\n",
       "    <tr>\n",
       "      <th>4</th>\n",
       "      <td>1.964733e+13</td>\n",
       "      <td>19.0</td>\n",
       "      <td>1964733.0</td>\n",
       "      <td>1931856.0</td>\n",
       "      <td>S</td>\n",
       "      <td>Whitman Continuation</td>\n",
       "      <td>Los Angeles Unified</td>\n",
       "      <td>Los Angeles</td>\n",
       "      <td>18.0</td>\n",
       "      <td>14.0</td>\n",
       "      <td>...</td>\n",
       "      <td>*</td>\n",
       "      <td>*</td>\n",
       "      <td>*</td>\n",
       "      <td>*</td>\n",
       "      <td>*</td>\n",
       "      <td>*</td>\n",
       "      <td>*</td>\n",
       "      <td>*</td>\n",
       "      <td>2018-19</td>\n",
       "      <td>NaN</td>\n",
       "    </tr>\n",
       "  </tbody>\n",
       "</table>\n",
       "<p>5 rows × 26 columns</p>\n",
       "</div>"
      ],
      "text/plain": [
       "            CDS  CCode     CDCode      SCode RType                    SName  \\\n",
       "0  6.615981e+12    6.0   661598.0   630046.0     S  Colusa Alternative Home   \n",
       "1  6.616061e+12    6.0   661606.0   634758.0     S          Maxwell Sr High   \n",
       "2  1.964733e+13   19.0  1964733.0  1930924.0     S      Belmont Senior High   \n",
       "3  1.964733e+13   19.0  1964733.0  1931476.0     S  Canoga Park Senior High   \n",
       "4  1.964733e+13   19.0  1964733.0  1931856.0     S     Whitman Continuation   \n",
       "\n",
       "                 DName        CName  Enroll12  NumTSTTakr12  ...  \\\n",
       "0       Colusa Unified       Colusa      18.0           0.0  ...   \n",
       "1      Maxwell Unified       Colusa      29.0          10.0  ...   \n",
       "2  Los Angeles Unified  Los Angeles     206.0         102.0  ...   \n",
       "3  Los Angeles Unified  Los Angeles     227.0         113.0  ...   \n",
       "4  Los Angeles Unified  Los Angeles      18.0          14.0  ...   \n",
       "\n",
       "  NumERWBenchmark11 PctERWBenchmark11 NumMathBenchmark11 PctMathBenchmark11  \\\n",
       "0               NaN               NaN                NaN                NaN   \n",
       "1                 *                 *                  *                  *   \n",
       "2                42             24.14                 12               6.90   \n",
       "3                97             35.27                 37              13.45   \n",
       "4                 *                 *                  *                  *   \n",
       "\n",
       "   TotNumBothBenchmark12  PctBothBenchmark12 TotNumBothBenchmark11  \\\n",
       "0                    NaN                 NaN                   NaN   \n",
       "1                      *                   *                     *   \n",
       "2                     14               13.73                    11   \n",
       "3                     18               15.93                    35   \n",
       "4                      *                   *                     *   \n",
       "\n",
       "  PctBothBenchmark11     Year Unnamed: 25  \n",
       "0                NaN  2018-19         NaN  \n",
       "1                  *  2018-19         NaN  \n",
       "2               6.32  2018-19         NaN  \n",
       "3              12.73  2018-19         NaN  \n",
       "4                  *  2018-19         NaN  \n",
       "\n",
       "[5 rows x 26 columns]"
      ]
     },
     "execution_count": 15,
     "metadata": {},
     "output_type": "execute_result"
    }
   ],
   "source": [
    "sat_19_ca.head()"
   ]
  },
  {
   "cell_type": "markdown",
   "metadata": {},
   "source": [
    "2. Check for missing values."
   ]
  },
  {
   "cell_type": "code",
   "execution_count": 16,
   "metadata": {},
   "outputs": [
    {
     "data": {
      "text/plain": [
       "CDS               1\n",
       "CCode             1\n",
       "CDCode            1\n",
       "SCode           523\n",
       "RType             1\n",
       "SName           581\n",
       "DName            59\n",
       "CName             1\n",
       "Enroll12          1\n",
       "NumTstTakr        1\n",
       "AvgScrRead      357\n",
       "AvgScrEng       357\n",
       "AvgScrMath      357\n",
       "AvgScrSci       357\n",
       "NumGE21         357\n",
       "PctGE21         357\n",
       "Year              1\n",
       "Unnamed: 17    2310\n",
       "dtype: int64"
      ]
     },
     "execution_count": 16,
     "metadata": {},
     "output_type": "execute_result"
    }
   ],
   "source": [
    "act_19_ca.isnull().sum()"
   ]
  },
  {
   "cell_type": "code",
   "execution_count": 17,
   "metadata": {},
   "outputs": [
    {
     "data": {
      "text/plain": [
       "CDS                         1\n",
       "CCode                       1\n",
       "CDCode                      1\n",
       "SCode                       1\n",
       "RType                       1\n",
       "SName                     598\n",
       "DName                      59\n",
       "CName                       1\n",
       "Enroll12                    1\n",
       "NumTSTTakr12                1\n",
       "NumERWBenchmark12         276\n",
       "PctERWBenchmark12         276\n",
       "NumMathBenchmark12        276\n",
       "PctMathBenchmark12        276\n",
       "Enroll11                    1\n",
       "NumTSTTakr11                1\n",
       "NumERWBenchmark11         311\n",
       "PctERWBenchmark11         311\n",
       "NumMathBenchmark11        311\n",
       "PctMathBenchmark11        311\n",
       "TotNumBothBenchmark12     276\n",
       "PctBothBenchmark12        276\n",
       "TotNumBothBenchmark11     311\n",
       "PctBothBenchmark11        311\n",
       "Year                        1\n",
       "Unnamed: 25              2580\n",
       "dtype: int64"
      ]
     },
     "execution_count": 17,
     "metadata": {},
     "output_type": "execute_result"
    }
   ],
   "source": [
    "sat_19_ca.isnull().sum()"
   ]
  },
  {
   "cell_type": "markdown",
   "metadata": {},
   "source": [
    "3. Check for any obvious issues with the observations (keep in mind the minimum & maximum possible values for each test/subtest)."
   ]
  },
  {
   "cell_type": "code",
   "execution_count": 18,
   "metadata": {},
   "outputs": [],
   "source": [
    "#Drop the last column that are empty\n",
    "act_19_ca.drop(columns=['Unnamed: 17'],inplace=True)"
   ]
  },
  {
   "cell_type": "code",
   "execution_count": 19,
   "metadata": {},
   "outputs": [],
   "source": [
    "sat_19_ca.drop(columns=['Unnamed: 25'],inplace=True)"
   ]
  },
  {
   "cell_type": "code",
   "execution_count": 20,
   "metadata": {},
   "outputs": [
    {
     "data": {
      "text/html": [
       "<div>\n",
       "<style scoped>\n",
       "    .dataframe tbody tr th:only-of-type {\n",
       "        vertical-align: middle;\n",
       "    }\n",
       "\n",
       "    .dataframe tbody tr th {\n",
       "        vertical-align: top;\n",
       "    }\n",
       "\n",
       "    .dataframe thead th {\n",
       "        text-align: right;\n",
       "    }\n",
       "</style>\n",
       "<table border=\"1\" class=\"dataframe\">\n",
       "  <thead>\n",
       "    <tr style=\"text-align: right;\">\n",
       "      <th></th>\n",
       "      <th>CDS</th>\n",
       "      <th>CCode</th>\n",
       "      <th>CDCode</th>\n",
       "      <th>SCode</th>\n",
       "      <th>RType</th>\n",
       "      <th>SName</th>\n",
       "      <th>DName</th>\n",
       "      <th>CName</th>\n",
       "      <th>Enroll12</th>\n",
       "      <th>NumTstTakr</th>\n",
       "      <th>AvgScrRead</th>\n",
       "      <th>AvgScrEng</th>\n",
       "      <th>AvgScrMath</th>\n",
       "      <th>AvgScrSci</th>\n",
       "      <th>NumGE21</th>\n",
       "      <th>PctGE21</th>\n",
       "      <th>Year</th>\n",
       "    </tr>\n",
       "  </thead>\n",
       "  <tbody>\n",
       "    <tr>\n",
       "      <th>2309</th>\n",
       "      <td>NaN</td>\n",
       "      <td>NaN</td>\n",
       "      <td>NaN</td>\n",
       "      <td>NaN</td>\n",
       "      <td>NaN</td>\n",
       "      <td>NaN</td>\n",
       "      <td>NaN</td>\n",
       "      <td>NaN</td>\n",
       "      <td>NaN</td>\n",
       "      <td>NaN</td>\n",
       "      <td>NaN</td>\n",
       "      <td>NaN</td>\n",
       "      <td>NaN</td>\n",
       "      <td>NaN</td>\n",
       "      <td>NaN</td>\n",
       "      <td>NaN</td>\n",
       "      <td>NaN</td>\n",
       "    </tr>\n",
       "  </tbody>\n",
       "</table>\n",
       "</div>"
      ],
      "text/plain": [
       "      CDS  CCode  CDCode  SCode RType SName DName CName  Enroll12  NumTstTakr  \\\n",
       "2309  NaN    NaN     NaN    NaN   NaN   NaN   NaN   NaN       NaN         NaN   \n",
       "\n",
       "     AvgScrRead AvgScrEng AvgScrMath AvgScrSci NumGE21 PctGE21 Year  \n",
       "2309        NaN       NaN        NaN       NaN     NaN     NaN  NaN  "
      ]
     },
     "execution_count": 20,
     "metadata": {},
     "output_type": "execute_result"
    }
   ],
   "source": [
    "act_19_ca[act_19_ca['CDS'].isnull()]"
   ]
  },
  {
   "cell_type": "code",
   "execution_count": 21,
   "metadata": {},
   "outputs": [
    {
     "data": {
      "text/html": [
       "<div>\n",
       "<style scoped>\n",
       "    .dataframe tbody tr th:only-of-type {\n",
       "        vertical-align: middle;\n",
       "    }\n",
       "\n",
       "    .dataframe tbody tr th {\n",
       "        vertical-align: top;\n",
       "    }\n",
       "\n",
       "    .dataframe thead th {\n",
       "        text-align: right;\n",
       "    }\n",
       "</style>\n",
       "<table border=\"1\" class=\"dataframe\">\n",
       "  <thead>\n",
       "    <tr style=\"text-align: right;\">\n",
       "      <th></th>\n",
       "      <th>CDS</th>\n",
       "      <th>CCode</th>\n",
       "      <th>CDCode</th>\n",
       "      <th>SCode</th>\n",
       "      <th>RType</th>\n",
       "      <th>SName</th>\n",
       "      <th>DName</th>\n",
       "      <th>CName</th>\n",
       "      <th>Enroll12</th>\n",
       "      <th>NumTstTakr</th>\n",
       "      <th>AvgScrRead</th>\n",
       "      <th>AvgScrEng</th>\n",
       "      <th>AvgScrMath</th>\n",
       "      <th>AvgScrSci</th>\n",
       "      <th>NumGE21</th>\n",
       "      <th>PctGE21</th>\n",
       "      <th>Year</th>\n",
       "    </tr>\n",
       "  </thead>\n",
       "  <tbody>\n",
       "    <tr>\n",
       "      <th>0</th>\n",
       "      <td>3.366993e+13</td>\n",
       "      <td>33.0</td>\n",
       "      <td>3366993.0</td>\n",
       "      <td>129882.0</td>\n",
       "      <td>S</td>\n",
       "      <td>21st Century Learning Institute</td>\n",
       "      <td>Beaumont Unified</td>\n",
       "      <td>Riverside</td>\n",
       "      <td>18.0</td>\n",
       "      <td>0.0</td>\n",
       "      <td>NaN</td>\n",
       "      <td>NaN</td>\n",
       "      <td>NaN</td>\n",
       "      <td>NaN</td>\n",
       "      <td>NaN</td>\n",
       "      <td>NaN</td>\n",
       "      <td>2018-19</td>\n",
       "    </tr>\n",
       "    <tr>\n",
       "      <th>1</th>\n",
       "      <td>1.964212e+13</td>\n",
       "      <td>19.0</td>\n",
       "      <td>1964212.0</td>\n",
       "      <td>1995596.0</td>\n",
       "      <td>S</td>\n",
       "      <td>ABC Secondary (Alternative)</td>\n",
       "      <td>ABC Unified</td>\n",
       "      <td>Los Angeles</td>\n",
       "      <td>58.0</td>\n",
       "      <td>0.0</td>\n",
       "      <td>NaN</td>\n",
       "      <td>NaN</td>\n",
       "      <td>NaN</td>\n",
       "      <td>NaN</td>\n",
       "      <td>NaN</td>\n",
       "      <td>NaN</td>\n",
       "      <td>2018-19</td>\n",
       "    </tr>\n",
       "    <tr>\n",
       "      <th>2</th>\n",
       "      <td>1.563776e+13</td>\n",
       "      <td>15.0</td>\n",
       "      <td>1563776.0</td>\n",
       "      <td>1530377.0</td>\n",
       "      <td>S</td>\n",
       "      <td>Abraham Lincoln Alternative</td>\n",
       "      <td>Southern Kern Unified</td>\n",
       "      <td>Kern</td>\n",
       "      <td>18.0</td>\n",
       "      <td>0.0</td>\n",
       "      <td>NaN</td>\n",
       "      <td>NaN</td>\n",
       "      <td>NaN</td>\n",
       "      <td>NaN</td>\n",
       "      <td>NaN</td>\n",
       "      <td>NaN</td>\n",
       "      <td>2018-19</td>\n",
       "    </tr>\n",
       "    <tr>\n",
       "      <th>3</th>\n",
       "      <td>4.369666e+13</td>\n",
       "      <td>43.0</td>\n",
       "      <td>4369666.0</td>\n",
       "      <td>4333795.0</td>\n",
       "      <td>S</td>\n",
       "      <td>Abraham Lincoln High</td>\n",
       "      <td>San Jose Unified</td>\n",
       "      <td>Santa Clara</td>\n",
       "      <td>463.0</td>\n",
       "      <td>53.0</td>\n",
       "      <td>23</td>\n",
       "      <td>22</td>\n",
       "      <td>22</td>\n",
       "      <td>23</td>\n",
       "      <td>34</td>\n",
       "      <td>64.15</td>\n",
       "      <td>2018-19</td>\n",
       "    </tr>\n",
       "    <tr>\n",
       "      <th>4</th>\n",
       "      <td>1.964733e+13</td>\n",
       "      <td>19.0</td>\n",
       "      <td>1964733.0</td>\n",
       "      <td>1935121.0</td>\n",
       "      <td>S</td>\n",
       "      <td>Abraham Lincoln Senior High</td>\n",
       "      <td>Los Angeles Unified</td>\n",
       "      <td>Los Angeles</td>\n",
       "      <td>226.0</td>\n",
       "      <td>19.0</td>\n",
       "      <td>21</td>\n",
       "      <td>20</td>\n",
       "      <td>23</td>\n",
       "      <td>22</td>\n",
       "      <td>11</td>\n",
       "      <td>57.89</td>\n",
       "      <td>2018-19</td>\n",
       "    </tr>\n",
       "    <tr>\n",
       "      <th>...</th>\n",
       "      <td>...</td>\n",
       "      <td>...</td>\n",
       "      <td>...</td>\n",
       "      <td>...</td>\n",
       "      <td>...</td>\n",
       "      <td>...</td>\n",
       "      <td>...</td>\n",
       "      <td>...</td>\n",
       "      <td>...</td>\n",
       "      <td>...</td>\n",
       "      <td>...</td>\n",
       "      <td>...</td>\n",
       "      <td>...</td>\n",
       "      <td>...</td>\n",
       "      <td>...</td>\n",
       "      <td>...</td>\n",
       "      <td>...</td>\n",
       "    </tr>\n",
       "    <tr>\n",
       "      <th>2304</th>\n",
       "      <td>5.171465e+13</td>\n",
       "      <td>51.0</td>\n",
       "      <td>5171464.0</td>\n",
       "      <td>5130075.0</td>\n",
       "      <td>S</td>\n",
       "      <td>Yuba City Independence Academy</td>\n",
       "      <td>Yuba City Unified</td>\n",
       "      <td>Sutter</td>\n",
       "      <td>21.0</td>\n",
       "      <td>1.0</td>\n",
       "      <td>*</td>\n",
       "      <td>*</td>\n",
       "      <td>*</td>\n",
       "      <td>*</td>\n",
       "      <td>*</td>\n",
       "      <td>*</td>\n",
       "      <td>2018-19</td>\n",
       "    </tr>\n",
       "    <tr>\n",
       "      <th>2305</th>\n",
       "      <td>5.810588e+13</td>\n",
       "      <td>58.0</td>\n",
       "      <td>5810587.0</td>\n",
       "      <td>5830112.0</td>\n",
       "      <td>S</td>\n",
       "      <td>Yuba County Career Preparatory Charter</td>\n",
       "      <td>Yuba County Office of Education</td>\n",
       "      <td>Yuba</td>\n",
       "      <td>102.0</td>\n",
       "      <td>0.0</td>\n",
       "      <td>NaN</td>\n",
       "      <td>NaN</td>\n",
       "      <td>NaN</td>\n",
       "      <td>NaN</td>\n",
       "      <td>NaN</td>\n",
       "      <td>NaN</td>\n",
       "      <td>2018-19</td>\n",
       "    </tr>\n",
       "    <tr>\n",
       "      <th>2306</th>\n",
       "      <td>3.667959e+13</td>\n",
       "      <td>36.0</td>\n",
       "      <td>3667959.0</td>\n",
       "      <td>3638509.0</td>\n",
       "      <td>S</td>\n",
       "      <td>Yucaipa High</td>\n",
       "      <td>Yucaipa-Calimesa Joint Unified</td>\n",
       "      <td>San Bernardino</td>\n",
       "      <td>628.0</td>\n",
       "      <td>61.0</td>\n",
       "      <td>24</td>\n",
       "      <td>22</td>\n",
       "      <td>22</td>\n",
       "      <td>22</td>\n",
       "      <td>40</td>\n",
       "      <td>65.57</td>\n",
       "      <td>2018-19</td>\n",
       "    </tr>\n",
       "    <tr>\n",
       "      <th>2307</th>\n",
       "      <td>3.667777e+13</td>\n",
       "      <td>36.0</td>\n",
       "      <td>3667777.0</td>\n",
       "      <td>3638616.0</td>\n",
       "      <td>S</td>\n",
       "      <td>Yucca Valley High</td>\n",
       "      <td>Morongo Unified</td>\n",
       "      <td>San Bernardino</td>\n",
       "      <td>314.0</td>\n",
       "      <td>11.0</td>\n",
       "      <td>*</td>\n",
       "      <td>*</td>\n",
       "      <td>*</td>\n",
       "      <td>*</td>\n",
       "      <td>*</td>\n",
       "      <td>*</td>\n",
       "      <td>2018-19</td>\n",
       "    </tr>\n",
       "    <tr>\n",
       "      <th>2308</th>\n",
       "      <td>3.667850e+13</td>\n",
       "      <td>36.0</td>\n",
       "      <td>3667850.0</td>\n",
       "      <td>3630530.0</td>\n",
       "      <td>S</td>\n",
       "      <td>Zupanic High</td>\n",
       "      <td>Rialto Unified</td>\n",
       "      <td>San Bernardino</td>\n",
       "      <td>47.0</td>\n",
       "      <td>0.0</td>\n",
       "      <td>NaN</td>\n",
       "      <td>NaN</td>\n",
       "      <td>NaN</td>\n",
       "      <td>NaN</td>\n",
       "      <td>NaN</td>\n",
       "      <td>NaN</td>\n",
       "      <td>2018-19</td>\n",
       "    </tr>\n",
       "  </tbody>\n",
       "</table>\n",
       "<p>2309 rows × 17 columns</p>\n",
       "</div>"
      ],
      "text/plain": [
       "               CDS  CCode     CDCode      SCode RType  \\\n",
       "0     3.366993e+13   33.0  3366993.0   129882.0     S   \n",
       "1     1.964212e+13   19.0  1964212.0  1995596.0     S   \n",
       "2     1.563776e+13   15.0  1563776.0  1530377.0     S   \n",
       "3     4.369666e+13   43.0  4369666.0  4333795.0     S   \n",
       "4     1.964733e+13   19.0  1964733.0  1935121.0     S   \n",
       "...            ...    ...        ...        ...   ...   \n",
       "2304  5.171465e+13   51.0  5171464.0  5130075.0     S   \n",
       "2305  5.810588e+13   58.0  5810587.0  5830112.0     S   \n",
       "2306  3.667959e+13   36.0  3667959.0  3638509.0     S   \n",
       "2307  3.667777e+13   36.0  3667777.0  3638616.0     S   \n",
       "2308  3.667850e+13   36.0  3667850.0  3630530.0     S   \n",
       "\n",
       "                                       SName                            DName  \\\n",
       "0            21st Century Learning Institute                 Beaumont Unified   \n",
       "1                ABC Secondary (Alternative)                      ABC Unified   \n",
       "2                Abraham Lincoln Alternative            Southern Kern Unified   \n",
       "3                       Abraham Lincoln High                 San Jose Unified   \n",
       "4                Abraham Lincoln Senior High              Los Angeles Unified   \n",
       "...                                      ...                              ...   \n",
       "2304          Yuba City Independence Academy                Yuba City Unified   \n",
       "2305  Yuba County Career Preparatory Charter  Yuba County Office of Education   \n",
       "2306                            Yucaipa High   Yucaipa-Calimesa Joint Unified   \n",
       "2307                       Yucca Valley High                  Morongo Unified   \n",
       "2308                            Zupanic High                   Rialto Unified   \n",
       "\n",
       "               CName  Enroll12  NumTstTakr AvgScrRead AvgScrEng AvgScrMath  \\\n",
       "0          Riverside      18.0         0.0        NaN       NaN        NaN   \n",
       "1        Los Angeles      58.0         0.0        NaN       NaN        NaN   \n",
       "2               Kern      18.0         0.0        NaN       NaN        NaN   \n",
       "3        Santa Clara     463.0        53.0         23        22         22   \n",
       "4        Los Angeles     226.0        19.0         21        20         23   \n",
       "...              ...       ...         ...        ...       ...        ...   \n",
       "2304          Sutter      21.0         1.0          *         *          *   \n",
       "2305            Yuba     102.0         0.0        NaN       NaN        NaN   \n",
       "2306  San Bernardino     628.0        61.0         24        22         22   \n",
       "2307  San Bernardino     314.0        11.0          *         *          *   \n",
       "2308  San Bernardino      47.0         0.0        NaN       NaN        NaN   \n",
       "\n",
       "     AvgScrSci NumGE21 PctGE21     Year  \n",
       "0          NaN     NaN     NaN  2018-19  \n",
       "1          NaN     NaN     NaN  2018-19  \n",
       "2          NaN     NaN     NaN  2018-19  \n",
       "3           23      34   64.15  2018-19  \n",
       "4           22      11   57.89  2018-19  \n",
       "...        ...     ...     ...      ...  \n",
       "2304         *       *       *  2018-19  \n",
       "2305       NaN     NaN     NaN  2018-19  \n",
       "2306        22      40   65.57  2018-19  \n",
       "2307         *       *       *  2018-19  \n",
       "2308       NaN     NaN     NaN  2018-19  \n",
       "\n",
       "[2309 rows x 17 columns]"
      ]
     },
     "execution_count": 21,
     "metadata": {},
     "output_type": "execute_result"
    }
   ],
   "source": [
    "act_19_ca.drop([2309])"
   ]
  },
  {
   "cell_type": "code",
   "execution_count": 22,
   "metadata": {},
   "outputs": [
    {
     "data": {
      "text/html": [
       "<div>\n",
       "<style scoped>\n",
       "    .dataframe tbody tr th:only-of-type {\n",
       "        vertical-align: middle;\n",
       "    }\n",
       "\n",
       "    .dataframe tbody tr th {\n",
       "        vertical-align: top;\n",
       "    }\n",
       "\n",
       "    .dataframe thead th {\n",
       "        text-align: right;\n",
       "    }\n",
       "</style>\n",
       "<table border=\"1\" class=\"dataframe\">\n",
       "  <thead>\n",
       "    <tr style=\"text-align: right;\">\n",
       "      <th></th>\n",
       "      <th>CDS</th>\n",
       "      <th>CCode</th>\n",
       "      <th>CDCode</th>\n",
       "      <th>SCode</th>\n",
       "      <th>RType</th>\n",
       "      <th>SName</th>\n",
       "      <th>DName</th>\n",
       "      <th>CName</th>\n",
       "      <th>Enroll12</th>\n",
       "      <th>NumTSTTakr12</th>\n",
       "      <th>...</th>\n",
       "      <th>NumTSTTakr11</th>\n",
       "      <th>NumERWBenchmark11</th>\n",
       "      <th>PctERWBenchmark11</th>\n",
       "      <th>NumMathBenchmark11</th>\n",
       "      <th>PctMathBenchmark11</th>\n",
       "      <th>TotNumBothBenchmark12</th>\n",
       "      <th>PctBothBenchmark12</th>\n",
       "      <th>TotNumBothBenchmark11</th>\n",
       "      <th>PctBothBenchmark11</th>\n",
       "      <th>Year</th>\n",
       "    </tr>\n",
       "  </thead>\n",
       "  <tbody>\n",
       "    <tr>\n",
       "      <th>2579</th>\n",
       "      <td>NaN</td>\n",
       "      <td>NaN</td>\n",
       "      <td>NaN</td>\n",
       "      <td>NaN</td>\n",
       "      <td>NaN</td>\n",
       "      <td>NaN</td>\n",
       "      <td>NaN</td>\n",
       "      <td>NaN</td>\n",
       "      <td>NaN</td>\n",
       "      <td>NaN</td>\n",
       "      <td>...</td>\n",
       "      <td>NaN</td>\n",
       "      <td>NaN</td>\n",
       "      <td>NaN</td>\n",
       "      <td>NaN</td>\n",
       "      <td>NaN</td>\n",
       "      <td>NaN</td>\n",
       "      <td>NaN</td>\n",
       "      <td>NaN</td>\n",
       "      <td>NaN</td>\n",
       "      <td>NaN</td>\n",
       "    </tr>\n",
       "  </tbody>\n",
       "</table>\n",
       "<p>1 rows × 25 columns</p>\n",
       "</div>"
      ],
      "text/plain": [
       "      CDS  CCode  CDCode  SCode RType SName DName CName  Enroll12  \\\n",
       "2579  NaN    NaN     NaN    NaN   NaN   NaN   NaN   NaN       NaN   \n",
       "\n",
       "      NumTSTTakr12  ... NumTSTTakr11 NumERWBenchmark11 PctERWBenchmark11  \\\n",
       "2579           NaN  ...          NaN               NaN               NaN   \n",
       "\n",
       "     NumMathBenchmark11  PctMathBenchmark11  TotNumBothBenchmark12  \\\n",
       "2579                NaN                 NaN                    NaN   \n",
       "\n",
       "     PctBothBenchmark12 TotNumBothBenchmark11 PctBothBenchmark11 Year  \n",
       "2579                NaN                   NaN                NaN  NaN  \n",
       "\n",
       "[1 rows x 25 columns]"
      ]
     },
     "execution_count": 22,
     "metadata": {},
     "output_type": "execute_result"
    }
   ],
   "source": [
    "sat_19_ca[sat_19_ca['CDS'].isnull()]"
   ]
  },
  {
   "cell_type": "code",
   "execution_count": 23,
   "metadata": {},
   "outputs": [
    {
     "data": {
      "text/html": [
       "<div>\n",
       "<style scoped>\n",
       "    .dataframe tbody tr th:only-of-type {\n",
       "        vertical-align: middle;\n",
       "    }\n",
       "\n",
       "    .dataframe tbody tr th {\n",
       "        vertical-align: top;\n",
       "    }\n",
       "\n",
       "    .dataframe thead th {\n",
       "        text-align: right;\n",
       "    }\n",
       "</style>\n",
       "<table border=\"1\" class=\"dataframe\">\n",
       "  <thead>\n",
       "    <tr style=\"text-align: right;\">\n",
       "      <th></th>\n",
       "      <th>CDS</th>\n",
       "      <th>CCode</th>\n",
       "      <th>CDCode</th>\n",
       "      <th>SCode</th>\n",
       "      <th>RType</th>\n",
       "      <th>SName</th>\n",
       "      <th>DName</th>\n",
       "      <th>CName</th>\n",
       "      <th>Enroll12</th>\n",
       "      <th>NumTSTTakr12</th>\n",
       "      <th>...</th>\n",
       "      <th>NumTSTTakr11</th>\n",
       "      <th>NumERWBenchmark11</th>\n",
       "      <th>PctERWBenchmark11</th>\n",
       "      <th>NumMathBenchmark11</th>\n",
       "      <th>PctMathBenchmark11</th>\n",
       "      <th>TotNumBothBenchmark12</th>\n",
       "      <th>PctBothBenchmark12</th>\n",
       "      <th>TotNumBothBenchmark11</th>\n",
       "      <th>PctBothBenchmark11</th>\n",
       "      <th>Year</th>\n",
       "    </tr>\n",
       "  </thead>\n",
       "  <tbody>\n",
       "    <tr>\n",
       "      <th>0</th>\n",
       "      <td>6.615981e+12</td>\n",
       "      <td>6.0</td>\n",
       "      <td>661598.0</td>\n",
       "      <td>630046.0</td>\n",
       "      <td>S</td>\n",
       "      <td>Colusa Alternative Home</td>\n",
       "      <td>Colusa Unified</td>\n",
       "      <td>Colusa</td>\n",
       "      <td>18.0</td>\n",
       "      <td>0.0</td>\n",
       "      <td>...</td>\n",
       "      <td>0.0</td>\n",
       "      <td>NaN</td>\n",
       "      <td>NaN</td>\n",
       "      <td>NaN</td>\n",
       "      <td>NaN</td>\n",
       "      <td>NaN</td>\n",
       "      <td>NaN</td>\n",
       "      <td>NaN</td>\n",
       "      <td>NaN</td>\n",
       "      <td>2018-19</td>\n",
       "    </tr>\n",
       "    <tr>\n",
       "      <th>1</th>\n",
       "      <td>6.616061e+12</td>\n",
       "      <td>6.0</td>\n",
       "      <td>661606.0</td>\n",
       "      <td>634758.0</td>\n",
       "      <td>S</td>\n",
       "      <td>Maxwell Sr High</td>\n",
       "      <td>Maxwell Unified</td>\n",
       "      <td>Colusa</td>\n",
       "      <td>29.0</td>\n",
       "      <td>10.0</td>\n",
       "      <td>...</td>\n",
       "      <td>6.0</td>\n",
       "      <td>*</td>\n",
       "      <td>*</td>\n",
       "      <td>*</td>\n",
       "      <td>*</td>\n",
       "      <td>*</td>\n",
       "      <td>*</td>\n",
       "      <td>*</td>\n",
       "      <td>*</td>\n",
       "      <td>2018-19</td>\n",
       "    </tr>\n",
       "    <tr>\n",
       "      <th>2</th>\n",
       "      <td>1.964733e+13</td>\n",
       "      <td>19.0</td>\n",
       "      <td>1964733.0</td>\n",
       "      <td>1930924.0</td>\n",
       "      <td>S</td>\n",
       "      <td>Belmont Senior High</td>\n",
       "      <td>Los Angeles Unified</td>\n",
       "      <td>Los Angeles</td>\n",
       "      <td>206.0</td>\n",
       "      <td>102.0</td>\n",
       "      <td>...</td>\n",
       "      <td>174.0</td>\n",
       "      <td>42</td>\n",
       "      <td>24.14</td>\n",
       "      <td>12</td>\n",
       "      <td>6.90</td>\n",
       "      <td>14</td>\n",
       "      <td>13.73</td>\n",
       "      <td>11</td>\n",
       "      <td>6.32</td>\n",
       "      <td>2018-19</td>\n",
       "    </tr>\n",
       "    <tr>\n",
       "      <th>3</th>\n",
       "      <td>1.964733e+13</td>\n",
       "      <td>19.0</td>\n",
       "      <td>1964733.0</td>\n",
       "      <td>1931476.0</td>\n",
       "      <td>S</td>\n",
       "      <td>Canoga Park Senior High</td>\n",
       "      <td>Los Angeles Unified</td>\n",
       "      <td>Los Angeles</td>\n",
       "      <td>227.0</td>\n",
       "      <td>113.0</td>\n",
       "      <td>...</td>\n",
       "      <td>275.0</td>\n",
       "      <td>97</td>\n",
       "      <td>35.27</td>\n",
       "      <td>37</td>\n",
       "      <td>13.45</td>\n",
       "      <td>18</td>\n",
       "      <td>15.93</td>\n",
       "      <td>35</td>\n",
       "      <td>12.73</td>\n",
       "      <td>2018-19</td>\n",
       "    </tr>\n",
       "    <tr>\n",
       "      <th>4</th>\n",
       "      <td>1.964733e+13</td>\n",
       "      <td>19.0</td>\n",
       "      <td>1964733.0</td>\n",
       "      <td>1931856.0</td>\n",
       "      <td>S</td>\n",
       "      <td>Whitman Continuation</td>\n",
       "      <td>Los Angeles Unified</td>\n",
       "      <td>Los Angeles</td>\n",
       "      <td>18.0</td>\n",
       "      <td>14.0</td>\n",
       "      <td>...</td>\n",
       "      <td>5.0</td>\n",
       "      <td>*</td>\n",
       "      <td>*</td>\n",
       "      <td>*</td>\n",
       "      <td>*</td>\n",
       "      <td>*</td>\n",
       "      <td>*</td>\n",
       "      <td>*</td>\n",
       "      <td>*</td>\n",
       "      <td>2018-19</td>\n",
       "    </tr>\n",
       "    <tr>\n",
       "      <th>...</th>\n",
       "      <td>...</td>\n",
       "      <td>...</td>\n",
       "      <td>...</td>\n",
       "      <td>...</td>\n",
       "      <td>...</td>\n",
       "      <td>...</td>\n",
       "      <td>...</td>\n",
       "      <td>...</td>\n",
       "      <td>...</td>\n",
       "      <td>...</td>\n",
       "      <td>...</td>\n",
       "      <td>...</td>\n",
       "      <td>...</td>\n",
       "      <td>...</td>\n",
       "      <td>...</td>\n",
       "      <td>...</td>\n",
       "      <td>...</td>\n",
       "      <td>...</td>\n",
       "      <td>...</td>\n",
       "      <td>...</td>\n",
       "      <td>...</td>\n",
       "    </tr>\n",
       "    <tr>\n",
       "      <th>2574</th>\n",
       "      <td>5.075556e+13</td>\n",
       "      <td>50.0</td>\n",
       "      <td>5075556.0</td>\n",
       "      <td>0.0</td>\n",
       "      <td>D</td>\n",
       "      <td>NaN</td>\n",
       "      <td>Riverbank Unified</td>\n",
       "      <td>Stanislaus</td>\n",
       "      <td>179.0</td>\n",
       "      <td>40.0</td>\n",
       "      <td>...</td>\n",
       "      <td>78.0</td>\n",
       "      <td>45</td>\n",
       "      <td>57.69</td>\n",
       "      <td>25</td>\n",
       "      <td>32.05</td>\n",
       "      <td>11</td>\n",
       "      <td>27.50</td>\n",
       "      <td>21</td>\n",
       "      <td>26.92</td>\n",
       "      <td>2018-19</td>\n",
       "    </tr>\n",
       "    <tr>\n",
       "      <th>2575</th>\n",
       "      <td>5.772678e+13</td>\n",
       "      <td>57.0</td>\n",
       "      <td>5772678.0</td>\n",
       "      <td>0.0</td>\n",
       "      <td>D</td>\n",
       "      <td>NaN</td>\n",
       "      <td>Davis Joint Unified</td>\n",
       "      <td>Yolo</td>\n",
       "      <td>717.0</td>\n",
       "      <td>307.0</td>\n",
       "      <td>...</td>\n",
       "      <td>474.0</td>\n",
       "      <td>454</td>\n",
       "      <td>95.78</td>\n",
       "      <td>428</td>\n",
       "      <td>90.30</td>\n",
       "      <td>268</td>\n",
       "      <td>87.30</td>\n",
       "      <td>421</td>\n",
       "      <td>88.82</td>\n",
       "      <td>2018-19</td>\n",
       "    </tr>\n",
       "    <tr>\n",
       "      <th>2576</th>\n",
       "      <td>7.000000e+12</td>\n",
       "      <td>7.0</td>\n",
       "      <td>700000.0</td>\n",
       "      <td>0.0</td>\n",
       "      <td>C</td>\n",
       "      <td>NaN</td>\n",
       "      <td>NaN</td>\n",
       "      <td>Contra Costa</td>\n",
       "      <td>14593.0</td>\n",
       "      <td>5412.0</td>\n",
       "      <td>...</td>\n",
       "      <td>5157.0</td>\n",
       "      <td>4583</td>\n",
       "      <td>88.87</td>\n",
       "      <td>3933</td>\n",
       "      <td>76.27</td>\n",
       "      <td>2721</td>\n",
       "      <td>50.28</td>\n",
       "      <td>3853</td>\n",
       "      <td>74.71</td>\n",
       "      <td>2018-19</td>\n",
       "    </tr>\n",
       "    <tr>\n",
       "      <th>2577</th>\n",
       "      <td>1.700000e+13</td>\n",
       "      <td>17.0</td>\n",
       "      <td>1700000.0</td>\n",
       "      <td>0.0</td>\n",
       "      <td>C</td>\n",
       "      <td>NaN</td>\n",
       "      <td>NaN</td>\n",
       "      <td>Lake</td>\n",
       "      <td>667.0</td>\n",
       "      <td>167.0</td>\n",
       "      <td>...</td>\n",
       "      <td>126.0</td>\n",
       "      <td>94</td>\n",
       "      <td>74.60</td>\n",
       "      <td>50</td>\n",
       "      <td>39.68</td>\n",
       "      <td>65</td>\n",
       "      <td>38.92</td>\n",
       "      <td>47</td>\n",
       "      <td>37.30</td>\n",
       "      <td>2018-19</td>\n",
       "    </tr>\n",
       "    <tr>\n",
       "      <th>2578</th>\n",
       "      <td>3.800000e+13</td>\n",
       "      <td>38.0</td>\n",
       "      <td>3800000.0</td>\n",
       "      <td>0.0</td>\n",
       "      <td>C</td>\n",
       "      <td>NaN</td>\n",
       "      <td>NaN</td>\n",
       "      <td>San Francisco</td>\n",
       "      <td>4447.0</td>\n",
       "      <td>2256.0</td>\n",
       "      <td>...</td>\n",
       "      <td>2042.0</td>\n",
       "      <td>1702</td>\n",
       "      <td>83.35</td>\n",
       "      <td>1566</td>\n",
       "      <td>76.69</td>\n",
       "      <td>1248</td>\n",
       "      <td>55.32</td>\n",
       "      <td>1482</td>\n",
       "      <td>72.58</td>\n",
       "      <td>2018-19</td>\n",
       "    </tr>\n",
       "  </tbody>\n",
       "</table>\n",
       "<p>2579 rows × 25 columns</p>\n",
       "</div>"
      ],
      "text/plain": [
       "               CDS  CCode     CDCode      SCode RType  \\\n",
       "0     6.615981e+12    6.0   661598.0   630046.0     S   \n",
       "1     6.616061e+12    6.0   661606.0   634758.0     S   \n",
       "2     1.964733e+13   19.0  1964733.0  1930924.0     S   \n",
       "3     1.964733e+13   19.0  1964733.0  1931476.0     S   \n",
       "4     1.964733e+13   19.0  1964733.0  1931856.0     S   \n",
       "...            ...    ...        ...        ...   ...   \n",
       "2574  5.075556e+13   50.0  5075556.0        0.0     D   \n",
       "2575  5.772678e+13   57.0  5772678.0        0.0     D   \n",
       "2576  7.000000e+12    7.0   700000.0        0.0     C   \n",
       "2577  1.700000e+13   17.0  1700000.0        0.0     C   \n",
       "2578  3.800000e+13   38.0  3800000.0        0.0     C   \n",
       "\n",
       "                        SName                DName          CName  Enroll12  \\\n",
       "0     Colusa Alternative Home       Colusa Unified         Colusa      18.0   \n",
       "1             Maxwell Sr High      Maxwell Unified         Colusa      29.0   \n",
       "2         Belmont Senior High  Los Angeles Unified    Los Angeles     206.0   \n",
       "3     Canoga Park Senior High  Los Angeles Unified    Los Angeles     227.0   \n",
       "4        Whitman Continuation  Los Angeles Unified    Los Angeles      18.0   \n",
       "...                       ...                  ...            ...       ...   \n",
       "2574                      NaN    Riverbank Unified     Stanislaus     179.0   \n",
       "2575                      NaN  Davis Joint Unified           Yolo     717.0   \n",
       "2576                      NaN                  NaN   Contra Costa   14593.0   \n",
       "2577                      NaN                  NaN           Lake     667.0   \n",
       "2578                      NaN                  NaN  San Francisco    4447.0   \n",
       "\n",
       "      NumTSTTakr12  ... NumTSTTakr11 NumERWBenchmark11 PctERWBenchmark11  \\\n",
       "0              0.0  ...          0.0               NaN               NaN   \n",
       "1             10.0  ...          6.0                 *                 *   \n",
       "2            102.0  ...        174.0                42             24.14   \n",
       "3            113.0  ...        275.0                97             35.27   \n",
       "4             14.0  ...          5.0                 *                 *   \n",
       "...            ...  ...          ...               ...               ...   \n",
       "2574          40.0  ...         78.0                45             57.69   \n",
       "2575         307.0  ...        474.0               454             95.78   \n",
       "2576        5412.0  ...       5157.0              4583             88.87   \n",
       "2577         167.0  ...        126.0                94             74.60   \n",
       "2578        2256.0  ...       2042.0              1702             83.35   \n",
       "\n",
       "     NumMathBenchmark11  PctMathBenchmark11  TotNumBothBenchmark12  \\\n",
       "0                   NaN                 NaN                    NaN   \n",
       "1                     *                   *                      *   \n",
       "2                    12                6.90                     14   \n",
       "3                    37               13.45                     18   \n",
       "4                     *                   *                      *   \n",
       "...                 ...                 ...                    ...   \n",
       "2574                 25               32.05                     11   \n",
       "2575                428               90.30                    268   \n",
       "2576               3933               76.27                   2721   \n",
       "2577                 50               39.68                     65   \n",
       "2578               1566               76.69                   1248   \n",
       "\n",
       "     PctBothBenchmark12 TotNumBothBenchmark11 PctBothBenchmark11     Year  \n",
       "0                   NaN                   NaN                NaN  2018-19  \n",
       "1                     *                     *                  *  2018-19  \n",
       "2                 13.73                    11               6.32  2018-19  \n",
       "3                 15.93                    35              12.73  2018-19  \n",
       "4                     *                     *                  *  2018-19  \n",
       "...                 ...                   ...                ...      ...  \n",
       "2574              27.50                    21              26.92  2018-19  \n",
       "2575              87.30                   421              88.82  2018-19  \n",
       "2576              50.28                  3853              74.71  2018-19  \n",
       "2577              38.92                    47              37.30  2018-19  \n",
       "2578              55.32                  1482              72.58  2018-19  \n",
       "\n",
       "[2579 rows x 25 columns]"
      ]
     },
     "execution_count": 23,
     "metadata": {},
     "output_type": "execute_result"
    }
   ],
   "source": [
    "sat_19_ca.drop([2579])"
   ]
  },
  {
   "cell_type": "markdown",
   "metadata": {},
   "source": [
    "There are many NaNs and '*' values in the columns on Average Scores. \n",
    "Also the datatype of those columns are strings instead of float numbers. Similarly, the NUMGE21 column should be integers."
   ]
  },
  {
   "cell_type": "code",
   "execution_count": 24,
   "metadata": {},
   "outputs": [],
   "source": [
    "#For ACT dataset, drop the rows with NaN values or '*' in those score columns.\n",
    "act_19_ca=act_19_ca[(act_19_ca['AvgScrRead'].notna()) & (act_19_ca['AvgScrRead']!='*')]"
   ]
  },
  {
   "cell_type": "code",
   "execution_count": 25,
   "metadata": {},
   "outputs": [],
   "source": [
    "#For SAT dataset, drop the rows with NaN values or '*' in those numerical columns. \n",
    "sat_19_ca=sat_19_ca[(sat_19_ca['NumERWBenchmark12'].notna()) & (sat_19_ca['NumERWBenchmark12']!='*') & (sat_19_ca['NumERWBenchmark11'].notna()) & (sat_19_ca['NumERWBenchmark11']!='*')]"
   ]
  },
  {
   "cell_type": "code",
   "execution_count": 26,
   "metadata": {},
   "outputs": [
    {
     "name": "stdout",
     "output_type": "stream",
     "text": [
      "<class 'pandas.core.frame.DataFrame'>\n",
      "Int64Index: 1421 entries, 3 to 2306\n",
      "Data columns (total 17 columns):\n",
      " #   Column      Non-Null Count  Dtype  \n",
      "---  ------      --------------  -----  \n",
      " 0   CDS         1421 non-null   float64\n",
      " 1   CCode       1421 non-null   float64\n",
      " 2   CDCode      1421 non-null   float64\n",
      " 3   SCode       1071 non-null   float64\n",
      " 4   RType       1421 non-null   object \n",
      " 5   SName       1017 non-null   object \n",
      " 6   DName       1367 non-null   object \n",
      " 7   CName       1421 non-null   object \n",
      " 8   Enroll12    1421 non-null   float64\n",
      " 9   NumTstTakr  1421 non-null   float64\n",
      " 10  AvgScrRead  1421 non-null   object \n",
      " 11  AvgScrEng   1421 non-null   object \n",
      " 12  AvgScrMath  1421 non-null   object \n",
      " 13  AvgScrSci   1421 non-null   object \n",
      " 14  NumGE21     1421 non-null   object \n",
      " 15  PctGE21     1421 non-null   object \n",
      " 16  Year        1421 non-null   object \n",
      "dtypes: float64(6), object(11)\n",
      "memory usage: 199.8+ KB\n"
     ]
    }
   ],
   "source": [
    "act_19_ca.info()"
   ]
  },
  {
   "cell_type": "code",
   "execution_count": 27,
   "metadata": {},
   "outputs": [
    {
     "data": {
      "text/plain": [
       "CDS             0\n",
       "CCode           0\n",
       "CDCode          0\n",
       "SCode         350\n",
       "RType           0\n",
       "SName         404\n",
       "DName          54\n",
       "CName           0\n",
       "Enroll12        0\n",
       "NumTstTakr      0\n",
       "AvgScrRead      0\n",
       "AvgScrEng       0\n",
       "AvgScrMath      0\n",
       "AvgScrSci       0\n",
       "NumGE21         0\n",
       "PctGE21         0\n",
       "Year            0\n",
       "dtype: int64"
      ]
     },
     "execution_count": 27,
     "metadata": {},
     "output_type": "execute_result"
    }
   ],
   "source": [
    "act_19_ca.isnull().sum()"
   ]
  },
  {
   "cell_type": "code",
   "execution_count": 28,
   "metadata": {},
   "outputs": [
    {
     "data": {
      "text/plain": [
       "CDS                        0\n",
       "CCode                      0\n",
       "CDCode                     0\n",
       "SCode                      0\n",
       "RType                      0\n",
       "SName                    440\n",
       "DName                     54\n",
       "CName                      0\n",
       "Enroll12                   0\n",
       "NumTSTTakr12               0\n",
       "NumERWBenchmark12          0\n",
       "PctERWBenchmark12          0\n",
       "NumMathBenchmark12         0\n",
       "PctMathBenchmark12         0\n",
       "Enroll11                   0\n",
       "NumTSTTakr11               0\n",
       "NumERWBenchmark11          0\n",
       "PctERWBenchmark11          0\n",
       "NumMathBenchmark11         0\n",
       "PctMathBenchmark11         0\n",
       "TotNumBothBenchmark12      0\n",
       "PctBothBenchmark12         0\n",
       "TotNumBothBenchmark11      0\n",
       "PctBothBenchmark11         0\n",
       "Year                       0\n",
       "dtype: int64"
      ]
     },
     "execution_count": 28,
     "metadata": {},
     "output_type": "execute_result"
    }
   ],
   "source": [
    "sat_19_ca.isnull().sum()"
   ]
  },
  {
   "cell_type": "code",
   "execution_count": 29,
   "metadata": {},
   "outputs": [],
   "source": [
    "#For the ACT datast, convert the numeric values from string to float in those Average score columns \n",
    "act_19_ca['AvgScrRead']=[float(i) for i in act_19_ca['AvgScrRead'].values]\n",
    "act_19_ca['AvgScrEng']=[float(i) for i in act_19_ca['AvgScrEng'].values]\n",
    "act_19_ca['AvgScrMath']=[float(i) for i in act_19_ca['AvgScrMath'].values]\n",
    "act_19_ca['AvgScrSci']=[float(i) for i in act_19_ca['AvgScrSci'].values]\n",
    "#act_19_ca['PctGE21']=[float(i) for i in act_19_ca['PctGE21'].values]\n",
    "\n",
    "#Convert NumGE21 to integers\n",
    "act_19_ca['NumGE21']=[int(i) for i in act_19_ca['NumGE21'].values]"
   ]
  },
  {
   "cell_type": "code",
   "execution_count": 30,
   "metadata": {},
   "outputs": [
    {
     "data": {
      "text/plain": [
       "Index(['CDS', 'CCode', 'CDCode', 'SCode', 'RType', 'SName', 'DName', 'CName',\n",
       "       'Enroll12', 'NumTSTTakr12', 'NumERWBenchmark12', 'PctERWBenchmark12',\n",
       "       'NumMathBenchmark12', 'PctMathBenchmark12', 'Enroll11', 'NumTSTTakr11',\n",
       "       'NumERWBenchmark11', 'PctERWBenchmark11', 'NumMathBenchmark11',\n",
       "       'PctMathBenchmark11', 'TotNumBothBenchmark12', 'PctBothBenchmark12',\n",
       "       'TotNumBothBenchmark11', 'PctBothBenchmark11', 'Year'],\n",
       "      dtype='object')"
      ]
     },
     "execution_count": 30,
     "metadata": {},
     "output_type": "execute_result"
    }
   ],
   "source": [
    "sat_19_ca.columns"
   ]
  },
  {
   "cell_type": "code",
   "execution_count": 31,
   "metadata": {},
   "outputs": [
    {
     "name": "stdout",
     "output_type": "stream",
     "text": [
      "<class 'pandas.core.frame.DataFrame'>\n",
      "Int64Index: 1639 entries, 2 to 2578\n",
      "Data columns (total 25 columns):\n",
      " #   Column                 Non-Null Count  Dtype  \n",
      "---  ------                 --------------  -----  \n",
      " 0   CDS                    1639 non-null   float64\n",
      " 1   CCode                  1639 non-null   float64\n",
      " 2   CDCode                 1639 non-null   float64\n",
      " 3   SCode                  1639 non-null   float64\n",
      " 4   RType                  1639 non-null   object \n",
      " 5   SName                  1199 non-null   object \n",
      " 6   DName                  1585 non-null   object \n",
      " 7   CName                  1639 non-null   object \n",
      " 8   Enroll12               1639 non-null   float64\n",
      " 9   NumTSTTakr12           1639 non-null   float64\n",
      " 10  NumERWBenchmark12      1639 non-null   object \n",
      " 11  PctERWBenchmark12      1639 non-null   object \n",
      " 12  NumMathBenchmark12     1639 non-null   object \n",
      " 13  PctMathBenchmark12     1639 non-null   object \n",
      " 14  Enroll11               1639 non-null   float64\n",
      " 15  NumTSTTakr11           1639 non-null   float64\n",
      " 16  NumERWBenchmark11      1639 non-null   object \n",
      " 17  PctERWBenchmark11      1639 non-null   object \n",
      " 18  NumMathBenchmark11     1639 non-null   object \n",
      " 19  PctMathBenchmark11     1639 non-null   object \n",
      " 20  TotNumBothBenchmark12  1639 non-null   object \n",
      " 21  PctBothBenchmark12     1639 non-null   object \n",
      " 22  TotNumBothBenchmark11  1639 non-null   object \n",
      " 23  PctBothBenchmark11     1639 non-null   object \n",
      " 24  Year                   1639 non-null   object \n",
      "dtypes: float64(8), object(17)\n",
      "memory usage: 332.9+ KB\n"
     ]
    }
   ],
   "source": [
    "sat_19_ca.info()"
   ]
  },
  {
   "cell_type": "code",
   "execution_count": 32,
   "metadata": {},
   "outputs": [],
   "source": [
    "#Fix those percentage columns in SAT dataset \n",
    "sat_19_ca['PctERWBenchmark12']=(sat_19_ca['PctERWBenchmark12']).apply(convert_string)\n",
    "sat_19_ca['PctMathBenchmark12']=(sat_19_ca['PctMathBenchmark12']).apply(convert_string)\n",
    "sat_19_ca['PctERWBenchmark11']=(sat_19_ca['PctERWBenchmark11']).apply(convert_string)\n",
    "sat_19_ca['PctMathBenchmark11']=(sat_19_ca['PctMathBenchmark11']).apply(convert_string)\n",
    "sat_19_ca['PctBothBenchmark12']=(sat_19_ca['PctBothBenchmark12']).apply(convert_string)\n",
    "sat_19_ca['PctBothBenchmark11']=(sat_19_ca['PctBothBenchmark11']).apply(convert_string)"
   ]
  },
  {
   "cell_type": "code",
   "execution_count": 33,
   "metadata": {},
   "outputs": [
    {
     "data": {
      "text/html": [
       "<div>\n",
       "<style scoped>\n",
       "    .dataframe tbody tr th:only-of-type {\n",
       "        vertical-align: middle;\n",
       "    }\n",
       "\n",
       "    .dataframe tbody tr th {\n",
       "        vertical-align: top;\n",
       "    }\n",
       "\n",
       "    .dataframe thead th {\n",
       "        text-align: right;\n",
       "    }\n",
       "</style>\n",
       "<table border=\"1\" class=\"dataframe\">\n",
       "  <thead>\n",
       "    <tr style=\"text-align: right;\">\n",
       "      <th></th>\n",
       "      <th>CDS</th>\n",
       "      <th>CCode</th>\n",
       "      <th>CDCode</th>\n",
       "      <th>SCode</th>\n",
       "      <th>RType</th>\n",
       "      <th>SName</th>\n",
       "      <th>DName</th>\n",
       "      <th>CName</th>\n",
       "      <th>Enroll12</th>\n",
       "      <th>NumTSTTakr12</th>\n",
       "      <th>...</th>\n",
       "      <th>NumTSTTakr11</th>\n",
       "      <th>NumERWBenchmark11</th>\n",
       "      <th>PctERWBenchmark11</th>\n",
       "      <th>NumMathBenchmark11</th>\n",
       "      <th>PctMathBenchmark11</th>\n",
       "      <th>TotNumBothBenchmark12</th>\n",
       "      <th>PctBothBenchmark12</th>\n",
       "      <th>TotNumBothBenchmark11</th>\n",
       "      <th>PctBothBenchmark11</th>\n",
       "      <th>Year</th>\n",
       "    </tr>\n",
       "  </thead>\n",
       "  <tbody>\n",
       "    <tr>\n",
       "      <th>2</th>\n",
       "      <td>1.964733e+13</td>\n",
       "      <td>19.0</td>\n",
       "      <td>1964733.0</td>\n",
       "      <td>1930924.0</td>\n",
       "      <td>S</td>\n",
       "      <td>Belmont Senior High</td>\n",
       "      <td>Los Angeles Unified</td>\n",
       "      <td>Los Angeles</td>\n",
       "      <td>206.0</td>\n",
       "      <td>102.0</td>\n",
       "      <td>...</td>\n",
       "      <td>174.0</td>\n",
       "      <td>42</td>\n",
       "      <td>0.241</td>\n",
       "      <td>12</td>\n",
       "      <td>0.069</td>\n",
       "      <td>14</td>\n",
       "      <td>0.137</td>\n",
       "      <td>11</td>\n",
       "      <td>0.063</td>\n",
       "      <td>2018-19</td>\n",
       "    </tr>\n",
       "    <tr>\n",
       "      <th>3</th>\n",
       "      <td>1.964733e+13</td>\n",
       "      <td>19.0</td>\n",
       "      <td>1964733.0</td>\n",
       "      <td>1931476.0</td>\n",
       "      <td>S</td>\n",
       "      <td>Canoga Park Senior High</td>\n",
       "      <td>Los Angeles Unified</td>\n",
       "      <td>Los Angeles</td>\n",
       "      <td>227.0</td>\n",
       "      <td>113.0</td>\n",
       "      <td>...</td>\n",
       "      <td>275.0</td>\n",
       "      <td>97</td>\n",
       "      <td>0.352</td>\n",
       "      <td>37</td>\n",
       "      <td>0.134</td>\n",
       "      <td>18</td>\n",
       "      <td>0.159</td>\n",
       "      <td>35</td>\n",
       "      <td>0.127</td>\n",
       "      <td>2018-19</td>\n",
       "    </tr>\n",
       "    <tr>\n",
       "      <th>5</th>\n",
       "      <td>1.964734e+13</td>\n",
       "      <td>19.0</td>\n",
       "      <td>1964733.0</td>\n",
       "      <td>6061451.0</td>\n",
       "      <td>S</td>\n",
       "      <td>Foshay Learning Center</td>\n",
       "      <td>Los Angeles Unified</td>\n",
       "      <td>Los Angeles</td>\n",
       "      <td>166.0</td>\n",
       "      <td>106.0</td>\n",
       "      <td>...</td>\n",
       "      <td>183.0</td>\n",
       "      <td>91</td>\n",
       "      <td>0.497</td>\n",
       "      <td>47</td>\n",
       "      <td>0.256</td>\n",
       "      <td>36</td>\n",
       "      <td>0.339</td>\n",
       "      <td>44</td>\n",
       "      <td>0.240</td>\n",
       "      <td>2018-19</td>\n",
       "    </tr>\n",
       "    <tr>\n",
       "      <th>6</th>\n",
       "      <td>3.073635e+13</td>\n",
       "      <td>30.0</td>\n",
       "      <td>3073635.0</td>\n",
       "      <td>3034956.0</td>\n",
       "      <td>S</td>\n",
       "      <td>Mission Viejo High</td>\n",
       "      <td>Saddleback Valley Unified</td>\n",
       "      <td>Orange</td>\n",
       "      <td>562.0</td>\n",
       "      <td>190.0</td>\n",
       "      <td>...</td>\n",
       "      <td>223.0</td>\n",
       "      <td>206</td>\n",
       "      <td>0.923</td>\n",
       "      <td>176</td>\n",
       "      <td>0.789</td>\n",
       "      <td>132</td>\n",
       "      <td>0.694</td>\n",
       "      <td>172</td>\n",
       "      <td>0.771</td>\n",
       "      <td>2018-19</td>\n",
       "    </tr>\n",
       "    <tr>\n",
       "      <th>9</th>\n",
       "      <td>1.964733e+13</td>\n",
       "      <td>19.0</td>\n",
       "      <td>1964733.0</td>\n",
       "      <td>119685.0</td>\n",
       "      <td>S</td>\n",
       "      <td>New Open World Academy K-12</td>\n",
       "      <td>Los Angeles Unified</td>\n",
       "      <td>Los Angeles</td>\n",
       "      <td>85.0</td>\n",
       "      <td>68.0</td>\n",
       "      <td>...</td>\n",
       "      <td>79.0</td>\n",
       "      <td>22</td>\n",
       "      <td>0.278</td>\n",
       "      <td>10</td>\n",
       "      <td>0.126</td>\n",
       "      <td>6</td>\n",
       "      <td>0.088</td>\n",
       "      <td>6</td>\n",
       "      <td>0.075</td>\n",
       "      <td>2018-19</td>\n",
       "    </tr>\n",
       "  </tbody>\n",
       "</table>\n",
       "<p>5 rows × 25 columns</p>\n",
       "</div>"
      ],
      "text/plain": [
       "            CDS  CCode     CDCode      SCode RType  \\\n",
       "2  1.964733e+13   19.0  1964733.0  1930924.0     S   \n",
       "3  1.964733e+13   19.0  1964733.0  1931476.0     S   \n",
       "5  1.964734e+13   19.0  1964733.0  6061451.0     S   \n",
       "6  3.073635e+13   30.0  3073635.0  3034956.0     S   \n",
       "9  1.964733e+13   19.0  1964733.0   119685.0     S   \n",
       "\n",
       "                         SName                      DName        CName  \\\n",
       "2          Belmont Senior High        Los Angeles Unified  Los Angeles   \n",
       "3      Canoga Park Senior High        Los Angeles Unified  Los Angeles   \n",
       "5       Foshay Learning Center        Los Angeles Unified  Los Angeles   \n",
       "6           Mission Viejo High  Saddleback Valley Unified       Orange   \n",
       "9  New Open World Academy K-12        Los Angeles Unified  Los Angeles   \n",
       "\n",
       "   Enroll12  NumTSTTakr12  ... NumTSTTakr11  NumERWBenchmark11  \\\n",
       "2     206.0         102.0  ...        174.0                 42   \n",
       "3     227.0         113.0  ...        275.0                 97   \n",
       "5     166.0         106.0  ...        183.0                 91   \n",
       "6     562.0         190.0  ...        223.0                206   \n",
       "9      85.0          68.0  ...         79.0                 22   \n",
       "\n",
       "  PctERWBenchmark11  NumMathBenchmark11  PctMathBenchmark11  \\\n",
       "2             0.241                  12               0.069   \n",
       "3             0.352                  37               0.134   \n",
       "5             0.497                  47               0.256   \n",
       "6             0.923                 176               0.789   \n",
       "9             0.278                  10               0.126   \n",
       "\n",
       "   TotNumBothBenchmark12 PctBothBenchmark12  TotNumBothBenchmark11  \\\n",
       "2                     14              0.137                     11   \n",
       "3                     18              0.159                     35   \n",
       "5                     36              0.339                     44   \n",
       "6                    132              0.694                    172   \n",
       "9                      6              0.088                      6   \n",
       "\n",
       "  PctBothBenchmark11     Year  \n",
       "2              0.063  2018-19  \n",
       "3              0.127  2018-19  \n",
       "5              0.240  2018-19  \n",
       "6              0.771  2018-19  \n",
       "9              0.075  2018-19  \n",
       "\n",
       "[5 rows x 25 columns]"
      ]
     },
     "execution_count": 33,
     "metadata": {},
     "output_type": "execute_result"
    }
   ],
   "source": [
    "sat_19_ca.head()"
   ]
  },
  {
   "cell_type": "code",
   "execution_count": 34,
   "metadata": {},
   "outputs": [
    {
     "data": {
      "text/plain": [
       "['NumERWBenchmark12',\n",
       " 'NumMathBenchmark12',\n",
       " 'NumERWBenchmark11',\n",
       " 'NumMathBenchmark11',\n",
       " 'TotNumBothBenchmark12',\n",
       " 'TotNumBothBenchmark11']"
      ]
     },
     "execution_count": 34,
     "metadata": {},
     "output_type": "execute_result"
    }
   ],
   "source": [
    "#Make a list of the column names that need conversion from string to float numbers\n",
    "col_list_to_convert=[]\n",
    "for i in [10,12,16,18,20,22]:\n",
    "    col_list_to_convert.append(sat_19_ca.columns[i])\n",
    "col_list_to_convert"
   ]
  },
  {
   "cell_type": "code",
   "execution_count": 35,
   "metadata": {},
   "outputs": [
    {
     "name": "stdout",
     "output_type": "stream",
     "text": [
      "NumERWBenchmark12\n",
      "NumMathBenchmark12\n",
      "NumERWBenchmark11\n",
      "NumMathBenchmark11\n",
      "TotNumBothBenchmark12\n",
      "TotNumBothBenchmark11\n"
     ]
    }
   ],
   "source": [
    "#For the SAT dataset, convert the numeric values from string to float \n",
    "for i in col_list_to_convert:\n",
    "    print(i)\n",
    "    sat_19_ca[i]=[float(j) for j in sat_19_ca[i].values]"
   ]
  },
  {
   "cell_type": "markdown",
   "metadata": {},
   "source": [
    "5. Fix any incorrect data types found in step 5.\n",
    "Fix any individual values preventing other columns from being the appropriate type.\n",
    "If your dataset has a column of percents (ex. '50%', '30.5%', etc.), use the function you wrote in Part 1 (coding challenges, number 3) to convert this to floats! Hint: use .map() or .apply()."
   ]
  },
  {
   "cell_type": "code",
   "execution_count": 36,
   "metadata": {},
   "outputs": [],
   "source": [
    "#Fix the PctGE21 column in ACT dataset \n",
    "act_19_ca['PctGE21']=(act_19_ca['PctGE21']).apply(convert_string)"
   ]
  },
  {
   "cell_type": "markdown",
   "metadata": {},
   "source": [
    "7. Rename Columns.\n",
    "Column names should be all lowercase.\n",
    "Column names should not contain spaces (underscores will suffice--this allows for using the df.column_name method to access columns in addition to df['column_name']).\n",
    "Column names should be unique and informative."
   ]
  },
  {
   "cell_type": "code",
   "execution_count": 37,
   "metadata": {},
   "outputs": [],
   "source": [
    "col_original=act_19_ca.columns"
   ]
  },
  {
   "cell_type": "code",
   "execution_count": 38,
   "metadata": {},
   "outputs": [],
   "source": [
    "col=[i.lower() for i in col_original]"
   ]
  },
  {
   "cell_type": "code",
   "execution_count": 39,
   "metadata": {},
   "outputs": [],
   "source": [
    "columns=dict(zip(col_original,col))"
   ]
  },
  {
   "cell_type": "code",
   "execution_count": 40,
   "metadata": {},
   "outputs": [],
   "source": [
    "act_19_ca.rename(columns=columns,inplace=True)"
   ]
  },
  {
   "cell_type": "code",
   "execution_count": 41,
   "metadata": {},
   "outputs": [],
   "source": [
    "#Repeat the steps with the SAT dataset\n",
    "col_original=sat_19_ca.columns"
   ]
  },
  {
   "cell_type": "code",
   "execution_count": 42,
   "metadata": {},
   "outputs": [],
   "source": [
    "col=[i.lower() for i in col_original]"
   ]
  },
  {
   "cell_type": "code",
   "execution_count": 43,
   "metadata": {},
   "outputs": [],
   "source": [
    "columns=dict(zip(col_original,col))"
   ]
  },
  {
   "cell_type": "code",
   "execution_count": 44,
   "metadata": {},
   "outputs": [],
   "source": [
    "sat_19_ca.rename(columns=columns,inplace=True)"
   ]
  },
  {
   "cell_type": "code",
   "execution_count": 45,
   "metadata": {},
   "outputs": [
    {
     "data": {
      "text/plain": [
       "Index(['cds', 'ccode', 'cdcode', 'scode', 'rtype', 'sname', 'dname', 'cname',\n",
       "       'enroll12', 'numtsttakr12', 'numerwbenchmark12', 'pcterwbenchmark12',\n",
       "       'nummathbenchmark12', 'pctmathbenchmark12', 'enroll11', 'numtsttakr11',\n",
       "       'numerwbenchmark11', 'pcterwbenchmark11', 'nummathbenchmark11',\n",
       "       'pctmathbenchmark11', 'totnumbothbenchmark12', 'pctbothbenchmark12',\n",
       "       'totnumbothbenchmark11', 'pctbothbenchmark11', 'year'],\n",
       "      dtype='object')"
      ]
     },
     "execution_count": 45,
     "metadata": {},
     "output_type": "execute_result"
    }
   ],
   "source": [
    "sat_19_ca.columns"
   ]
  },
  {
   "cell_type": "code",
   "execution_count": 46,
   "metadata": {},
   "outputs": [
    {
     "data": {
      "text/plain": [
       "(1421, 17)"
      ]
     },
     "execution_count": 46,
     "metadata": {},
     "output_type": "execute_result"
    }
   ],
   "source": [
    "act_19_ca.shape"
   ]
  },
  {
   "cell_type": "code",
   "execution_count": 47,
   "metadata": {},
   "outputs": [
    {
     "data": {
      "text/plain": [
       "0"
      ]
     },
     "execution_count": 47,
     "metadata": {},
     "output_type": "execute_result"
    }
   ],
   "source": [
    "#To merge SAT and ACT datasets for 2019\n",
    "\n",
    "#First, check that 'cds' column has no dupliated values for both datasets. \n",
    "\n",
    "act_19_ca['cds'].duplicated().sum()\n",
    "sat_19_ca['cds'].duplicated().sum()"
   ]
  },
  {
   "cell_type": "code",
   "execution_count": 48,
   "metadata": {},
   "outputs": [
    {
     "data": {
      "text/html": [
       "<div>\n",
       "<style scoped>\n",
       "    .dataframe tbody tr th:only-of-type {\n",
       "        vertical-align: middle;\n",
       "    }\n",
       "\n",
       "    .dataframe tbody tr th {\n",
       "        vertical-align: top;\n",
       "    }\n",
       "\n",
       "    .dataframe thead th {\n",
       "        text-align: right;\n",
       "    }\n",
       "</style>\n",
       "<table border=\"1\" class=\"dataframe\">\n",
       "  <thead>\n",
       "    <tr style=\"text-align: right;\">\n",
       "      <th></th>\n",
       "      <th>enroll12</th>\n",
       "      <th>numtsttakr12</th>\n",
       "      <th>numerwbenchmark12</th>\n",
       "      <th>pcterwbenchmark12</th>\n",
       "      <th>nummathbenchmark12</th>\n",
       "      <th>pctmathbenchmark12</th>\n",
       "      <th>enroll11</th>\n",
       "      <th>numtsttakr11</th>\n",
       "      <th>numerwbenchmark11</th>\n",
       "      <th>pcterwbenchmark11</th>\n",
       "      <th>nummathbenchmark11</th>\n",
       "      <th>pctmathbenchmark11</th>\n",
       "      <th>totnumbothbenchmark12</th>\n",
       "      <th>pctbothbenchmark12</th>\n",
       "      <th>totnumbothbenchmark11</th>\n",
       "      <th>pctbothbenchmark11</th>\n",
       "    </tr>\n",
       "  </thead>\n",
       "  <tbody>\n",
       "    <tr>\n",
       "      <th>2</th>\n",
       "      <td>206.0</td>\n",
       "      <td>102.0</td>\n",
       "      <td>31.0</td>\n",
       "      <td>0.303</td>\n",
       "      <td>14.0</td>\n",
       "      <td>0.137</td>\n",
       "      <td>219.0</td>\n",
       "      <td>174.0</td>\n",
       "      <td>42.0</td>\n",
       "      <td>0.241</td>\n",
       "      <td>12.0</td>\n",
       "      <td>0.069</td>\n",
       "      <td>14.0</td>\n",
       "      <td>0.137</td>\n",
       "      <td>11.0</td>\n",
       "      <td>0.063</td>\n",
       "    </tr>\n",
       "    <tr>\n",
       "      <th>3</th>\n",
       "      <td>227.0</td>\n",
       "      <td>113.0</td>\n",
       "      <td>54.0</td>\n",
       "      <td>0.477</td>\n",
       "      <td>18.0</td>\n",
       "      <td>0.159</td>\n",
       "      <td>333.0</td>\n",
       "      <td>275.0</td>\n",
       "      <td>97.0</td>\n",
       "      <td>0.352</td>\n",
       "      <td>37.0</td>\n",
       "      <td>0.134</td>\n",
       "      <td>18.0</td>\n",
       "      <td>0.159</td>\n",
       "      <td>35.0</td>\n",
       "      <td>0.127</td>\n",
       "    </tr>\n",
       "    <tr>\n",
       "      <th>5</th>\n",
       "      <td>166.0</td>\n",
       "      <td>106.0</td>\n",
       "      <td>68.0</td>\n",
       "      <td>0.641</td>\n",
       "      <td>36.0</td>\n",
       "      <td>0.339</td>\n",
       "      <td>187.0</td>\n",
       "      <td>183.0</td>\n",
       "      <td>91.0</td>\n",
       "      <td>0.497</td>\n",
       "      <td>47.0</td>\n",
       "      <td>0.256</td>\n",
       "      <td>36.0</td>\n",
       "      <td>0.339</td>\n",
       "      <td>44.0</td>\n",
       "      <td>0.240</td>\n",
       "    </tr>\n",
       "    <tr>\n",
       "      <th>6</th>\n",
       "      <td>562.0</td>\n",
       "      <td>190.0</td>\n",
       "      <td>161.0</td>\n",
       "      <td>0.847</td>\n",
       "      <td>138.0</td>\n",
       "      <td>0.726</td>\n",
       "      <td>503.0</td>\n",
       "      <td>223.0</td>\n",
       "      <td>206.0</td>\n",
       "      <td>0.923</td>\n",
       "      <td>176.0</td>\n",
       "      <td>0.789</td>\n",
       "      <td>132.0</td>\n",
       "      <td>0.694</td>\n",
       "      <td>172.0</td>\n",
       "      <td>0.771</td>\n",
       "    </tr>\n",
       "    <tr>\n",
       "      <th>9</th>\n",
       "      <td>85.0</td>\n",
       "      <td>68.0</td>\n",
       "      <td>17.0</td>\n",
       "      <td>0.250</td>\n",
       "      <td>6.0</td>\n",
       "      <td>0.088</td>\n",
       "      <td>79.0</td>\n",
       "      <td>79.0</td>\n",
       "      <td>22.0</td>\n",
       "      <td>0.278</td>\n",
       "      <td>10.0</td>\n",
       "      <td>0.126</td>\n",
       "      <td>6.0</td>\n",
       "      <td>0.088</td>\n",
       "      <td>6.0</td>\n",
       "      <td>0.075</td>\n",
       "    </tr>\n",
       "    <tr>\n",
       "      <th>...</th>\n",
       "      <td>...</td>\n",
       "      <td>...</td>\n",
       "      <td>...</td>\n",
       "      <td>...</td>\n",
       "      <td>...</td>\n",
       "      <td>...</td>\n",
       "      <td>...</td>\n",
       "      <td>...</td>\n",
       "      <td>...</td>\n",
       "      <td>...</td>\n",
       "      <td>...</td>\n",
       "      <td>...</td>\n",
       "      <td>...</td>\n",
       "      <td>...</td>\n",
       "      <td>...</td>\n",
       "      <td>...</td>\n",
       "    </tr>\n",
       "    <tr>\n",
       "      <th>2574</th>\n",
       "      <td>179.0</td>\n",
       "      <td>40.0</td>\n",
       "      <td>23.0</td>\n",
       "      <td>0.575</td>\n",
       "      <td>13.0</td>\n",
       "      <td>0.325</td>\n",
       "      <td>213.0</td>\n",
       "      <td>78.0</td>\n",
       "      <td>45.0</td>\n",
       "      <td>0.576</td>\n",
       "      <td>25.0</td>\n",
       "      <td>0.320</td>\n",
       "      <td>11.0</td>\n",
       "      <td>0.275</td>\n",
       "      <td>21.0</td>\n",
       "      <td>0.269</td>\n",
       "    </tr>\n",
       "    <tr>\n",
       "      <th>2575</th>\n",
       "      <td>717.0</td>\n",
       "      <td>307.0</td>\n",
       "      <td>293.0</td>\n",
       "      <td>0.954</td>\n",
       "      <td>274.0</td>\n",
       "      <td>0.892</td>\n",
       "      <td>739.0</td>\n",
       "      <td>474.0</td>\n",
       "      <td>454.0</td>\n",
       "      <td>0.957</td>\n",
       "      <td>428.0</td>\n",
       "      <td>0.903</td>\n",
       "      <td>268.0</td>\n",
       "      <td>0.873</td>\n",
       "      <td>421.0</td>\n",
       "      <td>0.888</td>\n",
       "    </tr>\n",
       "    <tr>\n",
       "      <th>2576</th>\n",
       "      <td>14593.0</td>\n",
       "      <td>5412.0</td>\n",
       "      <td>3798.0</td>\n",
       "      <td>0.701</td>\n",
       "      <td>2814.0</td>\n",
       "      <td>0.520</td>\n",
       "      <td>14120.0</td>\n",
       "      <td>5157.0</td>\n",
       "      <td>4583.0</td>\n",
       "      <td>0.888</td>\n",
       "      <td>3933.0</td>\n",
       "      <td>0.762</td>\n",
       "      <td>2721.0</td>\n",
       "      <td>0.502</td>\n",
       "      <td>3853.0</td>\n",
       "      <td>0.747</td>\n",
       "    </tr>\n",
       "    <tr>\n",
       "      <th>2577</th>\n",
       "      <td>667.0</td>\n",
       "      <td>167.0</td>\n",
       "      <td>123.0</td>\n",
       "      <td>0.736</td>\n",
       "      <td>71.0</td>\n",
       "      <td>0.425</td>\n",
       "      <td>731.0</td>\n",
       "      <td>126.0</td>\n",
       "      <td>94.0</td>\n",
       "      <td>0.746</td>\n",
       "      <td>50.0</td>\n",
       "      <td>0.396</td>\n",
       "      <td>65.0</td>\n",
       "      <td>0.389</td>\n",
       "      <td>47.0</td>\n",
       "      <td>0.373</td>\n",
       "    </tr>\n",
       "    <tr>\n",
       "      <th>2578</th>\n",
       "      <td>4447.0</td>\n",
       "      <td>2256.0</td>\n",
       "      <td>1579.0</td>\n",
       "      <td>0.699</td>\n",
       "      <td>1380.0</td>\n",
       "      <td>0.611</td>\n",
       "      <td>4500.0</td>\n",
       "      <td>2042.0</td>\n",
       "      <td>1702.0</td>\n",
       "      <td>0.833</td>\n",
       "      <td>1566.0</td>\n",
       "      <td>0.766</td>\n",
       "      <td>1248.0</td>\n",
       "      <td>0.553</td>\n",
       "      <td>1482.0</td>\n",
       "      <td>0.725</td>\n",
       "    </tr>\n",
       "  </tbody>\n",
       "</table>\n",
       "<p>1639 rows × 16 columns</p>\n",
       "</div>"
      ],
      "text/plain": [
       "      enroll12  numtsttakr12  numerwbenchmark12  pcterwbenchmark12  \\\n",
       "2        206.0         102.0               31.0              0.303   \n",
       "3        227.0         113.0               54.0              0.477   \n",
       "5        166.0         106.0               68.0              0.641   \n",
       "6        562.0         190.0              161.0              0.847   \n",
       "9         85.0          68.0               17.0              0.250   \n",
       "...        ...           ...                ...                ...   \n",
       "2574     179.0          40.0               23.0              0.575   \n",
       "2575     717.0         307.0              293.0              0.954   \n",
       "2576   14593.0        5412.0             3798.0              0.701   \n",
       "2577     667.0         167.0              123.0              0.736   \n",
       "2578    4447.0        2256.0             1579.0              0.699   \n",
       "\n",
       "      nummathbenchmark12  pctmathbenchmark12  enroll11  numtsttakr11  \\\n",
       "2                   14.0               0.137     219.0         174.0   \n",
       "3                   18.0               0.159     333.0         275.0   \n",
       "5                   36.0               0.339     187.0         183.0   \n",
       "6                  138.0               0.726     503.0         223.0   \n",
       "9                    6.0               0.088      79.0          79.0   \n",
       "...                  ...                 ...       ...           ...   \n",
       "2574                13.0               0.325     213.0          78.0   \n",
       "2575               274.0               0.892     739.0         474.0   \n",
       "2576              2814.0               0.520   14120.0        5157.0   \n",
       "2577                71.0               0.425     731.0         126.0   \n",
       "2578              1380.0               0.611    4500.0        2042.0   \n",
       "\n",
       "      numerwbenchmark11  pcterwbenchmark11  nummathbenchmark11  \\\n",
       "2                  42.0              0.241                12.0   \n",
       "3                  97.0              0.352                37.0   \n",
       "5                  91.0              0.497                47.0   \n",
       "6                 206.0              0.923               176.0   \n",
       "9                  22.0              0.278                10.0   \n",
       "...                 ...                ...                 ...   \n",
       "2574               45.0              0.576                25.0   \n",
       "2575              454.0              0.957               428.0   \n",
       "2576             4583.0              0.888              3933.0   \n",
       "2577               94.0              0.746                50.0   \n",
       "2578             1702.0              0.833              1566.0   \n",
       "\n",
       "      pctmathbenchmark11  totnumbothbenchmark12  pctbothbenchmark12  \\\n",
       "2                  0.069                   14.0               0.137   \n",
       "3                  0.134                   18.0               0.159   \n",
       "5                  0.256                   36.0               0.339   \n",
       "6                  0.789                  132.0               0.694   \n",
       "9                  0.126                    6.0               0.088   \n",
       "...                  ...                    ...                 ...   \n",
       "2574               0.320                   11.0               0.275   \n",
       "2575               0.903                  268.0               0.873   \n",
       "2576               0.762                 2721.0               0.502   \n",
       "2577               0.396                   65.0               0.389   \n",
       "2578               0.766                 1248.0               0.553   \n",
       "\n",
       "      totnumbothbenchmark11  pctbothbenchmark11  \n",
       "2                      11.0               0.063  \n",
       "3                      35.0               0.127  \n",
       "5                      44.0               0.240  \n",
       "6                     172.0               0.771  \n",
       "9                       6.0               0.075  \n",
       "...                     ...                 ...  \n",
       "2574                   21.0               0.269  \n",
       "2575                  421.0               0.888  \n",
       "2576                 3853.0               0.747  \n",
       "2577                   47.0               0.373  \n",
       "2578                 1482.0               0.725  \n",
       "\n",
       "[1639 rows x 16 columns]"
      ]
     },
     "execution_count": 48,
     "metadata": {},
     "output_type": "execute_result"
    }
   ],
   "source": [
    "sat_19_ca[['enroll12', 'numtsttakr12', 'numerwbenchmark12', 'pcterwbenchmark12',\n",
    "       'nummathbenchmark12', 'pctmathbenchmark12', 'enroll11', 'numtsttakr11',\n",
    "       'numerwbenchmark11', 'pcterwbenchmark11', 'nummathbenchmark11',\n",
    "       'pctmathbenchmark11', 'totnumbothbenchmark12', 'pctbothbenchmark12',\n",
    "       'totnumbothbenchmark11', 'pctbothbenchmark11']]"
   ]
  },
  {
   "cell_type": "code",
   "execution_count": 49,
   "metadata": {},
   "outputs": [],
   "source": [
    "#Create a dictionary of which the keys are the county codes, and the values are the county names. \n",
    "ccode_cname=dict(zip(sat_19_ca['ccode'].unique(),sat_19_ca['cname'].unique()))"
   ]
  },
  {
   "cell_type": "code",
   "execution_count": 50,
   "metadata": {},
   "outputs": [],
   "source": [
    "#These are the essential columns in SAT dataset\n",
    "sat_19=sat_19_ca[['cds','ccode','enroll12', 'numtsttakr12', 'totnumbothbenchmark12','enroll11', 'numtsttakr11', 'totnumbothbenchmark11']]"
   ]
  },
  {
   "cell_type": "code",
   "execution_count": 51,
   "metadata": {},
   "outputs": [],
   "source": [
    "#The important columns in ACT dataset\n",
    "act_19=act_19_ca[['cds','enroll12', 'numtsttakr','numge21']]"
   ]
  },
  {
   "cell_type": "code",
   "execution_count": 52,
   "metadata": {},
   "outputs": [
    {
     "name": "stdout",
     "output_type": "stream",
     "text": [
      "(1639, 8)\n",
      "(1421, 4)\n"
     ]
    }
   ],
   "source": [
    "print(sat_19.shape)\n",
    "print(act_19.shape)"
   ]
  },
  {
   "cell_type": "code",
   "execution_count": 53,
   "metadata": {},
   "outputs": [
    {
     "data": {
      "text/html": [
       "<div>\n",
       "<style scoped>\n",
       "    .dataframe tbody tr th:only-of-type {\n",
       "        vertical-align: middle;\n",
       "    }\n",
       "\n",
       "    .dataframe tbody tr th {\n",
       "        vertical-align: top;\n",
       "    }\n",
       "\n",
       "    .dataframe thead th {\n",
       "        text-align: right;\n",
       "    }\n",
       "</style>\n",
       "<table border=\"1\" class=\"dataframe\">\n",
       "  <thead>\n",
       "    <tr style=\"text-align: right;\">\n",
       "      <th></th>\n",
       "      <th>cds</th>\n",
       "      <th>ccode</th>\n",
       "      <th>enroll12</th>\n",
       "      <th>numtsttakr12</th>\n",
       "      <th>totnumbothbenchmark12</th>\n",
       "      <th>enroll11</th>\n",
       "      <th>numtsttakr11</th>\n",
       "      <th>totnumbothbenchmark11</th>\n",
       "    </tr>\n",
       "  </thead>\n",
       "  <tbody>\n",
       "    <tr>\n",
       "      <th>2</th>\n",
       "      <td>1.964733e+13</td>\n",
       "      <td>19.0</td>\n",
       "      <td>206.0</td>\n",
       "      <td>102.0</td>\n",
       "      <td>14.0</td>\n",
       "      <td>219.0</td>\n",
       "      <td>174.0</td>\n",
       "      <td>11.0</td>\n",
       "    </tr>\n",
       "    <tr>\n",
       "      <th>3</th>\n",
       "      <td>1.964733e+13</td>\n",
       "      <td>19.0</td>\n",
       "      <td>227.0</td>\n",
       "      <td>113.0</td>\n",
       "      <td>18.0</td>\n",
       "      <td>333.0</td>\n",
       "      <td>275.0</td>\n",
       "      <td>35.0</td>\n",
       "    </tr>\n",
       "    <tr>\n",
       "      <th>5</th>\n",
       "      <td>1.964734e+13</td>\n",
       "      <td>19.0</td>\n",
       "      <td>166.0</td>\n",
       "      <td>106.0</td>\n",
       "      <td>36.0</td>\n",
       "      <td>187.0</td>\n",
       "      <td>183.0</td>\n",
       "      <td>44.0</td>\n",
       "    </tr>\n",
       "    <tr>\n",
       "      <th>6</th>\n",
       "      <td>3.073635e+13</td>\n",
       "      <td>30.0</td>\n",
       "      <td>562.0</td>\n",
       "      <td>190.0</td>\n",
       "      <td>132.0</td>\n",
       "      <td>503.0</td>\n",
       "      <td>223.0</td>\n",
       "      <td>172.0</td>\n",
       "    </tr>\n",
       "    <tr>\n",
       "      <th>9</th>\n",
       "      <td>1.964733e+13</td>\n",
       "      <td>19.0</td>\n",
       "      <td>85.0</td>\n",
       "      <td>68.0</td>\n",
       "      <td>6.0</td>\n",
       "      <td>79.0</td>\n",
       "      <td>79.0</td>\n",
       "      <td>6.0</td>\n",
       "    </tr>\n",
       "  </tbody>\n",
       "</table>\n",
       "</div>"
      ],
      "text/plain": [
       "            cds  ccode  enroll12  numtsttakr12  totnumbothbenchmark12  \\\n",
       "2  1.964733e+13   19.0     206.0         102.0                   14.0   \n",
       "3  1.964733e+13   19.0     227.0         113.0                   18.0   \n",
       "5  1.964734e+13   19.0     166.0         106.0                   36.0   \n",
       "6  3.073635e+13   30.0     562.0         190.0                  132.0   \n",
       "9  1.964733e+13   19.0      85.0          68.0                    6.0   \n",
       "\n",
       "   enroll11  numtsttakr11  totnumbothbenchmark11  \n",
       "2     219.0         174.0                   11.0  \n",
       "3     333.0         275.0                   35.0  \n",
       "5     187.0         183.0                   44.0  \n",
       "6     503.0         223.0                  172.0  \n",
       "9      79.0          79.0                    6.0  "
      ]
     },
     "execution_count": 53,
     "metadata": {},
     "output_type": "execute_result"
    }
   ],
   "source": [
    "sat_19.head()"
   ]
  },
  {
   "cell_type": "code",
   "execution_count": 54,
   "metadata": {},
   "outputs": [
    {
     "name": "stderr",
     "output_type": "stream",
     "text": [
      "C:\\Users\\Cathy\\AppData\\Local\\Temp\\ipykernel_7256\\744497759.py:2: DeprecationWarning: `np.str` is a deprecated alias for the builtin `str`. To silence this warning, use `str` by itself. Doing this will not modify any behavior and is safe. If you specifically wanted the numpy scalar type, use `np.str_` here.\n",
      "Deprecated in NumPy 1.20; for more details and guidance: https://numpy.org/devdocs/release/1.20.0-notes.html#deprecations\n",
      "  sat_19['cds']=[np.str(i) for i in sat_19['cds'].values]\n",
      "C:\\Users\\Cathy\\AppData\\Local\\Temp\\ipykernel_7256\\744497759.py:2: SettingWithCopyWarning: \n",
      "A value is trying to be set on a copy of a slice from a DataFrame.\n",
      "Try using .loc[row_indexer,col_indexer] = value instead\n",
      "\n",
      "See the caveats in the documentation: https://pandas.pydata.org/pandas-docs/stable/user_guide/indexing.html#returning-a-view-versus-a-copy\n",
      "  sat_19['cds']=[np.str(i) for i in sat_19['cds'].values]\n"
     ]
    }
   ],
   "source": [
    "#Similarly as for ACT dataset, fix the CDS column for the SAT dataset\n",
    "sat_19['cds']=[np.str(i) for i in sat_19['cds'].values]"
   ]
  },
  {
   "cell_type": "code",
   "execution_count": 55,
   "metadata": {},
   "outputs": [
    {
     "data": {
      "text/html": [
       "<div>\n",
       "<style scoped>\n",
       "    .dataframe tbody tr th:only-of-type {\n",
       "        vertical-align: middle;\n",
       "    }\n",
       "\n",
       "    .dataframe tbody tr th {\n",
       "        vertical-align: top;\n",
       "    }\n",
       "\n",
       "    .dataframe thead th {\n",
       "        text-align: right;\n",
       "    }\n",
       "</style>\n",
       "<table border=\"1\" class=\"dataframe\">\n",
       "  <thead>\n",
       "    <tr style=\"text-align: right;\">\n",
       "      <th></th>\n",
       "      <th>cds</th>\n",
       "      <th>ccode</th>\n",
       "      <th>enroll12</th>\n",
       "      <th>numtsttakr12</th>\n",
       "      <th>totnumbothbenchmark12</th>\n",
       "      <th>enroll11</th>\n",
       "      <th>numtsttakr11</th>\n",
       "      <th>totnumbothbenchmark11</th>\n",
       "    </tr>\n",
       "  </thead>\n",
       "  <tbody>\n",
       "    <tr>\n",
       "      <th>2</th>\n",
       "      <td>19647331930924.0</td>\n",
       "      <td>19.0</td>\n",
       "      <td>206.0</td>\n",
       "      <td>102.0</td>\n",
       "      <td>14.0</td>\n",
       "      <td>219.0</td>\n",
       "      <td>174.0</td>\n",
       "      <td>11.0</td>\n",
       "    </tr>\n",
       "    <tr>\n",
       "      <th>3</th>\n",
       "      <td>19647331931476.0</td>\n",
       "      <td>19.0</td>\n",
       "      <td>227.0</td>\n",
       "      <td>113.0</td>\n",
       "      <td>18.0</td>\n",
       "      <td>333.0</td>\n",
       "      <td>275.0</td>\n",
       "      <td>35.0</td>\n",
       "    </tr>\n",
       "    <tr>\n",
       "      <th>5</th>\n",
       "      <td>19647336061451.0</td>\n",
       "      <td>19.0</td>\n",
       "      <td>166.0</td>\n",
       "      <td>106.0</td>\n",
       "      <td>36.0</td>\n",
       "      <td>187.0</td>\n",
       "      <td>183.0</td>\n",
       "      <td>44.0</td>\n",
       "    </tr>\n",
       "    <tr>\n",
       "      <th>6</th>\n",
       "      <td>30736353034956.0</td>\n",
       "      <td>30.0</td>\n",
       "      <td>562.0</td>\n",
       "      <td>190.0</td>\n",
       "      <td>132.0</td>\n",
       "      <td>503.0</td>\n",
       "      <td>223.0</td>\n",
       "      <td>172.0</td>\n",
       "    </tr>\n",
       "    <tr>\n",
       "      <th>9</th>\n",
       "      <td>19647330119685.0</td>\n",
       "      <td>19.0</td>\n",
       "      <td>85.0</td>\n",
       "      <td>68.0</td>\n",
       "      <td>6.0</td>\n",
       "      <td>79.0</td>\n",
       "      <td>79.0</td>\n",
       "      <td>6.0</td>\n",
       "    </tr>\n",
       "  </tbody>\n",
       "</table>\n",
       "</div>"
      ],
      "text/plain": [
       "                cds  ccode  enroll12  numtsttakr12  totnumbothbenchmark12  \\\n",
       "2  19647331930924.0   19.0     206.0         102.0                   14.0   \n",
       "3  19647331931476.0   19.0     227.0         113.0                   18.0   \n",
       "5  19647336061451.0   19.0     166.0         106.0                   36.0   \n",
       "6  30736353034956.0   30.0     562.0         190.0                  132.0   \n",
       "9  19647330119685.0   19.0      85.0          68.0                    6.0   \n",
       "\n",
       "   enroll11  numtsttakr11  totnumbothbenchmark11  \n",
       "2     219.0         174.0                   11.0  \n",
       "3     333.0         275.0                   35.0  \n",
       "5     187.0         183.0                   44.0  \n",
       "6     503.0         223.0                  172.0  \n",
       "9      79.0          79.0                    6.0  "
      ]
     },
     "execution_count": 55,
     "metadata": {},
     "output_type": "execute_result"
    }
   ],
   "source": [
    "sat_19.head()"
   ]
  },
  {
   "cell_type": "code",
   "execution_count": 56,
   "metadata": {},
   "outputs": [
    {
     "name": "stderr",
     "output_type": "stream",
     "text": [
      "C:\\Users\\Cathy\\AppData\\Local\\Temp\\ipykernel_7256\\597176588.py:2: SettingWithCopyWarning: \n",
      "A value is trying to be set on a copy of a slice from a DataFrame.\n",
      "Try using .loc[row_indexer,col_indexer] = value instead\n",
      "\n",
      "See the caveats in the documentation: https://pandas.pydata.org/pandas-docs/stable/user_guide/indexing.html#returning-a-view-versus-a-copy\n",
      "  sat_19['cds']=[i.rjust(16,'0') for i in sat_19['cds'].values]\n"
     ]
    }
   ],
   "source": [
    "#For those CDS starting with 0, next step is making up one 0 at the beginning. \n",
    "sat_19['cds']=[i.rjust(16,'0') for i in sat_19['cds'].values]"
   ]
  },
  {
   "cell_type": "code",
   "execution_count": 57,
   "metadata": {
    "scrolled": true,
    "tags": []
   },
   "outputs": [
    {
     "data": {
      "text/html": [
       "<div>\n",
       "<style scoped>\n",
       "    .dataframe tbody tr th:only-of-type {\n",
       "        vertical-align: middle;\n",
       "    }\n",
       "\n",
       "    .dataframe tbody tr th {\n",
       "        vertical-align: top;\n",
       "    }\n",
       "\n",
       "    .dataframe thead th {\n",
       "        text-align: right;\n",
       "    }\n",
       "</style>\n",
       "<table border=\"1\" class=\"dataframe\">\n",
       "  <thead>\n",
       "    <tr style=\"text-align: right;\">\n",
       "      <th></th>\n",
       "      <th>cds</th>\n",
       "      <th>ccode</th>\n",
       "      <th>enroll12</th>\n",
       "      <th>numtsttakr12</th>\n",
       "      <th>totnumbothbenchmark12</th>\n",
       "      <th>enroll11</th>\n",
       "      <th>numtsttakr11</th>\n",
       "      <th>totnumbothbenchmark11</th>\n",
       "    </tr>\n",
       "  </thead>\n",
       "  <tbody>\n",
       "    <tr>\n",
       "      <th>2</th>\n",
       "      <td>19647331930924.0</td>\n",
       "      <td>19.0</td>\n",
       "      <td>206.0</td>\n",
       "      <td>102.0</td>\n",
       "      <td>14.0</td>\n",
       "      <td>219.0</td>\n",
       "      <td>174.0</td>\n",
       "      <td>11.0</td>\n",
       "    </tr>\n",
       "    <tr>\n",
       "      <th>3</th>\n",
       "      <td>19647331931476.0</td>\n",
       "      <td>19.0</td>\n",
       "      <td>227.0</td>\n",
       "      <td>113.0</td>\n",
       "      <td>18.0</td>\n",
       "      <td>333.0</td>\n",
       "      <td>275.0</td>\n",
       "      <td>35.0</td>\n",
       "    </tr>\n",
       "    <tr>\n",
       "      <th>5</th>\n",
       "      <td>19647336061451.0</td>\n",
       "      <td>19.0</td>\n",
       "      <td>166.0</td>\n",
       "      <td>106.0</td>\n",
       "      <td>36.0</td>\n",
       "      <td>187.0</td>\n",
       "      <td>183.0</td>\n",
       "      <td>44.0</td>\n",
       "    </tr>\n",
       "    <tr>\n",
       "      <th>6</th>\n",
       "      <td>30736353034956.0</td>\n",
       "      <td>30.0</td>\n",
       "      <td>562.0</td>\n",
       "      <td>190.0</td>\n",
       "      <td>132.0</td>\n",
       "      <td>503.0</td>\n",
       "      <td>223.0</td>\n",
       "      <td>172.0</td>\n",
       "    </tr>\n",
       "    <tr>\n",
       "      <th>9</th>\n",
       "      <td>19647330119685.0</td>\n",
       "      <td>19.0</td>\n",
       "      <td>85.0</td>\n",
       "      <td>68.0</td>\n",
       "      <td>6.0</td>\n",
       "      <td>79.0</td>\n",
       "      <td>79.0</td>\n",
       "      <td>6.0</td>\n",
       "    </tr>\n",
       "  </tbody>\n",
       "</table>\n",
       "</div>"
      ],
      "text/plain": [
       "                cds  ccode  enroll12  numtsttakr12  totnumbothbenchmark12  \\\n",
       "2  19647331930924.0   19.0     206.0         102.0                   14.0   \n",
       "3  19647331931476.0   19.0     227.0         113.0                   18.0   \n",
       "5  19647336061451.0   19.0     166.0         106.0                   36.0   \n",
       "6  30736353034956.0   30.0     562.0         190.0                  132.0   \n",
       "9  19647330119685.0   19.0      85.0          68.0                    6.0   \n",
       "\n",
       "   enroll11  numtsttakr11  totnumbothbenchmark11  \n",
       "2     219.0         174.0                   11.0  \n",
       "3     333.0         275.0                   35.0  \n",
       "5     187.0         183.0                   44.0  \n",
       "6     503.0         223.0                  172.0  \n",
       "9      79.0          79.0                    6.0  "
      ]
     },
     "execution_count": 57,
     "metadata": {},
     "output_type": "execute_result"
    }
   ],
   "source": [
    "sat_19.head()"
   ]
  },
  {
   "cell_type": "code",
   "execution_count": 58,
   "metadata": {},
   "outputs": [
    {
     "name": "stdout",
     "output_type": "stream",
     "text": [
      "<class 'pandas.core.frame.DataFrame'>\n",
      "Int64Index: 1639 entries, 2 to 2578\n",
      "Data columns (total 8 columns):\n",
      " #   Column                 Non-Null Count  Dtype  \n",
      "---  ------                 --------------  -----  \n",
      " 0   cds                    1639 non-null   object \n",
      " 1   ccode                  1639 non-null   float64\n",
      " 2   enroll12               1639 non-null   float64\n",
      " 3   numtsttakr12           1639 non-null   float64\n",
      " 4   totnumbothbenchmark12  1639 non-null   float64\n",
      " 5   enroll11               1639 non-null   float64\n",
      " 6   numtsttakr11           1639 non-null   float64\n",
      " 7   totnumbothbenchmark11  1639 non-null   float64\n",
      "dtypes: float64(7), object(1)\n",
      "memory usage: 115.2+ KB\n"
     ]
    }
   ],
   "source": [
    "sat_19.info()"
   ]
  },
  {
   "cell_type": "code",
   "execution_count": 59,
   "metadata": {},
   "outputs": [
    {
     "name": "stderr",
     "output_type": "stream",
     "text": [
      "C:\\Users\\Cathy\\AppData\\Local\\Temp\\ipykernel_7256\\3786588083.py:2: SettingWithCopyWarning: \n",
      "A value is trying to be set on a copy of a slice from a DataFrame.\n",
      "Try using .loc[row_indexer,col_indexer] = value instead\n",
      "\n",
      "See the caveats in the documentation: https://pandas.pydata.org/pandas-docs/stable/user_guide/indexing.html#returning-a-view-versus-a-copy\n",
      "  sat_19['cds']=sat_19['cds'].str[:14]\n"
     ]
    }
   ],
   "source": [
    "#Remove the '.0' at the end of each CDS values \n",
    "sat_19['cds']=sat_19['cds'].str[:14]"
   ]
  },
  {
   "cell_type": "code",
   "execution_count": 60,
   "metadata": {},
   "outputs": [
    {
     "data": {
      "text/html": [
       "<div>\n",
       "<style scoped>\n",
       "    .dataframe tbody tr th:only-of-type {\n",
       "        vertical-align: middle;\n",
       "    }\n",
       "\n",
       "    .dataframe tbody tr th {\n",
       "        vertical-align: top;\n",
       "    }\n",
       "\n",
       "    .dataframe thead th {\n",
       "        text-align: right;\n",
       "    }\n",
       "</style>\n",
       "<table border=\"1\" class=\"dataframe\">\n",
       "  <thead>\n",
       "    <tr style=\"text-align: right;\">\n",
       "      <th></th>\n",
       "      <th>cds</th>\n",
       "      <th>ccode</th>\n",
       "      <th>enroll12</th>\n",
       "      <th>numtsttakr12</th>\n",
       "      <th>totnumbothbenchmark12</th>\n",
       "      <th>enroll11</th>\n",
       "      <th>numtsttakr11</th>\n",
       "      <th>totnumbothbenchmark11</th>\n",
       "    </tr>\n",
       "  </thead>\n",
       "  <tbody>\n",
       "    <tr>\n",
       "      <th>2</th>\n",
       "      <td>19647331930924</td>\n",
       "      <td>19.0</td>\n",
       "      <td>206.0</td>\n",
       "      <td>102.0</td>\n",
       "      <td>14.0</td>\n",
       "      <td>219.0</td>\n",
       "      <td>174.0</td>\n",
       "      <td>11.0</td>\n",
       "    </tr>\n",
       "    <tr>\n",
       "      <th>3</th>\n",
       "      <td>19647331931476</td>\n",
       "      <td>19.0</td>\n",
       "      <td>227.0</td>\n",
       "      <td>113.0</td>\n",
       "      <td>18.0</td>\n",
       "      <td>333.0</td>\n",
       "      <td>275.0</td>\n",
       "      <td>35.0</td>\n",
       "    </tr>\n",
       "    <tr>\n",
       "      <th>5</th>\n",
       "      <td>19647336061451</td>\n",
       "      <td>19.0</td>\n",
       "      <td>166.0</td>\n",
       "      <td>106.0</td>\n",
       "      <td>36.0</td>\n",
       "      <td>187.0</td>\n",
       "      <td>183.0</td>\n",
       "      <td>44.0</td>\n",
       "    </tr>\n",
       "    <tr>\n",
       "      <th>6</th>\n",
       "      <td>30736353034956</td>\n",
       "      <td>30.0</td>\n",
       "      <td>562.0</td>\n",
       "      <td>190.0</td>\n",
       "      <td>132.0</td>\n",
       "      <td>503.0</td>\n",
       "      <td>223.0</td>\n",
       "      <td>172.0</td>\n",
       "    </tr>\n",
       "    <tr>\n",
       "      <th>9</th>\n",
       "      <td>19647330119685</td>\n",
       "      <td>19.0</td>\n",
       "      <td>85.0</td>\n",
       "      <td>68.0</td>\n",
       "      <td>6.0</td>\n",
       "      <td>79.0</td>\n",
       "      <td>79.0</td>\n",
       "      <td>6.0</td>\n",
       "    </tr>\n",
       "  </tbody>\n",
       "</table>\n",
       "</div>"
      ],
      "text/plain": [
       "              cds  ccode  enroll12  numtsttakr12  totnumbothbenchmark12  \\\n",
       "2  19647331930924   19.0     206.0         102.0                   14.0   \n",
       "3  19647331931476   19.0     227.0         113.0                   18.0   \n",
       "5  19647336061451   19.0     166.0         106.0                   36.0   \n",
       "6  30736353034956   30.0     562.0         190.0                  132.0   \n",
       "9  19647330119685   19.0      85.0          68.0                    6.0   \n",
       "\n",
       "   enroll11  numtsttakr11  totnumbothbenchmark11  \n",
       "2     219.0         174.0                   11.0  \n",
       "3     333.0         275.0                   35.0  \n",
       "5     187.0         183.0                   44.0  \n",
       "6     503.0         223.0                  172.0  \n",
       "9      79.0          79.0                    6.0  "
      ]
     },
     "execution_count": 60,
     "metadata": {},
     "output_type": "execute_result"
    }
   ],
   "source": [
    "sat_19.head()"
   ]
  },
  {
   "cell_type": "code",
   "execution_count": 61,
   "metadata": {},
   "outputs": [
    {
     "data": {
      "text/html": [
       "<div>\n",
       "<style scoped>\n",
       "    .dataframe tbody tr th:only-of-type {\n",
       "        vertical-align: middle;\n",
       "    }\n",
       "\n",
       "    .dataframe tbody tr th {\n",
       "        vertical-align: top;\n",
       "    }\n",
       "\n",
       "    .dataframe thead th {\n",
       "        text-align: right;\n",
       "    }\n",
       "</style>\n",
       "<table border=\"1\" class=\"dataframe\">\n",
       "  <thead>\n",
       "    <tr style=\"text-align: right;\">\n",
       "      <th></th>\n",
       "      <th>cds</th>\n",
       "      <th>enroll12</th>\n",
       "      <th>numtsttakr</th>\n",
       "      <th>numge21</th>\n",
       "    </tr>\n",
       "  </thead>\n",
       "  <tbody>\n",
       "    <tr>\n",
       "      <th>3</th>\n",
       "      <td>4.369666e+13</td>\n",
       "      <td>463.0</td>\n",
       "      <td>53.0</td>\n",
       "      <td>34</td>\n",
       "    </tr>\n",
       "    <tr>\n",
       "      <th>4</th>\n",
       "      <td>1.964733e+13</td>\n",
       "      <td>226.0</td>\n",
       "      <td>19.0</td>\n",
       "      <td>11</td>\n",
       "    </tr>\n",
       "    <tr>\n",
       "      <th>5</th>\n",
       "      <td>1.976968e+13</td>\n",
       "      <td>65.0</td>\n",
       "      <td>33.0</td>\n",
       "      <td>3</td>\n",
       "    </tr>\n",
       "    <tr>\n",
       "      <th>6</th>\n",
       "      <td>1.964733e+13</td>\n",
       "      <td>126.0</td>\n",
       "      <td>16.0</td>\n",
       "      <td>5</td>\n",
       "    </tr>\n",
       "    <tr>\n",
       "      <th>13</th>\n",
       "      <td>1.965136e+13</td>\n",
       "      <td>104.0</td>\n",
       "      <td>36.0</td>\n",
       "      <td>34</td>\n",
       "    </tr>\n",
       "  </tbody>\n",
       "</table>\n",
       "</div>"
      ],
      "text/plain": [
       "             cds  enroll12  numtsttakr  numge21\n",
       "3   4.369666e+13     463.0        53.0       34\n",
       "4   1.964733e+13     226.0        19.0       11\n",
       "5   1.976968e+13      65.0        33.0        3\n",
       "6   1.964733e+13     126.0        16.0        5\n",
       "13  1.965136e+13     104.0        36.0       34"
      ]
     },
     "execution_count": 61,
     "metadata": {},
     "output_type": "execute_result"
    }
   ],
   "source": [
    "act_19.head()"
   ]
  },
  {
   "cell_type": "code",
   "execution_count": 62,
   "metadata": {},
   "outputs": [
    {
     "name": "stderr",
     "output_type": "stream",
     "text": [
      "C:\\Users\\Cathy\\AppData\\Local\\Temp\\ipykernel_7256\\3512944626.py:2: DeprecationWarning: `np.str` is a deprecated alias for the builtin `str`. To silence this warning, use `str` by itself. Doing this will not modify any behavior and is safe. If you specifically wanted the numpy scalar type, use `np.str_` here.\n",
      "Deprecated in NumPy 1.20; for more details and guidance: https://numpy.org/devdocs/release/1.20.0-notes.html#deprecations\n",
      "  act_19['cds']=[np.str(i) for i in act_19['cds'].values]\n",
      "C:\\Users\\Cathy\\AppData\\Local\\Temp\\ipykernel_7256\\3512944626.py:2: SettingWithCopyWarning: \n",
      "A value is trying to be set on a copy of a slice from a DataFrame.\n",
      "Try using .loc[row_indexer,col_indexer] = value instead\n",
      "\n",
      "See the caveats in the documentation: https://pandas.pydata.org/pandas-docs/stable/user_guide/indexing.html#returning-a-view-versus-a-copy\n",
      "  act_19['cds']=[np.str(i) for i in act_19['cds'].values]\n"
     ]
    }
   ],
   "source": [
    "#Convert CDS to strings\n",
    "act_19['cds']=[np.str(i) for i in act_19['cds'].values]"
   ]
  },
  {
   "cell_type": "code",
   "execution_count": 63,
   "metadata": {},
   "outputs": [
    {
     "name": "stderr",
     "output_type": "stream",
     "text": [
      "C:\\Users\\Cathy\\AppData\\Local\\Temp\\ipykernel_7256\\1601117247.py:2: SettingWithCopyWarning: \n",
      "A value is trying to be set on a copy of a slice from a DataFrame.\n",
      "Try using .loc[row_indexer,col_indexer] = value instead\n",
      "\n",
      "See the caveats in the documentation: https://pandas.pydata.org/pandas-docs/stable/user_guide/indexing.html#returning-a-view-versus-a-copy\n",
      "  act_19['cds']=[i.rjust(16,'0') for i in act_19['cds'].values]\n"
     ]
    }
   ],
   "source": [
    "#For those CDS starting with 0, next step is making up one 0 at the beginning. \n",
    "act_19['cds']=[i.rjust(16,'0') for i in act_19['cds'].values]"
   ]
  },
  {
   "cell_type": "code",
   "execution_count": 64,
   "metadata": {},
   "outputs": [
    {
     "name": "stderr",
     "output_type": "stream",
     "text": [
      "C:\\Users\\Cathy\\AppData\\Local\\Temp\\ipykernel_7256\\966149299.py:2: SettingWithCopyWarning: \n",
      "A value is trying to be set on a copy of a slice from a DataFrame.\n",
      "Try using .loc[row_indexer,col_indexer] = value instead\n",
      "\n",
      "See the caveats in the documentation: https://pandas.pydata.org/pandas-docs/stable/user_guide/indexing.html#returning-a-view-versus-a-copy\n",
      "  act_19['cds']=act_19['cds'].str[:14]\n"
     ]
    }
   ],
   "source": [
    "#Remove the '.0' at the end of each CDS values \n",
    "act_19['cds']=act_19['cds'].str[:14]"
   ]
  },
  {
   "cell_type": "code",
   "execution_count": 65,
   "metadata": {},
   "outputs": [
    {
     "data": {
      "text/html": [
       "<div>\n",
       "<style scoped>\n",
       "    .dataframe tbody tr th:only-of-type {\n",
       "        vertical-align: middle;\n",
       "    }\n",
       "\n",
       "    .dataframe tbody tr th {\n",
       "        vertical-align: top;\n",
       "    }\n",
       "\n",
       "    .dataframe thead th {\n",
       "        text-align: right;\n",
       "    }\n",
       "</style>\n",
       "<table border=\"1\" class=\"dataframe\">\n",
       "  <thead>\n",
       "    <tr style=\"text-align: right;\">\n",
       "      <th></th>\n",
       "      <th>cds</th>\n",
       "      <th>enroll12</th>\n",
       "      <th>numtsttakr</th>\n",
       "      <th>numge21</th>\n",
       "    </tr>\n",
       "  </thead>\n",
       "  <tbody>\n",
       "    <tr>\n",
       "      <th>3</th>\n",
       "      <td>43696664333795</td>\n",
       "      <td>463.0</td>\n",
       "      <td>53.0</td>\n",
       "      <td>34</td>\n",
       "    </tr>\n",
       "    <tr>\n",
       "      <th>4</th>\n",
       "      <td>19647331935121</td>\n",
       "      <td>226.0</td>\n",
       "      <td>19.0</td>\n",
       "      <td>11</td>\n",
       "    </tr>\n",
       "    <tr>\n",
       "      <th>5</th>\n",
       "      <td>19769680109926</td>\n",
       "      <td>65.0</td>\n",
       "      <td>33.0</td>\n",
       "      <td>3</td>\n",
       "    </tr>\n",
       "    <tr>\n",
       "      <th>6</th>\n",
       "      <td>19647330126615</td>\n",
       "      <td>126.0</td>\n",
       "      <td>16.0</td>\n",
       "      <td>5</td>\n",
       "    </tr>\n",
       "    <tr>\n",
       "      <th>13</th>\n",
       "      <td>19651361996321</td>\n",
       "      <td>104.0</td>\n",
       "      <td>36.0</td>\n",
       "      <td>34</td>\n",
       "    </tr>\n",
       "  </tbody>\n",
       "</table>\n",
       "</div>"
      ],
      "text/plain": [
       "               cds  enroll12  numtsttakr  numge21\n",
       "3   43696664333795     463.0        53.0       34\n",
       "4   19647331935121     226.0        19.0       11\n",
       "5   19769680109926      65.0        33.0        3\n",
       "6   19647330126615     126.0        16.0        5\n",
       "13  19651361996321     104.0        36.0       34"
      ]
     },
     "execution_count": 65,
     "metadata": {},
     "output_type": "execute_result"
    }
   ],
   "source": [
    "act_19.head()"
   ]
  },
  {
   "cell_type": "code",
   "execution_count": 66,
   "metadata": {},
   "outputs": [
    {
     "data": {
      "text/html": [
       "<div>\n",
       "<style scoped>\n",
       "    .dataframe tbody tr th:only-of-type {\n",
       "        vertical-align: middle;\n",
       "    }\n",
       "\n",
       "    .dataframe tbody tr th {\n",
       "        vertical-align: top;\n",
       "    }\n",
       "\n",
       "    .dataframe thead th {\n",
       "        text-align: right;\n",
       "    }\n",
       "</style>\n",
       "<table border=\"1\" class=\"dataframe\">\n",
       "  <thead>\n",
       "    <tr style=\"text-align: right;\">\n",
       "      <th></th>\n",
       "      <th>cds</th>\n",
       "      <th>ccode</th>\n",
       "      <th>enroll12</th>\n",
       "      <th>numtsttakr12</th>\n",
       "      <th>totnumbothbenchmark12</th>\n",
       "      <th>enroll11</th>\n",
       "      <th>numtsttakr11</th>\n",
       "      <th>totnumbothbenchmark11</th>\n",
       "    </tr>\n",
       "  </thead>\n",
       "  <tbody>\n",
       "    <tr>\n",
       "      <th>2</th>\n",
       "      <td>19647331930924</td>\n",
       "      <td>19.0</td>\n",
       "      <td>206.0</td>\n",
       "      <td>102.0</td>\n",
       "      <td>14.0</td>\n",
       "      <td>219.0</td>\n",
       "      <td>174.0</td>\n",
       "      <td>11.0</td>\n",
       "    </tr>\n",
       "    <tr>\n",
       "      <th>3</th>\n",
       "      <td>19647331931476</td>\n",
       "      <td>19.0</td>\n",
       "      <td>227.0</td>\n",
       "      <td>113.0</td>\n",
       "      <td>18.0</td>\n",
       "      <td>333.0</td>\n",
       "      <td>275.0</td>\n",
       "      <td>35.0</td>\n",
       "    </tr>\n",
       "    <tr>\n",
       "      <th>5</th>\n",
       "      <td>19647336061451</td>\n",
       "      <td>19.0</td>\n",
       "      <td>166.0</td>\n",
       "      <td>106.0</td>\n",
       "      <td>36.0</td>\n",
       "      <td>187.0</td>\n",
       "      <td>183.0</td>\n",
       "      <td>44.0</td>\n",
       "    </tr>\n",
       "    <tr>\n",
       "      <th>6</th>\n",
       "      <td>30736353034956</td>\n",
       "      <td>30.0</td>\n",
       "      <td>562.0</td>\n",
       "      <td>190.0</td>\n",
       "      <td>132.0</td>\n",
       "      <td>503.0</td>\n",
       "      <td>223.0</td>\n",
       "      <td>172.0</td>\n",
       "    </tr>\n",
       "    <tr>\n",
       "      <th>9</th>\n",
       "      <td>19647330119685</td>\n",
       "      <td>19.0</td>\n",
       "      <td>85.0</td>\n",
       "      <td>68.0</td>\n",
       "      <td>6.0</td>\n",
       "      <td>79.0</td>\n",
       "      <td>79.0</td>\n",
       "      <td>6.0</td>\n",
       "    </tr>\n",
       "  </tbody>\n",
       "</table>\n",
       "</div>"
      ],
      "text/plain": [
       "              cds  ccode  enroll12  numtsttakr12  totnumbothbenchmark12  \\\n",
       "2  19647331930924   19.0     206.0         102.0                   14.0   \n",
       "3  19647331931476   19.0     227.0         113.0                   18.0   \n",
       "5  19647336061451   19.0     166.0         106.0                   36.0   \n",
       "6  30736353034956   30.0     562.0         190.0                  132.0   \n",
       "9  19647330119685   19.0      85.0          68.0                    6.0   \n",
       "\n",
       "   enroll11  numtsttakr11  totnumbothbenchmark11  \n",
       "2     219.0         174.0                   11.0  \n",
       "3     333.0         275.0                   35.0  \n",
       "5     187.0         183.0                   44.0  \n",
       "6     503.0         223.0                  172.0  \n",
       "9      79.0          79.0                    6.0  "
      ]
     },
     "execution_count": 66,
     "metadata": {},
     "output_type": "execute_result"
    }
   ],
   "source": [
    "sat_19.head()"
   ]
  },
  {
   "cell_type": "code",
   "execution_count": 67,
   "metadata": {},
   "outputs": [
    {
     "data": {
      "text/html": [
       "<div>\n",
       "<style scoped>\n",
       "    .dataframe tbody tr th:only-of-type {\n",
       "        vertical-align: middle;\n",
       "    }\n",
       "\n",
       "    .dataframe tbody tr th {\n",
       "        vertical-align: top;\n",
       "    }\n",
       "\n",
       "    .dataframe thead th {\n",
       "        text-align: right;\n",
       "    }\n",
       "</style>\n",
       "<table border=\"1\" class=\"dataframe\">\n",
       "  <thead>\n",
       "    <tr style=\"text-align: right;\">\n",
       "      <th></th>\n",
       "      <th>cds</th>\n",
       "      <th>ccode</th>\n",
       "      <th>enroll12</th>\n",
       "      <th>numtsttakr12</th>\n",
       "      <th>totnumbothbenchmark12</th>\n",
       "      <th>enroll11</th>\n",
       "      <th>numtsttakr11</th>\n",
       "      <th>totnumbothbenchmark11</th>\n",
       "    </tr>\n",
       "  </thead>\n",
       "  <tbody>\n",
       "  </tbody>\n",
       "</table>\n",
       "</div>"
      ],
      "text/plain": [
       "Empty DataFrame\n",
       "Columns: [cds, ccode, enroll12, numtsttakr12, totnumbothbenchmark12, enroll11, numtsttakr11, totnumbothbenchmark11]\n",
       "Index: []"
      ]
     },
     "execution_count": 67,
     "metadata": {},
     "output_type": "execute_result"
    }
   ],
   "source": [
    "sat_19[sat_19['cds'].isnull()]"
   ]
  },
  {
   "cell_type": "code",
   "execution_count": 68,
   "metadata": {},
   "outputs": [
    {
     "name": "stdout",
     "output_type": "stream",
     "text": [
      "               cds  enroll12  numtsttakr  numge21\n",
      "3   43696664333795     463.0        53.0       34\n",
      "4   19647331935121     226.0        19.0       11\n",
      "5   19769680109926      65.0        33.0        3\n",
      "6   19647330126615     126.0        16.0        5\n",
      "13  19651361996321     104.0        36.0       34\n",
      "              cds  ccode  enroll12  numtsttakr12  totnumbothbenchmark12  \\\n",
      "2  19647331930924   19.0     206.0         102.0                   14.0   \n",
      "3  19647331931476   19.0     227.0         113.0                   18.0   \n",
      "5  19647336061451   19.0     166.0         106.0                   36.0   \n",
      "6  30736353034956   30.0     562.0         190.0                  132.0   \n",
      "9  19647330119685   19.0      85.0          68.0                    6.0   \n",
      "\n",
      "   enroll11  numtsttakr11  totnumbothbenchmark11  \n",
      "2     219.0         174.0                   11.0  \n",
      "3     333.0         275.0                   35.0  \n",
      "5     187.0         183.0                   44.0  \n",
      "6     503.0         223.0                  172.0  \n",
      "9      79.0          79.0                    6.0  \n"
     ]
    }
   ],
   "source": [
    "print(act_19.head())\n",
    "print(sat_19.head())"
   ]
  },
  {
   "cell_type": "code",
   "execution_count": 69,
   "metadata": {},
   "outputs": [],
   "source": [
    "merge_19=pd.merge(act_19,sat_19,how='inner',on='cds')"
   ]
  },
  {
   "cell_type": "code",
   "execution_count": 70,
   "metadata": {},
   "outputs": [
    {
     "data": {
      "text/html": [
       "<div>\n",
       "<style scoped>\n",
       "    .dataframe tbody tr th:only-of-type {\n",
       "        vertical-align: middle;\n",
       "    }\n",
       "\n",
       "    .dataframe tbody tr th {\n",
       "        vertical-align: top;\n",
       "    }\n",
       "\n",
       "    .dataframe thead th {\n",
       "        text-align: right;\n",
       "    }\n",
       "</style>\n",
       "<table border=\"1\" class=\"dataframe\">\n",
       "  <thead>\n",
       "    <tr style=\"text-align: right;\">\n",
       "      <th></th>\n",
       "      <th>cds</th>\n",
       "      <th>enroll12_x</th>\n",
       "      <th>numtsttakr</th>\n",
       "      <th>numge21</th>\n",
       "      <th>ccode</th>\n",
       "      <th>enroll12_y</th>\n",
       "      <th>numtsttakr12</th>\n",
       "      <th>totnumbothbenchmark12</th>\n",
       "      <th>enroll11</th>\n",
       "      <th>numtsttakr11</th>\n",
       "      <th>totnumbothbenchmark11</th>\n",
       "    </tr>\n",
       "  </thead>\n",
       "  <tbody>\n",
       "    <tr>\n",
       "      <th>0</th>\n",
       "      <td>43696664333795</td>\n",
       "      <td>463.0</td>\n",
       "      <td>53.0</td>\n",
       "      <td>34</td>\n",
       "      <td>43.0</td>\n",
       "      <td>463.0</td>\n",
       "      <td>160.0</td>\n",
       "      <td>80.0</td>\n",
       "      <td>453.0</td>\n",
       "      <td>423.0</td>\n",
       "      <td>173.0</td>\n",
       "    </tr>\n",
       "    <tr>\n",
       "      <th>1</th>\n",
       "      <td>19647331935121</td>\n",
       "      <td>226.0</td>\n",
       "      <td>19.0</td>\n",
       "      <td>11</td>\n",
       "      <td>19.0</td>\n",
       "      <td>226.0</td>\n",
       "      <td>127.0</td>\n",
       "      <td>39.0</td>\n",
       "      <td>234.0</td>\n",
       "      <td>177.0</td>\n",
       "      <td>51.0</td>\n",
       "    </tr>\n",
       "    <tr>\n",
       "      <th>2</th>\n",
       "      <td>19769680109926</td>\n",
       "      <td>65.0</td>\n",
       "      <td>33.0</td>\n",
       "      <td>3</td>\n",
       "      <td>19.0</td>\n",
       "      <td>65.0</td>\n",
       "      <td>42.0</td>\n",
       "      <td>5.0</td>\n",
       "      <td>54.0</td>\n",
       "      <td>40.0</td>\n",
       "      <td>6.0</td>\n",
       "    </tr>\n",
       "    <tr>\n",
       "      <th>3</th>\n",
       "      <td>19647330126615</td>\n",
       "      <td>126.0</td>\n",
       "      <td>16.0</td>\n",
       "      <td>5</td>\n",
       "      <td>19.0</td>\n",
       "      <td>126.0</td>\n",
       "      <td>48.0</td>\n",
       "      <td>11.0</td>\n",
       "      <td>145.0</td>\n",
       "      <td>136.0</td>\n",
       "      <td>15.0</td>\n",
       "    </tr>\n",
       "    <tr>\n",
       "      <th>4</th>\n",
       "      <td>19651361996321</td>\n",
       "      <td>104.0</td>\n",
       "      <td>36.0</td>\n",
       "      <td>34</td>\n",
       "      <td>19.0</td>\n",
       "      <td>104.0</td>\n",
       "      <td>51.0</td>\n",
       "      <td>43.0</td>\n",
       "      <td>105.0</td>\n",
       "      <td>88.0</td>\n",
       "      <td>81.0</td>\n",
       "    </tr>\n",
       "  </tbody>\n",
       "</table>\n",
       "</div>"
      ],
      "text/plain": [
       "              cds  enroll12_x  numtsttakr  numge21  ccode  enroll12_y  \\\n",
       "0  43696664333795       463.0        53.0       34   43.0       463.0   \n",
       "1  19647331935121       226.0        19.0       11   19.0       226.0   \n",
       "2  19769680109926        65.0        33.0        3   19.0        65.0   \n",
       "3  19647330126615       126.0        16.0        5   19.0       126.0   \n",
       "4  19651361996321       104.0        36.0       34   19.0       104.0   \n",
       "\n",
       "   numtsttakr12  totnumbothbenchmark12  enroll11  numtsttakr11  \\\n",
       "0         160.0                   80.0     453.0         423.0   \n",
       "1         127.0                   39.0     234.0         177.0   \n",
       "2          42.0                    5.0      54.0          40.0   \n",
       "3          48.0                   11.0     145.0         136.0   \n",
       "4          51.0                   43.0     105.0          88.0   \n",
       "\n",
       "   totnumbothbenchmark11  \n",
       "0                  173.0  \n",
       "1                   51.0  \n",
       "2                    6.0  \n",
       "3                   15.0  \n",
       "4                   81.0  "
      ]
     },
     "execution_count": 70,
     "metadata": {},
     "output_type": "execute_result"
    }
   ],
   "source": [
    "merge_19.head()"
   ]
  },
  {
   "cell_type": "code",
   "execution_count": 71,
   "metadata": {},
   "outputs": [
    {
     "name": "stdout",
     "output_type": "stream",
     "text": [
      "<class 'pandas.core.frame.DataFrame'>\n",
      "Int64Index: 1376 entries, 0 to 1375\n",
      "Data columns (total 11 columns):\n",
      " #   Column                 Non-Null Count  Dtype  \n",
      "---  ------                 --------------  -----  \n",
      " 0   cds                    1376 non-null   object \n",
      " 1   enroll12_x             1376 non-null   float64\n",
      " 2   numtsttakr             1376 non-null   float64\n",
      " 3   numge21                1376 non-null   int64  \n",
      " 4   ccode                  1376 non-null   float64\n",
      " 5   enroll12_y             1376 non-null   float64\n",
      " 6   numtsttakr12           1376 non-null   float64\n",
      " 7   totnumbothbenchmark12  1376 non-null   float64\n",
      " 8   enroll11               1376 non-null   float64\n",
      " 9   numtsttakr11           1376 non-null   float64\n",
      " 10  totnumbothbenchmark11  1376 non-null   float64\n",
      "dtypes: float64(9), int64(1), object(1)\n",
      "memory usage: 129.0+ KB\n"
     ]
    }
   ],
   "source": [
    "merge_19.info()"
   ]
  },
  {
   "cell_type": "code",
   "execution_count": 72,
   "metadata": {},
   "outputs": [],
   "source": [
    "#Drop redundant column of 12th grade enrollment number.\n",
    "merge_19.drop('enroll12_y',axis=1,inplace=True)"
   ]
  },
  {
   "cell_type": "code",
   "execution_count": 73,
   "metadata": {},
   "outputs": [],
   "source": [
    "new_columns={'enroll12_x':'enroll_12','numtsttakr':'num_act','numge21':'act_pass_21','numtsttakr12':'num_sat_12','totnumbothbenchmark12':'sat_pass_12','enroll11':'enroll_11','numtsttakr11':'num_sat_11','totnumbothbenchmark11':'sat_pass_11'}"
   ]
  },
  {
   "cell_type": "code",
   "execution_count": 74,
   "metadata": {},
   "outputs": [],
   "source": [
    "#Rename the columns of the merged dataset\n",
    "merge_19.rename(columns=new_columns,inplace=True)"
   ]
  },
  {
   "cell_type": "code",
   "execution_count": 75,
   "metadata": {},
   "outputs": [
    {
     "data": {
      "text/html": [
       "<div>\n",
       "<style scoped>\n",
       "    .dataframe tbody tr th:only-of-type {\n",
       "        vertical-align: middle;\n",
       "    }\n",
       "\n",
       "    .dataframe tbody tr th {\n",
       "        vertical-align: top;\n",
       "    }\n",
       "\n",
       "    .dataframe thead th {\n",
       "        text-align: right;\n",
       "    }\n",
       "</style>\n",
       "<table border=\"1\" class=\"dataframe\">\n",
       "  <thead>\n",
       "    <tr style=\"text-align: right;\">\n",
       "      <th></th>\n",
       "      <th>cds</th>\n",
       "      <th>enroll_12</th>\n",
       "      <th>num_act</th>\n",
       "      <th>act_pass_21</th>\n",
       "      <th>ccode</th>\n",
       "      <th>num_sat_12</th>\n",
       "      <th>sat_pass_12</th>\n",
       "      <th>enroll_11</th>\n",
       "      <th>num_sat_11</th>\n",
       "      <th>sat_pass_11</th>\n",
       "    </tr>\n",
       "  </thead>\n",
       "  <tbody>\n",
       "    <tr>\n",
       "      <th>0</th>\n",
       "      <td>43696664333795</td>\n",
       "      <td>463.0</td>\n",
       "      <td>53.0</td>\n",
       "      <td>34</td>\n",
       "      <td>43.0</td>\n",
       "      <td>160.0</td>\n",
       "      <td>80.0</td>\n",
       "      <td>453.0</td>\n",
       "      <td>423.0</td>\n",
       "      <td>173.0</td>\n",
       "    </tr>\n",
       "    <tr>\n",
       "      <th>1</th>\n",
       "      <td>19647331935121</td>\n",
       "      <td>226.0</td>\n",
       "      <td>19.0</td>\n",
       "      <td>11</td>\n",
       "      <td>19.0</td>\n",
       "      <td>127.0</td>\n",
       "      <td>39.0</td>\n",
       "      <td>234.0</td>\n",
       "      <td>177.0</td>\n",
       "      <td>51.0</td>\n",
       "    </tr>\n",
       "    <tr>\n",
       "      <th>2</th>\n",
       "      <td>19769680109926</td>\n",
       "      <td>65.0</td>\n",
       "      <td>33.0</td>\n",
       "      <td>3</td>\n",
       "      <td>19.0</td>\n",
       "      <td>42.0</td>\n",
       "      <td>5.0</td>\n",
       "      <td>54.0</td>\n",
       "      <td>40.0</td>\n",
       "      <td>6.0</td>\n",
       "    </tr>\n",
       "    <tr>\n",
       "      <th>3</th>\n",
       "      <td>19647330126615</td>\n",
       "      <td>126.0</td>\n",
       "      <td>16.0</td>\n",
       "      <td>5</td>\n",
       "      <td>19.0</td>\n",
       "      <td>48.0</td>\n",
       "      <td>11.0</td>\n",
       "      <td>145.0</td>\n",
       "      <td>136.0</td>\n",
       "      <td>15.0</td>\n",
       "    </tr>\n",
       "    <tr>\n",
       "      <th>4</th>\n",
       "      <td>19651361996321</td>\n",
       "      <td>104.0</td>\n",
       "      <td>36.0</td>\n",
       "      <td>34</td>\n",
       "      <td>19.0</td>\n",
       "      <td>51.0</td>\n",
       "      <td>43.0</td>\n",
       "      <td>105.0</td>\n",
       "      <td>88.0</td>\n",
       "      <td>81.0</td>\n",
       "    </tr>\n",
       "  </tbody>\n",
       "</table>\n",
       "</div>"
      ],
      "text/plain": [
       "              cds  enroll_12  num_act  act_pass_21  ccode  num_sat_12  \\\n",
       "0  43696664333795      463.0     53.0           34   43.0       160.0   \n",
       "1  19647331935121      226.0     19.0           11   19.0       127.0   \n",
       "2  19769680109926       65.0     33.0            3   19.0        42.0   \n",
       "3  19647330126615      126.0     16.0            5   19.0        48.0   \n",
       "4  19651361996321      104.0     36.0           34   19.0        51.0   \n",
       "\n",
       "   sat_pass_12  enroll_11  num_sat_11  sat_pass_11  \n",
       "0         80.0      453.0       423.0        173.0  \n",
       "1         39.0      234.0       177.0         51.0  \n",
       "2          5.0       54.0        40.0          6.0  \n",
       "3         11.0      145.0       136.0         15.0  \n",
       "4         43.0      105.0        88.0         81.0  "
      ]
     },
     "execution_count": 75,
     "metadata": {},
     "output_type": "execute_result"
    }
   ],
   "source": [
    "merge_19.head()"
   ]
  },
  {
   "cell_type": "code",
   "execution_count": 76,
   "metadata": {},
   "outputs": [],
   "source": [
    "#Fix the order of the columns of merge_19. \n",
    "merge_19=merge_19[['cds','ccode','enroll_12','num_act','act_pass_21','num_sat_12','sat_pass_12','enroll_11','num_sat_11','sat_pass_11']]"
   ]
  },
  {
   "cell_type": "code",
   "execution_count": 77,
   "metadata": {},
   "outputs": [],
   "source": [
    "#add columns of participation rates and pass rates (for a certain mark or benchmark).\n",
    "#From online information, it appears students from Grade 11 and Grade 12 can take ACT. As as SAT. \n",
    "\n",
    "merge_19['act_pt_r']=merge_19['num_act']/(merge_19['enroll_12']+merge_19['enroll_12'])"
   ]
  },
  {
   "cell_type": "code",
   "execution_count": 78,
   "metadata": {},
   "outputs": [],
   "source": [
    "merge_19['act_ps_r']=merge_19['act_pass_21']/merge_19['enroll_12']"
   ]
  },
  {
   "cell_type": "code",
   "execution_count": 79,
   "metadata": {},
   "outputs": [],
   "source": [
    "merge_19['sat_pt_r_12']=merge_19['num_sat_12']/merge_19['enroll_12']"
   ]
  },
  {
   "cell_type": "code",
   "execution_count": 80,
   "metadata": {},
   "outputs": [],
   "source": [
    "merge_19['sat_ps_r_12']=merge_19['sat_pass_12']/merge_19['num_sat_12']"
   ]
  },
  {
   "cell_type": "code",
   "execution_count": 81,
   "metadata": {},
   "outputs": [],
   "source": [
    "merge_19['sat_pt_r_11']=merge_19['num_sat_11']/merge_19['enroll_11']"
   ]
  },
  {
   "cell_type": "code",
   "execution_count": 82,
   "metadata": {},
   "outputs": [],
   "source": [
    "merge_19['sat_ps_r_11']=merge_19['sat_pass_11']/merge_19['num_sat_11']"
   ]
  },
  {
   "cell_type": "code",
   "execution_count": 83,
   "metadata": {},
   "outputs": [],
   "source": [
    "merge_19['sat_pt_r']=(merge_19['num_sat_12']+merge_19['num_sat_11'])/(merge_19['enroll_12']+merge_19['enroll_11'])"
   ]
  },
  {
   "cell_type": "code",
   "execution_count": 84,
   "metadata": {},
   "outputs": [],
   "source": [
    "merge_19['sat_ps_r']=(merge_19['sat_pass_12']+merge_19['sat_pass_11'])/(merge_19['enroll_12']+merge_19['enroll_11'])"
   ]
  },
  {
   "cell_type": "code",
   "execution_count": 85,
   "metadata": {},
   "outputs": [
    {
     "data": {
      "text/html": [
       "<div>\n",
       "<style scoped>\n",
       "    .dataframe tbody tr th:only-of-type {\n",
       "        vertical-align: middle;\n",
       "    }\n",
       "\n",
       "    .dataframe tbody tr th {\n",
       "        vertical-align: top;\n",
       "    }\n",
       "\n",
       "    .dataframe thead th {\n",
       "        text-align: right;\n",
       "    }\n",
       "</style>\n",
       "<table border=\"1\" class=\"dataframe\">\n",
       "  <thead>\n",
       "    <tr style=\"text-align: right;\">\n",
       "      <th></th>\n",
       "      <th>cds</th>\n",
       "      <th>ccode</th>\n",
       "      <th>enroll_12</th>\n",
       "      <th>num_act</th>\n",
       "      <th>act_pass_21</th>\n",
       "      <th>num_sat_12</th>\n",
       "      <th>sat_pass_12</th>\n",
       "      <th>enroll_11</th>\n",
       "      <th>num_sat_11</th>\n",
       "      <th>sat_pass_11</th>\n",
       "      <th>act_pt_r</th>\n",
       "      <th>act_ps_r</th>\n",
       "      <th>sat_pt_r_12</th>\n",
       "      <th>sat_ps_r_12</th>\n",
       "      <th>sat_pt_r_11</th>\n",
       "      <th>sat_ps_r_11</th>\n",
       "      <th>sat_pt_r</th>\n",
       "      <th>sat_ps_r</th>\n",
       "    </tr>\n",
       "  </thead>\n",
       "  <tbody>\n",
       "    <tr>\n",
       "      <th>0</th>\n",
       "      <td>43696664333795</td>\n",
       "      <td>43.0</td>\n",
       "      <td>463.0</td>\n",
       "      <td>53.0</td>\n",
       "      <td>34</td>\n",
       "      <td>160.0</td>\n",
       "      <td>80.0</td>\n",
       "      <td>453.0</td>\n",
       "      <td>423.0</td>\n",
       "      <td>173.0</td>\n",
       "      <td>0.057235</td>\n",
       "      <td>0.073434</td>\n",
       "      <td>0.345572</td>\n",
       "      <td>0.500000</td>\n",
       "      <td>0.933775</td>\n",
       "      <td>0.408983</td>\n",
       "      <td>0.636463</td>\n",
       "      <td>0.276201</td>\n",
       "    </tr>\n",
       "    <tr>\n",
       "      <th>1</th>\n",
       "      <td>19647331935121</td>\n",
       "      <td>19.0</td>\n",
       "      <td>226.0</td>\n",
       "      <td>19.0</td>\n",
       "      <td>11</td>\n",
       "      <td>127.0</td>\n",
       "      <td>39.0</td>\n",
       "      <td>234.0</td>\n",
       "      <td>177.0</td>\n",
       "      <td>51.0</td>\n",
       "      <td>0.042035</td>\n",
       "      <td>0.048673</td>\n",
       "      <td>0.561947</td>\n",
       "      <td>0.307087</td>\n",
       "      <td>0.756410</td>\n",
       "      <td>0.288136</td>\n",
       "      <td>0.660870</td>\n",
       "      <td>0.195652</td>\n",
       "    </tr>\n",
       "    <tr>\n",
       "      <th>2</th>\n",
       "      <td>19769680109926</td>\n",
       "      <td>19.0</td>\n",
       "      <td>65.0</td>\n",
       "      <td>33.0</td>\n",
       "      <td>3</td>\n",
       "      <td>42.0</td>\n",
       "      <td>5.0</td>\n",
       "      <td>54.0</td>\n",
       "      <td>40.0</td>\n",
       "      <td>6.0</td>\n",
       "      <td>0.253846</td>\n",
       "      <td>0.046154</td>\n",
       "      <td>0.646154</td>\n",
       "      <td>0.119048</td>\n",
       "      <td>0.740741</td>\n",
       "      <td>0.150000</td>\n",
       "      <td>0.689076</td>\n",
       "      <td>0.092437</td>\n",
       "    </tr>\n",
       "    <tr>\n",
       "      <th>3</th>\n",
       "      <td>19647330126615</td>\n",
       "      <td>19.0</td>\n",
       "      <td>126.0</td>\n",
       "      <td>16.0</td>\n",
       "      <td>5</td>\n",
       "      <td>48.0</td>\n",
       "      <td>11.0</td>\n",
       "      <td>145.0</td>\n",
       "      <td>136.0</td>\n",
       "      <td>15.0</td>\n",
       "      <td>0.063492</td>\n",
       "      <td>0.039683</td>\n",
       "      <td>0.380952</td>\n",
       "      <td>0.229167</td>\n",
       "      <td>0.937931</td>\n",
       "      <td>0.110294</td>\n",
       "      <td>0.678967</td>\n",
       "      <td>0.095941</td>\n",
       "    </tr>\n",
       "    <tr>\n",
       "      <th>4</th>\n",
       "      <td>19651361996321</td>\n",
       "      <td>19.0</td>\n",
       "      <td>104.0</td>\n",
       "      <td>36.0</td>\n",
       "      <td>34</td>\n",
       "      <td>51.0</td>\n",
       "      <td>43.0</td>\n",
       "      <td>105.0</td>\n",
       "      <td>88.0</td>\n",
       "      <td>81.0</td>\n",
       "      <td>0.173077</td>\n",
       "      <td>0.326923</td>\n",
       "      <td>0.490385</td>\n",
       "      <td>0.843137</td>\n",
       "      <td>0.838095</td>\n",
       "      <td>0.920455</td>\n",
       "      <td>0.665072</td>\n",
       "      <td>0.593301</td>\n",
       "    </tr>\n",
       "  </tbody>\n",
       "</table>\n",
       "</div>"
      ],
      "text/plain": [
       "              cds  ccode  enroll_12  num_act  act_pass_21  num_sat_12  \\\n",
       "0  43696664333795   43.0      463.0     53.0           34       160.0   \n",
       "1  19647331935121   19.0      226.0     19.0           11       127.0   \n",
       "2  19769680109926   19.0       65.0     33.0            3        42.0   \n",
       "3  19647330126615   19.0      126.0     16.0            5        48.0   \n",
       "4  19651361996321   19.0      104.0     36.0           34        51.0   \n",
       "\n",
       "   sat_pass_12  enroll_11  num_sat_11  sat_pass_11  act_pt_r  act_ps_r  \\\n",
       "0         80.0      453.0       423.0        173.0  0.057235  0.073434   \n",
       "1         39.0      234.0       177.0         51.0  0.042035  0.048673   \n",
       "2          5.0       54.0        40.0          6.0  0.253846  0.046154   \n",
       "3         11.0      145.0       136.0         15.0  0.063492  0.039683   \n",
       "4         43.0      105.0        88.0         81.0  0.173077  0.326923   \n",
       "\n",
       "   sat_pt_r_12  sat_ps_r_12  sat_pt_r_11  sat_ps_r_11  sat_pt_r  sat_ps_r  \n",
       "0     0.345572     0.500000     0.933775     0.408983  0.636463  0.276201  \n",
       "1     0.561947     0.307087     0.756410     0.288136  0.660870  0.195652  \n",
       "2     0.646154     0.119048     0.740741     0.150000  0.689076  0.092437  \n",
       "3     0.380952     0.229167     0.937931     0.110294  0.678967  0.095941  \n",
       "4     0.490385     0.843137     0.838095     0.920455  0.665072  0.593301  "
      ]
     },
     "execution_count": 85,
     "metadata": {},
     "output_type": "execute_result"
    }
   ],
   "source": [
    "merge_19.head()"
   ]
  },
  {
   "cell_type": "code",
   "execution_count": 86,
   "metadata": {},
   "outputs": [],
   "source": [
    "#Create a summary version of the dataset. \n",
    "agg_act_sat_19=merge_19[['cds','ccode','act_pt_r','act_ps_r','sat_pt_r','sat_ps_r']]"
   ]
  },
  {
   "cell_type": "code",
   "execution_count": 87,
   "metadata": {},
   "outputs": [
    {
     "data": {
      "text/html": [
       "<div>\n",
       "<style scoped>\n",
       "    .dataframe tbody tr th:only-of-type {\n",
       "        vertical-align: middle;\n",
       "    }\n",
       "\n",
       "    .dataframe tbody tr th {\n",
       "        vertical-align: top;\n",
       "    }\n",
       "\n",
       "    .dataframe thead th {\n",
       "        text-align: right;\n",
       "    }\n",
       "</style>\n",
       "<table border=\"1\" class=\"dataframe\">\n",
       "  <thead>\n",
       "    <tr style=\"text-align: right;\">\n",
       "      <th></th>\n",
       "      <th>cds</th>\n",
       "      <th>ccode</th>\n",
       "      <th>act_pt_r</th>\n",
       "      <th>act_ps_r</th>\n",
       "      <th>sat_pt_r</th>\n",
       "      <th>sat_ps_r</th>\n",
       "    </tr>\n",
       "  </thead>\n",
       "  <tbody>\n",
       "    <tr>\n",
       "      <th>0</th>\n",
       "      <td>43696664333795</td>\n",
       "      <td>43.0</td>\n",
       "      <td>0.057235</td>\n",
       "      <td>0.073434</td>\n",
       "      <td>0.636463</td>\n",
       "      <td>0.276201</td>\n",
       "    </tr>\n",
       "    <tr>\n",
       "      <th>1</th>\n",
       "      <td>19647331935121</td>\n",
       "      <td>19.0</td>\n",
       "      <td>0.042035</td>\n",
       "      <td>0.048673</td>\n",
       "      <td>0.660870</td>\n",
       "      <td>0.195652</td>\n",
       "    </tr>\n",
       "    <tr>\n",
       "      <th>2</th>\n",
       "      <td>19769680109926</td>\n",
       "      <td>19.0</td>\n",
       "      <td>0.253846</td>\n",
       "      <td>0.046154</td>\n",
       "      <td>0.689076</td>\n",
       "      <td>0.092437</td>\n",
       "    </tr>\n",
       "    <tr>\n",
       "      <th>3</th>\n",
       "      <td>19647330126615</td>\n",
       "      <td>19.0</td>\n",
       "      <td>0.063492</td>\n",
       "      <td>0.039683</td>\n",
       "      <td>0.678967</td>\n",
       "      <td>0.095941</td>\n",
       "    </tr>\n",
       "    <tr>\n",
       "      <th>4</th>\n",
       "      <td>19651361996321</td>\n",
       "      <td>19.0</td>\n",
       "      <td>0.173077</td>\n",
       "      <td>0.326923</td>\n",
       "      <td>0.665072</td>\n",
       "      <td>0.593301</td>\n",
       "    </tr>\n",
       "  </tbody>\n",
       "</table>\n",
       "</div>"
      ],
      "text/plain": [
       "              cds  ccode  act_pt_r  act_ps_r  sat_pt_r  sat_ps_r\n",
       "0  43696664333795   43.0  0.057235  0.073434  0.636463  0.276201\n",
       "1  19647331935121   19.0  0.042035  0.048673  0.660870  0.195652\n",
       "2  19769680109926   19.0  0.253846  0.046154  0.689076  0.092437\n",
       "3  19647330126615   19.0  0.063492  0.039683  0.678967  0.095941\n",
       "4  19651361996321   19.0  0.173077  0.326923  0.665072  0.593301"
      ]
     },
     "execution_count": 87,
     "metadata": {},
     "output_type": "execute_result"
    }
   ],
   "source": [
    "agg_act_sat_19.head()"
   ]
  },
  {
   "cell_type": "code",
   "execution_count": 88,
   "metadata": {},
   "outputs": [
    {
     "data": {
      "text/html": [
       "<div>\n",
       "<style scoped>\n",
       "    .dataframe tbody tr th:only-of-type {\n",
       "        vertical-align: middle;\n",
       "    }\n",
       "\n",
       "    .dataframe tbody tr th {\n",
       "        vertical-align: top;\n",
       "    }\n",
       "\n",
       "    .dataframe thead th {\n",
       "        text-align: right;\n",
       "    }\n",
       "</style>\n",
       "<table border=\"1\" class=\"dataframe\">\n",
       "  <thead>\n",
       "    <tr style=\"text-align: right;\">\n",
       "      <th></th>\n",
       "      <th>cds</th>\n",
       "      <th>ccode</th>\n",
       "      <th>act_pt_r</th>\n",
       "      <th>act_ps_r</th>\n",
       "      <th>sat_pt_r</th>\n",
       "      <th>sat_ps_r</th>\n",
       "    </tr>\n",
       "  </thead>\n",
       "  <tbody>\n",
       "  </tbody>\n",
       "</table>\n",
       "</div>"
      ],
      "text/plain": [
       "Empty DataFrame\n",
       "Columns: [cds, ccode, act_pt_r, act_ps_r, sat_pt_r, sat_ps_r]\n",
       "Index: []"
      ]
     },
     "execution_count": 88,
     "metadata": {},
     "output_type": "execute_result"
    }
   ],
   "source": [
    "#Check if there are null values in Couty Code column\n",
    "agg_act_sat_19[agg_act_sat_19['ccode'].isna()]"
   ]
  },
  {
   "cell_type": "code",
   "execution_count": 89,
   "metadata": {},
   "outputs": [
    {
     "data": {
      "text/html": [
       "<div>\n",
       "<style scoped>\n",
       "    .dataframe tbody tr th:only-of-type {\n",
       "        vertical-align: middle;\n",
       "    }\n",
       "\n",
       "    .dataframe tbody tr th {\n",
       "        vertical-align: top;\n",
       "    }\n",
       "\n",
       "    .dataframe thead th {\n",
       "        text-align: right;\n",
       "    }\n",
       "</style>\n",
       "<table border=\"1\" class=\"dataframe\">\n",
       "  <thead>\n",
       "    <tr style=\"text-align: right;\">\n",
       "      <th></th>\n",
       "      <th>cds</th>\n",
       "      <th>ccode</th>\n",
       "      <th>act_pt_r</th>\n",
       "      <th>act_ps_r</th>\n",
       "      <th>sat_pt_r</th>\n",
       "      <th>sat_ps_r</th>\n",
       "    </tr>\n",
       "  </thead>\n",
       "  <tbody>\n",
       "    <tr>\n",
       "      <th>195</th>\n",
       "      <td>19647330127795</td>\n",
       "      <td>19.0</td>\n",
       "      <td>0.222222</td>\n",
       "      <td>0.033333</td>\n",
       "      <td>1.031579</td>\n",
       "      <td>0.084211</td>\n",
       "    </tr>\n",
       "  </tbody>\n",
       "</table>\n",
       "</div>"
      ],
      "text/plain": [
       "                cds  ccode  act_pt_r  act_ps_r  sat_pt_r  sat_ps_r\n",
       "195  19647330127795   19.0  0.222222  0.033333  1.031579  0.084211"
      ]
     },
     "execution_count": 89,
     "metadata": {},
     "output_type": "execute_result"
    }
   ],
   "source": [
    "agg_act_sat_19[agg_act_sat_19['sat_pt_r']>1]"
   ]
  },
  {
   "cell_type": "markdown",
   "metadata": {},
   "source": [
    "Upon Inspection, this row sourced from an erroneous entry in the imported dataset, in which the number of test takers have exceeded the total number of students in that school. Hence this row will be dropped. "
   ]
  },
  {
   "cell_type": "code",
   "execution_count": 90,
   "metadata": {},
   "outputs": [
    {
     "name": "stderr",
     "output_type": "stream",
     "text": [
      "C:\\Users\\Cathy\\AppData\\Local\\Temp\\ipykernel_7256\\25045857.py:1: SettingWithCopyWarning: \n",
      "A value is trying to be set on a copy of a slice from a DataFrame\n",
      "\n",
      "See the caveats in the documentation: https://pandas.pydata.org/pandas-docs/stable/user_guide/indexing.html#returning-a-view-versus-a-copy\n",
      "  agg_act_sat_19.drop([195],inplace=True)\n"
     ]
    }
   ],
   "source": [
    "agg_act_sat_19.drop([195],inplace=True)"
   ]
  },
  {
   "cell_type": "code",
   "execution_count": 91,
   "metadata": {},
   "outputs": [],
   "source": [
    "agg_act_sat_19.reset_index(drop=True, inplace=True)"
   ]
  },
  {
   "cell_type": "code",
   "execution_count": 92,
   "metadata": {},
   "outputs": [
    {
     "data": {
      "text/html": [
       "<div>\n",
       "<style scoped>\n",
       "    .dataframe tbody tr th:only-of-type {\n",
       "        vertical-align: middle;\n",
       "    }\n",
       "\n",
       "    .dataframe tbody tr th {\n",
       "        vertical-align: top;\n",
       "    }\n",
       "\n",
       "    .dataframe thead th {\n",
       "        text-align: right;\n",
       "    }\n",
       "</style>\n",
       "<table border=\"1\" class=\"dataframe\">\n",
       "  <thead>\n",
       "    <tr style=\"text-align: right;\">\n",
       "      <th></th>\n",
       "      <th>cds</th>\n",
       "      <th>ccode</th>\n",
       "      <th>act_pt_r</th>\n",
       "      <th>act_ps_r</th>\n",
       "      <th>sat_pt_r</th>\n",
       "      <th>sat_ps_r</th>\n",
       "    </tr>\n",
       "  </thead>\n",
       "  <tbody>\n",
       "  </tbody>\n",
       "</table>\n",
       "</div>"
      ],
      "text/plain": [
       "Empty DataFrame\n",
       "Columns: [cds, ccode, act_pt_r, act_ps_r, sat_pt_r, sat_ps_r]\n",
       "Index: []"
      ]
     },
     "execution_count": 92,
     "metadata": {},
     "output_type": "execute_result"
    }
   ],
   "source": [
    "agg_act_sat_19[agg_act_sat_19['sat_pt_r']>1]"
   ]
  },
  {
   "cell_type": "code",
   "execution_count": 93,
   "metadata": {},
   "outputs": [],
   "source": [
    "merge_19.drop([195],inplace=True)"
   ]
  },
  {
   "cell_type": "code",
   "execution_count": 94,
   "metadata": {},
   "outputs": [],
   "source": [
    "merge_19.reset_index(drop=True, inplace=True)"
   ]
  },
  {
   "cell_type": "code",
   "execution_count": 95,
   "metadata": {},
   "outputs": [],
   "source": [
    "merge_19.to_csv('..\\data\\merged_2019.csv',sep=',')"
   ]
  },
  {
   "cell_type": "markdown",
   "metadata": {
    "tags": []
   },
   "source": [
    "### Data Dictionary\n",
    "\n",
    "Now that we've fixed our data, and given it appropriate names, let's create a [data dictionary](http://library.ucmerced.edu/node/10249). \n",
    "\n",
    "A data dictionary provides a quick overview of features/variables/columns, alongside data types and descriptions. The more descriptive you can be, the more useful this document is.\n",
    "\n",
    "Example of a Fictional Data Dictionary Entry: \n",
    "\n",
    "|Feature|Type|Dataset|Description|\n",
    "|---|---|---|---|\n",
    "|**county_pop**|*integer*|2010 census|The population of the county (units in thousands, where 2.5 represents 2500 people).| \n",
    "|**per_poverty**|*float*|2010 census|The percent of the county over the age of 18 living below the 200% of official US poverty rate (units percent to two decimal places 98.10 means 98.1%)|\n",
    "\n",
    "[Here's a quick link to a short guide for formatting markdown in Jupyter notebooks](https://jupyter-notebook.readthedocs.io/en/stable/examples/Notebook/Working%20With%20Markdown%20Cells.html).\n",
    "\n",
    "Provided is the skeleton for formatting a markdown table, with columns headers that will help you create a data dictionary to quickly summarize your data, as well as some examples. **This would be a great thing to copy and paste into your custom README for this project.**\n",
    "\n",
    "*Note*: if you are unsure of what a feature is, check the source of the data! This can be found in the README."
   ]
  },
  {
   "cell_type": "markdown",
   "metadata": {
    "tags": []
   },
   "source": [
    "**To-Do:** *Edit the table below to create your own data dictionary for the datasets you chose.*\n",
    "\n",
    "|Feature|Type|Dataset|Description|\n",
    "|---|---|---|---|\n",
    "|cds|14-character-string|merged_19.csv|The unique code for each school. | \n",
    "|enroll_12|float|merged_19.csv|The number of enrolled students for Grade 12 in Year 2018-2019. |\n",
    "|num_act|float|merged_19.csv|The number of ACT takers from Grade 11/12 in Year 2018-2019.|\n",
    "|act_pass_21|float|merged_19.csv|The number ACT takers whose composite ACT score has passed 21 in Year 2018-2019. One's composite ACT score means the average score from the four scores (English, mathematics, reading, science).|\n",
    "|num_sat_12|float|merged_19.csv|The number of students from Grade 12 who took SAT test in Year 2018-2019.|\n",
    "|sat_pass_12|float|merged_19.csv|The number of SAT takers from Grade 12 whose scores have both passed the benchmark score for the EWR test and the Math test in Year 2018-2019.|\n",
    "|enroll_11|float|merged_19.csv|The number of SAT takers from Grade 11 in Year 2018-2019.|\n",
    "|sat_pass_11|float|merged_19.csv|The number of SAT takers from Grade 11 whose scores have both passed the benchmark score for the EWR test and the Math test in Year 2018-2019.|\n",
    "|act_pt_r|float|merged_19.csv|The participation rate of ACT test among Grade 11 and 12 students.|\n",
    "|act_ps_r|float|merged_19.csv|The pencentage of ACT test takers whose score has passed 21. |\n",
    "|sat_pt_r_12|float|merged_19.csv|The participation rate of SAT test among Grade 12 students. |\n",
    "|sat_pt_r_11|float|merged_19.csv|The participation rate of SAT test among Grade 11 students. |\n",
    "|sat_pt_r|float|merged_19.csv|The participation rate of SAT test among Grade 11 and 12 students. |\n",
    "|sat_ps_r|float|merged_19.csv|The participation rate of SAT test among Grade 11 and 12 studnets. |"
   ]
  },
  {
   "cell_type": "markdown",
   "metadata": {},
   "source": [
    "## Exploratory Data Analysis\n",
    "\n",
    "Complete the following steps to explore your data. You are welcome to do more EDA than the steps outlined here as you feel necessary:\n",
    "1. Summary Statistics.\n",
    "2. Use a **dictionary comprehension** to apply the standard deviation function you create in part 1 to each numeric column in the dataframe.  **No loops**.\n",
    "    - Assign the output to variable `sd` as a dictionary where: \n",
    "        - Each column name is now a key \n",
    "        - That standard deviation of the column is the value \n",
    "        - *Example Output :* `{'ACT_Math': 120, 'ACT_Reading': 120, ...}`\n",
    "3. Investigate trends in the data.\n",
    "    - Using sorting and/or masking (along with the `.head()` method to avoid printing our entire dataframe), consider questions relevant to your problem statement. Some examples are provided below (but feel free to change these questions for your specific problem):\n",
    "        - Which states have the highest and lowest participation rates for the 2017, 2019, or 2019 SAT and ACT?\n",
    "        - Which states have the highest and lowest mean total/composite scores for the 2017, 2019, or 2019 SAT and ACT?\n",
    "        - Do any states with 100% participation on a given test have a rate change year-to-year?\n",
    "        - Do any states show have >50% participation on *both* tests each year?\n",
    "        - Which colleges have the highest median SAT and ACT scores for admittance?\n",
    "        - Which California school districts have the highest and lowest mean test scores?\n",
    "    - **You should comment on your findings at each step in a markdown cell below your code block**. Make sure you include at least one example of sorting your dataframe by a column, and one example of using boolean filtering (i.e., masking) to select a subset of the dataframe."
   ]
  },
  {
   "cell_type": "markdown",
   "metadata": {},
   "source": [
    "#### 1. Summary statistics"
   ]
  },
  {
   "cell_type": "code",
   "execution_count": 96,
   "metadata": {},
   "outputs": [
    {
     "name": "stdout",
     "output_type": "stream",
     "text": [
      "Mean value of SAT participation rate is 0.43224991238204835.\n"
     ]
    }
   ],
   "source": [
    "mean=agg_act_sat_19['sat_pt_r'].mean()\n",
    "print(f'Mean value of SAT participation rate is {mean}.')"
   ]
  },
  {
   "cell_type": "code",
   "execution_count": 97,
   "metadata": {},
   "outputs": [
    {
     "name": "stdout",
     "output_type": "stream",
     "text": [
      "Mean value of SAT pass rate is 0.20913996089062134.\n"
     ]
    }
   ],
   "source": [
    "mean=agg_act_sat_19['sat_ps_r'].mean()\n",
    "print(f'Mean value of SAT pass rate is {mean}.')"
   ]
  },
  {
   "cell_type": "code",
   "execution_count": 98,
   "metadata": {},
   "outputs": [
    {
     "name": "stdout",
     "output_type": "stream",
     "text": [
      "Mean value of ACT participation rate is 0.11680075681477364.\n"
     ]
    }
   ],
   "source": [
    "mean=agg_act_sat_19['act_pt_r'].mean()\n",
    "print(f'Mean value of ACT participation rate is {mean}.')"
   ]
  },
  {
   "cell_type": "code",
   "execution_count": 99,
   "metadata": {},
   "outputs": [
    {
     "name": "stdout",
     "output_type": "stream",
     "text": [
      "Mean value of ACT pass rate is 0.1147039991522219.\n"
     ]
    }
   ],
   "source": [
    "mean=agg_act_sat_19['act_ps_r'].mean()\n",
    "print(f'Mean value of ACT pass rate is {mean}.')"
   ]
  },
  {
   "cell_type": "markdown",
   "metadata": {},
   "source": [
    "#### Next, we zoom in to the county level and get the statistics. "
   ]
  },
  {
   "cell_type": "code",
   "execution_count": 100,
   "metadata": {},
   "outputs": [],
   "source": [
    "#Add a county name column \n",
    "agg_act_sat_19_2=agg_act_sat_19.assign(cname=['name']*1375)"
   ]
  },
  {
   "cell_type": "code",
   "execution_count": 101,
   "metadata": {},
   "outputs": [
    {
     "name": "stderr",
     "output_type": "stream",
     "text": [
      "C:\\Users\\Cathy\\AppData\\Local\\Temp\\ipykernel_7256\\2702553635.py:2: SettingWithCopyWarning: \n",
      "A value is trying to be set on a copy of a slice from a DataFrame\n",
      "\n",
      "See the caveats in the documentation: https://pandas.pydata.org/pandas-docs/stable/user_guide/indexing.html#returning-a-view-versus-a-copy\n",
      "  agg_act_sat_19_2['cname'][i]=ccode_cname[agg_act_sat_19_2['ccode'][i]]\n"
     ]
    }
   ],
   "source": [
    "for i in range(len(agg_act_sat_19_2)):\n",
    "    agg_act_sat_19_2['cname'][i]=ccode_cname[agg_act_sat_19_2['ccode'][i]]"
   ]
  },
  {
   "cell_type": "code",
   "execution_count": 102,
   "metadata": {},
   "outputs": [
    {
     "data": {
      "text/html": [
       "<div>\n",
       "<style scoped>\n",
       "    .dataframe tbody tr th:only-of-type {\n",
       "        vertical-align: middle;\n",
       "    }\n",
       "\n",
       "    .dataframe tbody tr th {\n",
       "        vertical-align: top;\n",
       "    }\n",
       "\n",
       "    .dataframe thead th {\n",
       "        text-align: right;\n",
       "    }\n",
       "</style>\n",
       "<table border=\"1\" class=\"dataframe\">\n",
       "  <thead>\n",
       "    <tr style=\"text-align: right;\">\n",
       "      <th></th>\n",
       "      <th>count</th>\n",
       "      <th>mean</th>\n",
       "      <th>std</th>\n",
       "      <th>min</th>\n",
       "      <th>25%</th>\n",
       "      <th>50%</th>\n",
       "      <th>75%</th>\n",
       "      <th>max</th>\n",
       "    </tr>\n",
       "    <tr>\n",
       "      <th>cname</th>\n",
       "      <th></th>\n",
       "      <th></th>\n",
       "      <th></th>\n",
       "      <th></th>\n",
       "      <th></th>\n",
       "      <th></th>\n",
       "      <th></th>\n",
       "      <th></th>\n",
       "    </tr>\n",
       "  </thead>\n",
       "  <tbody>\n",
       "    <tr>\n",
       "      <th>Alameda</th>\n",
       "      <td>52.0</td>\n",
       "      <td>0.137187</td>\n",
       "      <td>0.099212</td>\n",
       "      <td>0.033696</td>\n",
       "      <td>0.078607</td>\n",
       "      <td>0.106846</td>\n",
       "      <td>0.156598</td>\n",
       "      <td>0.478571</td>\n",
       "    </tr>\n",
       "    <tr>\n",
       "      <th>Amador</th>\n",
       "      <td>3.0</td>\n",
       "      <td>0.059881</td>\n",
       "      <td>0.004351</td>\n",
       "      <td>0.055195</td>\n",
       "      <td>0.057925</td>\n",
       "      <td>0.060656</td>\n",
       "      <td>0.062224</td>\n",
       "      <td>0.063793</td>\n",
       "    </tr>\n",
       "    <tr>\n",
       "      <th>Butte</th>\n",
       "      <td>10.0</td>\n",
       "      <td>0.048882</td>\n",
       "      <td>0.016491</td>\n",
       "      <td>0.031670</td>\n",
       "      <td>0.042381</td>\n",
       "      <td>0.045882</td>\n",
       "      <td>0.048221</td>\n",
       "      <td>0.090909</td>\n",
       "    </tr>\n",
       "    <tr>\n",
       "      <th>Calaveras</th>\n",
       "      <td>3.0</td>\n",
       "      <td>0.042871</td>\n",
       "      <td>0.008006</td>\n",
       "      <td>0.034368</td>\n",
       "      <td>0.039175</td>\n",
       "      <td>0.043981</td>\n",
       "      <td>0.047123</td>\n",
       "      <td>0.050265</td>\n",
       "    </tr>\n",
       "    <tr>\n",
       "      <th>Colusa</th>\n",
       "      <td>3.0</td>\n",
       "      <td>0.063595</td>\n",
       "      <td>0.021912</td>\n",
       "      <td>0.038348</td>\n",
       "      <td>0.056557</td>\n",
       "      <td>0.074766</td>\n",
       "      <td>0.076218</td>\n",
       "      <td>0.077670</td>\n",
       "    </tr>\n",
       "  </tbody>\n",
       "</table>\n",
       "</div>"
      ],
      "text/plain": [
       "           count      mean       std       min       25%       50%       75%  \\\n",
       "cname                                                                          \n",
       "Alameda     52.0  0.137187  0.099212  0.033696  0.078607  0.106846  0.156598   \n",
       "Amador       3.0  0.059881  0.004351  0.055195  0.057925  0.060656  0.062224   \n",
       "Butte       10.0  0.048882  0.016491  0.031670  0.042381  0.045882  0.048221   \n",
       "Calaveras    3.0  0.042871  0.008006  0.034368  0.039175  0.043981  0.047123   \n",
       "Colusa       3.0  0.063595  0.021912  0.038348  0.056557  0.074766  0.076218   \n",
       "\n",
       "                max  \n",
       "cname                \n",
       "Alameda    0.478571  \n",
       "Amador     0.063793  \n",
       "Butte      0.090909  \n",
       "Calaveras  0.050265  \n",
       "Colusa     0.077670  "
      ]
     },
     "execution_count": 102,
     "metadata": {},
     "output_type": "execute_result"
    }
   ],
   "source": [
    "#Summary statistics on the county level \n",
    "#-- the number of schools in this county, the statistics of ACT and SAT participation, pass rate.\n",
    "agg_act_sat_19_2.groupby(['cname'])['act_pt_r'].describe().head()"
   ]
  },
  {
   "cell_type": "code",
   "execution_count": 103,
   "metadata": {},
   "outputs": [
    {
     "data": {
      "text/html": [
       "<div>\n",
       "<style scoped>\n",
       "    .dataframe tbody tr th:only-of-type {\n",
       "        vertical-align: middle;\n",
       "    }\n",
       "\n",
       "    .dataframe tbody tr th {\n",
       "        vertical-align: top;\n",
       "    }\n",
       "\n",
       "    .dataframe thead th {\n",
       "        text-align: right;\n",
       "    }\n",
       "</style>\n",
       "<table border=\"1\" class=\"dataframe\">\n",
       "  <thead>\n",
       "    <tr style=\"text-align: right;\">\n",
       "      <th></th>\n",
       "      <th>count</th>\n",
       "      <th>mean</th>\n",
       "      <th>std</th>\n",
       "      <th>min</th>\n",
       "      <th>25%</th>\n",
       "      <th>50%</th>\n",
       "      <th>75%</th>\n",
       "      <th>max</th>\n",
       "    </tr>\n",
       "    <tr>\n",
       "      <th>cname</th>\n",
       "      <th></th>\n",
       "      <th></th>\n",
       "      <th></th>\n",
       "      <th></th>\n",
       "      <th></th>\n",
       "      <th></th>\n",
       "      <th></th>\n",
       "      <th></th>\n",
       "    </tr>\n",
       "  </thead>\n",
       "  <tbody>\n",
       "    <tr>\n",
       "      <th>Alameda</th>\n",
       "      <td>52.0</td>\n",
       "      <td>0.167872</td>\n",
       "      <td>0.118668</td>\n",
       "      <td>0.012987</td>\n",
       "      <td>0.073742</td>\n",
       "      <td>0.146979</td>\n",
       "      <td>0.209483</td>\n",
       "      <td>0.526829</td>\n",
       "    </tr>\n",
       "    <tr>\n",
       "      <th>Amador</th>\n",
       "      <td>3.0</td>\n",
       "      <td>0.099659</td>\n",
       "      <td>0.004417</td>\n",
       "      <td>0.095082</td>\n",
       "      <td>0.097541</td>\n",
       "      <td>0.100000</td>\n",
       "      <td>0.101948</td>\n",
       "      <td>0.103896</td>\n",
       "    </tr>\n",
       "    <tr>\n",
       "      <th>Butte</th>\n",
       "      <td>10.0</td>\n",
       "      <td>0.062427</td>\n",
       "      <td>0.029385</td>\n",
       "      <td>0.024952</td>\n",
       "      <td>0.051529</td>\n",
       "      <td>0.057097</td>\n",
       "      <td>0.068790</td>\n",
       "      <td>0.129870</td>\n",
       "    </tr>\n",
       "    <tr>\n",
       "      <th>Calaveras</th>\n",
       "      <td>3.0</td>\n",
       "      <td>0.072866</td>\n",
       "      <td>0.012439</td>\n",
       "      <td>0.059867</td>\n",
       "      <td>0.066971</td>\n",
       "      <td>0.074074</td>\n",
       "      <td>0.079365</td>\n",
       "      <td>0.084656</td>\n",
       "    </tr>\n",
       "    <tr>\n",
       "      <th>Colusa</th>\n",
       "      <td>3.0</td>\n",
       "      <td>0.040607</td>\n",
       "      <td>0.012209</td>\n",
       "      <td>0.026549</td>\n",
       "      <td>0.036639</td>\n",
       "      <td>0.046729</td>\n",
       "      <td>0.047636</td>\n",
       "      <td>0.048544</td>\n",
       "    </tr>\n",
       "  </tbody>\n",
       "</table>\n",
       "</div>"
      ],
      "text/plain": [
       "           count      mean       std       min       25%       50%       75%  \\\n",
       "cname                                                                          \n",
       "Alameda     52.0  0.167872  0.118668  0.012987  0.073742  0.146979  0.209483   \n",
       "Amador       3.0  0.099659  0.004417  0.095082  0.097541  0.100000  0.101948   \n",
       "Butte       10.0  0.062427  0.029385  0.024952  0.051529  0.057097  0.068790   \n",
       "Calaveras    3.0  0.072866  0.012439  0.059867  0.066971  0.074074  0.079365   \n",
       "Colusa       3.0  0.040607  0.012209  0.026549  0.036639  0.046729  0.047636   \n",
       "\n",
       "                max  \n",
       "cname                \n",
       "Alameda    0.526829  \n",
       "Amador     0.103896  \n",
       "Butte      0.129870  \n",
       "Calaveras  0.084656  \n",
       "Colusa     0.048544  "
      ]
     },
     "execution_count": 103,
     "metadata": {},
     "output_type": "execute_result"
    }
   ],
   "source": [
    "agg_act_sat_19_2.groupby(['cname'])['act_ps_r'].describe().head()"
   ]
  },
  {
   "cell_type": "code",
   "execution_count": 104,
   "metadata": {},
   "outputs": [
    {
     "data": {
      "text/html": [
       "<div>\n",
       "<style scoped>\n",
       "    .dataframe tbody tr th:only-of-type {\n",
       "        vertical-align: middle;\n",
       "    }\n",
       "\n",
       "    .dataframe tbody tr th {\n",
       "        vertical-align: top;\n",
       "    }\n",
       "\n",
       "    .dataframe thead th {\n",
       "        text-align: right;\n",
       "    }\n",
       "</style>\n",
       "<table border=\"1\" class=\"dataframe\">\n",
       "  <thead>\n",
       "    <tr style=\"text-align: right;\">\n",
       "      <th></th>\n",
       "      <th>count</th>\n",
       "      <th>mean</th>\n",
       "      <th>std</th>\n",
       "      <th>min</th>\n",
       "      <th>25%</th>\n",
       "      <th>50%</th>\n",
       "      <th>75%</th>\n",
       "      <th>max</th>\n",
       "    </tr>\n",
       "    <tr>\n",
       "      <th>cname</th>\n",
       "      <th></th>\n",
       "      <th></th>\n",
       "      <th></th>\n",
       "      <th></th>\n",
       "      <th></th>\n",
       "      <th></th>\n",
       "      <th></th>\n",
       "      <th></th>\n",
       "    </tr>\n",
       "  </thead>\n",
       "  <tbody>\n",
       "    <tr>\n",
       "      <th>Alameda</th>\n",
       "      <td>52.0</td>\n",
       "      <td>0.280157</td>\n",
       "      <td>0.128966</td>\n",
       "      <td>0.014620</td>\n",
       "      <td>0.166277</td>\n",
       "      <td>0.273630</td>\n",
       "      <td>0.389781</td>\n",
       "      <td>0.533881</td>\n",
       "    </tr>\n",
       "    <tr>\n",
       "      <th>Amador</th>\n",
       "      <td>3.0</td>\n",
       "      <td>0.125379</td>\n",
       "      <td>0.014413</td>\n",
       "      <td>0.114022</td>\n",
       "      <td>0.117271</td>\n",
       "      <td>0.120521</td>\n",
       "      <td>0.131057</td>\n",
       "      <td>0.141593</td>\n",
       "    </tr>\n",
       "    <tr>\n",
       "      <th>Butte</th>\n",
       "      <td>10.0</td>\n",
       "      <td>0.160440</td>\n",
       "      <td>0.064767</td>\n",
       "      <td>0.060928</td>\n",
       "      <td>0.107014</td>\n",
       "      <td>0.171609</td>\n",
       "      <td>0.211337</td>\n",
       "      <td>0.239606</td>\n",
       "    </tr>\n",
       "    <tr>\n",
       "      <th>Calaveras</th>\n",
       "      <td>3.0</td>\n",
       "      <td>0.156561</td>\n",
       "      <td>0.014892</td>\n",
       "      <td>0.144284</td>\n",
       "      <td>0.148278</td>\n",
       "      <td>0.152273</td>\n",
       "      <td>0.162700</td>\n",
       "      <td>0.173127</td>\n",
       "    </tr>\n",
       "    <tr>\n",
       "      <th>Colusa</th>\n",
       "      <td>3.0</td>\n",
       "      <td>0.095332</td>\n",
       "      <td>0.002404</td>\n",
       "      <td>0.092593</td>\n",
       "      <td>0.094455</td>\n",
       "      <td>0.096317</td>\n",
       "      <td>0.096702</td>\n",
       "      <td>0.097087</td>\n",
       "    </tr>\n",
       "  </tbody>\n",
       "</table>\n",
       "</div>"
      ],
      "text/plain": [
       "           count      mean       std       min       25%       50%       75%  \\\n",
       "cname                                                                          \n",
       "Alameda     52.0  0.280157  0.128966  0.014620  0.166277  0.273630  0.389781   \n",
       "Amador       3.0  0.125379  0.014413  0.114022  0.117271  0.120521  0.131057   \n",
       "Butte       10.0  0.160440  0.064767  0.060928  0.107014  0.171609  0.211337   \n",
       "Calaveras    3.0  0.156561  0.014892  0.144284  0.148278  0.152273  0.162700   \n",
       "Colusa       3.0  0.095332  0.002404  0.092593  0.094455  0.096317  0.096702   \n",
       "\n",
       "                max  \n",
       "cname                \n",
       "Alameda    0.533881  \n",
       "Amador     0.141593  \n",
       "Butte      0.239606  \n",
       "Calaveras  0.173127  \n",
       "Colusa     0.097087  "
      ]
     },
     "execution_count": 104,
     "metadata": {},
     "output_type": "execute_result"
    }
   ],
   "source": [
    "agg_act_sat_19_2.groupby(['cname'])['sat_ps_r'].describe().head()"
   ]
  },
  {
   "cell_type": "code",
   "execution_count": 105,
   "metadata": {},
   "outputs": [
    {
     "data": {
      "text/html": [
       "<div>\n",
       "<style scoped>\n",
       "    .dataframe tbody tr th:only-of-type {\n",
       "        vertical-align: middle;\n",
       "    }\n",
       "\n",
       "    .dataframe tbody tr th {\n",
       "        vertical-align: top;\n",
       "    }\n",
       "\n",
       "    .dataframe thead th {\n",
       "        text-align: right;\n",
       "    }\n",
       "</style>\n",
       "<table border=\"1\" class=\"dataframe\">\n",
       "  <thead>\n",
       "    <tr style=\"text-align: right;\">\n",
       "      <th></th>\n",
       "      <th>count</th>\n",
       "      <th>mean</th>\n",
       "      <th>std</th>\n",
       "      <th>min</th>\n",
       "      <th>25%</th>\n",
       "      <th>50%</th>\n",
       "      <th>75%</th>\n",
       "      <th>max</th>\n",
       "    </tr>\n",
       "    <tr>\n",
       "      <th>cname</th>\n",
       "      <th></th>\n",
       "      <th></th>\n",
       "      <th></th>\n",
       "      <th></th>\n",
       "      <th></th>\n",
       "      <th></th>\n",
       "      <th></th>\n",
       "      <th></th>\n",
       "    </tr>\n",
       "  </thead>\n",
       "  <tbody>\n",
       "    <tr>\n",
       "      <th>Alameda</th>\n",
       "      <td>52.0</td>\n",
       "      <td>0.280157</td>\n",
       "      <td>0.128966</td>\n",
       "      <td>0.014620</td>\n",
       "      <td>0.166277</td>\n",
       "      <td>0.273630</td>\n",
       "      <td>0.389781</td>\n",
       "      <td>0.533881</td>\n",
       "    </tr>\n",
       "    <tr>\n",
       "      <th>Amador</th>\n",
       "      <td>3.0</td>\n",
       "      <td>0.125379</td>\n",
       "      <td>0.014413</td>\n",
       "      <td>0.114022</td>\n",
       "      <td>0.117271</td>\n",
       "      <td>0.120521</td>\n",
       "      <td>0.131057</td>\n",
       "      <td>0.141593</td>\n",
       "    </tr>\n",
       "    <tr>\n",
       "      <th>Butte</th>\n",
       "      <td>10.0</td>\n",
       "      <td>0.160440</td>\n",
       "      <td>0.064767</td>\n",
       "      <td>0.060928</td>\n",
       "      <td>0.107014</td>\n",
       "      <td>0.171609</td>\n",
       "      <td>0.211337</td>\n",
       "      <td>0.239606</td>\n",
       "    </tr>\n",
       "    <tr>\n",
       "      <th>Calaveras</th>\n",
       "      <td>3.0</td>\n",
       "      <td>0.156561</td>\n",
       "      <td>0.014892</td>\n",
       "      <td>0.144284</td>\n",
       "      <td>0.148278</td>\n",
       "      <td>0.152273</td>\n",
       "      <td>0.162700</td>\n",
       "      <td>0.173127</td>\n",
       "    </tr>\n",
       "    <tr>\n",
       "      <th>Colusa</th>\n",
       "      <td>3.0</td>\n",
       "      <td>0.095332</td>\n",
       "      <td>0.002404</td>\n",
       "      <td>0.092593</td>\n",
       "      <td>0.094455</td>\n",
       "      <td>0.096317</td>\n",
       "      <td>0.096702</td>\n",
       "      <td>0.097087</td>\n",
       "    </tr>\n",
       "  </tbody>\n",
       "</table>\n",
       "</div>"
      ],
      "text/plain": [
       "           count      mean       std       min       25%       50%       75%  \\\n",
       "cname                                                                          \n",
       "Alameda     52.0  0.280157  0.128966  0.014620  0.166277  0.273630  0.389781   \n",
       "Amador       3.0  0.125379  0.014413  0.114022  0.117271  0.120521  0.131057   \n",
       "Butte       10.0  0.160440  0.064767  0.060928  0.107014  0.171609  0.211337   \n",
       "Calaveras    3.0  0.156561  0.014892  0.144284  0.148278  0.152273  0.162700   \n",
       "Colusa       3.0  0.095332  0.002404  0.092593  0.094455  0.096317  0.096702   \n",
       "\n",
       "                max  \n",
       "cname                \n",
       "Alameda    0.533881  \n",
       "Amador     0.141593  \n",
       "Butte      0.239606  \n",
       "Calaveras  0.173127  \n",
       "Colusa     0.097087  "
      ]
     },
     "execution_count": 105,
     "metadata": {},
     "output_type": "execute_result"
    }
   ],
   "source": [
    "agg_act_sat_19_2.groupby(['cname'])['sat_ps_r'].describe().head()"
   ]
  },
  {
   "cell_type": "markdown",
   "metadata": {},
   "source": [
    "##### A more aggregate version that takes the mean statistics for each parameter at county level:"
   ]
  },
  {
   "cell_type": "code",
   "execution_count": 106,
   "metadata": {},
   "outputs": [
    {
     "data": {
      "text/html": [
       "<div>\n",
       "<style scoped>\n",
       "    .dataframe tbody tr th:only-of-type {\n",
       "        vertical-align: middle;\n",
       "    }\n",
       "\n",
       "    .dataframe tbody tr th {\n",
       "        vertical-align: top;\n",
       "    }\n",
       "\n",
       "    .dataframe thead th {\n",
       "        text-align: right;\n",
       "    }\n",
       "</style>\n",
       "<table border=\"1\" class=\"dataframe\">\n",
       "  <thead>\n",
       "    <tr style=\"text-align: right;\">\n",
       "      <th></th>\n",
       "      <th>act_pt_by_county</th>\n",
       "      <th>sat_pt_by_county</th>\n",
       "      <th>act_ps_by_county</th>\n",
       "      <th>sat_ps_by_county</th>\n",
       "    </tr>\n",
       "    <tr>\n",
       "      <th>ccode</th>\n",
       "      <th></th>\n",
       "      <th></th>\n",
       "      <th></th>\n",
       "      <th></th>\n",
       "    </tr>\n",
       "  </thead>\n",
       "  <tbody>\n",
       "    <tr>\n",
       "      <th>0.0</th>\n",
       "      <td>0.084415</td>\n",
       "      <td>0.390934</td>\n",
       "      <td>0.092854</td>\n",
       "      <td>0.084415</td>\n",
       "    </tr>\n",
       "    <tr>\n",
       "      <th>1.0</th>\n",
       "      <td>0.137187</td>\n",
       "      <td>0.429463</td>\n",
       "      <td>0.167872</td>\n",
       "      <td>0.137187</td>\n",
       "    </tr>\n",
       "    <tr>\n",
       "      <th>3.0</th>\n",
       "      <td>0.059881</td>\n",
       "      <td>0.166687</td>\n",
       "      <td>0.099659</td>\n",
       "      <td>0.059881</td>\n",
       "    </tr>\n",
       "    <tr>\n",
       "      <th>4.0</th>\n",
       "      <td>0.048882</td>\n",
       "      <td>0.263922</td>\n",
       "      <td>0.062427</td>\n",
       "      <td>0.048882</td>\n",
       "    </tr>\n",
       "    <tr>\n",
       "      <th>5.0</th>\n",
       "      <td>0.042871</td>\n",
       "      <td>0.247353</td>\n",
       "      <td>0.072866</td>\n",
       "      <td>0.042871</td>\n",
       "    </tr>\n",
       "  </tbody>\n",
       "</table>\n",
       "</div>"
      ],
      "text/plain": [
       "       act_pt_by_county  sat_pt_by_county  act_ps_by_county  sat_ps_by_county\n",
       "ccode                                                                        \n",
       "0.0            0.084415          0.390934          0.092854          0.084415\n",
       "1.0            0.137187          0.429463          0.167872          0.137187\n",
       "3.0            0.059881          0.166687          0.099659          0.059881\n",
       "4.0            0.048882          0.263922          0.062427          0.048882\n",
       "5.0            0.042871          0.247353          0.072866          0.042871"
      ]
     },
     "execution_count": 106,
     "metadata": {},
     "output_type": "execute_result"
    }
   ],
   "source": [
    "sat_pt_by_county=agg_act_sat_19.groupby(['ccode'])['sat_pt_r'].mean()\n",
    "act_pt_by_county=agg_act_sat_19.groupby(['ccode'])['act_pt_r'].mean()\n",
    "sat_ps_by_county=agg_act_sat_19.groupby(['ccode'])['act_pt_r'].mean()\n",
    "act_ps_by_county=agg_act_sat_19.groupby(['ccode'])['act_ps_r'].mean()\n",
    "\n",
    "new_df={'act_pt_by_county':act_pt_by_county,'sat_pt_by_county':sat_pt_by_county,'act_ps_by_county':act_ps_by_county,'sat_ps_by_county':sat_ps_by_county}\n",
    "new_df=pd.DataFrame(new_df)\n",
    "new_df.head()"
   ]
  },
  {
   "cell_type": "code",
   "execution_count": 107,
   "metadata": {},
   "outputs": [
    {
     "data": {
      "text/html": [
       "<div>\n",
       "<style scoped>\n",
       "    .dataframe tbody tr th:only-of-type {\n",
       "        vertical-align: middle;\n",
       "    }\n",
       "\n",
       "    .dataframe tbody tr th {\n",
       "        vertical-align: top;\n",
       "    }\n",
       "\n",
       "    .dataframe thead th {\n",
       "        text-align: right;\n",
       "    }\n",
       "</style>\n",
       "<table border=\"1\" class=\"dataframe\">\n",
       "  <thead>\n",
       "    <tr style=\"text-align: right;\">\n",
       "      <th></th>\n",
       "      <th>act_pt_by_county</th>\n",
       "      <th>sat_pt_by_county</th>\n",
       "      <th>act_ps_by_county</th>\n",
       "      <th>sat_ps_by_county</th>\n",
       "    </tr>\n",
       "  </thead>\n",
       "  <tbody>\n",
       "    <tr>\n",
       "      <th>count</th>\n",
       "      <td>53.000000</td>\n",
       "      <td>53.000000</td>\n",
       "      <td>53.000000</td>\n",
       "      <td>53.000000</td>\n",
       "    </tr>\n",
       "    <tr>\n",
       "      <th>mean</th>\n",
       "      <td>0.095160</td>\n",
       "      <td>0.327155</td>\n",
       "      <td>0.103130</td>\n",
       "      <td>0.095160</td>\n",
       "    </tr>\n",
       "    <tr>\n",
       "      <th>std</th>\n",
       "      <td>0.037877</td>\n",
       "      <td>0.098269</td>\n",
       "      <td>0.047087</td>\n",
       "      <td>0.037877</td>\n",
       "    </tr>\n",
       "    <tr>\n",
       "      <th>min</th>\n",
       "      <td>0.022201</td>\n",
       "      <td>0.144020</td>\n",
       "      <td>0.034749</td>\n",
       "      <td>0.022201</td>\n",
       "    </tr>\n",
       "    <tr>\n",
       "      <th>25%</th>\n",
       "      <td>0.063521</td>\n",
       "      <td>0.251905</td>\n",
       "      <td>0.070579</td>\n",
       "      <td>0.063521</td>\n",
       "    </tr>\n",
       "    <tr>\n",
       "      <th>50%</th>\n",
       "      <td>0.093864</td>\n",
       "      <td>0.308953</td>\n",
       "      <td>0.092854</td>\n",
       "      <td>0.093864</td>\n",
       "    </tr>\n",
       "    <tr>\n",
       "      <th>75%</th>\n",
       "      <td>0.119925</td>\n",
       "      <td>0.404805</td>\n",
       "      <td>0.136100</td>\n",
       "      <td>0.119925</td>\n",
       "    </tr>\n",
       "    <tr>\n",
       "      <th>max</th>\n",
       "      <td>0.219457</td>\n",
       "      <td>0.573716</td>\n",
       "      <td>0.237162</td>\n",
       "      <td>0.219457</td>\n",
       "    </tr>\n",
       "  </tbody>\n",
       "</table>\n",
       "</div>"
      ],
      "text/plain": [
       "       act_pt_by_county  sat_pt_by_county  act_ps_by_county  sat_ps_by_county\n",
       "count         53.000000         53.000000         53.000000         53.000000\n",
       "mean           0.095160          0.327155          0.103130          0.095160\n",
       "std            0.037877          0.098269          0.047087          0.037877\n",
       "min            0.022201          0.144020          0.034749          0.022201\n",
       "25%            0.063521          0.251905          0.070579          0.063521\n",
       "50%            0.093864          0.308953          0.092854          0.093864\n",
       "75%            0.119925          0.404805          0.136100          0.119925\n",
       "max            0.219457          0.573716          0.237162          0.219457"
      ]
     },
     "execution_count": 107,
     "metadata": {},
     "output_type": "execute_result"
    }
   ],
   "source": [
    "new_df.describe()"
   ]
  },
  {
   "cell_type": "markdown",
   "metadata": {},
   "source": [
    "#### 2. Dictionary Comprehension \n",
    "Use a dictionary comprehension to apply the standard deviation function you create in part 1 to each numeric column in the dataframe. No loops.\n",
    "Assign the output to variable sd as a dictionary where:\n",
    "Each column name is now a key\n",
    "That standard deviation of the column is the value\n",
    "Example Output : {'ACT_Math': 120, 'ACT_Reading': 120, ...}"
   ]
  },
  {
   "cell_type": "code",
   "execution_count": 108,
   "metadata": {},
   "outputs": [],
   "source": [
    "list_key=[i for i in merge_19.columns if merge_19[i].dtypes=='float64']"
   ]
  },
  {
   "cell_type": "code",
   "execution_count": 109,
   "metadata": {},
   "outputs": [],
   "source": [
    "list_value=[std_dev(merge_19[i]) for i in merge_19.columns if merge_19[i].dtypes=='float64']"
   ]
  },
  {
   "cell_type": "code",
   "execution_count": 110,
   "metadata": {},
   "outputs": [
    {
     "data": {
      "text/plain": [
       "['ccode',\n",
       " 'enroll_12',\n",
       " 'num_act',\n",
       " 'num_sat_12',\n",
       " 'sat_pass_12',\n",
       " 'enroll_11',\n",
       " 'num_sat_11',\n",
       " 'sat_pass_11',\n",
       " 'act_pt_r',\n",
       " 'act_ps_r',\n",
       " 'sat_pt_r_12',\n",
       " 'sat_ps_r_12',\n",
       " 'sat_pt_r_11',\n",
       " 'sat_ps_r_11',\n",
       " 'sat_pt_r',\n",
       " 'sat_ps_r']"
      ]
     },
     "execution_count": 110,
     "metadata": {},
     "output_type": "execute_result"
    }
   ],
   "source": [
    "list_key"
   ]
  },
  {
   "cell_type": "code",
   "execution_count": 111,
   "metadata": {},
   "outputs": [
    {
     "data": {
      "text/plain": [
       "[13.84265106219726,\n",
       " 13797.948260045616,\n",
       " 2348.8566684676525,\n",
       " 4875.477364171048,\n",
       " 2181.7391838042686,\n",
       " 13383.228154881268,\n",
       " 6007.753593333157,\n",
       " 2939.2236074690895,\n",
       " 0.10269606318516919,\n",
       " 0.10024309492499187,\n",
       " 0.17530729997394107,\n",
       " 0.22196182364865288,\n",
       " 0.24868085051209557,\n",
       " 0.2560444325382372,\n",
       " 0.1820107377202127,\n",
       " 0.12635053900089652]"
      ]
     },
     "execution_count": 111,
     "metadata": {},
     "output_type": "execute_result"
    }
   ],
   "source": [
    "list_value"
   ]
  },
  {
   "cell_type": "code",
   "execution_count": 112,
   "metadata": {},
   "outputs": [],
   "source": [
    "sd=dict(zip(list_key, list_value))"
   ]
  },
  {
   "cell_type": "code",
   "execution_count": 113,
   "metadata": {},
   "outputs": [
    {
     "data": {
      "text/plain": [
       "{'ccode': 13.84265106219726,\n",
       " 'enroll_12': 13797.948260045616,\n",
       " 'num_act': 2348.8566684676525,\n",
       " 'num_sat_12': 4875.477364171048,\n",
       " 'sat_pass_12': 2181.7391838042686,\n",
       " 'enroll_11': 13383.228154881268,\n",
       " 'num_sat_11': 6007.753593333157,\n",
       " 'sat_pass_11': 2939.2236074690895,\n",
       " 'act_pt_r': 0.10269606318516919,\n",
       " 'act_ps_r': 0.10024309492499187,\n",
       " 'sat_pt_r_12': 0.17530729997394107,\n",
       " 'sat_ps_r_12': 0.22196182364865288,\n",
       " 'sat_pt_r_11': 0.24868085051209557,\n",
       " 'sat_ps_r_11': 0.2560444325382372,\n",
       " 'sat_pt_r': 0.1820107377202127,\n",
       " 'sat_ps_r': 0.12635053900089652}"
      ]
     },
     "execution_count": 113,
     "metadata": {},
     "output_type": "execute_result"
    }
   ],
   "source": [
    "sd"
   ]
  },
  {
   "cell_type": "markdown",
   "metadata": {},
   "source": [
    "#### 3. Investigate trends in the data.\n",
    "Using sorting and/or masking (along with the .head() method to avoid printing our entire dataframe), consider questions relevant to your problem statement. Some examples are provided below (but feel free to change these questions for your specific problem):\n",
    "Which states have the highest and lowest participation rates for the 2017, 2019, or 2019 SAT and ACT?\n",
    "Which states have the highest and lowest mean total/composite scores for the 2017, 2019, or 2019 SAT and ACT?\n",
    "Do any states with 100% participation on a given test have a rate change year-to-year?\n",
    "Do any states show have >50% participation on both tests each year?\n",
    "Which colleges have the highest median SAT and ACT scores for admittance?\n",
    "Which California school districts have the highest and lowest mean test scores?\n",
    "You should comment on your findings at each step in a markdown cell below your code block. Make sure you include at least one example of sorting your dataframe by a column, and one example of using boolean filtering (i.e., masking) to select a subset of the dataframe."
   ]
  },
  {
   "cell_type": "markdown",
   "metadata": {},
   "source": [
    "#### To find the counties that have the highest participation or highest pass rate for both tests."
   ]
  },
  {
   "cell_type": "code",
   "execution_count": 114,
   "metadata": {},
   "outputs": [
    {
     "data": {
      "text/html": [
       "<div>\n",
       "<style scoped>\n",
       "    .dataframe tbody tr th:only-of-type {\n",
       "        vertical-align: middle;\n",
       "    }\n",
       "\n",
       "    .dataframe tbody tr th {\n",
       "        vertical-align: top;\n",
       "    }\n",
       "\n",
       "    .dataframe thead th {\n",
       "        text-align: right;\n",
       "    }\n",
       "</style>\n",
       "<table border=\"1\" class=\"dataframe\">\n",
       "  <thead>\n",
       "    <tr style=\"text-align: right;\">\n",
       "      <th></th>\n",
       "      <th>ccode</th>\n",
       "      <th>act_pt_r</th>\n",
       "      <th>act_ps_r</th>\n",
       "      <th>sat_pt_r</th>\n",
       "      <th>sat_ps_r</th>\n",
       "    </tr>\n",
       "    <tr>\n",
       "      <th>cname</th>\n",
       "      <th></th>\n",
       "      <th></th>\n",
       "      <th></th>\n",
       "      <th></th>\n",
       "      <th></th>\n",
       "    </tr>\n",
       "  </thead>\n",
       "  <tbody>\n",
       "    <tr>\n",
       "      <th>Tehama</th>\n",
       "      <td>52.0</td>\n",
       "      <td>0.219457</td>\n",
       "      <td>0.172949</td>\n",
       "      <td>0.144020</td>\n",
       "      <td>0.094044</td>\n",
       "    </tr>\n",
       "    <tr>\n",
       "      <th>Siskiyou</th>\n",
       "      <td>47.0</td>\n",
       "      <td>0.179630</td>\n",
       "      <td>0.161903</td>\n",
       "      <td>0.302424</td>\n",
       "      <td>0.171876</td>\n",
       "    </tr>\n",
       "    <tr>\n",
       "      <th>Marin</th>\n",
       "      <td>21.0</td>\n",
       "      <td>0.151343</td>\n",
       "      <td>0.237162</td>\n",
       "      <td>0.413618</td>\n",
       "      <td>0.310608</td>\n",
       "    </tr>\n",
       "    <tr>\n",
       "      <th>Los Angeles</th>\n",
       "      <td>19.0</td>\n",
       "      <td>0.146481</td>\n",
       "      <td>0.104348</td>\n",
       "      <td>0.573716</td>\n",
       "      <td>0.215207</td>\n",
       "    </tr>\n",
       "    <tr>\n",
       "      <th>San Francisco</th>\n",
       "      <td>38.0</td>\n",
       "      <td>0.146028</td>\n",
       "      <td>0.136100</td>\n",
       "      <td>0.499078</td>\n",
       "      <td>0.280689</td>\n",
       "    </tr>\n",
       "  </tbody>\n",
       "</table>\n",
       "</div>"
      ],
      "text/plain": [
       "               ccode  act_pt_r  act_ps_r  sat_pt_r  sat_ps_r\n",
       "cname                                                       \n",
       "Tehama          52.0  0.219457  0.172949  0.144020  0.094044\n",
       "Siskiyou        47.0  0.179630  0.161903  0.302424  0.171876\n",
       "Marin           21.0  0.151343  0.237162  0.413618  0.310608\n",
       "Los Angeles     19.0  0.146481  0.104348  0.573716  0.215207\n",
       "San Francisco   38.0  0.146028  0.136100  0.499078  0.280689"
      ]
     },
     "execution_count": 114,
     "metadata": {},
     "output_type": "execute_result"
    }
   ],
   "source": [
    "agg_act_sat_19_2.groupby(['cname']).mean().sort_values(by=['act_pt_r'],ascending=False).head()"
   ]
  },
  {
   "cell_type": "markdown",
   "metadata": {},
   "source": [
    "#### Among all the 53 counties, Tehama has the highest participation rate in ACT test at about 21.9%. "
   ]
  },
  {
   "cell_type": "code",
   "execution_count": 115,
   "metadata": {},
   "outputs": [
    {
     "data": {
      "text/html": [
       "<div>\n",
       "<style scoped>\n",
       "    .dataframe tbody tr th:only-of-type {\n",
       "        vertical-align: middle;\n",
       "    }\n",
       "\n",
       "    .dataframe tbody tr th {\n",
       "        vertical-align: top;\n",
       "    }\n",
       "\n",
       "    .dataframe thead th {\n",
       "        text-align: right;\n",
       "    }\n",
       "</style>\n",
       "<table border=\"1\" class=\"dataframe\">\n",
       "  <thead>\n",
       "    <tr style=\"text-align: right;\">\n",
       "      <th></th>\n",
       "      <th>ccode</th>\n",
       "      <th>act_pt_r</th>\n",
       "      <th>act_ps_r</th>\n",
       "      <th>sat_pt_r</th>\n",
       "      <th>sat_ps_r</th>\n",
       "    </tr>\n",
       "    <tr>\n",
       "      <th>cname</th>\n",
       "      <th></th>\n",
       "      <th></th>\n",
       "      <th></th>\n",
       "      <th></th>\n",
       "      <th></th>\n",
       "    </tr>\n",
       "  </thead>\n",
       "  <tbody>\n",
       "    <tr>\n",
       "      <th>Marin</th>\n",
       "      <td>21.0</td>\n",
       "      <td>0.151343</td>\n",
       "      <td>0.237162</td>\n",
       "      <td>0.413618</td>\n",
       "      <td>0.310608</td>\n",
       "    </tr>\n",
       "    <tr>\n",
       "      <th>Placer</th>\n",
       "      <td>31.0</td>\n",
       "      <td>0.119925</td>\n",
       "      <td>0.183180</td>\n",
       "      <td>0.380682</td>\n",
       "      <td>0.285575</td>\n",
       "    </tr>\n",
       "    <tr>\n",
       "      <th>Santa Clara</th>\n",
       "      <td>43.0</td>\n",
       "      <td>0.129288</td>\n",
       "      <td>0.180205</td>\n",
       "      <td>0.509658</td>\n",
       "      <td>0.330196</td>\n",
       "    </tr>\n",
       "    <tr>\n",
       "      <th>Tehama</th>\n",
       "      <td>52.0</td>\n",
       "      <td>0.219457</td>\n",
       "      <td>0.172949</td>\n",
       "      <td>0.144020</td>\n",
       "      <td>0.094044</td>\n",
       "    </tr>\n",
       "    <tr>\n",
       "      <th>Orange</th>\n",
       "      <td>30.0</td>\n",
       "      <td>0.125153</td>\n",
       "      <td>0.171996</td>\n",
       "      <td>0.404805</td>\n",
       "      <td>0.257108</td>\n",
       "    </tr>\n",
       "  </tbody>\n",
       "</table>\n",
       "</div>"
      ],
      "text/plain": [
       "             ccode  act_pt_r  act_ps_r  sat_pt_r  sat_ps_r\n",
       "cname                                                     \n",
       "Marin         21.0  0.151343  0.237162  0.413618  0.310608\n",
       "Placer        31.0  0.119925  0.183180  0.380682  0.285575\n",
       "Santa Clara   43.0  0.129288  0.180205  0.509658  0.330196\n",
       "Tehama        52.0  0.219457  0.172949  0.144020  0.094044\n",
       "Orange        30.0  0.125153  0.171996  0.404805  0.257108"
      ]
     },
     "execution_count": 115,
     "metadata": {},
     "output_type": "execute_result"
    }
   ],
   "source": [
    "agg_act_sat_19_2.groupby(['cname']).mean().sort_values(by=['act_ps_r'],ascending=False).head()"
   ]
  },
  {
   "cell_type": "markdown",
   "metadata": {},
   "source": [
    "#### Marin has the highest pass rate in ACT test at about 23.7%."
   ]
  },
  {
   "cell_type": "code",
   "execution_count": 116,
   "metadata": {},
   "outputs": [
    {
     "data": {
      "text/html": [
       "<div>\n",
       "<style scoped>\n",
       "    .dataframe tbody tr th:only-of-type {\n",
       "        vertical-align: middle;\n",
       "    }\n",
       "\n",
       "    .dataframe tbody tr th {\n",
       "        vertical-align: top;\n",
       "    }\n",
       "\n",
       "    .dataframe thead th {\n",
       "        text-align: right;\n",
       "    }\n",
       "</style>\n",
       "<table border=\"1\" class=\"dataframe\">\n",
       "  <thead>\n",
       "    <tr style=\"text-align: right;\">\n",
       "      <th></th>\n",
       "      <th>ccode</th>\n",
       "      <th>act_pt_r</th>\n",
       "      <th>act_ps_r</th>\n",
       "      <th>sat_pt_r</th>\n",
       "      <th>sat_ps_r</th>\n",
       "    </tr>\n",
       "    <tr>\n",
       "      <th>cname</th>\n",
       "      <th></th>\n",
       "      <th></th>\n",
       "      <th></th>\n",
       "      <th></th>\n",
       "      <th></th>\n",
       "    </tr>\n",
       "  </thead>\n",
       "  <tbody>\n",
       "    <tr>\n",
       "      <th>Los Angeles</th>\n",
       "      <td>19.0</td>\n",
       "      <td>0.146481</td>\n",
       "      <td>0.104348</td>\n",
       "      <td>0.573716</td>\n",
       "      <td>0.215207</td>\n",
       "    </tr>\n",
       "    <tr>\n",
       "      <th>Santa Clara</th>\n",
       "      <td>43.0</td>\n",
       "      <td>0.129288</td>\n",
       "      <td>0.180205</td>\n",
       "      <td>0.509658</td>\n",
       "      <td>0.330196</td>\n",
       "    </tr>\n",
       "    <tr>\n",
       "      <th>San Francisco</th>\n",
       "      <td>38.0</td>\n",
       "      <td>0.146028</td>\n",
       "      <td>0.136100</td>\n",
       "      <td>0.499078</td>\n",
       "      <td>0.280689</td>\n",
       "    </tr>\n",
       "    <tr>\n",
       "      <th>San Bernardino</th>\n",
       "      <td>36.0</td>\n",
       "      <td>0.100573</td>\n",
       "      <td>0.059661</td>\n",
       "      <td>0.476320</td>\n",
       "      <td>0.170874</td>\n",
       "    </tr>\n",
       "    <tr>\n",
       "      <th>San Mateo</th>\n",
       "      <td>41.0</td>\n",
       "      <td>0.115560</td>\n",
       "      <td>0.158723</td>\n",
       "      <td>0.469081</td>\n",
       "      <td>0.301891</td>\n",
       "    </tr>\n",
       "  </tbody>\n",
       "</table>\n",
       "</div>"
      ],
      "text/plain": [
       "                ccode  act_pt_r  act_ps_r  sat_pt_r  sat_ps_r\n",
       "cname                                                        \n",
       "Los Angeles      19.0  0.146481  0.104348  0.573716  0.215207\n",
       "Santa Clara      43.0  0.129288  0.180205  0.509658  0.330196\n",
       "San Francisco    38.0  0.146028  0.136100  0.499078  0.280689\n",
       "San Bernardino   36.0  0.100573  0.059661  0.476320  0.170874\n",
       "San Mateo        41.0  0.115560  0.158723  0.469081  0.301891"
      ]
     },
     "execution_count": 116,
     "metadata": {},
     "output_type": "execute_result"
    }
   ],
   "source": [
    "agg_act_sat_19_2.groupby(['cname']).mean().sort_values(by=['sat_pt_r'],ascending=False).head()"
   ]
  },
  {
   "cell_type": "markdown",
   "metadata": {},
   "source": [
    "#### Los Angeles has the highest SAT participation rate at about 57.4%."
   ]
  },
  {
   "cell_type": "code",
   "execution_count": 117,
   "metadata": {},
   "outputs": [
    {
     "data": {
      "text/html": [
       "<div>\n",
       "<style scoped>\n",
       "    .dataframe tbody tr th:only-of-type {\n",
       "        vertical-align: middle;\n",
       "    }\n",
       "\n",
       "    .dataframe tbody tr th {\n",
       "        vertical-align: top;\n",
       "    }\n",
       "\n",
       "    .dataframe thead th {\n",
       "        text-align: right;\n",
       "    }\n",
       "</style>\n",
       "<table border=\"1\" class=\"dataframe\">\n",
       "  <thead>\n",
       "    <tr style=\"text-align: right;\">\n",
       "      <th></th>\n",
       "      <th>ccode</th>\n",
       "      <th>act_pt_r</th>\n",
       "      <th>act_ps_r</th>\n",
       "      <th>sat_pt_r</th>\n",
       "      <th>sat_ps_r</th>\n",
       "    </tr>\n",
       "    <tr>\n",
       "      <th>cname</th>\n",
       "      <th></th>\n",
       "      <th></th>\n",
       "      <th></th>\n",
       "      <th></th>\n",
       "      <th></th>\n",
       "    </tr>\n",
       "  </thead>\n",
       "  <tbody>\n",
       "    <tr>\n",
       "      <th>Santa Clara</th>\n",
       "      <td>43.0</td>\n",
       "      <td>0.129288</td>\n",
       "      <td>0.180205</td>\n",
       "      <td>0.509658</td>\n",
       "      <td>0.330196</td>\n",
       "    </tr>\n",
       "    <tr>\n",
       "      <th>Marin</th>\n",
       "      <td>21.0</td>\n",
       "      <td>0.151343</td>\n",
       "      <td>0.237162</td>\n",
       "      <td>0.413618</td>\n",
       "      <td>0.310608</td>\n",
       "    </tr>\n",
       "    <tr>\n",
       "      <th>San Mateo</th>\n",
       "      <td>41.0</td>\n",
       "      <td>0.115560</td>\n",
       "      <td>0.158723</td>\n",
       "      <td>0.469081</td>\n",
       "      <td>0.301891</td>\n",
       "    </tr>\n",
       "    <tr>\n",
       "      <th>Placer</th>\n",
       "      <td>31.0</td>\n",
       "      <td>0.119925</td>\n",
       "      <td>0.183180</td>\n",
       "      <td>0.380682</td>\n",
       "      <td>0.285575</td>\n",
       "    </tr>\n",
       "    <tr>\n",
       "      <th>San Francisco</th>\n",
       "      <td>38.0</td>\n",
       "      <td>0.146028</td>\n",
       "      <td>0.136100</td>\n",
       "      <td>0.499078</td>\n",
       "      <td>0.280689</td>\n",
       "    </tr>\n",
       "  </tbody>\n",
       "</table>\n",
       "</div>"
      ],
      "text/plain": [
       "               ccode  act_pt_r  act_ps_r  sat_pt_r  sat_ps_r\n",
       "cname                                                       \n",
       "Santa Clara     43.0  0.129288  0.180205  0.509658  0.330196\n",
       "Marin           21.0  0.151343  0.237162  0.413618  0.310608\n",
       "San Mateo       41.0  0.115560  0.158723  0.469081  0.301891\n",
       "Placer          31.0  0.119925  0.183180  0.380682  0.285575\n",
       "San Francisco   38.0  0.146028  0.136100  0.499078  0.280689"
      ]
     },
     "execution_count": 117,
     "metadata": {},
     "output_type": "execute_result"
    }
   ],
   "source": [
    "agg_act_sat_19_2.groupby(['cname']).mean().sort_values(by=['sat_ps_r'],ascending=False).head()"
   ]
  },
  {
   "cell_type": "markdown",
   "metadata": {},
   "source": [
    "#### Santa Clara has the highest SAT pass rate at 33.0%."
   ]
  },
  {
   "cell_type": "markdown",
   "metadata": {},
   "source": [
    "#### It can be seen in the .head() prints that the top three counties that have the highest average pass rate in ACT tests also show up in the top five list that have highest pass rate in SAT tests (Marin, Placer and Santa Clara). It suggests that performance in ACT may correlates to performance in SAT pass rate on the county level. "
   ]
  },
  {
   "cell_type": "markdown",
   "metadata": {},
   "source": [
    "## Visualize the Data\n",
    "\n",
    "There's not a magic bullet recommendation for the right number of plots to understand a given dataset, but visualizing your data is *always* a good idea. Not only does it allow you to quickly convey your findings (even if you have a non-technical audience), it will often reveal trends in your data that escaped you when you were looking only at numbers. It is important to not only create visualizations, but to **interpret your visualizations** as well.\n",
    "\n",
    "**Every plot should**:\n",
    "- Have a title\n",
    "- Have axis labels\n",
    "- Have appropriate tick labels\n",
    "- Text is legible in a plot\n",
    "- Plots demonstrate meaningful and valid relationships\n",
    "- Have an interpretation to aid understanding\n",
    "\n",
    "Here is an example of what your plots should look like following the above guidelines. Note that while the content of this example is unrelated, the principles of visualization hold:\n",
    "\n",
    "![](https://snag.gy/hCBR1U.jpg)\n",
    "*Interpretation: The above image shows that as we increase our spending on advertising, our sales numbers also tend to increase. There is a positive correlation between advertising spending and sales.*\n",
    "\n",
    "---\n",
    "\n",
    "Here are some prompts to get you started with visualizations. Feel free to add additional visualizations as you see fit:\n",
    "1. Use Seaborn's heatmap with pandas `.corr()` to visualize correlations between all numeric features.\n",
    "    - Heatmaps are generally not appropriate for presentations, and should often be excluded from reports as they can be visually overwhelming. **However**, they can be extremely useful in identify relationships of potential interest (as well as identifying potential collinearity before modeling).\n",
    "    - Please take time to format your output, adding a title. Look through some of the additional arguments and options. (Axis labels aren't really necessary, as long as the title is informative).\n",
    "2. Visualize distributions using histograms. If you have a lot, consider writing a custom function and use subplots.\n",
    "    - *OPTIONAL*: Summarize the underlying distributions of your features (in words & statistics)\n",
    "         - Be thorough in your verbal description of these distributions.\n",
    "         - Be sure to back up these summaries with statistics.\n",
    "         - We generally assume that data we sample from a population will be normally distributed. Do we observe this trend? Explain your answers for each distribution and how you think this will affect estimates made from these data.\n",
    "3. Plot and interpret boxplots. \n",
    "    - Boxplots demonstrate central tendency and spread in variables. In a certain sense, these are somewhat redundant with histograms, but you may be better able to identify clear outliers or differences in IQR, etc.\n",
    "    - Multiple values can be plotted to a single boxplot as long as they are of the same relative scale (meaning they have similar min/max values).\n",
    "    - Each boxplot should:\n",
    "        - Only include variables of a similar scale\n",
    "        - Have clear labels for each variable\n",
    "        - Have appropriate titles and labels\n",
    "4. Plot and interpret scatter plots to view relationships between features. Feel free to write a custom function, and subplot if you'd like. Functions save both time and space.\n",
    "    - Your plots should have:\n",
    "        - Two clearly labeled axes\n",
    "        - A proper title\n",
    "        - Colors and symbols that are clear and unmistakable\n",
    "5. Additional plots of your choosing.\n",
    "    - Are there any additional trends or relationships you haven't explored? Was there something interesting you saw that you'd like to dive further into? It's likely that there are a few more plots you might want to generate to support your narrative and recommendations that you are building toward. **As always, make sure you're interpreting your plots as you go**."
   ]
  },
  {
   "cell_type": "code",
   "execution_count": 118,
   "metadata": {},
   "outputs": [
    {
     "data": {
      "image/png": "[encoded data removed]",
      "text/plain": [
       "<Figure size 1440x1440 with 2 Axes>"
      ]
     },
     "metadata": {
      "needs_background": "light"
     },
     "output_type": "display_data"
    }
   ],
   "source": [
    "corr=merge_19.corr()\n",
    "plt.figure(figsize = (20,20))\n",
    "with sns.axes_style(\"white\"):\n",
    "    sns.heatmap(corr, square = True, annot = True, vmin = -1, vmax = 1, linewidths = .5, cmap='coolwarm')"
   ]
  },
  {
   "cell_type": "markdown",
   "metadata": {},
   "source": [
    "#### Interpretations from the heatmap\n",
    "#### The correlation factor between ACT passing rate of a school and the SAT passing rate is 0.75, this shows that there is a significant correlation between these two. \n",
    "\n",
    "#### The correlation factor between SAT passing rate of Grade 11 students of a school and the SAT passing rate of Grade 12 students of that school is 0.9, which tells strong positive correlation between the SAT performance of Grade 11 and Grade 12 students in the same school. "
   ]
  },
  {
   "cell_type": "code",
   "execution_count": 119,
   "metadata": {},
   "outputs": [],
   "source": [
    "new_df.reset_index(inplace=True)"
   ]
  },
  {
   "cell_type": "code",
   "execution_count": 120,
   "metadata": {},
   "outputs": [
    {
     "name": "stdout",
     "output_type": "stream",
     "text": [
      "<class 'pandas.core.frame.DataFrame'>\n",
      "RangeIndex: 53 entries, 0 to 52\n",
      "Data columns (total 5 columns):\n",
      " #   Column            Non-Null Count  Dtype  \n",
      "---  ------            --------------  -----  \n",
      " 0   ccode             53 non-null     float64\n",
      " 1   act_pt_by_county  53 non-null     float64\n",
      " 2   sat_pt_by_county  53 non-null     float64\n",
      " 3   act_ps_by_county  53 non-null     float64\n",
      " 4   sat_ps_by_county  53 non-null     float64\n",
      "dtypes: float64(5)\n",
      "memory usage: 2.2 KB\n"
     ]
    }
   ],
   "source": [
    "new_df.info()"
   ]
  },
  {
   "cell_type": "code",
   "execution_count": 121,
   "metadata": {},
   "outputs": [
    {
     "data": {
      "text/plain": [
       "array([0. , 0.1, 0.2, 0.3, 0.4, 0.5, 0.6, 0.7, 0.8, 0.9, 1. ])"
      ]
     },
     "execution_count": 121,
     "metadata": {},
     "output_type": "execute_result"
    }
   ],
   "source": [
    "np.linspace(0,1,11)"
   ]
  },
  {
   "cell_type": "code",
   "execution_count": 122,
   "metadata": {},
   "outputs": [
    {
     "data": {
      "image/png": "[encoded data removed]",
      "text/plain": [
       "<Figure size 576x432 with 2 Axes>"
      ]
     },
     "metadata": {
      "needs_background": "light"
     },
     "output_type": "display_data"
    }
   ],
   "source": [
    "fig,ax=plt.subplots(2,figsize=(8,6))\n",
    "agg_act_sat_19.plot.hist(column=['act_pt_r'],subplots=True,bins=np.linspace(0,1,101), ax=ax[0],density=False)\n",
    "plt.xlabel('Participation Rate')\n",
    "plt.ylabel('Number of schools')\n",
    "\n",
    "agg_act_sat_19.plot.hist(column=['act_ps_r'],subplots=True,bins=np.linspace(0,1,101), ax=ax[1],density=False)\n",
    "plt.xlabel('Pass Rate')\n",
    "plt.ylabel('Number of schools')\n",
    "\n",
    "\n",
    "ax[0].set(title='ACT Participation Rate', xlabel='Participation Rate', ylabel='Number of Schools')\n",
    "ax[1].set(title='ACT Pass Rate', xlabel='Pass Rate', ylabel='Number of Schools')\n",
    "\n",
    "plt.subplots_adjust(hspace=0.8)"
   ]
  },
  {
   "cell_type": "markdown",
   "metadata": {},
   "source": [
    "#### It can be seen from above figures that the ACT participation rate follows a asymmetric distribution with a mean at 0.117 with a long tail on the right. ACT pass rate follows a asymmetric distribution with a mean at 0.115."
   ]
  },
  {
   "cell_type": "code",
   "execution_count": 123,
   "metadata": {},
   "outputs": [
    {
     "data": {
      "image/png": "[encoded data removed]",
      "text/plain": [
       "<Figure size 576x432 with 2 Axes>"
      ]
     },
     "metadata": {
      "needs_background": "light"
     },
     "output_type": "display_data"
    }
   ],
   "source": [
    "fig,ax=plt.subplots(2,figsize=(8,6))\n",
    "agg_act_sat_19.plot.hist(column=['sat_pt_r'],subplots=True,ax=ax[0],bins=np.linspace(0,1,101), density=False, title=\"SAT_Participation_Rate\")\n",
    "plt.xlabel('Participation Rate')\n",
    "plt.ylabel('Number of schools')\n",
    "agg_act_sat_19.plot.hist(column=['sat_ps_r'],subplots=True,ax=ax[1],bins=np.linspace(0,1,101), density=False, title=\"SAT_Pass_Rate\")\n",
    "plt.xlabel('Pass Rate')\n",
    "plt.ylabel('Number of schools')\n",
    "ax[0].set(title='SAT Participation Rate', xlabel='Participation Rate', ylabel='Number of Schools')\n",
    "ax[1].set(title='SAT Pass Rate', xlabel='Pass Rate', ylabel='Number of Schools')\n",
    "plt.subplots_adjust(hspace=0.8)"
   ]
  },
  {
   "cell_type": "markdown",
   "metadata": {},
   "source": [
    "#### It can be seen from above figures that the SAT participation rate also follows a asymmetric distribution with a mean at 0.432. The ACT pass rate follows a asymmetric distribution with a mean at 0.209."
   ]
  },
  {
   "cell_type": "code",
   "execution_count": 124,
   "metadata": {},
   "outputs": [
    {
     "data": {
      "text/plain": [
       "Text(0.5, 1.0, 'Box plots for ACT Participation Rate, ACT Pass Rate, SAT Participation Rate and SAT Pass Rate')"
      ]
     },
     "execution_count": 124,
     "metadata": {},
     "output_type": "execute_result"
    },
    {
     "data": {
      "image/png": "[encoded data removed]",
      "text/plain": [
       "<Figure size 432x288 with 1 Axes>"
      ]
     },
     "metadata": {
      "needs_background": "light"
     },
     "output_type": "display_data"
    }
   ],
   "source": [
    "agg_act_sat_19.boxplot(column=['act_pt_r','act_ps_r','sat_pt_r','sat_ps_r'],grid=True)\n",
    "plt.ylabel('Participation Rate / Pass Rate')\n",
    "plt.title('Box plots for ACT Participation Rate, ACT Pass Rate, SAT Participation Rate and SAT Pass Rate')"
   ]
  },
  {
   "cell_type": "markdown",
   "metadata": {},
   "source": [
    "#### The boxplots show the mean, max, min, 25%, 75% values of the four plotted features. We can see the outliers are on those higher ends as they all follow a distribution with a long tail on the higher value side. "
   ]
  },
  {
   "cell_type": "code",
   "execution_count": 125,
   "metadata": {},
   "outputs": [
    {
     "name": "stderr",
     "output_type": "stream",
     "text": [
      "C:\\Users\\Cathy\\anaconda3\\lib\\site-packages\\seaborn\\_decorators.py:36: FutureWarning: Pass the following variables as keyword args: x, y. From version 0.12, the only valid positional argument will be `data`, and passing other arguments without an explicit keyword will result in an error or misinterpretation.\n",
      "  warnings.warn(\n"
     ]
    },
    {
     "data": {
      "text/plain": [
       "Text(0.5, 0, 'ACT Pass Rate')"
      ]
     },
     "execution_count": 125,
     "metadata": {},
     "output_type": "execute_result"
    },
    {
     "data": {
      "image/png": "[encoded data removed]",
      "text/plain": [
       "<Figure size 432x288 with 1 Axes>"
      ]
     },
     "metadata": {
      "needs_background": "light"
     },
     "output_type": "display_data"
    }
   ],
   "source": [
    "#scatterplot with regression line between ACT and SAT pass rate of the same school.\n",
    "sns.regplot(agg_act_sat_19['act_ps_r'], agg_act_sat_19['sat_ps_r'], ci=None, line_kws={\"color\": \"red\"}).set(title='Correlation between SAT and ACT pass rate of the same school')\n",
    "plt.xlabel('ACT Pass Rate')\n",
    "#plt.ylabel('SAT Pass Rate')"
   ]
  },
  {
   "cell_type": "markdown",
   "metadata": {},
   "source": [
    "#### The scatterplot above shows there is positive correlation between SAT and ACT Pass Rate on a school level, which means a school that performs well in one test have a tendency to perform well in the other too. "
   ]
  },
  {
   "cell_type": "code",
   "execution_count": 126,
   "metadata": {},
   "outputs": [
    {
     "name": "stderr",
     "output_type": "stream",
     "text": [
      "C:\\Users\\Cathy\\anaconda3\\lib\\site-packages\\seaborn\\_decorators.py:36: FutureWarning: Pass the following variables as keyword args: x, y. From version 0.12, the only valid positional argument will be `data`, and passing other arguments without an explicit keyword will result in an error or misinterpretation.\n",
      "  warnings.warn(\n"
     ]
    },
    {
     "data": {
      "text/plain": [
       "Text(0.5, 0, 'SAT Pass Rate Grade 11')"
      ]
     },
     "execution_count": 126,
     "metadata": {},
     "output_type": "execute_result"
    },
    {
     "data": {
      "image/png": "[encoded data removed]",
      "text/plain": [
       "<Figure size 432x288 with 1 Axes>"
      ]
     },
     "metadata": {
      "needs_background": "light"
     },
     "output_type": "display_data"
    }
   ],
   "source": [
    "#scatterplot with regression line between SAT pass rate of Grade 11 and 12 students from the same school.\n",
    "sns.regplot(merge_19['sat_ps_r_11'], merge_19['sat_ps_r_12'], line_kws={\"color\": \"red\"}).set(title='Correlation between SAT pass rate between Grade 11 and 12 of the same school')\n",
    "plt.xlabel('SAT Pass Rate Grade 11')\n",
    "#plt.ylabel('SAT Pass Rate Grade 12')"
   ]
  },
  {
   "cell_type": "markdown",
   "metadata": {},
   "source": [
    "#### The scatter plot above shows there is a positive correlation between performance in SAT test by students from Grade 11 and Grade 12 from the same school. "
   ]
  },
  {
   "cell_type": "code",
   "execution_count": 127,
   "metadata": {},
   "outputs": [
    {
     "data": {
      "text/html": [
       "<div>\n",
       "<style scoped>\n",
       "    .dataframe tbody tr th:only-of-type {\n",
       "        vertical-align: middle;\n",
       "    }\n",
       "\n",
       "    .dataframe tbody tr th {\n",
       "        vertical-align: top;\n",
       "    }\n",
       "\n",
       "    .dataframe thead th {\n",
       "        text-align: right;\n",
       "    }\n",
       "</style>\n",
       "<table border=\"1\" class=\"dataframe\">\n",
       "  <thead>\n",
       "    <tr style=\"text-align: right;\">\n",
       "      <th></th>\n",
       "      <th>ccode</th>\n",
       "      <th>act_pt_by_county</th>\n",
       "      <th>sat_pt_by_county</th>\n",
       "      <th>act_ps_by_county</th>\n",
       "      <th>sat_ps_by_county</th>\n",
       "    </tr>\n",
       "  </thead>\n",
       "  <tbody>\n",
       "    <tr>\n",
       "      <th>47</th>\n",
       "      <td>52.0</td>\n",
       "      <td>0.219457</td>\n",
       "      <td>0.144020</td>\n",
       "      <td>0.172949</td>\n",
       "      <td>0.219457</td>\n",
       "    </tr>\n",
       "    <tr>\n",
       "      <th>42</th>\n",
       "      <td>47.0</td>\n",
       "      <td>0.179630</td>\n",
       "      <td>0.302424</td>\n",
       "      <td>0.161903</td>\n",
       "      <td>0.179630</td>\n",
       "    </tr>\n",
       "    <tr>\n",
       "      <th>19</th>\n",
       "      <td>21.0</td>\n",
       "      <td>0.151343</td>\n",
       "      <td>0.413618</td>\n",
       "      <td>0.237162</td>\n",
       "      <td>0.151343</td>\n",
       "    </tr>\n",
       "    <tr>\n",
       "      <th>17</th>\n",
       "      <td>19.0</td>\n",
       "      <td>0.146481</td>\n",
       "      <td>0.573716</td>\n",
       "      <td>0.104348</td>\n",
       "      <td>0.146481</td>\n",
       "    </tr>\n",
       "    <tr>\n",
       "      <th>34</th>\n",
       "      <td>38.0</td>\n",
       "      <td>0.146028</td>\n",
       "      <td>0.499078</td>\n",
       "      <td>0.136100</td>\n",
       "      <td>0.146028</td>\n",
       "    </tr>\n",
       "  </tbody>\n",
       "</table>\n",
       "</div>"
      ],
      "text/plain": [
       "    ccode  act_pt_by_county  sat_pt_by_county  act_ps_by_county  \\\n",
       "47   52.0          0.219457          0.144020          0.172949   \n",
       "42   47.0          0.179630          0.302424          0.161903   \n",
       "19   21.0          0.151343          0.413618          0.237162   \n",
       "17   19.0          0.146481          0.573716          0.104348   \n",
       "34   38.0          0.146028          0.499078          0.136100   \n",
       "\n",
       "    sat_ps_by_county  \n",
       "47          0.219457  \n",
       "42          0.179630  \n",
       "19          0.151343  \n",
       "17          0.146481  \n",
       "34          0.146028  "
      ]
     },
     "execution_count": 127,
     "metadata": {},
     "output_type": "execute_result"
    }
   ],
   "source": [
    "new_df.sort_values(by=['act_pt_by_county'],ascending=False).head()"
   ]
  },
  {
   "cell_type": "code",
   "execution_count": 128,
   "metadata": {},
   "outputs": [
    {
     "data": {
      "text/html": [
       "<div>\n",
       "<style scoped>\n",
       "    .dataframe tbody tr th:only-of-type {\n",
       "        vertical-align: middle;\n",
       "    }\n",
       "\n",
       "    .dataframe tbody tr th {\n",
       "        vertical-align: top;\n",
       "    }\n",
       "\n",
       "    .dataframe thead th {\n",
       "        text-align: right;\n",
       "    }\n",
       "</style>\n",
       "<table border=\"1\" class=\"dataframe\">\n",
       "  <thead>\n",
       "    <tr style=\"text-align: right;\">\n",
       "      <th></th>\n",
       "      <th>ccode</th>\n",
       "      <th>act_pt_by_county</th>\n",
       "      <th>sat_pt_by_county</th>\n",
       "      <th>act_ps_by_county</th>\n",
       "      <th>sat_ps_by_county</th>\n",
       "    </tr>\n",
       "  </thead>\n",
       "  <tbody>\n",
       "    <tr>\n",
       "      <th>26</th>\n",
       "      <td>29.0</td>\n",
       "      <td>0.049857</td>\n",
       "      <td>0.226233</td>\n",
       "      <td>0.073186</td>\n",
       "      <td>0.049857</td>\n",
       "    </tr>\n",
       "    <tr>\n",
       "      <th>3</th>\n",
       "      <td>4.0</td>\n",
       "      <td>0.048882</td>\n",
       "      <td>0.263922</td>\n",
       "      <td>0.062427</td>\n",
       "      <td>0.048882</td>\n",
       "    </tr>\n",
       "    <tr>\n",
       "      <th>52</th>\n",
       "      <td>58.0</td>\n",
       "      <td>0.047287</td>\n",
       "      <td>0.219211</td>\n",
       "      <td>0.043782</td>\n",
       "      <td>0.047287</td>\n",
       "    </tr>\n",
       "    <tr>\n",
       "      <th>4</th>\n",
       "      <td>5.0</td>\n",
       "      <td>0.042871</td>\n",
       "      <td>0.247353</td>\n",
       "      <td>0.072866</td>\n",
       "      <td>0.042871</td>\n",
       "    </tr>\n",
       "    <tr>\n",
       "      <th>49</th>\n",
       "      <td>55.0</td>\n",
       "      <td>0.022201</td>\n",
       "      <td>0.146390</td>\n",
       "      <td>0.034749</td>\n",
       "      <td>0.022201</td>\n",
       "    </tr>\n",
       "  </tbody>\n",
       "</table>\n",
       "</div>"
      ],
      "text/plain": [
       "    ccode  act_pt_by_county  sat_pt_by_county  act_ps_by_county  \\\n",
       "26   29.0          0.049857          0.226233          0.073186   \n",
       "3     4.0          0.048882          0.263922          0.062427   \n",
       "52   58.0          0.047287          0.219211          0.043782   \n",
       "4     5.0          0.042871          0.247353          0.072866   \n",
       "49   55.0          0.022201          0.146390          0.034749   \n",
       "\n",
       "    sat_ps_by_county  \n",
       "26          0.049857  \n",
       "3           0.048882  \n",
       "52          0.047287  \n",
       "4           0.042871  \n",
       "49          0.022201  "
      ]
     },
     "execution_count": 128,
     "metadata": {},
     "output_type": "execute_result"
    }
   ],
   "source": [
    "new_df.sort_values(by=['act_pt_by_county'],ascending=False).tail()"
   ]
  },
  {
   "cell_type": "code",
   "execution_count": 129,
   "metadata": {},
   "outputs": [
    {
     "name": "stderr",
     "output_type": "stream",
     "text": [
      "C:\\Users\\Cathy\\anaconda3\\lib\\site-packages\\seaborn\\_decorators.py:36: FutureWarning: Pass the following variables as keyword args: x, y. From version 0.12, the only valid positional argument will be `data`, and passing other arguments without an explicit keyword will result in an error or misinterpretation.\n",
      "  warnings.warn(\n"
     ]
    },
    {
     "data": {
      "text/plain": [
       "Text(0.5, 1.0, 'SAT vs ACT Pass Rate at County Level')"
      ]
     },
     "execution_count": 129,
     "metadata": {},
     "output_type": "execute_result"
    },
    {
     "data": {
      "image/png": "[encoded data removed]",
      "text/plain": [
       "<Figure size 432x288 with 1 Axes>"
      ]
     },
     "metadata": {
      "needs_background": "light"
     },
     "output_type": "display_data"
    }
   ],
   "source": [
    "sns.regplot(new_df['act_ps_by_county'],new_df['sat_ps_by_county'], line_kws={\"color\": \"red\"}).set(title='Correlation between SAT pass rate between Grade 11 and 12 of the same school')\n",
    "plt.xlabel('ACT Pass Rate by County')\n",
    "plt.title('SAT vs ACT Pass Rate at County Level')\n",
    "#plt.ylabel('SAT Pass Rate by County')"
   ]
  },
  {
   "cell_type": "markdown",
   "metadata": {},
   "source": [
    "#### The scatter plot above shows that there is a positive correlation between SAT and ACT pass rate on a county level too. "
   ]
  },
  {
   "cell_type": "markdown",
   "metadata": {},
   "source": [
    "## Conclusions and Recommendations"
   ]
  },
  {
   "cell_type": "markdown",
   "metadata": {},
   "source": [
    "#### From the EDA and visualization sections, the conclusions we can make are: \n",
    "\n",
    "* On a school level, there is positive correlation between the ACT and SAT pass rate;\n",
    "* Also on a school level, there is positive correlation between SAT pass rate by Grade 11 test takers and Grade 12 test takers;\n",
    "* On a county level, there is also a positive correlation between ACT and SAT pass rates. \n",
    "\n",
    "#### Recommendations based on these findings:\n",
    "For those parents concerned about looking for a district/city in California of which the environment might enhance their kids' learning experience and likehood to perform well in SAT or ACT tests in the future, they could choose to settle in  counties like Marin, Placer and Santa Clara."
   ]
  }
 ],
 "metadata": {
  "anaconda-cloud": {},
  "kernelspec": {
   "display_name": "Python 3 (ipykernel)",
   "language": "python",
   "name": "python3"
  },
  "language_info": {
   "codemirror_mode": {
    "name": "ipython",
    "version": 3
   },
   "file_extension": ".py",
   "mimetype": "text/x-python",
   "name": "python",
   "nbconvert_exporter": "python",
   "pygments_lexer": "ipython3",
   "version": "3.9.12"
  }
 },
 "nbformat": 4,
 "nbformat_minor": 4
}
