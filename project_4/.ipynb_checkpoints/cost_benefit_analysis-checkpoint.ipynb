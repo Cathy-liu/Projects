{
 "cells": [
  {
   "cell_type": "markdown",
   "id": "e9bc8926-4989-42e4-b663-e605b433908c",
   "metadata": {},
   "source": [
    "### Project 4 supplementary codes (Cost-analysis)"
   ]
  },
  {
   "cell_type": "code",
   "execution_count": 1,
   "id": "1b7d8788-67ac-4cb8-b126-6d5d533c6f2a",
   "metadata": {},
   "outputs": [],
   "source": [
    "import numpy as np\n",
    "import pandas as pd\n",
    "from sklearn.model_selection import train_test_split\n",
    "from sklearn.metrics import classification_report, confusion_matrix\n",
    "import matplotlib.pyplot as plt\n",
    "import seaborn as sns\n",
    "import csv\n",
    "import datetime\n",
    "#from datetime import datetime\n",
    "from datetime import datetime,timedelta\n",
    "\n",
    "from sklearn.linear_model import LogisticRegression\n",
    "from sklearn.model_selection import train_test_split\n",
    "from sklearn.metrics import roc_auc_score\n",
    "from sklearn.metrics import f1_score\n",
    "import math"
   ]
  },
  {
   "cell_type": "code",
   "execution_count": 2,
   "id": "aa01e0b2-d375-4f2a-b0dc-8363e4d539a5",
   "metadata": {},
   "outputs": [],
   "source": [
    "spray_df = pd.read_csv(\"spray.csv\")\n",
    "sampleSubmission_df = pd.read_csv(\"sampleSubmission.csv\")\n",
    "train_df = pd.read_csv(\"train.csv\")\n",
    "test_df = pd.read_csv(\"test.csv\")\n",
    "weather_df = pd.read_csv(\"weather.csv\")"
   ]
  },
  {
   "cell_type": "code",
   "execution_count": 3,
   "id": "a5b6cfdc-934d-4521-af15-05222aee52a4",
   "metadata": {},
   "outputs": [
    {
     "data": {
      "text/plain": [
       "Date                      9693\n",
       "Address                   9693\n",
       "Species                   9693\n",
       "Block                     9693\n",
       "Street                    9693\n",
       "Trap                      9693\n",
       "AddressNumberAndStreet    9693\n",
       "Latitude                  9693\n",
       "Longitude                 9693\n",
       "AddressAccuracy           9693\n",
       "NumMosquitos              9693\n",
       "WnvPresent                9693\n",
       "dtype: int64"
      ]
     },
     "execution_count": 3,
     "metadata": {},
     "output_type": "execute_result"
    }
   ],
   "source": [
    "#drop duplicates\n",
    "train_df.drop_duplicates().count()"
   ]
  },
  {
   "cell_type": "code",
   "execution_count": 4,
   "id": "aae4287d-b8a8-48ad-af51-e309895394f8",
   "metadata": {},
   "outputs": [
    {
     "data": {
      "text/plain": [
       "Date         14294\n",
       "Time         13710\n",
       "Latitude     14294\n",
       "Longitude    14294\n",
       "dtype: int64"
      ]
     },
     "execution_count": 4,
     "metadata": {},
     "output_type": "execute_result"
    }
   ],
   "source": [
    "spray_df.drop_duplicates().count()"
   ]
  },
  {
   "cell_type": "code",
   "execution_count": 5,
   "id": "4b2b3276-d5c1-41d9-8b36-773dbf389af0",
   "metadata": {},
   "outputs": [],
   "source": [
    "def date(str):\n",
    "    return datetime.strptime(str, \"%Y-%m-%d\").date()"
   ]
  },
  {
   "cell_type": "code",
   "execution_count": 6,
   "id": "8204ae91-e873-4c2b-9dc6-074edc283ff2",
   "metadata": {},
   "outputs": [],
   "source": [
    "# function to convert non-numeric values in the 'PrecipTotal' column\n",
    "def convert(str):\n",
    "    #assign a small value to 'T' as precipitation is traceable but to small to measure\n",
    "    TRACE = 1e-3\n",
    "    str = str.strip()\n",
    "    if str == \"M\":\n",
    "        return None\n",
    "    if str == \"-\":\n",
    "        return None\n",
    "    if str == \"T\":\n",
    "        return TRACE\n",
    "    return float(str)"
   ]
  },
  {
   "cell_type": "code",
   "execution_count": 7,
   "id": "d407eb46-4ff0-43a4-8691-263935c98ae9",
   "metadata": {},
   "outputs": [],
   "source": [
    "# map species to 6-digit numbers\n",
    "species_map = {\n",
    "    'CULEX RESTUANS' : \"100000\",\n",
    "    'CULEX TERRITANS' : \"010000\", \n",
    "    'CULEX PIPIENS'   : \"001000\", \n",
    "    'CULEX PIPIENS/RESTUANS' : \"101000\", \n",
    "    'CULEX ERRATICUS' : \"000100\", \n",
    "    'CULEX SALINARIUS': \"000010\", \n",
    "    'CULEX TARSALIS' :  \"000001\",\n",
    "    'UNSPECIFIED CULEX': \"000000\"\n",
    "}"
   ]
  },
  {
   "cell_type": "markdown",
   "id": "122cf3ce-ad57-4ae3-b5ae-d3ebfa8ec0c9",
   "metadata": {},
   "source": [
    "Station 1: CHICAGO O'HARE INTERNATIONAL AIRPORT Lat: 41.995 Lon: -87.933 Elev: 662 ft. above sea level\n",
    "\n",
    "Station 2: CHICAGO MIDWAY INTL ARPT Lat: 41.786 Lon: -87.752 Elev: 612 ft. above sea level"
   ]
  },
  {
   "cell_type": "code",
   "execution_count": 8,
   "id": "2ab36f84-1fe3-4903-8ae3-d420f66382ae",
   "metadata": {},
   "outputs": [],
   "source": [
    "#function to return the nearer station based on the smaller distance\n",
    "def closest_station(lat, longi):\n",
    "    stations = np.array([[41.995, -87.933],\n",
    "                         [41.786, -87.752]])\n",
    "    loc = np.array([lat, longi])\n",
    "    deltas = stations - loc[None, :]\n",
    "    dist2 = (deltas**2).sum(1)\n",
    "    return np.argmin(dist2)"
   ]
  },
  {
   "cell_type": "code",
   "execution_count": 9,
   "id": "43abba2b-89c4-45a7-927c-9995a18a3cd0",
   "metadata": {},
   "outputs": [],
   "source": [
    "def standardize(X, mean=None, std=None):\n",
    "    count = X.shape[1]\n",
    "    if mean is None:\n",
    "        mean = np.nanmean(X, axis=0)\n",
    "    for i in range(count):\n",
    "        X[np.isnan(X[:,i]), i] = mean[i]\n",
    "    if std is None:\n",
    "        std = np.std(X, axis=0)\n",
    "    for i in range(count):\n",
    "        X[:,i] = (X[:,i] - mean[i]) / std[i]\n",
    "    return mean, std"
   ]
  },
  {
   "cell_type": "code",
   "execution_count": 10,
   "id": "53daf5f8-9292-4182-94a4-11d0c03d292b",
   "metadata": {},
   "outputs": [],
   "source": [
    "# specify which columns need to convert to float and which columns need the 'convert' function defined before\n",
    "WEATHER_CONVERT = {\n",
    "    \"Date\" : date,\n",
    "    \"Tmax\" : float,\n",
    "    \"Tmin\" : float,\n",
    "    \"Tavg\" : float,\n",
    "    \"DewPoint\" : float, \n",
    "    \"WetBulb\" : float,\n",
    "    \"PrecipTotal\" : convert,\n",
    "    \"Sunrise\" : convert,\n",
    "    \"Sunset\" : convert,\n",
    "    \"Depart\" : float, \n",
    "    \"Heat\" : convert,\n",
    "    \"Cool\" : convert,\n",
    "    \"ResultSpeed\" : float,\n",
    "    \"ResultDir\" : float,\n",
    "    \"AvgSpeed\" : float,\n",
    "    \"StnPressure\" : float, \n",
    "    \"SeaLevel\" : float\n",
    "}"
   ]
  },
  {
   "cell_type": "code",
   "execution_count": 11,
   "id": "60dd50d5-bf51-46e7-9adf-76abde9a9907",
   "metadata": {},
   "outputs": [],
   "source": [
    "#function to impute for missing values based on station and date\n",
    "def impute_missing_weather_station_values(weather):\n",
    "    for dt, station in weather.items(): #weather is a dictionary primary key being date, its value is a list of 2 dictionaries of station 0 and station 1 respectively.\n",
    "        if station[0] is None:\n",
    "            station[0] = station[1]\n",
    "        elif station[1] is None:\n",
    "            station[1] = station[0]\n",
    "        for d in station[0]:\n",
    "            if station[0][d] is None:\n",
    "                station[0][d] = station[1][d]\n",
    "        for d in station[1]:\n",
    "            if station[1][d] is None:\n",
    "                station[1][d] = station[0][d]"
   ]
  },
  {
   "cell_type": "code",
   "execution_count": 12,
   "id": "d8f7a9be-0536-42d9-a035-c4e86cebaabf",
   "metadata": {},
   "outputs": [],
   "source": [
    "#impute missing values based on station and date information in weather dataset\n",
    "weather={}\n",
    "for line in csv.DictReader(open(\"weather.csv\")): #read rows into a dictionary from the weather.csv\n",
    "    for name, datatype in WEATHER_CONVERT.items(): #iterate through key-value pairs in WEATHER_CONVERT dictionary\n",
    "        x=line[name].strip() #use name as key, get the corresponding value in the row\n",
    "        line[name]=datatype(x) if (x!='M') else None #convert the value to float, or invoke the convert function on it\n",
    "    station=int(line['Station'])-1 # encode stations to 0 and 1\n",
    "    dt=line['Date']\n",
    "    if dt not in weather:\n",
    "        weather[dt]=[None,None]\n",
    "    weather[dt][station]=line #weather is a dictionary with first-order key being date, second-order key being station (0/1)\n",
    "impute_missing_weather_station_values(weather)"
   ]
  },
  {
   "cell_type": "code",
   "execution_count": 13,
   "id": "06389efe-4a91-4896-892a-c5815307065f",
   "metadata": {},
   "outputs": [],
   "source": [
    "# dictionary of feature that need conversion of datatypes in the training dataset \n",
    "TRAINING_CONVERT = {\n",
    "    \"Date\" : date, \n",
    "    \"Latitude\" : float, \n",
    "    \"Longitude\" : float,\n",
    "    \"NumMosquitos\" : int, \n",
    "    \"WnvPresent\" : int\n",
    "}"
   ]
  },
  {
   "cell_type": "code",
   "execution_count": 14,
   "id": "7fef57ca-cf77-4f91-ab86-4f8a18a14bba",
   "metadata": {},
   "outputs": [],
   "source": [
    "training=[]\n",
    "for line in csv.DictReader(open('train.csv')):\n",
    "    for name, datatype in TRAINING_CONVERT.items():\n",
    "        line[name]=datatype(line[name]) # convert the features to datatypes specified in TRAINING_CONVERT dictionary \n",
    "    training.append(line) "
   ]
  },
  {
   "cell_type": "code",
   "execution_count": 15,
   "id": "663c0094-f166-488b-a07e-bd6b1fc99475",
   "metadata": {},
   "outputs": [],
   "source": [
    "# Convert for test.csv likewise\n",
    "TESTING_CONVERT={\n",
    "    'Date':date,\n",
    "    'Latitude':float,\n",
    "    'Longitude':float\n",
    "}\n",
    "testing=[]\n",
    "for line in csv.DictReader(open('test.csv')):\n",
    "    for name, datatype in TESTING_CONVERT.items():\n",
    "        line[name]=datatype(line[name])\n",
    "    testing.append(line)"
   ]
  },
  {
   "cell_type": "code",
   "execution_count": 16,
   "id": "e626e44a-237f-42af-b164-5171ef701a21",
   "metadata": {},
   "outputs": [],
   "source": [
    "LOOKBACK=14 # max days of lag \n",
    "WEATHER_FEATURES=[\"Tmax\",\"Tmin\",\"Tavg\",\"DewPoint\",\"WetBulb\",\"PrecipTotal\",\"Depart\",\"Sunrise\",\"Sunset\",\"Cool\",\"ResultSpeed\",\"ResultDir\"]\n",
    "USE_SCALED_COUNT=False\n",
    "#DATA_FACTOR=int(wnv[0]/wnv[1])\n",
    "USE_DATA_FACTOR=False "
   ]
  },
  {
   "cell_type": "code",
   "execution_count": 17,
   "id": "62b62c9e-d257-4bf6-9bda-39d619db8fb1",
   "metadata": {},
   "outputs": [],
   "source": [
    "def extract_hour(str):\n",
    "    \n",
    "    return datetime.strptime(str,'%I:%M:%S %p').time().hour"
   ]
  },
  {
   "cell_type": "code",
   "execution_count": 18,
   "id": "3d6e5aee-985f-4411-bc59-c608c60f61d8",
   "metadata": {},
   "outputs": [],
   "source": [
    "SPRAY_CONVERT = {\n",
    "    \"Date\" : date,\n",
    "    \"Time\":extract_hour\n",
    "}"
   ]
  },
  {
   "cell_type": "code",
   "execution_count": 19,
   "id": "f8dec002-9a1a-4ae0-ad1f-af32e46bb4bc",
   "metadata": {},
   "outputs": [],
   "source": [
    "# create a dictionary with dates as key, the sub dictionary contains number of sprays for that day and a list of hours of sprays for that day\n",
    "spray={}\n",
    "for line in csv.DictReader(open('spray.csv')):\n",
    "    x=line['Date'].strip()\n",
    "    line['Date']=datetime.strptime(x, '%Y-%m-%d').date() if (x!='M') else None\n",
    "    t=line['Time'].strip()\n",
    "    if (t!='NA'):\n",
    "        t=extract_hour(t)\n",
    "    else: \n",
    "        pass\n",
    "    dt=line['Date']\n",
    "    if dt not in spray:\n",
    "        #spray[dt]={'count':1,'hour':[t]}\n",
    "        spray[dt]=1\n",
    "    if dt in spray:\n",
    "        spray[dt]+=1\n",
    "        #spray[dt]['hour'].append(t)"
   ]
  },
  {
   "cell_type": "markdown",
   "id": "8ec64baa-bcdc-4c58-b125-7cfd420912e0",
   "metadata": {},
   "source": [
    "### Assemble rows combining data from train, weather and spray data"
   ]
  },
  {
   "cell_type": "code",
   "execution_count": 20,
   "id": "147d4321-c7ee-46fc-97a9-b6ed78c57572",
   "metadata": {},
   "outputs": [],
   "source": [
    "# extract useful info from training and weather \n",
    "def get_X(base,weather,spray): # base will be training\n",
    "    X=[]\n",
    "    \n",
    "    for b in base: # b is a row in training \n",
    "        date=b['Date']\n",
    "        lat,longi=b['Latitude'],b['Longitude']\n",
    "        case=[date.year,date.month,date.day,date.weekday(),lat,longi] # create a list to store useful info from the row\n",
    "        \n",
    "        for days_ago in range(LOOKBACK+1): #days_ago iterate from 0 to 10\n",
    "            day = date - timedelta(days=days_ago) # back up to 10 days\n",
    "            for obs in WEATHER_FEATURES:\n",
    "                case.append(weather[day][station][obs]) # append all 12 weather features of one particular day, for that day and previous 14 days, so in total 132 weather values \n",
    "        \n",
    "        species_vector = [float(x) for x in species_map[b[\"Species\"]]] # convert the 6-digit species code to 6 dimensions in a vector\n",
    "        case.extend(species_vector) #species_vector is a vector of length 6\n",
    "        \n",
    "        for days_ago in range(LOOKBACK+1):\n",
    "            day=date-timedelta(days=days_ago)\n",
    "    \n",
    "            if day in spray.keys():\n",
    "                case.append(spray[day]) #append number of sprays for a day, for that day and previous 14 days, in total 15 columns\n",
    "            else:\n",
    "                case.append(0)\n",
    "        if USE_DATA_FACTOR and \"WnvPresent\" in b and b[\"WnvPresent\"]==1: \n",
    "            for _ in range(DATA_FACTOR):\n",
    "                X.append(case)\n",
    "        elif USE_SCALED_COUNT :\n",
    "            for repeat in range(scaled_count(b)):\n",
    "                X.append(case)\n",
    "        else : \n",
    "            X.append(case)\n",
    "    X = np.asarray(X, dtype=np.float32)\n",
    "    return X   "
   ]
  },
  {
   "cell_type": "code",
   "execution_count": 21,
   "id": "8712a77f-5ddd-4819-bef4-98c6f4634a5c",
   "metadata": {},
   "outputs": [],
   "source": [
    "# define feature name column for X\n",
    "feature_list=[]\n",
    "feature_list.extend(['year','month','day','weekday','lat','longi'])\n",
    "for days_ago in range(LOOKBACK+1):\n",
    "    for item in WEATHER_FEATURES:\n",
    "        feature_list.append(item+'_lag_'+str(days_ago))\n",
    "    feature_list.append('no_of_sprays'+str(days_ago))\n",
    "for digit in range(6):\n",
    "    feature_list.append('species_digit_'+str(digit))"
   ]
  },
  {
   "cell_type": "code",
   "execution_count": 22,
   "id": "e10beb55-852a-4db8-b5ae-0fb16e0ac359",
   "metadata": {},
   "outputs": [
    {
     "data": {
      "text/plain": [
       "array(['2011-08-29', '2011-09-07', '2013-07-17', '2013-07-25',\n",
       "       '2013-08-08', '2013-08-15', '2013-08-16', '2013-08-22',\n",
       "       '2013-08-29', '2013-09-05'], dtype=object)"
      ]
     },
     "execution_count": 22,
     "metadata": {},
     "output_type": "execute_result"
    }
   ],
   "source": [
    "spray_df.Date.unique()"
   ]
  },
  {
   "cell_type": "code",
   "execution_count": 23,
   "id": "d37f602c-277a-4598-aaa1-aa019dddfd1d",
   "metadata": {},
   "outputs": [],
   "source": [
    "# target variable\n",
    "def get_Y(base):\n",
    "    y=[]\n",
    "    for b in base: # a row in training\n",
    "        #print(b)\n",
    "        #print('--')\n",
    "        present=b['WnvPresent']\n",
    "        #print('present',present)\n",
    "        #print('--')\n",
    "        #print('use_data_factor',USE_DATA_FACTOR)\n",
    "        if USE_DATA_FACTOR and 'WnvPresent' in b and b['WnvPresent']==1:\n",
    "            #print('--')\n",
    "            #print('if 1')\n",
    "            for _ in range(DATA_FACTOR): # augment the minority class by a factor of ratio between majority class vs minority class\n",
    "                #print(_)\n",
    "                y.append(present)\n",
    "        elif USE_SCALED_COUNT:\n",
    "            #print(USE_SCALED_COUNT)\n",
    "            print('elif 2')\n",
    "            for repeat in range(scaled_count(b)):\n",
    "                \n",
    "                print(repeat)\n",
    "                y.append(present)\n",
    "        else:\n",
    "            #print('else 3')\n",
    "            y.append(present)\n",
    "    return np.asarray(y,dtype=np.int32).reshape(-1,1) #to reshape y to an array of single value arrays to match X (array of multi-feature arrays)"
   ]
  },
  {
   "cell_type": "code",
   "execution_count": 24,
   "id": "42c2339a-d360-42dd-9734-09d5ec806088",
   "metadata": {},
   "outputs": [],
   "source": [
    "y=get_Y(training)"
   ]
  },
  {
   "cell_type": "code",
   "execution_count": 25,
   "id": "77ef4bce-6c8d-49cb-bcb3-694191294c04",
   "metadata": {},
   "outputs": [],
   "source": [
    "X=get_X(training,weather,spray)"
   ]
  },
  {
   "cell_type": "code",
   "execution_count": 26,
   "id": "e7be3b72-9008-458e-9e14-47c47141a8e4",
   "metadata": {},
   "outputs": [
    {
     "data": {
      "text/plain": [
       "(10506, 207)"
      ]
     },
     "execution_count": 26,
     "metadata": {},
     "output_type": "execute_result"
    }
   ],
   "source": [
    "X.shape"
   ]
  },
  {
   "cell_type": "code",
   "execution_count": 27,
   "id": "efea714e-4121-47d5-a68b-f8db56ffba36",
   "metadata": {},
   "outputs": [
    {
     "data": {
      "text/plain": [
       "(10506, 1)"
      ]
     },
     "execution_count": 27,
     "metadata": {},
     "output_type": "execute_result"
    }
   ],
   "source": [
    "y.shape"
   ]
  },
  {
   "cell_type": "markdown",
   "id": "697be34f-2f19-462e-9a2d-f1b7b88e46d8",
   "metadata": {
    "tags": []
   },
   "source": [
    "### Modeling "
   ]
  },
  {
   "cell_type": "code",
   "execution_count": 28,
   "id": "23c19360-ab32-474a-847f-aa8625061deb",
   "metadata": {},
   "outputs": [],
   "source": [
    "from sklearn.preprocessing import StandardScaler"
   ]
  },
  {
   "cell_type": "code",
   "execution_count": 29,
   "id": "f75856ac-cd8c-4018-9622-dcffecc7d4cf",
   "metadata": {},
   "outputs": [],
   "source": [
    "X_train, X_test, y_train, y_test = train_test_split(X, y, stratify=y,test_size=0.25, random_state=42)"
   ]
  },
  {
   "cell_type": "code",
   "execution_count": 30,
   "id": "a6b2200e-78b3-43ef-9de7-2ed116f367e3",
   "metadata": {},
   "outputs": [],
   "source": [
    "ss=StandardScaler()\n",
    "train_scaled=ss.fit_transform(X_train)\n",
    "test_scaled=ss.transform(X_test)"
   ]
  },
  {
   "cell_type": "code",
   "execution_count": 31,
   "id": "20ca659f-9bb7-459d-9691-afdbb14c08c3",
   "metadata": {},
   "outputs": [
    {
     "name": "stderr",
     "output_type": "stream",
     "text": [
      "C:\\Users\\liuch\\anaconda3\\lib\\site-packages\\sklearn\\utils\\validation.py:993: DataConversionWarning: A column-vector y was passed when a 1d array was expected. Please change the shape of y to (n_samples, ), for example using ravel().\n",
      "  y = column_or_1d(y, warn=True)\n",
      "C:\\Users\\liuch\\anaconda3\\lib\\site-packages\\sklearn\\linear_model\\_logistic.py:814: ConvergenceWarning: lbfgs failed to converge (status=1):\n",
      "STOP: TOTAL NO. of ITERATIONS REACHED LIMIT.\n",
      "\n",
      "Increase the number of iterations (max_iter) or scale the data as shown in:\n",
      "    https://scikit-learn.org/stable/modules/preprocessing.html\n",
      "Please also refer to the documentation for alternative solver options:\n",
      "    https://scikit-learn.org/stable/modules/linear_model.html#logistic-regression\n",
      "  n_iter_i = _check_optimize_result(\n"
     ]
    },
    {
     "data": {
      "text/plain": [
       "LogisticRegression(class_weight='balanced')"
      ]
     },
     "execution_count": 31,
     "metadata": {},
     "output_type": "execute_result"
    }
   ],
   "source": [
    "lr = LogisticRegression(class_weight='balanced')\n",
    "lr.fit(train_scaled, y_train)"
   ]
  },
  {
   "cell_type": "code",
   "execution_count": 32,
   "id": "cf3519b5-2426-40ae-a7ee-2381cabd85c2",
   "metadata": {},
   "outputs": [
    {
     "name": "stdout",
     "output_type": "stream",
     "text": [
      "AUC score on train dataset is 0.8672874739983487\n",
      "AUC score on test dataset is 0.8264858129392515\n"
     ]
    }
   ],
   "source": [
    "print(f'AUC score on train dataset is {roc_auc_score(y_train, lr.predict_proba(train_scaled)[:, 1])}')\n",
    "print(f'AUC score on test dataset is {roc_auc_score(y_test, lr.predict_proba(test_scaled)[:, 1])}')"
   ]
  },
  {
   "cell_type": "code",
   "execution_count": 33,
   "id": "51201d72-06bd-4fa1-8c07-3a8bd0a3a180",
   "metadata": {},
   "outputs": [
    {
     "name": "stdout",
     "output_type": "stream",
     "text": [
      "f1 score on test dataset is 0.22812846068660023\n",
      "f1 score on training dataset is 0.2491921005385996\n"
     ]
    }
   ],
   "source": [
    "y_pred=lr.predict(test_scaled)\n",
    "y_pred_train=lr.predict(train_scaled)\n",
    "print(f'f1 score on test dataset is {f1_score(y_test, y_pred)}')\n",
    "print(f'f1 score on training dataset is {f1_score(y_train,y_pred_train)}')"
   ]
  },
  {
   "cell_type": "code",
   "execution_count": 34,
   "id": "28bf1cc9-9862-4495-8d46-6cd5dd13738c",
   "metadata": {},
   "outputs": [],
   "source": [
    "coef_df=pd.DataFrame(columns={'feature','coefficient'})"
   ]
  },
  {
   "cell_type": "code",
   "execution_count": 35,
   "id": "87ca1bce-25c9-4390-9df0-9fff7b87ad82",
   "metadata": {},
   "outputs": [],
   "source": [
    "coef_df.feature=feature_list"
   ]
  },
  {
   "cell_type": "code",
   "execution_count": 36,
   "id": "b3556a80-ed63-4df2-bc93-a27e341070b3",
   "metadata": {},
   "outputs": [],
   "source": [
    "coef_df.coefficient=lr.coef_.T"
   ]
  },
  {
   "cell_type": "code",
   "execution_count": 37,
   "id": "1c01dfbe-9370-42b3-80c5-d827c4c552c5",
   "metadata": {},
   "outputs": [
    {
     "data": {
      "text/plain": [
       "<BarContainer object of 10 artists>"
      ]
     },
     "execution_count": 37,
     "metadata": {},
     "output_type": "execute_result"
    },
    {
     "data": {
      "image/png": "[encoded data removed]",
      "text/plain": [
       "<Figure size 640x480 with 1 Axes>"
      ]
     },
     "metadata": {},
     "output_type": "display_data"
    }
   ],
   "source": [
    "plt.barh(data=coef_df.sort_values(by='coefficient',ascending=False)[-10:],y='feature',width='coefficient',color='navy')"
   ]
  },
  {
   "cell_type": "code",
   "execution_count": 38,
   "id": "415230f6-34a3-465f-92e0-df5b1e7183e4",
   "metadata": {},
   "outputs": [
    {
     "data": {
      "text/plain": [
       "(207,)"
      ]
     },
     "execution_count": 38,
     "metadata": {},
     "output_type": "execute_result"
    }
   ],
   "source": [
    "coef_df['coefficient'].T.shape"
   ]
  },
  {
   "cell_type": "code",
   "execution_count": 39,
   "id": "7108e510-c80e-4678-b4e1-0551d049c9b4",
   "metadata": {},
   "outputs": [],
   "source": [
    "# scaling to interprete the coefficients\n",
    "transformed_coefficient=pd.DataFrame(ss.transform(((coef_df['coefficient'].to_numpy()).reshape((1,-1))))[0],columns=['transformed_coef'])"
   ]
  },
  {
   "cell_type": "code",
   "execution_count": 40,
   "id": "459b31d8-b50a-4260-b106-d7b1caab6c60",
   "metadata": {},
   "outputs": [],
   "source": [
    "transformed_coefficient=pd.DataFrame(feature_list,columns=['feature'])"
   ]
  },
  {
   "cell_type": "code",
   "execution_count": 41,
   "id": "a46295e4-016b-410b-9e85-ed6935498efb",
   "metadata": {},
   "outputs": [
    {
     "name": "stderr",
     "output_type": "stream",
     "text": [
      "C:\\Users\\liuch\\AppData\\Local\\Temp\\ipykernel_19852\\1869857933.py:2: UserWarning: Pandas doesn't allow columns to be created via a new attribute name - see https://pandas.pydata.org/pandas-docs/stable/indexing.html#attribute-access\n",
      "  transformed_coefficient.transformed_coef=pd.DataFrame(ss.transform(((coef_df['coefficient'].to_numpy()).reshape((1,-1))))[0])\n"
     ]
    }
   ],
   "source": [
    "transformed_coefficient.feature=feature_list\n",
    "transformed_coefficient.transformed_coef=pd.DataFrame(ss.transform(((coef_df['coefficient'].to_numpy()).reshape((1,-1))))[0])"
   ]
  },
  {
   "cell_type": "code",
   "execution_count": 42,
   "id": "0ac1c0c0-4bac-4af7-a754-bc3b96fff16e",
   "metadata": {},
   "outputs": [],
   "source": [
    "trans_coef=transformed_coefficient.assign(feature=feature_list)"
   ]
  },
  {
   "cell_type": "code",
   "execution_count": 43,
   "id": "a8198c47-50f7-4e38-8379-23540d5412e1",
   "metadata": {},
   "outputs": [
    {
     "data": {
      "text/html": [
       "<div>\n",
       "<style scoped>\n",
       "    .dataframe tbody tr th:only-of-type {\n",
       "        vertical-align: middle;\n",
       "    }\n",
       "\n",
       "    .dataframe tbody tr th {\n",
       "        vertical-align: top;\n",
       "    }\n",
       "\n",
       "    .dataframe thead th {\n",
       "        text-align: right;\n",
       "    }\n",
       "</style>\n",
       "<table border=\"1\" class=\"dataframe\">\n",
       "  <thead>\n",
       "    <tr style=\"text-align: right;\">\n",
       "      <th></th>\n",
       "      <th>feature</th>\n",
       "    </tr>\n",
       "  </thead>\n",
       "  <tbody>\n",
       "    <tr>\n",
       "      <th>187</th>\n",
       "      <td>no_of_sprays13</td>\n",
       "    </tr>\n",
       "  </tbody>\n",
       "</table>\n",
       "</div>"
      ],
      "text/plain": [
       "            feature\n",
       "187  no_of_sprays13"
      ]
     },
     "execution_count": 43,
     "metadata": {},
     "output_type": "execute_result"
    }
   ],
   "source": [
    "trans_coef[trans_coef['feature']=='no_of_sprays13']"
   ]
  },
  {
   "cell_type": "markdown",
   "id": "01187878-b972-49a5-9616-36abeea62da5",
   "metadata": {},
   "source": [
    "#### The expected change in log odds of being WNV positive changes by 5.98 per unit change in the number of sprays exactly 2 weeks ago."
   ]
  },
  {
   "cell_type": "code",
   "execution_count": 44,
   "id": "f9c6d8fd-5b61-4868-9e96-309dfa45cd8b",
   "metadata": {},
   "outputs": [],
   "source": [
    "def logit2prob(logit):\n",
    "  odds=math.exp(logit)\n",
    "  prob=odds / (1 + odds)\n",
    "  return(prob)\n"
   ]
  },
  {
   "cell_type": "code",
   "execution_count": 45,
   "id": "356abe46-0878-4093-abc6-c5d0c666aef3",
   "metadata": {},
   "outputs": [
    {
     "data": {
      "text/plain": [
       "0.0025224474607696947"
      ]
     },
     "execution_count": 45,
     "metadata": {},
     "output_type": "execute_result"
    }
   ],
   "source": [
    "logit2prob(-5.98)"
   ]
  },
  {
   "cell_type": "markdown",
   "id": "5e79f669-3c2d-4d69-89d5-e31989289345",
   "metadata": {},
   "source": [
    "### Cost-benefit analysis"
   ]
  },
  {
   "cell_type": "markdown",
   "id": "12240a57-9d17-4e98-bbb0-04ab9c22f703",
   "metadata": {},
   "source": [
    "cost of Zenivex E4 is $0.92 per acre. "
   ]
  },
  {
   "cell_type": "code",
   "execution_count": 46,
   "id": "1d280e6a-c1ba-4bab-a581-0ea64a7f81cd",
   "metadata": {},
   "outputs": [],
   "source": [
    "unit_cost=0.92\n",
    "area=[]\n",
    "area.append(145_500)\n",
    "area.append(6_055)\n",
    "area.append(606)\n",
    "no_interval=13"
   ]
  },
  {
   "cell_type": "code",
   "execution_count": 47,
   "id": "8c249261-5a43-4571-a7c9-2ef9389827eb",
   "metadata": {},
   "outputs": [],
   "source": [
    "biweekly_cost=[area[i]*unit_cost for i in range(len(area))]"
   ]
  },
  {
   "cell_type": "code",
   "execution_count": 48,
   "id": "f7d47ebc-7161-43bd-ae60-b47038514b94",
   "metadata": {},
   "outputs": [],
   "source": [
    "annual_cost=[biweekly_cost[i]*no_interval for i in range(len(biweekly_cost))]"
   ]
  },
  {
   "cell_type": "code",
   "execution_count": 49,
   "id": "9968bc09-8594-42b3-ab0a-272123ea88ca",
   "metadata": {},
   "outputs": [],
   "source": [
    "benefit=[]\n",
    "benefit.append(7500*225)\n",
    "benefit.append(7500*225*0.1) # 0.1 is population percentage of the densely populated communities \n",
    "benefit.append(7500*225*0.6)"
   ]
  },
  {
   "cell_type": "code",
   "execution_count": 50,
   "id": "3fe66bb4-c0b1-4681-ab5d-53e79d36b906",
   "metadata": {},
   "outputs": [],
   "source": [
    "cost_benefit=pd.DataFrame(annual_cost,columns=['cost'])"
   ]
  },
  {
   "cell_type": "code",
   "execution_count": 51,
   "id": "1c4b70f4-87ac-44d9-b8f2-1c202000106e",
   "metadata": {},
   "outputs": [],
   "source": [
    "cost_benefit['benefit']=benefit"
   ]
  },
  {
   "cell_type": "code",
   "execution_count": 52,
   "id": "d2b49c0b-5d75-44ca-8e45-cf8bfa2447bc",
   "metadata": {},
   "outputs": [],
   "source": [
    "cost_benefit['index']=['Spray_level_1','Spray_level_2','Spray_level_3']\n",
    "cost_benefit.set_index(['index'],inplace=True)"
   ]
  },
  {
   "cell_type": "code",
   "execution_count": 53,
   "id": "990e7723-e11c-48bd-bd3c-0708976f8760",
   "metadata": {},
   "outputs": [
    {
     "data": {
      "text/plain": [
       "Text(0, 0.5, 'Annual_USD')"
      ]
     },
     "execution_count": 53,
     "metadata": {},
     "output_type": "execute_result"
    },
    {
     "data": {
      "image/png": "[encoded data removed]",
      "text/plain": [
       "<Figure size 640x480 with 1 Axes>"
      ]
     },
     "metadata": {},
     "output_type": "display_data"
    }
   ],
   "source": [
    "ax=cost_benefit.plot.bar()\n",
    "ax.set_yscale('log')\n",
    "ax.set_ylabel('Annual_USD')"
   ]
  },
  {
   "cell_type": "code",
   "execution_count": null,
   "id": "72ed1318-a42b-48de-9b0c-349dfd154175",
   "metadata": {},
   "outputs": [],
   "source": []
  }
 ],
 "metadata": {
  "kernelspec": {
   "display_name": "Python 3 (ipykernel)",
   "language": "python",
   "name": "python3"
  },
  "language_info": {
   "codemirror_mode": {
    "name": "ipython",
    "version": 3
   },
   "file_extension": ".py",
   "mimetype": "text/x-python",
   "name": "python",
   "nbconvert_exporter": "python",
   "pygments_lexer": "ipython3",
   "version": "3.9.13"
  }
 },
 "nbformat": 4,
 "nbformat_minor": 5
}
